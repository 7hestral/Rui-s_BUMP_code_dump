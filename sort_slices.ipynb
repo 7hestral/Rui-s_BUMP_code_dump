{
 "cells": [
  {
   "cell_type": "code",
   "execution_count": 31,
   "metadata": {},
   "outputs": [],
   "source": [
    "import os\n",
    "import pandas as pd\n",
    "from src.utils import data_load\n",
    "from datetime import datetime, timedelta\n",
    "import numpy as np\n",
    "from sklearn.linear_model import LinearRegression"
   ]
  },
  {
   "cell_type": "code",
   "execution_count": 40,
   "metadata": {},
   "outputs": [],
   "source": [
    "root_path = '/mnt/results'\n",
    "src_dir = 'edema_pred_window'\n",
    "dst_dir = 'edema_pred_window_sorted_weight_normalized'\n",
    "dst_dir = 'edema_pred_window_sorted'\n",
    "window_size = 21"
   ]
  },
  {
   "cell_type": "code",
   "execution_count": 6,
   "metadata": {},
   "outputs": [],
   "source": [
    "df_birth = data_load(data_keys={\"birth\"}, wave=5)['birth']"
   ]
  },
  {
   "cell_type": "code",
   "execution_count": 41,
   "metadata": {
    "tags": [
     "outputPrepend",
     "outputPrepend",
     "outputPrepend",
     "outputPrepend",
     "outputPrepend",
     "outputPrepend",
     "outputPrepend",
     "outputPrepend",
     "outputPrepend",
     "outputPrepend",
     "outputPrepend",
     "outputPrepend",
     "outputPrepend",
     "outputPrepend",
     "outputPrepend",
     "outputPrepend",
     "outputPrepend",
     "outputPrepend",
     "outputPrepend",
     "outputPrepend",
     "outputPrepend",
     "outputPrepend"
    ]
   },
   "outputs": [],
   "source": [
    "for f in os.listdir(os.path.join(root_path, src_dir)):\n",
    "    if 'date' in f:\n",
    "        # figure out user id\n",
    "        user_id = int(f.split('_')[1])\n",
    "        \n",
    "        # figure out first day of third trimester\n",
    "        curr_birth_date = pd.to_datetime(df_birth[df_birth.user_id == user_id].birth_date.values[0])\n",
    "        third_trimester_start_date = curr_birth_date - timedelta(days=91)\n",
    "        # figure out four slices start date\n",
    "        snd_start_date = third_trimester_start_date + timedelta(days=window_size)\n",
    "        trd_start_date = snd_start_date + timedelta(days=window_size)\n",
    "        fth_start_date = trd_start_date + timedelta(days=window_size)\n",
    "        # figure out start day of the slice\n",
    "        curr_df = pd.read_csv(os.path.join(root_path, src_dir, f))\n",
    "        first_day_curr_df = pd.to_datetime(curr_df.date.values[0])\n",
    "        \n",
    "        # compare\n",
    "        ckpt_dates = [third_trimester_start_date, snd_start_date, trd_start_date, fth_start_date]\n",
    "        dist_to_ckpt_dates = list(map(lambda x: abs((x-first_day_curr_df).days), ckpt_dates))\n",
    "        \n",
    "        closest_ckpt_idx = np.argmin(dist_to_ckpt_dates)\n",
    "        if 'weight' in dst_dir:\n",
    "            weight_ys = np.array(curr_df.weight_kg.tolist()).reshape(-1, 1)\n",
    "            weight_xs = np.array(list(range(window_size))).reshape(-1, 1)\n",
    "\n",
    "            weight_xs_train = weight_xs[:14, :]\n",
    "            weight_ys_train = weight_ys[:14, :]\n",
    "\n",
    "            weight_xs_test = weight_xs[14:, :]\n",
    "            weight_ys_test = weight_ys[14:, :]\n",
    "\n",
    "            linear_model = LinearRegression()\n",
    "            linear_model.fit(weight_xs_train, weight_ys_train)\n",
    "            \n",
    "            pred = linear_model.predict(weight_xs)\n",
    "            residual = weight_ys - pred\n",
    "            residual = residual.reshape(-1,)\n",
    "            \n",
    "            curr_df.weight_kg = residual\n",
    "        \n",
    "        save_df = curr_df.drop('date', axis=1)\n",
    "        save_df.to_csv(os.path.join(root_path, dst_dir, f'user_{user_id}_{dst_dir}_slice{closest_ckpt_idx}.csv'), index=False, header=False)"
   ]
  },
  {
   "cell_type": "code",
   "execution_count": null,
   "metadata": {},
   "outputs": [],
   "source": []
  }
 ],
 "metadata": {
  "language_info": {
   "codemirror_mode": {
    "name": "ipython",
    "version": 3
   },
   "file_extension": ".py",
   "mimetype": "text/x-python",
   "name": "python",
   "nbconvert_exporter": "python",
   "pygments_lexer": "ipython3",
   "version": "3.7.0-final"
  },
  "orig_nbformat": 2,
  "kernelspec": {
   "name": "python37064bitmyvenv7577e2e21679423984e2a90f7c6ef8cd",
   "display_name": "Python 3.7.0 64-bit ('myvenv')"
  }
 },
 "nbformat": 4,
 "nbformat_minor": 2
}