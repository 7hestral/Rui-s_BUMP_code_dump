{
 "cells": [
  {
   "cell_type": "code",
   "execution_count": null,
   "metadata": {},
   "outputs": [],
   "source": [
    "import os\n",
    "from src.utils import data_load\n",
    "import pandas as pd\n",
    "from src.s3_utils import pandas_from_csv_s3\n",
    "import numpy as np\n",
    "from datetime import datetime, timedelta\n",
    "import seaborn as sns\n",
    "import matplotlib.pyplot as plt\n",
    "from utils import get_survey_question, na_rate\n",
    "import torch"
   ]
  },
  {
   "cell_type": "code",
   "execution_count": null,
   "metadata": {},
   "outputs": [],
   "source": [
    "\n"
   ]
  },
  {
   "cell_type": "code",
   "execution_count": null,
   "metadata": {},
   "outputs": [],
   "source": [
    "user_dict = {}\n",
    "for f in os.listdir(os.path.join(\"/\", \"mnt\", 'results', \"edema_pred_window\")):\n",
    "\n",
    "    f_name_lst = f.split('_')\n",
    "    if 'date' in f_name_lst:\n",
    "        continue\n",
    "    \n",
    "    user_id = int(f_name_lst[1])\n",
    "    if user_id in user_dict:\n",
    "        user_dict[user_id] += 1\n",
    "    else:\n",
    "        user_dict[user_id] = 1\n",
    "print(user_dict)\n",
    "s = []\n",
    "for i in user_dict:\n",
    "    s.append(str(user_dict[i]))\n",
    "\n",
    "sns.displot(s, shrink=.8, bins=['1', '2', '3', '4'])"
   ]
  },
  {
   "cell_type": "code",
   "execution_count": null,
   "metadata": {},
   "outputs": [],
   "source": [
    "df = pd.DataFrame()\n",
    "df['slices'] = pd.Categorical(values=s, categories=['1', '2', '3', '4']) ## Set the order for the column as you want\n",
    "df.sort_values(['slices'], inplace=True) ## Sort the column\n",
    "sns.displot(data = df, x = 'slices')  ## and plot"
   ]
  },
  {
   "cell_type": "code",
   "execution_count": null,
   "metadata": {},
   "outputs": [],
   "source": [
    "len(s)"
   ]
  },
  {
   "cell_type": "code",
   "execution_count": null,
   "metadata": {},
   "outputs": [],
   "source": []
  }
 ],
 "metadata": {
  "language_info": {
   "name": "python",
   "pygments_lexer": "ipython3"
  }
 },
 "nbformat": 4,
 "nbformat_minor": 2
}
