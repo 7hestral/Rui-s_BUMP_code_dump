{
 "cells": [
  {
   "cell_type": "code",
   "execution_count": 2,
   "metadata": {},
   "outputs": [
    {
     "output_type": "stream",
     "name": "stderr",
     "text": "Matplotlib created a temporary config/cache directory at /tmp/matplotlib-fjrzf8vf because the default path (/home/ubuntu/.config/matplotlib) is not a writable directory; it is highly recommended to set the MPLCONFIGDIR environment variable to a writable directory, in particular to speed up the import of Matplotlib and to better support multiprocessing.\n"
    }
   ],
   "source": [
    "import os\n",
    "from src.utils import data_load\n",
    "import pandas as pd\n",
    "from src.s3_utils import pandas_from_csv_s3\n",
    "import numpy as np\n",
    "from datetime import datetime, timedelta\n",
    "import seaborn as sns\n",
    "import matplotlib.pyplot as plt\n",
    "from utils import get_survey_question, na_rate\n",
    "import torch\n",
    "import matplotlib.dates as mdates\n",
    "import pingouin as pg"
   ]
  },
  {
   "cell_type": "code",
   "execution_count": 2,
   "metadata": {},
   "outputs": [],
   "source": [
    "# wave = 7\n",
    "# bucket = 'fouryouandme-study-data'\n",
    "# dfs = {}\n",
    "# key = f'bump/redcap/wave_{wave}/pitting_edema.csv.gz'\n",
    "# df_pitting_edema_cohort_2_only = pandas_from_csv_s3(bucket, key=key, compression='gzip')\n",
    "# dfs['pitting_edema'] = df_pitting_edema_cohort_2_only\n",
    "data = data_load(data_keys={'pitting_edema'}, wave=7)['pitting_edema']\n",
    "df_birth = data_load(data_keys={\"birth\"}, wave=5)['birth']"
   ]
  },
  {
   "cell_type": "code",
   "execution_count": 3,
   "metadata": {},
   "outputs": [],
   "source": [
    "df_sleep = data_load(data_keys={\"oura_sleep\"}, wave=5)['oura_sleep']\n"
   ]
  },
  {
   "cell_type": "code",
   "execution_count": 4,
   "metadata": {},
   "outputs": [
    {
     "output_type": "execute_result",
     "data": {
      "text/plain": "Index(['id', 'user_id', 'identity_id', 'created_at', 'updated_at',\n       'retrieved_at', 'subsource', 'event_date', 'awake', 'bedtime_end',\n       'bedtime_end_delta', 'bedtime_start', 'bedtime_start_delta',\n       'breath_average', 'deep', 'duration', 'efficiency', 'hr_5min',\n       'hr_average', 'hr_lowest', 'hypnogram_5min', 'is_longest', 'light',\n       'midpoint_at_delta', 'midpoint_time', 'onset_latency', 'period_id',\n       'rem', 'restless', 'rmssd', 'rmssd_5min', 'score', 'score_alignment',\n       'score_deep', 'score_disturbances', 'score_efficiency', 'score_latency',\n       'score_rem', 'score_total', 'temperature_delta',\n       'temperature_deviation', 'temperature_trend_deviation', 'timezone',\n       'total', 'date'],\n      dtype='object')"
     },
     "metadata": {},
     "execution_count": 4
    }
   ],
   "source": [
    "df_sleep.columns"
   ]
  },
  {
   "cell_type": "code",
   "execution_count": 10,
   "metadata": {},
   "outputs": [
    {
     "output_type": "execute_result",
     "data": {
      "text/plain": "    record_id      redcap_event_name_x  birth_number  birth_date  \\\n26         49  postnatal_checkin_arm_1           1.0  2022-03-31   \n\n    birth_scheduled birth_scheduled_unsure     birth_gestage  birth_mode  \\\n26              2.0                    NaN  38 weeks, 6 days         1.0   \n\n    induction_yn induction_reason  ...        date       redcap_event_name_y  \\\n26           NaN              NaN  ...  2022-03-31  enrollment__partic_arm_1   \n\n    participant_id      sema4_id evidation_id evidation_id_prior1  \\\n26              49  EVI-QXHYUKIM         79.0                 NaN   \n\n   evidation_id_prior2  evidation_id_c study_ids_complete  user_id  \n26                 NaN             NaN                  2     79.0  \n\n[1 rows x 50 columns]",
      "text/html": "<div>\n<style scoped>\n    .dataframe tbody tr th:only-of-type {\n        vertical-align: middle;\n    }\n\n    .dataframe tbody tr th {\n        vertical-align: top;\n    }\n\n    .dataframe thead th {\n        text-align: right;\n    }\n</style>\n<table border=\"1\" class=\"dataframe\">\n  <thead>\n    <tr style=\"text-align: right;\">\n      <th></th>\n      <th>record_id</th>\n      <th>redcap_event_name_x</th>\n      <th>birth_number</th>\n      <th>birth_date</th>\n      <th>birth_scheduled</th>\n      <th>birth_scheduled_unsure</th>\n      <th>birth_gestage</th>\n      <th>birth_mode</th>\n      <th>induction_yn</th>\n      <th>induction_reason</th>\n      <th>...</th>\n      <th>date</th>\n      <th>redcap_event_name_y</th>\n      <th>participant_id</th>\n      <th>sema4_id</th>\n      <th>evidation_id</th>\n      <th>evidation_id_prior1</th>\n      <th>evidation_id_prior2</th>\n      <th>evidation_id_c</th>\n      <th>study_ids_complete</th>\n      <th>user_id</th>\n    </tr>\n  </thead>\n  <tbody>\n    <tr>\n      <th>26</th>\n      <td>49</td>\n      <td>postnatal_checkin_arm_1</td>\n      <td>1.0</td>\n      <td>2022-03-31</td>\n      <td>2.0</td>\n      <td>NaN</td>\n      <td>38 weeks, 6 days</td>\n      <td>1.0</td>\n      <td>NaN</td>\n      <td>NaN</td>\n      <td>...</td>\n      <td>2022-03-31</td>\n      <td>enrollment__partic_arm_1</td>\n      <td>49</td>\n      <td>EVI-QXHYUKIM</td>\n      <td>79.0</td>\n      <td>NaN</td>\n      <td>NaN</td>\n      <td>NaN</td>\n      <td>2</td>\n      <td>79.0</td>\n    </tr>\n  </tbody>\n</table>\n<p>1 rows × 50 columns</p>\n</div>"
     },
     "metadata": {},
     "execution_count": 10
    }
   ],
   "source": [
    "df_birth[df_birth['user_id'] == 79]"
   ]
  },
  {
   "cell_type": "code",
   "execution_count": 46,
   "metadata": {
    "tags": [
     "outputPrepend",
     "outputPrepend",
     "outputPrepend",
     "outputPrepend",
     "outputPrepend",
     "outputPrepend",
     "outputPrepend",
     "outputPrepend",
     "outputPrepend",
     "outputPrepend",
     "outputPrepend",
     "outputPrepend",
     "outputPrepend",
     "outputPrepend",
     "outputPrepend",
     "outputPrepend",
     "outputPrepend",
     "outputPrepend",
     "outputPrepend",
     "outputPrepend",
     "outputPrepend"
    ]
   },
   "outputs": [
    {
     "output_type": "display_data",
     "data": {
      "text/plain": "<Figure size 640x480 with 0 Axes>"
     },
     "metadata": {}
    }
   ],
   "source": [
    "\n",
    "all_data = None\n",
    "\n",
    "for u in data['user_id'].unique():\n",
    "    edema_csv_path = f'/mnt/results/edema_coarse_label/user_{u}_edema_coarse_label.csv'\n",
    "    if not os.path.exists(edema_csv_path):\n",
    "        #print(\"Empty Edema\")\n",
    "        continue\n",
    "    edema_df = pd.read_csv(edema_csv_path).groupby(\"date\", as_index = False).first()[['date', 'answer_text']]\n",
    "    pitting_edema_df = data[data['user_id'] == u][['date', 'pitting_edema']]\n",
    "    combined = pd.merge(edema_df, pitting_edema_df, how='left')\n",
    "    # combined_right = pd.merge(edema_df, pitting_edema_df, how='right')\n",
    "    # combined_right = combined_right.dropna()\n",
    "    # def add_username(date, username):\n",
    "    #     return str(date) + '_' + username\n",
    "\n",
    "    # if len(combined_right):\n",
    "    #     # Apply the custom function to modify the column\n",
    "    #     combined_right['date_username'] = combined_right.apply(lambda row: add_username(row['date'], str(u)), axis=1)\n",
    "    #     combined_right = combined_right.drop('date', axis=1)\n",
    "    #     # print(combined_right)\n",
    "    #     if all_data is None:\n",
    "    #         all_data = combined_right\n",
    "    #     else:\n",
    "    #         all_data = all_data.append(combined_right, ignore_index=True)\n",
    "    if combined['pitting_edema'].count():\n",
    "    # Reshape the DataFrame using melt()\n",
    "        melted_df = combined.melt(id_vars='date', var_name='y_label', value_name='y_value')\n",
    "\n",
    "        # Plot the values using sns.lineplot()\n",
    "        ax = sns.stripplot(data=melted_df, x='date', y='y_value', hue='y_label')\n",
    "        ax.xaxis.set_major_locator(mdates.MonthLocator(interval=2))\n",
    "        ax.figure.savefig((os.path.join('/', 'mnt', 'results', 'pitting_edema', f'{u}.png')))       \n",
    "        \n",
    "        ax.figure.clf()\n",
    "# melted_df = all_data.melt(id_vars='date_username', var_name='y_label', value_name='y_value')\n",
    "# icc = pg.intraclass_corr(data=melted_df, targets='date_username', raters='y_label', ratings='y_value')\n",
    "\n",
    "# icc.set_index('Type')"
   ]
  },
  {
   "cell_type": "code",
   "execution_count": 11,
   "metadata": {},
   "outputs": [
    {
     "output_type": "execute_result",
     "data": {
      "text/plain": "     user_id record_id redcap_event_name        date  edema_yes  \\\n135       79  sema4_49        ci_2_arm_1  2021-06-03        NaN   \n136       79  sema4_49        ci_4_arm_1  2021-07-01        NaN   \n137       79  sema4_49        ci_6_arm_1  2021-07-29        NaN   \n138       79  sema4_49        ci_8_arm_1  2021-08-26        0.0   \n139       79  sema4_49       ci_10_arm_1  2021-09-23        0.0   \n140       79  sema4_49       ci_12_arm_1  2021-10-21        NaN   \n141       79  sema4_49       ci_14_arm_1  2021-11-18        0.0   \n142       79  sema4_49       ci_16_arm_1  2021-12-16        0.0   \n143       79  sema4_49       ci_18_arm_1  2022-01-20        NaN   \n144       79  sema4_49       ci_20_arm_1  2022-02-15        0.0   \n145       79  sema4_49       ci_22_arm_1  2022-03-17        0.0   \n\n     edema_where___1  edema_where___2  edema_where___3 edema_other  \\\n135                0                0                0         NaN   \n136                0                0                0         NaN   \n137                0                0                0         NaN   \n138                0                0                0         NaN   \n139                0                0                0         NaN   \n140                0                0                0         NaN   \n141                0                0                0         NaN   \n142                0                0                0         NaN   \n143                0                0                0         NaN   \n144                0                0                0         NaN   \n145                0                0                0         NaN   \n\n     pitting_edema  pitting_edema_cohort_2_only_complete  \\\n135            NaN                                   0.0   \n136            NaN                                   0.0   \n137            NaN                                   0.0   \n138            0.0                                   2.0   \n139            0.0                                   2.0   \n140            0.0                                   2.0   \n141            0.0                                   2.0   \n142            0.0                                   2.0   \n143            NaN                                   0.0   \n144            NaN                                   2.0   \n145            NaN                                   2.0   \n\n     pitting_edema_complete  \n135                     NaN  \n136                     NaN  \n137                     NaN  \n138                     NaN  \n139                     NaN  \n140                     NaN  \n141                     NaN  \n142                     NaN  \n143                     NaN  \n144                     NaN  \n145                     NaN  ",
      "text/html": "<div>\n<style scoped>\n    .dataframe tbody tr th:only-of-type {\n        vertical-align: middle;\n    }\n\n    .dataframe tbody tr th {\n        vertical-align: top;\n    }\n\n    .dataframe thead th {\n        text-align: right;\n    }\n</style>\n<table border=\"1\" class=\"dataframe\">\n  <thead>\n    <tr style=\"text-align: right;\">\n      <th></th>\n      <th>user_id</th>\n      <th>record_id</th>\n      <th>redcap_event_name</th>\n      <th>date</th>\n      <th>edema_yes</th>\n      <th>edema_where___1</th>\n      <th>edema_where___2</th>\n      <th>edema_where___3</th>\n      <th>edema_other</th>\n      <th>pitting_edema</th>\n      <th>pitting_edema_cohort_2_only_complete</th>\n      <th>pitting_edema_complete</th>\n    </tr>\n  </thead>\n  <tbody>\n    <tr>\n      <th>135</th>\n      <td>79</td>\n      <td>sema4_49</td>\n      <td>ci_2_arm_1</td>\n      <td>2021-06-03</td>\n      <td>NaN</td>\n      <td>0</td>\n      <td>0</td>\n      <td>0</td>\n      <td>NaN</td>\n      <td>NaN</td>\n      <td>0.0</td>\n      <td>NaN</td>\n    </tr>\n    <tr>\n      <th>136</th>\n      <td>79</td>\n      <td>sema4_49</td>\n      <td>ci_4_arm_1</td>\n      <td>2021-07-01</td>\n      <td>NaN</td>\n      <td>0</td>\n      <td>0</td>\n      <td>0</td>\n      <td>NaN</td>\n      <td>NaN</td>\n      <td>0.0</td>\n      <td>NaN</td>\n    </tr>\n    <tr>\n      <th>137</th>\n      <td>79</td>\n      <td>sema4_49</td>\n      <td>ci_6_arm_1</td>\n      <td>2021-07-29</td>\n      <td>NaN</td>\n      <td>0</td>\n      <td>0</td>\n      <td>0</td>\n      <td>NaN</td>\n      <td>NaN</td>\n      <td>0.0</td>\n      <td>NaN</td>\n    </tr>\n    <tr>\n      <th>138</th>\n      <td>79</td>\n      <td>sema4_49</td>\n      <td>ci_8_arm_1</td>\n      <td>2021-08-26</td>\n      <td>0.0</td>\n      <td>0</td>\n      <td>0</td>\n      <td>0</td>\n      <td>NaN</td>\n      <td>0.0</td>\n      <td>2.0</td>\n      <td>NaN</td>\n    </tr>\n    <tr>\n      <th>139</th>\n      <td>79</td>\n      <td>sema4_49</td>\n      <td>ci_10_arm_1</td>\n      <td>2021-09-23</td>\n      <td>0.0</td>\n      <td>0</td>\n      <td>0</td>\n      <td>0</td>\n      <td>NaN</td>\n      <td>0.0</td>\n      <td>2.0</td>\n      <td>NaN</td>\n    </tr>\n    <tr>\n      <th>140</th>\n      <td>79</td>\n      <td>sema4_49</td>\n      <td>ci_12_arm_1</td>\n      <td>2021-10-21</td>\n      <td>NaN</td>\n      <td>0</td>\n      <td>0</td>\n      <td>0</td>\n      <td>NaN</td>\n      <td>0.0</td>\n      <td>2.0</td>\n      <td>NaN</td>\n    </tr>\n    <tr>\n      <th>141</th>\n      <td>79</td>\n      <td>sema4_49</td>\n      <td>ci_14_arm_1</td>\n      <td>2021-11-18</td>\n      <td>0.0</td>\n      <td>0</td>\n      <td>0</td>\n      <td>0</td>\n      <td>NaN</td>\n      <td>0.0</td>\n      <td>2.0</td>\n      <td>NaN</td>\n    </tr>\n    <tr>\n      <th>142</th>\n      <td>79</td>\n      <td>sema4_49</td>\n      <td>ci_16_arm_1</td>\n      <td>2021-12-16</td>\n      <td>0.0</td>\n      <td>0</td>\n      <td>0</td>\n      <td>0</td>\n      <td>NaN</td>\n      <td>0.0</td>\n      <td>2.0</td>\n      <td>NaN</td>\n    </tr>\n    <tr>\n      <th>143</th>\n      <td>79</td>\n      <td>sema4_49</td>\n      <td>ci_18_arm_1</td>\n      <td>2022-01-20</td>\n      <td>NaN</td>\n      <td>0</td>\n      <td>0</td>\n      <td>0</td>\n      <td>NaN</td>\n      <td>NaN</td>\n      <td>0.0</td>\n      <td>NaN</td>\n    </tr>\n    <tr>\n      <th>144</th>\n      <td>79</td>\n      <td>sema4_49</td>\n      <td>ci_20_arm_1</td>\n      <td>2022-02-15</td>\n      <td>0.0</td>\n      <td>0</td>\n      <td>0</td>\n      <td>0</td>\n      <td>NaN</td>\n      <td>NaN</td>\n      <td>2.0</td>\n      <td>NaN</td>\n    </tr>\n    <tr>\n      <th>145</th>\n      <td>79</td>\n      <td>sema4_49</td>\n      <td>ci_22_arm_1</td>\n      <td>2022-03-17</td>\n      <td>0.0</td>\n      <td>0</td>\n      <td>0</td>\n      <td>0</td>\n      <td>NaN</td>\n      <td>NaN</td>\n      <td>2.0</td>\n      <td>NaN</td>\n    </tr>\n  </tbody>\n</table>\n</div>"
     },
     "metadata": {},
     "execution_count": 11
    }
   ],
   "source": [
    "data[data['user_id'] == 79]"
   ]
  },
  {
   "cell_type": "code",
   "execution_count": 9,
   "metadata": {},
   "outputs": [
    {
     "output_type": "execute_result",
     "data": {
      "text/plain": "      user_id  record_id redcap_event_name        date  edema_yes  \\\n142        79   sema4_49       ci_16_arm_1  2021-12-16        0.0   \n174        84   sema4_54       ci_16_arm_1  2022-01-07        1.0   \n223        94   sema4_64       ci_16_arm_1  2022-01-10        1.0   \n240        96   sema4_66       ci_16_arm_1  2022-03-09        0.0   \n241       455   sema4_66       ci_16_arm_1  2022-03-09        0.0   \n...       ...        ...               ...         ...        ...   \n2867     2654  sema4_799       ci_16_arm_1  2023-01-10        0.0   \n2902     2096  sema4_806       ci_16_arm_1  2022-12-21        0.0   \n2903     2223  sema4_806       ci_16_arm_1  2022-12-21        0.0   \n2922     2098  sema4_831       ci_16_arm_1  2022-12-29        0.0   \n2923     2311  sema4_831       ci_16_arm_1  2022-12-29        0.0   \n\n      edema_where___1  edema_where___2  edema_where___3 edema_other  \\\n142                 0                0                0         NaN   \n174                 0                0                0         NaN   \n223                 1                0                0         NaN   \n240                 0                0                0         NaN   \n241                 0                0                0         NaN   \n...               ...              ...              ...         ...   \n2867                0                0                0         NaN   \n2902                0                0                0         NaN   \n2903                0                0                0         NaN   \n2922                0                0                0         NaN   \n2923                0                0                0         NaN   \n\n      pitting_edema  pitting_edema_cohort_2_only_complete  \\\n142             0.0                                   2.0   \n174             0.0                                   2.0   \n223             0.0                                   2.0   \n240             NaN                                   2.0   \n241             NaN                                   2.0   \n...             ...                                   ...   \n2867            0.0                                   2.0   \n2902            0.0                                   2.0   \n2903            0.0                                   2.0   \n2922            0.0                                   2.0   \n2923            0.0                                   2.0   \n\n      pitting_edema_complete  \n142                      NaN  \n174                      NaN  \n223                      NaN  \n240                      NaN  \n241                      NaN  \n...                      ...  \n2867                     NaN  \n2902                     NaN  \n2903                     NaN  \n2922                     NaN  \n2923                     NaN  \n\n[114 rows x 12 columns]",
      "text/html": "<div>\n<style scoped>\n    .dataframe tbody tr th:only-of-type {\n        vertical-align: middle;\n    }\n\n    .dataframe tbody tr th {\n        vertical-align: top;\n    }\n\n    .dataframe thead th {\n        text-align: right;\n    }\n</style>\n<table border=\"1\" class=\"dataframe\">\n  <thead>\n    <tr style=\"text-align: right;\">\n      <th></th>\n      <th>user_id</th>\n      <th>record_id</th>\n      <th>redcap_event_name</th>\n      <th>date</th>\n      <th>edema_yes</th>\n      <th>edema_where___1</th>\n      <th>edema_where___2</th>\n      <th>edema_where___3</th>\n      <th>edema_other</th>\n      <th>pitting_edema</th>\n      <th>pitting_edema_cohort_2_only_complete</th>\n      <th>pitting_edema_complete</th>\n    </tr>\n  </thead>\n  <tbody>\n    <tr>\n      <th>142</th>\n      <td>79</td>\n      <td>sema4_49</td>\n      <td>ci_16_arm_1</td>\n      <td>2021-12-16</td>\n      <td>0.0</td>\n      <td>0</td>\n      <td>0</td>\n      <td>0</td>\n      <td>NaN</td>\n      <td>0.0</td>\n      <td>2.0</td>\n      <td>NaN</td>\n    </tr>\n    <tr>\n      <th>174</th>\n      <td>84</td>\n      <td>sema4_54</td>\n      <td>ci_16_arm_1</td>\n      <td>2022-01-07</td>\n      <td>1.0</td>\n      <td>0</td>\n      <td>0</td>\n      <td>0</td>\n      <td>NaN</td>\n      <td>0.0</td>\n      <td>2.0</td>\n      <td>NaN</td>\n    </tr>\n    <tr>\n      <th>223</th>\n      <td>94</td>\n      <td>sema4_64</td>\n      <td>ci_16_arm_1</td>\n      <td>2022-01-10</td>\n      <td>1.0</td>\n      <td>1</td>\n      <td>0</td>\n      <td>0</td>\n      <td>NaN</td>\n      <td>0.0</td>\n      <td>2.0</td>\n      <td>NaN</td>\n    </tr>\n    <tr>\n      <th>240</th>\n      <td>96</td>\n      <td>sema4_66</td>\n      <td>ci_16_arm_1</td>\n      <td>2022-03-09</td>\n      <td>0.0</td>\n      <td>0</td>\n      <td>0</td>\n      <td>0</td>\n      <td>NaN</td>\n      <td>NaN</td>\n      <td>2.0</td>\n      <td>NaN</td>\n    </tr>\n    <tr>\n      <th>241</th>\n      <td>455</td>\n      <td>sema4_66</td>\n      <td>ci_16_arm_1</td>\n      <td>2022-03-09</td>\n      <td>0.0</td>\n      <td>0</td>\n      <td>0</td>\n      <td>0</td>\n      <td>NaN</td>\n      <td>NaN</td>\n      <td>2.0</td>\n      <td>NaN</td>\n    </tr>\n    <tr>\n      <th>...</th>\n      <td>...</td>\n      <td>...</td>\n      <td>...</td>\n      <td>...</td>\n      <td>...</td>\n      <td>...</td>\n      <td>...</td>\n      <td>...</td>\n      <td>...</td>\n      <td>...</td>\n      <td>...</td>\n      <td>...</td>\n    </tr>\n    <tr>\n      <th>2867</th>\n      <td>2654</td>\n      <td>sema4_799</td>\n      <td>ci_16_arm_1</td>\n      <td>2023-01-10</td>\n      <td>0.0</td>\n      <td>0</td>\n      <td>0</td>\n      <td>0</td>\n      <td>NaN</td>\n      <td>0.0</td>\n      <td>2.0</td>\n      <td>NaN</td>\n    </tr>\n    <tr>\n      <th>2902</th>\n      <td>2096</td>\n      <td>sema4_806</td>\n      <td>ci_16_arm_1</td>\n      <td>2022-12-21</td>\n      <td>0.0</td>\n      <td>0</td>\n      <td>0</td>\n      <td>0</td>\n      <td>NaN</td>\n      <td>0.0</td>\n      <td>2.0</td>\n      <td>NaN</td>\n    </tr>\n    <tr>\n      <th>2903</th>\n      <td>2223</td>\n      <td>sema4_806</td>\n      <td>ci_16_arm_1</td>\n      <td>2022-12-21</td>\n      <td>0.0</td>\n      <td>0</td>\n      <td>0</td>\n      <td>0</td>\n      <td>NaN</td>\n      <td>0.0</td>\n      <td>2.0</td>\n      <td>NaN</td>\n    </tr>\n    <tr>\n      <th>2922</th>\n      <td>2098</td>\n      <td>sema4_831</td>\n      <td>ci_16_arm_1</td>\n      <td>2022-12-29</td>\n      <td>0.0</td>\n      <td>0</td>\n      <td>0</td>\n      <td>0</td>\n      <td>NaN</td>\n      <td>0.0</td>\n      <td>2.0</td>\n      <td>NaN</td>\n    </tr>\n    <tr>\n      <th>2923</th>\n      <td>2311</td>\n      <td>sema4_831</td>\n      <td>ci_16_arm_1</td>\n      <td>2022-12-29</td>\n      <td>0.0</td>\n      <td>0</td>\n      <td>0</td>\n      <td>0</td>\n      <td>NaN</td>\n      <td>0.0</td>\n      <td>2.0</td>\n      <td>NaN</td>\n    </tr>\n  </tbody>\n</table>\n<p>114 rows × 12 columns</p>\n</div>"
     },
     "metadata": {},
     "execution_count": 9
    }
   ],
   "source": [
    "data[data['redcap_event_name'] == 'ci_16_arm_1']"
   ]
  },
  {
   "cell_type": "code",
   "execution_count": 6,
   "metadata": {},
   "outputs": [
    {
     "output_type": "execute_result",
     "data": {
      "text/plain": "array([nan,  0.,  3.,  4.,  1.,  2.])"
     },
     "metadata": {},
     "execution_count": 6
    }
   ],
   "source": [
    "data.pitting_edema.unique()\n"
   ]
  },
  {
   "cell_type": "code",
   "execution_count": 7,
   "metadata": {},
   "outputs": [
    {
     "output_type": "execute_result",
     "data": {
      "text/plain": "0.0    1822\n1.0     627\nName: edema_yes, dtype: int64"
     },
     "metadata": {},
     "execution_count": 7
    }
   ],
   "source": [
    "data.edema_yes.value_counts()"
   ]
  },
  {
   "cell_type": "code",
   "execution_count": 15,
   "metadata": {},
   "outputs": [
    {
     "output_type": "execute_result",
     "data": {
      "text/plain": "0.0    1688\n1.0     112\n2.0       8\n3.0       5\n4.0       3\nName: pitting_edema, dtype: int64"
     },
     "metadata": {},
     "execution_count": 15
    }
   ],
   "source": [
    "data.pitting_edema.value_counts()"
   ]
  },
  {
   "cell_type": "code",
   "execution_count": 8,
   "metadata": {},
   "outputs": [
    {
     "output_type": "execute_result",
     "data": {
      "text/plain": "0.0    478\n1.0    110\n2.0      7\n3.0      4\n4.0      3\nName: pitting_edema, dtype: int64"
     },
     "metadata": {},
     "execution_count": 8
    }
   ],
   "source": [
    "data[data['edema_yes'] == 1.0].pitting_edema.value_counts()"
   ]
  },
  {
   "cell_type": "code",
   "execution_count": 9,
   "metadata": {},
   "outputs": [
    {
     "output_type": "execute_result",
     "data": {
      "text/plain": "0.0    1204\n3.0       1\n1.0       1\nName: pitting_edema, dtype: int64"
     },
     "metadata": {},
     "execution_count": 9
    }
   ],
   "source": [
    "data[data['edema_yes'] == 0.0].pitting_edema.value_counts()"
   ]
  },
  {
   "cell_type": "code",
   "execution_count": 10,
   "metadata": {},
   "outputs": [
    {
     "output_type": "execute_result",
     "data": {
      "text/plain": "ci_2_arm_1     592\nci_4_arm_1     552\nci_6_arm_1     500\nci_8_arm_1     457\nci_10_arm_1    361\nci_12_arm_1    217\nci_14_arm_1    133\nci_2_arm_2     125\nci_4_arm_2     121\nci_16_arm_1    114\nci_6_arm_2     106\nci_8_arm_2     102\nci_18_arm_1     98\nci_10_arm_2     79\nci_20_arm_1     76\nci_22_arm_1     44\nci_24_arm_1     27\nci_12_arm_2     25\nci_26_arm_1     13\nci_28_arm_1      7\nci_14_arm_2      2\nName: redcap_event_name, dtype: int64"
     },
     "metadata": {},
     "execution_count": 10
    }
   ],
   "source": [
    "data.redcap_event_name.value_counts()"
   ]
  },
  {
   "cell_type": "code",
   "execution_count": 11,
   "metadata": {},
   "outputs": [
    {
     "output_type": "execute_result",
     "data": {
      "text/plain": "ci_8_arm_1     277\nci_4_arm_1     276\nci_6_arm_1     273\nci_2_arm_1     268\nci_10_arm_1    224\nci_12_arm_1    145\nci_14_arm_1    114\nci_16_arm_1    105\nci_18_arm_1     86\nci_20_arm_1     71\nci_22_arm_1     42\nci_24_arm_1     25\nci_26_arm_1     13\nci_28_arm_1      7\nName: redcap_event_name, dtype: int64"
     },
     "metadata": {},
     "execution_count": 11
    }
   ],
   "source": [
    "data[data['pitting_edema_cohort_2_only_complete'] == 2.0].redcap_event_name.value_counts()"
   ]
  },
  {
   "cell_type": "code",
   "execution_count": 1,
   "metadata": {},
   "outputs": [
    {
     "output_type": "stream",
     "name": "stdout",
     "text": "{84: 2, 1400: 4, 1745: 4, 2174: 3, 1453: 1, 1374: 2, 2126: 3, 159: 4, 1717: 4, 1696: 4, 604: 4, 1714: 4, 200: 3, 39: 1, 1989: 4, 407: 4, 2267: 4, 992: 4, 1658: 4, 47: 4, 2038: 3, 2061: 3, 2151: 3, 2102: 2, 2066: 4, 1038: 2, 74: 1, 28: 4, 594: 1, 2018: 1, 622: 2, 989: 3, 1743: 2, 2031: 3, 1378: 4, 185: 4, 1996: 3, 2134: 4, 186: 4, 1387: 4, 174: 4, 1440: 1, 2062: 2, 1724: 4, 980: 4, 2001: 4, 66: 1, 1744: 3, 234: 2, 1393: 1, 1032: 4, 1403: 3, 290: 4, 55: 3, 1436: 1, 291: 1, 983: 2, 122: 1, 289: 4, 1731: 3, 2109: 4, 1709: 3, 1708: 4, 1747: 4, 53: 4, 1425: 3, 969: 4, 64: 4, 987: 2, 581: 4, 1993: 1, 2084: 1, 1373: 2, 38: 3, 280: 1, 1426: 4, 1695: 3, 2159: 4, 2120: 2, 190: 3, 1702: 1, 137: 2, 1037: 4, 404: 4, 279: 1, 29: 2, 429: 2, 118: 4, 2142: 3, 2176: 2, 2056: 4, 2080: 4, 1429: 4, 1366: 3, 1988: 1, 2065: 3, 1712: 1, 1432: 1, 603: 2, 1976: 4, 2019: 1, 977: 4, 2113: 3, 991: 2, 1728: 2, 615: 4, 1997: 1, 1427: 2, 1367: 1, 1000: 2, 158: 1, 192: 3, 168: 4, 410: 1, 428: 2, 135: 2, 2015: 3, 2083: 4, 199: 2, 2058: 3, 1700: 1, 193: 3, 95: 3, 1386: 2, 2169: 3, 1755: 1, 2041: 4, 1369: 4, 1716: 4, 1757: 3, 1389: 4, 2212: 1, 2068: 2, 173: 4, 1985: 3, 2160: 2, 1715: 1, 2032: 3, 68: 1, 293: 1, 1750: 1, 966: 3, 1021: 2, 1697: 1, 2166: 1, 405: 1, 2158: 2, 2016: 1, 1431: 1, 1999: 1, 30: 2, 79: 1, 62: 1, 2076: 1, 602: 1}\n"
    },
    {
     "output_type": "error",
     "ename": "NameError",
     "evalue": "name 'sns' is not defined",
     "traceback": [
      "\u001b[0;31m---------------------------------------------------------------------------\u001b[0m",
      "\u001b[0;31mNameError\u001b[0m                                 Traceback (most recent call last)",
      "\u001b[0;32m/tmp/ipykernel_947/4288415297.py\u001b[0m in \u001b[0;36m<module>\u001b[0;34m\u001b[0m\n\u001b[1;32m     16\u001b[0m     \u001b[0ms\u001b[0m\u001b[0;34m.\u001b[0m\u001b[0mappend\u001b[0m\u001b[0;34m(\u001b[0m\u001b[0mstr\u001b[0m\u001b[0;34m(\u001b[0m\u001b[0muser_dict\u001b[0m\u001b[0;34m[\u001b[0m\u001b[0mi\u001b[0m\u001b[0;34m]\u001b[0m\u001b[0;34m)\u001b[0m\u001b[0;34m)\u001b[0m\u001b[0;34m\u001b[0m\u001b[0m\n\u001b[1;32m     17\u001b[0m \u001b[0;34m\u001b[0m\u001b[0m\n\u001b[0;32m---> 18\u001b[0;31m \u001b[0msns\u001b[0m\u001b[0;34m.\u001b[0m\u001b[0mdisplot\u001b[0m\u001b[0;34m(\u001b[0m\u001b[0ms\u001b[0m\u001b[0;34m,\u001b[0m \u001b[0mshrink\u001b[0m\u001b[0;34m=\u001b[0m\u001b[0;36m.8\u001b[0m\u001b[0;34m,\u001b[0m \u001b[0mbins\u001b[0m\u001b[0;34m=\u001b[0m\u001b[0;34m[\u001b[0m\u001b[0;34m'1'\u001b[0m\u001b[0;34m,\u001b[0m \u001b[0;34m'2'\u001b[0m\u001b[0;34m,\u001b[0m \u001b[0;34m'3'\u001b[0m\u001b[0;34m,\u001b[0m \u001b[0;34m'4'\u001b[0m\u001b[0;34m]\u001b[0m\u001b[0;34m)\u001b[0m\u001b[0;34m\u001b[0m\u001b[0m\n\u001b[0m",
      "\u001b[0;31mNameError\u001b[0m: name 'sns' is not defined"
     ]
    }
   ],
   "source": [
    "user_dict = {}\n",
    "for f in os.listdir(os.path.join(\"/\", \"mnt\", 'dataset', \"stress\")):\n",
    "\n",
    "    f_name_lst = f.split('_')\n",
    "    if 'date' in f_name_lst:\n",
    "        continue\n",
    "    \n",
    "    user_id = int(f_name_lst[1])\n",
    "    if user_id in user_dict:\n",
    "        user_dict[user_id] += 1\n",
    "    else:\n",
    "        user_dict[user_id] = 1\n",
    "print(user_dict)\n",
    "s = []\n",
    "for i in user_dict:\n",
    "    s.append(str(user_dict[i]))\n",
    "\n",
    "sns.displot(s, shrink=.8, bins=['1', '2', '3', '4'])"
   ]
  },
  {
   "cell_type": "code",
   "execution_count": 13,
   "metadata": {},
   "outputs": [
    {
     "output_type": "execute_result",
     "data": {
      "text/plain": "<seaborn.axisgrid.FacetGrid at 0x7f3895eb7f98>"
     },
     "metadata": {},
     "execution_count": 13
    },
    {
     "output_type": "display_data",
     "data": {
      "text/plain": "<Figure size 500x500 with 1 Axes>",
      "image/svg+xml": "<?xml version=\"1.0\" encoding=\"utf-8\" standalone=\"no\"?>\n<!DOCTYPE svg PUBLIC \"-//W3C//DTD SVG 1.1//EN\"\n  \"http://www.w3.org/Graphics/SVG/1.1/DTD/svg11.dtd\">\n<svg xmlns:xlink=\"http://www.w3.org/1999/xlink\" width=\"352.433125pt\" height=\"351.99625pt\" viewBox=\"0 0 352.433125 351.99625\" xmlns=\"http://www.w3.org/2000/svg\" version=\"1.1\">\n <metadata>\n  <rdf:RDF xmlns:dc=\"http://purl.org/dc/elements/1.1/\" xmlns:cc=\"http://creativecommons.org/ns#\" xmlns:rdf=\"http://www.w3.org/1999/02/22-rdf-syntax-ns#\">\n   <cc:Work>\n    <dc:type rdf:resource=\"http://purl.org/dc/dcmitype/StillImage\"/>\n    <dc:date>2023-06-07T14:58:35.433945</dc:date>\n    <dc:format>image/svg+xml</dc:format>\n    <dc:creator>\n     <cc:Agent>\n      <dc:title>Matplotlib v3.5.3, https://matplotlib.org/</dc:title>\n     </cc:Agent>\n    </dc:creator>\n   </cc:Work>\n  </rdf:RDF>\n </metadata>\n <defs>\n  <style type=\"text/css\">*{stroke-linejoin: round; stroke-linecap: butt}</style>\n </defs>\n <g id=\"figure_1\">\n  <g id=\"patch_1\">\n   <path d=\"M 0 351.99625 \nL 352.433125 351.99625 \nL 352.433125 0 \nL 0 0 \nz\n\" style=\"fill: #ffffff\"/>\n  </g>\n  <g id=\"axes_1\">\n   <g id=\"patch_2\">\n    <path d=\"M 40.603125 314.44 \nL 345.233125 314.44 \nL 345.233125 7.2 \nL 40.603125 7.2 \nz\n\" style=\"fill: #ffffff\"/>\n   </g>\n   <g id=\"patch_3\">\n    <path d=\"M 54.449943 314.44 \nL 123.684034 314.44 \nL 123.684034 21.830476 \nL 54.449943 21.830476 \nz\n\" clip-path=\"url(#p221588bed3)\" style=\"fill: #1f77b4; fill-opacity: 0.75; stroke: #000000; stroke-linejoin: miter\"/>\n   </g>\n   <g id=\"patch_4\">\n    <path d=\"M 123.684034 314.44 \nL 192.918125 314.44 \nL 192.918125 42.010443 \nL 123.684034 42.010443 \nz\n\" clip-path=\"url(#p221588bed3)\" style=\"fill: #1f77b4; fill-opacity: 0.75; stroke: #000000; stroke-linejoin: miter\"/>\n   </g>\n   <g id=\"patch_5\">\n    <path d=\"M 192.918125 314.44 \nL 262.152216 314.44 \nL 262.152216 52.100427 \nL 192.918125 52.100427 \nz\n\" clip-path=\"url(#p221588bed3)\" style=\"fill: #1f77b4; fill-opacity: 0.75; stroke: #000000; stroke-linejoin: miter\"/>\n   </g>\n   <g id=\"patch_6\">\n    <path d=\"M 262.152216 314.44 \nL 331.386307 314.44 \nL 331.386307 92.460361 \nL 262.152216 92.460361 \nz\n\" clip-path=\"url(#p221588bed3)\" style=\"fill: #1f77b4; fill-opacity: 0.75; stroke: #000000; stroke-linejoin: miter\"/>\n   </g>\n   <g id=\"matplotlib.axis_1\">\n    <g id=\"xtick_1\">\n     <g id=\"line2d_1\">\n      <defs>\n       <path id=\"m785f23f5cb\" d=\"M 0 0 \nL 0 3.5 \n\" style=\"stroke: #000000; stroke-width: 0.8\"/>\n      </defs>\n      <g>\n       <use xlink:href=\"#m785f23f5cb\" x=\"89.066989\" y=\"314.44\" style=\"stroke: #000000; stroke-width: 0.8\"/>\n      </g>\n     </g>\n     <g id=\"text_1\">\n      <!-- 1 -->\n      <g transform=\"translate(85.885739 329.038437)scale(0.1 -0.1)\">\n       <defs>\n        <path id=\"DejaVuSans-31\" d=\"M 794 531 \nL 1825 531 \nL 1825 4091 \nL 703 3866 \nL 703 4441 \nL 1819 4666 \nL 2450 4666 \nL 2450 531 \nL 3481 531 \nL 3481 0 \nL 794 0 \nL 794 531 \nz\n\" transform=\"scale(0.015625)\"/>\n       </defs>\n       <use xlink:href=\"#DejaVuSans-31\"/>\n      </g>\n     </g>\n    </g>\n    <g id=\"xtick_2\">\n     <g id=\"line2d_2\">\n      <g>\n       <use xlink:href=\"#m785f23f5cb\" x=\"158.30108\" y=\"314.44\" style=\"stroke: #000000; stroke-width: 0.8\"/>\n      </g>\n     </g>\n     <g id=\"text_2\">\n      <!-- 2 -->\n      <g transform=\"translate(155.11983 329.038437)scale(0.1 -0.1)\">\n       <defs>\n        <path id=\"DejaVuSans-32\" d=\"M 1228 531 \nL 3431 531 \nL 3431 0 \nL 469 0 \nL 469 531 \nQ 828 903 1448 1529 \nQ 2069 2156 2228 2338 \nQ 2531 2678 2651 2914 \nQ 2772 3150 2772 3378 \nQ 2772 3750 2511 3984 \nQ 2250 4219 1831 4219 \nQ 1534 4219 1204 4116 \nQ 875 4013 500 3803 \nL 500 4441 \nQ 881 4594 1212 4672 \nQ 1544 4750 1819 4750 \nQ 2544 4750 2975 4387 \nQ 3406 4025 3406 3419 \nQ 3406 3131 3298 2873 \nQ 3191 2616 2906 2266 \nQ 2828 2175 2409 1742 \nQ 1991 1309 1228 531 \nz\n\" transform=\"scale(0.015625)\"/>\n       </defs>\n       <use xlink:href=\"#DejaVuSans-32\"/>\n      </g>\n     </g>\n    </g>\n    <g id=\"xtick_3\">\n     <g id=\"line2d_3\">\n      <g>\n       <use xlink:href=\"#m785f23f5cb\" x=\"227.53517\" y=\"314.44\" style=\"stroke: #000000; stroke-width: 0.8\"/>\n      </g>\n     </g>\n     <g id=\"text_3\">\n      <!-- 3 -->\n      <g transform=\"translate(224.35392 329.038437)scale(0.1 -0.1)\">\n       <defs>\n        <path id=\"DejaVuSans-33\" d=\"M 2597 2516 \nQ 3050 2419 3304 2112 \nQ 3559 1806 3559 1356 \nQ 3559 666 3084 287 \nQ 2609 -91 1734 -91 \nQ 1441 -91 1130 -33 \nQ 819 25 488 141 \nL 488 750 \nQ 750 597 1062 519 \nQ 1375 441 1716 441 \nQ 2309 441 2620 675 \nQ 2931 909 2931 1356 \nQ 2931 1769 2642 2001 \nQ 2353 2234 1838 2234 \nL 1294 2234 \nL 1294 2753 \nL 1863 2753 \nQ 2328 2753 2575 2939 \nQ 2822 3125 2822 3475 \nQ 2822 3834 2567 4026 \nQ 2313 4219 1838 4219 \nQ 1578 4219 1281 4162 \nQ 984 4106 628 3988 \nL 628 4550 \nQ 988 4650 1302 4700 \nQ 1616 4750 1894 4750 \nQ 2613 4750 3031 4423 \nQ 3450 4097 3450 3541 \nQ 3450 3153 3228 2886 \nQ 3006 2619 2597 2516 \nz\n\" transform=\"scale(0.015625)\"/>\n       </defs>\n       <use xlink:href=\"#DejaVuSans-33\"/>\n      </g>\n     </g>\n    </g>\n    <g id=\"xtick_4\">\n     <g id=\"line2d_4\">\n      <g>\n       <use xlink:href=\"#m785f23f5cb\" x=\"296.769261\" y=\"314.44\" style=\"stroke: #000000; stroke-width: 0.8\"/>\n      </g>\n     </g>\n     <g id=\"text_4\">\n      <!-- 4 -->\n      <g transform=\"translate(293.588011 329.038437)scale(0.1 -0.1)\">\n       <defs>\n        <path id=\"DejaVuSans-34\" d=\"M 2419 4116 \nL 825 1625 \nL 2419 1625 \nL 2419 4116 \nz\nM 2253 4666 \nL 3047 4666 \nL 3047 1625 \nL 3713 1625 \nL 3713 1100 \nL 3047 1100 \nL 3047 0 \nL 2419 0 \nL 2419 1100 \nL 313 1100 \nL 313 1709 \nL 2253 4666 \nz\n\" transform=\"scale(0.015625)\"/>\n       </defs>\n       <use xlink:href=\"#DejaVuSans-34\"/>\n      </g>\n     </g>\n    </g>\n    <g id=\"text_5\">\n     <!-- slices -->\n     <g transform=\"translate(179.104844 342.716562)scale(0.1 -0.1)\">\n      <defs>\n       <path id=\"DejaVuSans-73\" d=\"M 2834 3397 \nL 2834 2853 \nQ 2591 2978 2328 3040 \nQ 2066 3103 1784 3103 \nQ 1356 3103 1142 2972 \nQ 928 2841 928 2578 \nQ 928 2378 1081 2264 \nQ 1234 2150 1697 2047 \nL 1894 2003 \nQ 2506 1872 2764 1633 \nQ 3022 1394 3022 966 \nQ 3022 478 2636 193 \nQ 2250 -91 1575 -91 \nQ 1294 -91 989 -36 \nQ 684 19 347 128 \nL 347 722 \nQ 666 556 975 473 \nQ 1284 391 1588 391 \nQ 1994 391 2212 530 \nQ 2431 669 2431 922 \nQ 2431 1156 2273 1281 \nQ 2116 1406 1581 1522 \nL 1381 1569 \nQ 847 1681 609 1914 \nQ 372 2147 372 2553 \nQ 372 3047 722 3315 \nQ 1072 3584 1716 3584 \nQ 2034 3584 2315 3537 \nQ 2597 3491 2834 3397 \nz\n\" transform=\"scale(0.015625)\"/>\n       <path id=\"DejaVuSans-6c\" d=\"M 603 4863 \nL 1178 4863 \nL 1178 0 \nL 603 0 \nL 603 4863 \nz\n\" transform=\"scale(0.015625)\"/>\n       <path id=\"DejaVuSans-69\" d=\"M 603 3500 \nL 1178 3500 \nL 1178 0 \nL 603 0 \nL 603 3500 \nz\nM 603 4863 \nL 1178 4863 \nL 1178 4134 \nL 603 4134 \nL 603 4863 \nz\n\" transform=\"scale(0.015625)\"/>\n       <path id=\"DejaVuSans-63\" d=\"M 3122 3366 \nL 3122 2828 \nQ 2878 2963 2633 3030 \nQ 2388 3097 2138 3097 \nQ 1578 3097 1268 2742 \nQ 959 2388 959 1747 \nQ 959 1106 1268 751 \nQ 1578 397 2138 397 \nQ 2388 397 2633 464 \nQ 2878 531 3122 666 \nL 3122 134 \nQ 2881 22 2623 -34 \nQ 2366 -91 2075 -91 \nQ 1284 -91 818 406 \nQ 353 903 353 1747 \nQ 353 2603 823 3093 \nQ 1294 3584 2113 3584 \nQ 2378 3584 2631 3529 \nQ 2884 3475 3122 3366 \nz\n\" transform=\"scale(0.015625)\"/>\n       <path id=\"DejaVuSans-65\" d=\"M 3597 1894 \nL 3597 1613 \nL 953 1613 \nQ 991 1019 1311 708 \nQ 1631 397 2203 397 \nQ 2534 397 2845 478 \nQ 3156 559 3463 722 \nL 3463 178 \nQ 3153 47 2828 -22 \nQ 2503 -91 2169 -91 \nQ 1331 -91 842 396 \nQ 353 884 353 1716 \nQ 353 2575 817 3079 \nQ 1281 3584 2069 3584 \nQ 2775 3584 3186 3129 \nQ 3597 2675 3597 1894 \nz\nM 3022 2063 \nQ 3016 2534 2758 2815 \nQ 2500 3097 2075 3097 \nQ 1594 3097 1305 2825 \nQ 1016 2553 972 2059 \nL 3022 2063 \nz\n\" transform=\"scale(0.015625)\"/>\n      </defs>\n      <use xlink:href=\"#DejaVuSans-73\"/>\n      <use xlink:href=\"#DejaVuSans-6c\" x=\"52.099609\"/>\n      <use xlink:href=\"#DejaVuSans-69\" x=\"79.882812\"/>\n      <use xlink:href=\"#DejaVuSans-63\" x=\"107.666016\"/>\n      <use xlink:href=\"#DejaVuSans-65\" x=\"162.646484\"/>\n      <use xlink:href=\"#DejaVuSans-73\" x=\"224.169922\"/>\n     </g>\n    </g>\n   </g>\n   <g id=\"matplotlib.axis_2\">\n    <g id=\"ytick_1\">\n     <g id=\"line2d_5\">\n      <defs>\n       <path id=\"m0df6dd88fa\" d=\"M 0 0 \nL -3.5 0 \n\" style=\"stroke: #000000; stroke-width: 0.8\"/>\n      </defs>\n      <g>\n       <use xlink:href=\"#m0df6dd88fa\" x=\"40.603125\" y=\"314.44\" style=\"stroke: #000000; stroke-width: 0.8\"/>\n      </g>\n     </g>\n     <g id=\"text_6\">\n      <!-- 0 -->\n      <g transform=\"translate(27.240625 318.239219)scale(0.1 -0.1)\">\n       <defs>\n        <path id=\"DejaVuSans-30\" d=\"M 2034 4250 \nQ 1547 4250 1301 3770 \nQ 1056 3291 1056 2328 \nQ 1056 1369 1301 889 \nQ 1547 409 2034 409 \nQ 2525 409 2770 889 \nQ 3016 1369 3016 2328 \nQ 3016 3291 2770 3770 \nQ 2525 4250 2034 4250 \nz\nM 2034 4750 \nQ 2819 4750 3233 4129 \nQ 3647 3509 3647 2328 \nQ 3647 1150 3233 529 \nQ 2819 -91 2034 -91 \nQ 1250 -91 836 529 \nQ 422 1150 422 2328 \nQ 422 3509 836 4129 \nQ 1250 4750 2034 4750 \nz\n\" transform=\"scale(0.015625)\"/>\n       </defs>\n       <use xlink:href=\"#DejaVuSans-30\"/>\n      </g>\n     </g>\n    </g>\n    <g id=\"ytick_2\">\n     <g id=\"line2d_6\">\n      <g>\n       <use xlink:href=\"#m0df6dd88fa\" x=\"40.603125\" y=\"263.990082\" style=\"stroke: #000000; stroke-width: 0.8\"/>\n      </g>\n     </g>\n     <g id=\"text_7\">\n      <!-- 5 -->\n      <g transform=\"translate(27.240625 267.789301)scale(0.1 -0.1)\">\n       <defs>\n        <path id=\"DejaVuSans-35\" d=\"M 691 4666 \nL 3169 4666 \nL 3169 4134 \nL 1269 4134 \nL 1269 2991 \nQ 1406 3038 1543 3061 \nQ 1681 3084 1819 3084 \nQ 2600 3084 3056 2656 \nQ 3513 2228 3513 1497 \nQ 3513 744 3044 326 \nQ 2575 -91 1722 -91 \nQ 1428 -91 1123 -41 \nQ 819 9 494 109 \nL 494 744 \nQ 775 591 1075 516 \nQ 1375 441 1709 441 \nQ 2250 441 2565 725 \nQ 2881 1009 2881 1497 \nQ 2881 1984 2565 2268 \nQ 2250 2553 1709 2553 \nQ 1456 2553 1204 2497 \nQ 953 2441 691 2322 \nL 691 4666 \nz\n\" transform=\"scale(0.015625)\"/>\n       </defs>\n       <use xlink:href=\"#DejaVuSans-35\"/>\n      </g>\n     </g>\n    </g>\n    <g id=\"ytick_3\">\n     <g id=\"line2d_7\">\n      <g>\n       <use xlink:href=\"#m0df6dd88fa\" x=\"40.603125\" y=\"213.540164\" style=\"stroke: #000000; stroke-width: 0.8\"/>\n      </g>\n     </g>\n     <g id=\"text_8\">\n      <!-- 10 -->\n      <g transform=\"translate(20.878125 217.339383)scale(0.1 -0.1)\">\n       <use xlink:href=\"#DejaVuSans-31\"/>\n       <use xlink:href=\"#DejaVuSans-30\" x=\"63.623047\"/>\n      </g>\n     </g>\n    </g>\n    <g id=\"ytick_4\">\n     <g id=\"line2d_8\">\n      <g>\n       <use xlink:href=\"#m0df6dd88fa\" x=\"40.603125\" y=\"163.090246\" style=\"stroke: #000000; stroke-width: 0.8\"/>\n      </g>\n     </g>\n     <g id=\"text_9\">\n      <!-- 15 -->\n      <g transform=\"translate(20.878125 166.889465)scale(0.1 -0.1)\">\n       <use xlink:href=\"#DejaVuSans-31\"/>\n       <use xlink:href=\"#DejaVuSans-35\" x=\"63.623047\"/>\n      </g>\n     </g>\n    </g>\n    <g id=\"ytick_5\">\n     <g id=\"line2d_9\">\n      <g>\n       <use xlink:href=\"#m0df6dd88fa\" x=\"40.603125\" y=\"112.640328\" style=\"stroke: #000000; stroke-width: 0.8\"/>\n      </g>\n     </g>\n     <g id=\"text_10\">\n      <!-- 20 -->\n      <g transform=\"translate(20.878125 116.439547)scale(0.1 -0.1)\">\n       <use xlink:href=\"#DejaVuSans-32\"/>\n       <use xlink:href=\"#DejaVuSans-30\" x=\"63.623047\"/>\n      </g>\n     </g>\n    </g>\n    <g id=\"ytick_6\">\n     <g id=\"line2d_10\">\n      <g>\n       <use xlink:href=\"#m0df6dd88fa\" x=\"40.603125\" y=\"62.190411\" style=\"stroke: #000000; stroke-width: 0.8\"/>\n      </g>\n     </g>\n     <g id=\"text_11\">\n      <!-- 25 -->\n      <g transform=\"translate(20.878125 65.989629)scale(0.1 -0.1)\">\n       <use xlink:href=\"#DejaVuSans-32\"/>\n       <use xlink:href=\"#DejaVuSans-35\" x=\"63.623047\"/>\n      </g>\n     </g>\n    </g>\n    <g id=\"ytick_7\">\n     <g id=\"line2d_11\">\n      <g>\n       <use xlink:href=\"#m0df6dd88fa\" x=\"40.603125\" y=\"11.740493\" style=\"stroke: #000000; stroke-width: 0.8\"/>\n      </g>\n     </g>\n     <g id=\"text_12\">\n      <!-- 30 -->\n      <g transform=\"translate(20.878125 15.539711)scale(0.1 -0.1)\">\n       <use xlink:href=\"#DejaVuSans-33\"/>\n       <use xlink:href=\"#DejaVuSans-30\" x=\"63.623047\"/>\n      </g>\n     </g>\n    </g>\n    <g id=\"text_13\">\n     <!-- Count -->\n     <g transform=\"translate(14.798438 175.668437)rotate(-90)scale(0.1 -0.1)\">\n      <defs>\n       <path id=\"DejaVuSans-43\" d=\"M 4122 4306 \nL 4122 3641 \nQ 3803 3938 3442 4084 \nQ 3081 4231 2675 4231 \nQ 1875 4231 1450 3742 \nQ 1025 3253 1025 2328 \nQ 1025 1406 1450 917 \nQ 1875 428 2675 428 \nQ 3081 428 3442 575 \nQ 3803 722 4122 1019 \nL 4122 359 \nQ 3791 134 3420 21 \nQ 3050 -91 2638 -91 \nQ 1578 -91 968 557 \nQ 359 1206 359 2328 \nQ 359 3453 968 4101 \nQ 1578 4750 2638 4750 \nQ 3056 4750 3426 4639 \nQ 3797 4528 4122 4306 \nz\n\" transform=\"scale(0.015625)\"/>\n       <path id=\"DejaVuSans-6f\" d=\"M 1959 3097 \nQ 1497 3097 1228 2736 \nQ 959 2375 959 1747 \nQ 959 1119 1226 758 \nQ 1494 397 1959 397 \nQ 2419 397 2687 759 \nQ 2956 1122 2956 1747 \nQ 2956 2369 2687 2733 \nQ 2419 3097 1959 3097 \nz\nM 1959 3584 \nQ 2709 3584 3137 3096 \nQ 3566 2609 3566 1747 \nQ 3566 888 3137 398 \nQ 2709 -91 1959 -91 \nQ 1206 -91 779 398 \nQ 353 888 353 1747 \nQ 353 2609 779 3096 \nQ 1206 3584 1959 3584 \nz\n\" transform=\"scale(0.015625)\"/>\n       <path id=\"DejaVuSans-75\" d=\"M 544 1381 \nL 544 3500 \nL 1119 3500 \nL 1119 1403 \nQ 1119 906 1312 657 \nQ 1506 409 1894 409 \nQ 2359 409 2629 706 \nQ 2900 1003 2900 1516 \nL 2900 3500 \nL 3475 3500 \nL 3475 0 \nL 2900 0 \nL 2900 538 \nQ 2691 219 2414 64 \nQ 2138 -91 1772 -91 \nQ 1169 -91 856 284 \nQ 544 659 544 1381 \nz\nM 1991 3584 \nL 1991 3584 \nz\n\" transform=\"scale(0.015625)\"/>\n       <path id=\"DejaVuSans-6e\" d=\"M 3513 2113 \nL 3513 0 \nL 2938 0 \nL 2938 2094 \nQ 2938 2591 2744 2837 \nQ 2550 3084 2163 3084 \nQ 1697 3084 1428 2787 \nQ 1159 2491 1159 1978 \nL 1159 0 \nL 581 0 \nL 581 3500 \nL 1159 3500 \nL 1159 2956 \nQ 1366 3272 1645 3428 \nQ 1925 3584 2291 3584 \nQ 2894 3584 3203 3211 \nQ 3513 2838 3513 2113 \nz\n\" transform=\"scale(0.015625)\"/>\n       <path id=\"DejaVuSans-74\" d=\"M 1172 4494 \nL 1172 3500 \nL 2356 3500 \nL 2356 3053 \nL 1172 3053 \nL 1172 1153 \nQ 1172 725 1289 603 \nQ 1406 481 1766 481 \nL 2356 481 \nL 2356 0 \nL 1766 0 \nQ 1100 0 847 248 \nQ 594 497 594 1153 \nL 594 3053 \nL 172 3053 \nL 172 3500 \nL 594 3500 \nL 594 4494 \nL 1172 4494 \nz\n\" transform=\"scale(0.015625)\"/>\n      </defs>\n      <use xlink:href=\"#DejaVuSans-43\"/>\n      <use xlink:href=\"#DejaVuSans-6f\" x=\"69.824219\"/>\n      <use xlink:href=\"#DejaVuSans-75\" x=\"131.005859\"/>\n      <use xlink:href=\"#DejaVuSans-6e\" x=\"194.384766\"/>\n      <use xlink:href=\"#DejaVuSans-74\" x=\"257.763672\"/>\n     </g>\n    </g>\n   </g>\n   <g id=\"patch_7\">\n    <path d=\"M 40.603125 314.44 \nL 40.603125 7.2 \n\" style=\"fill: none; stroke: #000000; stroke-width: 0.8; stroke-linejoin: miter; stroke-linecap: square\"/>\n   </g>\n   <g id=\"patch_8\">\n    <path d=\"M 40.603125 314.44 \nL 345.233125 314.44 \n\" style=\"fill: none; stroke: #000000; stroke-width: 0.8; stroke-linejoin: miter; stroke-linecap: square\"/>\n   </g>\n  </g>\n </g>\n <defs>\n  <clipPath id=\"p221588bed3\">\n   <rect x=\"40.603125\" y=\"7.2\" width=\"304.63\" height=\"307.24\"/>\n  </clipPath>\n </defs>\n</svg>\n",
      "image/png": "[encoded data removed]"
     },
     "metadata": {}
    }
   ],
   "source": [
    "df = pd.DataFrame()\n",
    "df['slices'] = pd.Categorical(values=s, categories=['1', '2', '3', '4']) ## Set the order for the column as you want\n",
    "df.sort_values(['slices'], inplace=True) ## Sort the column\n",
    "sns.displot(data = df, x = 'slices')  ## and plot"
   ]
  },
  {
   "cell_type": "code",
   "execution_count": 14,
   "metadata": {},
   "outputs": [
    {
     "output_type": "execute_result",
     "data": {
      "text/plain": "104"
     },
     "metadata": {},
     "execution_count": 14
    }
   ],
   "source": [
    "len(s)"
   ]
  },
  {
   "cell_type": "code",
   "execution_count": null,
   "metadata": {},
   "outputs": [],
   "source": []
  }
 ],
 "metadata": {
  "language_info": {
   "codemirror_mode": {
    "name": "ipython",
    "version": 3
   },
   "file_extension": ".py",
   "mimetype": "text/x-python",
   "name": "python",
   "nbconvert_exporter": "python",
   "pygments_lexer": "ipython3",
   "version": "3.7.0-final"
  },
  "orig_nbformat": 2,
  "kernelspec": {
   "name": "python37064bitmyvenvvenv29a9fc96b2e84c0089549ddf4a39dbf1",
   "display_name": "Python 3.7.0 64-bit ('myvenv': venv)"
  }
 },
 "nbformat": 4,
 "nbformat_minor": 2
}