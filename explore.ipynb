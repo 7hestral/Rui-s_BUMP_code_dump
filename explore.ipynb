{
 "cells": [
  {
   "cell_type": "code",
   "execution_count": 1,
   "metadata": {},
   "outputs": [],
   "source": [
    "from src.utils import data_load\n",
    "import pandas as pd\n",
    "from src.s3_utils import pandas_from_csv_s3\n",
    "import numpy as np\n",
    "from utils import get_survey_question"
   ]
  },
  {
   "cell_type": "code",
   "execution_count": 2,
   "metadata": {},
   "outputs": [],
   "source": [
    "data = data_load(data_keys={'bodyport', 'oura_activity', 'oura_sleep', \"surveys\"}, wave=5)\n",
    "data_bodyport = data['bodyport']\n",
    "\n"
   ]
  },
  {
   "cell_type": "code",
   "execution_count": 3,
   "metadata": {},
   "outputs": [
    {
     "output_type": "execute_result",
     "data": {
      "text/plain": "array(['weight'], dtype=object)"
     },
     "metadata": {},
     "execution_count": 3
    }
   ],
   "source": [
    "data_bodyport.subsource.unique()"
   ]
  },
  {
   "cell_type": "code",
   "execution_count": 4,
   "metadata": {},
   "outputs": [
    {
     "output_type": "stream",
     "name": "stdout",
     "text": "id <class 'numpy.int64'>\nuser_id <class 'numpy.int64'>\nidentity_id <class 'numpy.int64'>\ncreated_at <class 'str'>\nupdated_at <class 'str'>\nretrieved_at <class 'str'>\nsubsource <class 'str'>\ncreation_date <class 'str'>\nevent_date <class 'str'>\nbackend_sway_area_mm2 <class 'numpy.float64'>\nbmi_kg_m2 <class 'numpy.float64'>\ndevice_id <class 'str'>\nend_code <class 'numpy.int64'>\nheart_rate <class 'numpy.float64'>\nimpedance_mag_1_ohms <class 'numpy.float64'>\nimpedance_phase_1_degs <class 'numpy.float64'>\nimpedance_ratio <class 'numpy.float64'>\nmuuid <class 'str'>\npatient_id <class 'str'>\nperipheral_fluid <class 'numpy.float64'>\nrun_time_sec <class 'numpy.float64'>\nsway_velocity_mm_sec <class 'numpy.float64'>\ntotal_body_water_percent <class 'numpy.float64'>\nuuid <class 'str'>\nweight_kg <class 'numpy.float64'>\ndate <class 'datetime.date'>\n"
    },
    {
     "output_type": "execute_result",
     "data": {
      "text/plain": "id                            int64\nuser_id                       int64\nidentity_id                   int64\ncreated_at                   object\nupdated_at                   object\nretrieved_at                 object\nsubsource                    object\ncreation_date                object\nevent_date                   object\nbackend_sway_area_mm2       float64\nbmi_kg_m2                   float64\ndevice_id                    object\nend_code                      int64\nheart_rate                  float64\nimpedance_mag_1_ohms        float64\nimpedance_phase_1_degs      float64\nimpedance_ratio             float64\nmuuid                        object\npatient_id                   object\nperipheral_fluid            float64\nrun_time_sec                float64\nsway_velocity_mm_sec        float64\ntotal_body_water_percent    float64\nuuid                         object\nweight_kg                   float64\ndate                         object\ndtype: object"
     },
     "metadata": {},
     "execution_count": 4
    }
   ],
   "source": [
    "for i in data_bodyport.columns:\n",
    "    print(i, type(data_bodyport[i].iloc[0]))\n",
    "data_bodyport.dtypes"
   ]
  },
  {
   "cell_type": "code",
   "execution_count": 5,
   "metadata": {},
   "outputs": [
    {
     "output_type": "execute_result",
     "data": {
      "text/plain": "368"
     },
     "metadata": {},
     "execution_count": 5
    }
   ],
   "source": [
    "len(data_bodyport['patient_id'].unique())"
   ]
  },
  {
   "cell_type": "code",
   "execution_count": 6,
   "metadata": {},
   "outputs": [
    {
     "output_type": "execute_result",
     "data": {
      "text/plain": "368"
     },
     "metadata": {},
     "execution_count": 6
    }
   ],
   "source": [
    "len(data_bodyport['user_id'].unique())\n"
   ]
  },
  {
   "cell_type": "code",
   "execution_count": 7,
   "metadata": {},
   "outputs": [
    {
     "output_type": "execute_result",
     "data": {
      "text/plain": "47161"
     },
     "metadata": {},
     "execution_count": 7
    }
   ],
   "source": [
    "\n",
    "len(data_bodyport['muuid'].unique())"
   ]
  },
  {
   "cell_type": "code",
   "execution_count": 8,
   "metadata": {},
   "outputs": [
    {
     "output_type": "execute_result",
     "data": {
      "text/plain": "47161"
     },
     "metadata": {},
     "execution_count": 8
    }
   ],
   "source": [
    "len(data_bodyport)"
   ]
  },
  {
   "cell_type": "code",
   "execution_count": 9,
   "metadata": {},
   "outputs": [
    {
     "output_type": "execute_result",
     "data": {
      "text/plain": "368"
     },
     "metadata": {},
     "execution_count": 9
    }
   ],
   "source": [
    "len(data_bodyport['identity_id'].unique())"
   ]
  },
  {
   "cell_type": "code",
   "execution_count": 10,
   "metadata": {},
   "outputs": [
    {
     "output_type": "execute_result",
     "data": {
      "text/plain": "                                 patient_id  user_id\n0                             bodyport-29-1       29\n1                             bodyport-29-1       29\n2                             bodyport-29-1       29\n3                             bodyport-29-1       29\n4                             bodyport-29-1       29\n...                                     ...      ...\n47156  143a132a-aa98-4a0c-ae57-0c1ac2b857de     2654\n47157  143a132a-aa98-4a0c-ae57-0c1ac2b857de     2654\n47158  143a132a-aa98-4a0c-ae57-0c1ac2b857de     2654\n47159  143a132a-aa98-4a0c-ae57-0c1ac2b857de     2654\n47160  143a132a-aa98-4a0c-ae57-0c1ac2b857de     2654\n\n[47161 rows x 2 columns]",
      "text/html": "<div>\n<style scoped>\n    .dataframe tbody tr th:only-of-type {\n        vertical-align: middle;\n    }\n\n    .dataframe tbody tr th {\n        vertical-align: top;\n    }\n\n    .dataframe thead th {\n        text-align: right;\n    }\n</style>\n<table border=\"1\" class=\"dataframe\">\n  <thead>\n    <tr style=\"text-align: right;\">\n      <th></th>\n      <th>patient_id</th>\n      <th>user_id</th>\n    </tr>\n  </thead>\n  <tbody>\n    <tr>\n      <th>0</th>\n      <td>bodyport-29-1</td>\n      <td>29</td>\n    </tr>\n    <tr>\n      <th>1</th>\n      <td>bodyport-29-1</td>\n      <td>29</td>\n    </tr>\n    <tr>\n      <th>2</th>\n      <td>bodyport-29-1</td>\n      <td>29</td>\n    </tr>\n    <tr>\n      <th>3</th>\n      <td>bodyport-29-1</td>\n      <td>29</td>\n    </tr>\n    <tr>\n      <th>4</th>\n      <td>bodyport-29-1</td>\n      <td>29</td>\n    </tr>\n    <tr>\n      <th>...</th>\n      <td>...</td>\n      <td>...</td>\n    </tr>\n    <tr>\n      <th>47156</th>\n      <td>143a132a-aa98-4a0c-ae57-0c1ac2b857de</td>\n      <td>2654</td>\n    </tr>\n    <tr>\n      <th>47157</th>\n      <td>143a132a-aa98-4a0c-ae57-0c1ac2b857de</td>\n      <td>2654</td>\n    </tr>\n    <tr>\n      <th>47158</th>\n      <td>143a132a-aa98-4a0c-ae57-0c1ac2b857de</td>\n      <td>2654</td>\n    </tr>\n    <tr>\n      <th>47159</th>\n      <td>143a132a-aa98-4a0c-ae57-0c1ac2b857de</td>\n      <td>2654</td>\n    </tr>\n    <tr>\n      <th>47160</th>\n      <td>143a132a-aa98-4a0c-ae57-0c1ac2b857de</td>\n      <td>2654</td>\n    </tr>\n  </tbody>\n</table>\n<p>47161 rows × 2 columns</p>\n</div>"
     },
     "metadata": {},
     "execution_count": 10
    }
   ],
   "source": [
    "data_bodyport[['patient_id', 'user_id']]"
   ]
  },
  {
   "cell_type": "code",
   "execution_count": 11,
   "metadata": {},
   "outputs": [
    {
     "output_type": "execute_result",
     "data": {
      "text/plain": "              retrieved_at                  created_at        creation_date\n0      2021-08-21 22:59:37  2021-08-21 23:14:06.724909  2021-08-21 22:59:37\n1      2021-08-18 13:56:58  2021-08-18 14:14:06.303632  2021-08-18 13:56:58\n2      2021-08-11 21:46:16  2021-08-11 22:14:06.428484  2021-08-11 21:46:16\n3      2021-08-08 17:17:37  2021-08-08 17:19:42.953571  2021-08-08 17:17:37\n4      2021-08-07 18:07:04   2021-08-07 18:14:31.72311  2021-08-07 18:07:04\n...                    ...                         ...                  ...\n47156  2022-11-09 12:20:57  2022-11-09 12:42:58.097449  2022-11-09 12:20:57\n47157  2022-11-09 12:20:29  2022-11-09 12:42:58.125909  2022-11-09 12:20:29\n47158  2022-11-08 12:39:38  2022-11-08 12:45:30.583557  2022-11-08 12:39:38\n47159  2022-11-08 00:37:59  2022-11-08 00:49:21.416032  2022-11-08 00:37:59\n47160  2022-11-08 00:36:56  2022-11-08 00:49:22.063328  2022-11-08 00:36:56\n\n[47161 rows x 3 columns]",
      "text/html": "<div>\n<style scoped>\n    .dataframe tbody tr th:only-of-type {\n        vertical-align: middle;\n    }\n\n    .dataframe tbody tr th {\n        vertical-align: top;\n    }\n\n    .dataframe thead th {\n        text-align: right;\n    }\n</style>\n<table border=\"1\" class=\"dataframe\">\n  <thead>\n    <tr style=\"text-align: right;\">\n      <th></th>\n      <th>retrieved_at</th>\n      <th>created_at</th>\n      <th>creation_date</th>\n    </tr>\n  </thead>\n  <tbody>\n    <tr>\n      <th>0</th>\n      <td>2021-08-21 22:59:37</td>\n      <td>2021-08-21 23:14:06.724909</td>\n      <td>2021-08-21 22:59:37</td>\n    </tr>\n    <tr>\n      <th>1</th>\n      <td>2021-08-18 13:56:58</td>\n      <td>2021-08-18 14:14:06.303632</td>\n      <td>2021-08-18 13:56:58</td>\n    </tr>\n    <tr>\n      <th>2</th>\n      <td>2021-08-11 21:46:16</td>\n      <td>2021-08-11 22:14:06.428484</td>\n      <td>2021-08-11 21:46:16</td>\n    </tr>\n    <tr>\n      <th>3</th>\n      <td>2021-08-08 17:17:37</td>\n      <td>2021-08-08 17:19:42.953571</td>\n      <td>2021-08-08 17:17:37</td>\n    </tr>\n    <tr>\n      <th>4</th>\n      <td>2021-08-07 18:07:04</td>\n      <td>2021-08-07 18:14:31.72311</td>\n      <td>2021-08-07 18:07:04</td>\n    </tr>\n    <tr>\n      <th>...</th>\n      <td>...</td>\n      <td>...</td>\n      <td>...</td>\n    </tr>\n    <tr>\n      <th>47156</th>\n      <td>2022-11-09 12:20:57</td>\n      <td>2022-11-09 12:42:58.097449</td>\n      <td>2022-11-09 12:20:57</td>\n    </tr>\n    <tr>\n      <th>47157</th>\n      <td>2022-11-09 12:20:29</td>\n      <td>2022-11-09 12:42:58.125909</td>\n      <td>2022-11-09 12:20:29</td>\n    </tr>\n    <tr>\n      <th>47158</th>\n      <td>2022-11-08 12:39:38</td>\n      <td>2022-11-08 12:45:30.583557</td>\n      <td>2022-11-08 12:39:38</td>\n    </tr>\n    <tr>\n      <th>47159</th>\n      <td>2022-11-08 00:37:59</td>\n      <td>2022-11-08 00:49:21.416032</td>\n      <td>2022-11-08 00:37:59</td>\n    </tr>\n    <tr>\n      <th>47160</th>\n      <td>2022-11-08 00:36:56</td>\n      <td>2022-11-08 00:49:22.063328</td>\n      <td>2022-11-08 00:36:56</td>\n    </tr>\n  </tbody>\n</table>\n<p>47161 rows × 3 columns</p>\n</div>"
     },
     "metadata": {},
     "execution_count": 11
    }
   ],
   "source": [
    "data_bodyport[['retrieved_at', 'created_at', 'creation_date']]\n"
   ]
  },
  {
   "cell_type": "code",
   "execution_count": 12,
   "metadata": {},
   "outputs": [
    {
     "output_type": "execute_result",
     "data": {
      "text/plain": "0         75.0\n1        104.0\n2         77.0\n3         82.0\n4         87.0\n         ...  \n47156     81.0\n47157    247.0\n47158     51.0\n47159    251.0\n47160     23.0\nName: backend_sway_area_mm2, Length: 47161, dtype: float64"
     },
     "metadata": {},
     "execution_count": 12
    }
   ],
   "source": [
    "data_bodyport['backend_sway_area_mm2']"
   ]
  },
  {
   "cell_type": "code",
   "execution_count": 13,
   "metadata": {},
   "outputs": [
    {
     "output_type": "execute_result",
     "data": {
      "text/plain": "0        30.4\n1        30.2\n2        30.6\n3        29.7\n4        29.3\n         ... \n47156    32.6\n47157    33.2\n47158    33.1\n47159    33.6\n47160    33.7\nName: bmi_kg_m2, Length: 47161, dtype: float64"
     },
     "metadata": {},
     "execution_count": 13
    }
   ],
   "source": [
    "data_bodyport['bmi_kg_m2']"
   ]
  },
  {
   "cell_type": "code",
   "execution_count": 14,
   "metadata": {},
   "outputs": [
    {
     "output_type": "execute_result",
     "data": {
      "text/plain": "0        85.71\n1        85.12\n2        86.39\n3        83.80\n4        82.76\n         ...  \n47156    75.22\n47157    76.74\n47158    76.52\n47159    77.69\n47160    77.82\nName: weight_kg, Length: 47161, dtype: float64"
     },
     "metadata": {},
     "execution_count": 14
    }
   ],
   "source": [
    "data_bodyport['weight_kg']"
   ]
  },
  {
   "cell_type": "code",
   "execution_count": 15,
   "metadata": {},
   "outputs": [
    {
     "output_type": "execute_result",
     "data": {
      "text/plain": "0        11.5\n1        14.7\n2        10.3\n3        13.6\n4        14.0\n         ... \n47156    15.2\n47157     NaN\n47158     8.8\n47159    22.8\n47160     NaN\nName: sway_velocity_mm_sec, Length: 47161, dtype: float64"
     },
     "metadata": {},
     "execution_count": 15
    }
   ],
   "source": [
    "data_bodyport['sway_velocity_mm_sec']"
   ]
  },
  {
   "cell_type": "code",
   "execution_count": 16,
   "metadata": {},
   "outputs": [
    {
     "output_type": "execute_result",
     "data": {
      "text/plain": "0        BP2049B128BN\n1        BP2049B128BN\n2        BP2049B128BN\n3        BP2049B128BN\n4        BP2049B128BN\n             ...     \n47156    BP2128B192CK\n47157    BP2128B192CK\n47158    BP2128B192CK\n47159    BP2128B192CK\n47160    BP2128B192CK\nName: device_id, Length: 47161, dtype: object"
     },
     "metadata": {},
     "execution_count": 16
    }
   ],
   "source": [
    "data_bodyport['device_id']"
   ]
  },
  {
   "cell_type": "code",
   "execution_count": 17,
   "metadata": {},
   "outputs": [
    {
     "output_type": "execute_result",
     "data": {
      "text/plain": "378"
     },
     "metadata": {},
     "execution_count": 17
    }
   ],
   "source": [
    "len(data_bodyport['device_id'].unique())"
   ]
  },
  {
   "cell_type": "code",
   "execution_count": 18,
   "metadata": {},
   "outputs": [
    {
     "output_type": "stream",
     "name": "stdout",
     "text": "['BP2049B128BN']\n['BP2052B181VM']\n['BP2051B178PL']\n['BP2052B189CR']\n['BP2052B141PM']\n['BP2052B182ZC']\n['BP2052B177LC']\n['BP2052B134ZV']\n['BP2052B150OQ']\n['BP2104B158PP']\n['BP2051B156AM']\n['BP2052B116KN']\n['BP2052B159FB']\n['BP2104B153TE']\n['BP2052B106GW']\n['BP2052B112AO']\n['BP2051B186KX']\n['BP2052B109JI']\n['BP2052B139EQ']\n['BP2051B166ZA']\n['BP2050B104BV']\n['BP2052B154GX']\n['BP2052B136MD']\n['BP2052B130SL']\n['BP2001B101OU']\n['BP2052B108MQ']\n['BP2127B196TI']\n['BP2128B110BK' 'BP2130B116QH']\n['BP2128B192GN']\n['BP2127B193TM']\n['BP2130B145II']\n['BP2129B169KS']\n['BP2121B127QU']\n['BP2128B183KC']\n['BP2120B153UC']\n['BP2129B139WV']\n['BP2127B149HP']\n['BP2134B179JS']\n['BP2049B117BY']\n['BP2052B171OQ']\n['BP2134B189GV']\n['BP2051B139SF']\n['BP2131B191QY']\n['BP2133B145LE']\n['BP2127B167JU' 'BP2131B136GW']\n['BP2131B121GO']\n['BP2131B173VB']\n['BP2127B111WN']\n['BP2131B105FQ']\n['BP2127B199XK']\n['BP2118B153QB']\n['BP2050B177FA']\n['BP2051B181IF']\n['BP2052B148ZJ']\n['BP2051B140UA']\n['BP2051B132PC']\n['BP2052B135TJ']\n['BP2050B156II']\n['BP2051B176AH']\n['BP2127B196NV']\n['BP2052B152BZ']\n['BP2127B194SM']\n['BP2051B166XP']\n['BP2125B119FM']\n['BP2052B135ZZ']\n['BP2051B188WN']\n['BP2052B117FZ']\n['BP2052B188DN']\n['BP2052B142FR']\n['BP2051B139AB']\n['BP2052B103PG']\n['BP2051B180NI']\n['BP2052B100PY']\n['BP2001B159BC']\n['BP2128B122XV']\n['BP2128B198CC']\n['BP2130B148GX']\n['BP2128B137LF']\n['BP2134B180UY']\n['BP2102B176YH']\n['BP2134B134DJ']\n['BP2129B157TM']\n['BP2132B177FJ']\n['BP2129B164JI']\n['BP2129B178FX']\n['BP2131B162MR']\n['BP2127B145VO']\n['BP2050B197YT']\n['BP2050B173AO']\n['BP2050B120UT']\n['BP2051B153OA']\n['BP2051B164BM']\n['BP2051B175BH']\n['BP2051B118JY']\n['BP2050B155NZ']\n['BP2050B158BD']\n['BP2050B124NT']\n['BP2127B131CL']\n['BP2052B162DP']\n['BP2129B114LR']\n['BP2050B101FK']\n['BP2051B132SP']\n['BP2052B179DX']\n['BP2111B130WJ']\n['BP2050B152VW']\n['BP2127B153VE']\n['BP2102B114CU']\n['BP2051B100HV']\n['BP2052B189DT']\n['BP2051B123UM']\n['BP2052B142JZ']\n['BP2052B124IX']\n['BP2052B125YS']\n['BP2051B194PV']\n['BP2052B116AU']\n['BP2052B188IQ']\n['BP2052B191SL']\n['BP2051B152FD']\n['BP2052B141RD']\n['BP2129B160JU']\n['BP2129B149RD']\n['BP2120B110LM']\n['BP2134B136SJ']\n['BP2127B165PK']\n['BP2134B159OW']\n['BP2134B123LM']\n['BP2134B114FX']\n['BP2133B168TA']\n['BP2103B144RJ']\n['BP2131B160EX']\n['BP2131B182DY']\n['BP2127B116MG']\n['BP2133B141PG']\n['BP2127B132GF']\n['BP2127B138AY']\n['BP2052B170CR']\n['BP2052B190SP']\n['BP2051B119CS']\n['BP2052B189GL']\n['BP2052B177WV']\n['BP2050B143TR']\n['BP2111B142DX']\n['BP2052B159WY']\n['BP2052B115QD']\n['BP2051B103RP']\n['BP2052B196XG']\n['BP2050B113BD']\n['BP2051B122OX']\n['BP2051B116RU']\n['BP2118B107UA']\n['BP2118B112RE']\n['BP2102B123HN']\n['BP2052B197BI']\n['BP2052B130WX']\n['BP2051B158AH']\n['BP2052B162HK']\n['BP2118B116PQ']\n['BP2051B128XE']\n['BP2052B128CE']\n['BP2051B147WG']\n['BP2052B145IX']\n['BP2052B113RR']\n['BP2052B192FM']\n['BP2001B139FC']\n['BP2134B110QV' 'BP2051B164QA']\n['BP2129B171JS']\n['BP2129B126CW']\n['BP2128B105QG']\n['BP2128B104QB']\n['BP2130B104RE']\n['BP2127B157RI']\n['BP2134B113PP']\n['BP2127B171FN']\n['BP2103B182CV']\n['BP2129B119PF']\n['BP2051B144IQ']\n['BP2052B130VI']\n['BP2133B171DD']\n['BP2132B190ZJ']\n['BP2133B157FU']\n['BP2131B194YG']\n['BP2127B154MZ']\n['BP2130B170LR']\n['BP2050B174QS']\n['BP2051B182DU' 'BP2127B109JX']\n['BP2051B148RE']\n['BP2049B110SU']\n['BP2052B116IB']\n['BP2127B140WI']\n['BP2102B114PZ']\n['BP2104B143KZ']\n['BP2118B151ID']\n['BP2125B120AB']\n['BP2052B174YR']\n['BP2052B109NF']\n['BP2050B141JD']\n['BP2052B136CB']\n['BP2052B126AG']\n['BP2051B109JH']\n['BP2052B119XF']\n['BP2051B180QX']\n['BP2052B187NW']\n['BP2049B188MM']\n['BP2052B166XP']\n['BP2052B150KG']\n['BP2052B102AZ']\n['BP2052B175RM']\n['BP2052B122LU']\n['BP2052B158SX']\n['BP2129B110MF']\n['BP2001B199LY']\n['BP2128B198TP' 'BP2131B181OG' 'BP2134B170HR' 'BP2134B178FT']\n['BP2129B140LI']\n['BP2128B190ER']\n['BP2130B109EE']\n['BP2130B139LX']\n['BP2130B173JB']\n['BP2130B185XM']\n['BP2128B114UU']\n['BP2129B104WV']\n['BP2128B177QS']\n['BP2134B126HI']\n['BP2127B100RA']\n['BP2134B176YA']\n['BP2134B167YI']\n['BP2134B191IH']\n['BP2130B159DI']\n['BP2134B143WZ']\n['BP2134B145FC']\n['BP2050B119EI']\n['BP2134B144EH']\n['BP2129B185HB']\n['BP2102B130AU']\n['BP2130B169AF' 'BP2052B134EP']\n['BP2133B140CZ']\n['BP2109B192IN']\n['BP2128B167JQ']\n['BP2120B139PG']\n['BP2131B103LR']\n['BP2133B173PI']\n['BP2130B150PD']\n['BP2133B105LZ']\n['BP2052B196MI']\n['BP2050B110YS']\n['BP2051B134GJ']\n['BP2052B178FL']\n['BP2051B167BL']\n['BP2052B119ZD']\n['BP2049B123TZ']\n['BP2050B130CO']\n['BP2051B135JM']\n['BP2052B112QD']\n['BP2052B155BK']\n['BP2050B168BB']\n['BP2103B198GX']\n['BP2124B101XH']\n['BP2051B142NQ']\n['BP2052B171VO']\n['BP2052B196IF']\n['BP2052B158YW']\n['BP2052B180NG']\n['BP2052B145KD']\n['BP2118B188QW']\n['BP2051B158TH']\n['BP2130B170LV']\n['BP2130B156VK']\n['BP2129B137TS']\n['BP2051B139BF']\n['BP2127B108YX']\n['BP2129B189ED']\n['BP2052B190LX']\n['BP2128B187FG']\n['BP2128B175GD']\n['BP2128B185KR']\n['BP2134B128WL']\n['BP2127B123LJ']\n['BP2134B134YS']\n['BP2128B135IT' 'BP2134B118DR']\n['BP2051B104FS']\n['BP2133B195HY']\n['BP2120B176EU']\n['BP2051B139QL']\n['BP2131B194GW']\n['BP2133B129AI']\n['BP2128B146XZ']\n['BP2129B133QF']\n['BP2050B153ZM']\n['BP2051B132NL']\n['BP2052B170EV']\n['BP2051B170GI']\n['BP2109B177DW']\n['BP2052B119JY']\n['BP2118B164AO']\n['BP2051B185HH']\n['BP2103B100WL']\n['BP2127B130IL']\n['BP2052B193BI']\n['BP2052B194HI']\n['BP2118B122WL']\n['BP2050B135MK']\n['BP2051B148JY']\n['BP2052B158LP']\n['BP2001B127MW']\n['BP2052B189AM']\n['BP2052B114YB']\n['BP2052B136UN']\n['BP2052B105BA']\n['BP2052B106OX']\n['BP2128B184MF']\n['BP2127B119TS']\n['BP2130B193NE']\n['BP2128B139AT']\n['BP2127B146WZ']\n['BP2129B171JU']\n['BP2128B133AW']\n['BP2130B151TO']\n['BP2134B123JU']\n['BP2127B146ZH']\n['BP2052B195NW']\n['BP2124B167YB']\n['BP2103B187LV']\n['BP2051B183IS']\n['BP2133B193WR']\n['BP2052B148QH']\n['BP2132B130UC']\n['BP2131B163LH']\n['BP2131B139VM']\n['BP2131B113BL']\n['BP2130B141MD']\n['BP2052B146WB']\n['BP2050B183ZY']\n['BP2052B106OG']\n['BP2050B132MQ']\n['BP2052B199JO']\n['BP2052B127VT']\n['BP2104B147KA']\n['BP2134B149WR' 'BP2052B181SA']\n['BP2051B155SD']\n['BP2127B173UO']\n['BP2051B156SR']\n['BP2052B144SV']\n['BP2050B111OV']\n['BP2052B111GX']\n['BP2130B129CE']\n['BP2130B116VY']\n['BP2129B101PG']\n['BP2128B197UU']\n['BP2130B130LY']\n['BP2134B136AR']\n['BP2134B163SU']\n['BP2052B165BG']\n['BP2134B188ZM']\n['BP2134B184EV']\n['BP2134B128UD']\n['BP2052B171LN']\n['BP2134B187DL']\n['BP2133B152HC']\n['BP2133B123UR']\n['BP2050B161SU']\n['BP2131B174NE']\n['BP2052B100BU']\n['BP2052B120XW']\n['BP2133B130MN']\n['BP2052B190PX']\n['BP2131B173HF']\n['BP2127B145AJ']\n['BP2118B105VJ']\n['BP2128B192CK']\n"
    }
   ],
   "source": [
    "for u in data_bodyport['user_id'].unique():\n",
    "    print(data_bodyport[data_bodyport['user_id'] == u]['device_id'].unique())"
   ]
  },
  {
   "cell_type": "code",
   "execution_count": 19,
   "metadata": {},
   "outputs": [
    {
     "output_type": "execute_result",
     "data": {
      "text/plain": "0        120.0\n1        148.0\n2        101.0\n3        106.0\n4        132.0\n         ...  \n47156     89.0\n47157      NaN\n47158     88.0\n47159    123.0\n47160      NaN\nName: heart_rate, Length: 47161, dtype: float64"
     },
     "metadata": {},
     "execution_count": 19
    }
   ],
   "source": [
    "data_bodyport['heart_rate']\n"
   ]
  },
  {
   "cell_type": "code",
   "execution_count": 20,
   "metadata": {},
   "outputs": [
    {
     "output_type": "execute_result",
     "data": {
      "text/plain": "0        464.00\n1        495.00\n2        445.00\n3        493.00\n4        478.00\n          ...  \n47156    483.44\n47157    485.08\n47158    481.25\n47159    432.67\n47160    446.57\nName: impedance_mag_1_ohms, Length: 47161, dtype: float64"
     },
     "metadata": {},
     "execution_count": 20
    }
   ],
   "source": [
    "data_bodyport['impedance_mag_1_ohms']"
   ]
  },
  {
   "cell_type": "code",
   "execution_count": 21,
   "metadata": {},
   "outputs": [
    {
     "output_type": "execute_result",
     "data": {
      "text/plain": "                 id       user_id   identity_id  backend_sway_area_mm2  \\\ncount  4.716100e+04  47161.000000  47161.000000           46704.000000   \nmean   6.561250e+06   1276.235534   3738.728314             107.807383   \nstd    3.980540e+06    784.199258   2627.718317              70.156626   \nmin    5.568200e+04     28.000000    134.000000               2.000000   \n25%    3.636579e+06    410.000000    913.000000              65.000000   \n50%    6.234313e+06   1436.000000   3649.000000              89.000000   \n75%    9.742051e+06   2015.000000   6652.000000             126.000000   \nmax    1.403190e+07   2664.000000   8520.000000             688.000000   \n\n          bmi_kg_m2      end_code    heart_rate  impedance_mag_1_ohms  \\\ncount  47161.000000  47161.000000  41887.000000          45176.000000   \nmean      27.574180      0.331651     95.083964            537.208098   \nstd        5.742565      0.926379     15.712498             87.326525   \nmin        8.400000      0.000000     45.000000            204.000000   \n25%       23.500000      0.000000     84.000000            482.000000   \n50%       26.500000      0.000000     94.000000            537.000000   \n75%       30.700000      0.000000    105.000000            596.000000   \nmax       51.800000      4.000000    158.000000            845.000000   \n\n       impedance_phase_1_degs  impedance_ratio  peripheral_fluid  \\\ncount            45175.000000     45336.000000      46136.000000   \nmean                -5.613877         4.450436          1.876560   \nstd                  0.843048        46.378279          0.441957   \nmin                -13.600000         0.920000          0.000000   \n25%                 -6.100000         1.130000          1.660000   \n50%                 -5.600000         1.150000          1.850000   \n75%                 -5.100000         1.170000          2.070000   \nmax                 -0.500000       655.350000          4.900000   \n\n       run_time_sec  sway_velocity_mm_sec  total_body_water_percent  \\\ncount  47161.000000          42588.000000              45168.000000   \nmean      18.925313             15.333979                 47.315690   \nstd        5.758318              8.258744                  4.272483   \nmin        3.900000              1.700000                 33.800000   \n25%       16.400000             10.000000                 44.400000   \n50%       18.600000             13.400000                 47.200000   \n75%       21.500000             18.200000                 49.900000   \nmax       58.500000            144.200000                 84.900000   \n\n          weight_kg  \ncount  47161.000000  \nmean      75.594217  \nstd       17.035455  \nmin       23.630000  \n25%       63.060000  \n50%       72.140000  \n75%       85.040000  \nmax      154.930000  ",
      "text/html": "<div>\n<style scoped>\n    .dataframe tbody tr th:only-of-type {\n        vertical-align: middle;\n    }\n\n    .dataframe tbody tr th {\n        vertical-align: top;\n    }\n\n    .dataframe thead th {\n        text-align: right;\n    }\n</style>\n<table border=\"1\" class=\"dataframe\">\n  <thead>\n    <tr style=\"text-align: right;\">\n      <th></th>\n      <th>id</th>\n      <th>user_id</th>\n      <th>identity_id</th>\n      <th>backend_sway_area_mm2</th>\n      <th>bmi_kg_m2</th>\n      <th>end_code</th>\n      <th>heart_rate</th>\n      <th>impedance_mag_1_ohms</th>\n      <th>impedance_phase_1_degs</th>\n      <th>impedance_ratio</th>\n      <th>peripheral_fluid</th>\n      <th>run_time_sec</th>\n      <th>sway_velocity_mm_sec</th>\n      <th>total_body_water_percent</th>\n      <th>weight_kg</th>\n    </tr>\n  </thead>\n  <tbody>\n    <tr>\n      <th>count</th>\n      <td>4.716100e+04</td>\n      <td>47161.000000</td>\n      <td>47161.000000</td>\n      <td>46704.000000</td>\n      <td>47161.000000</td>\n      <td>47161.000000</td>\n      <td>41887.000000</td>\n      <td>45176.000000</td>\n      <td>45175.000000</td>\n      <td>45336.000000</td>\n      <td>46136.000000</td>\n      <td>47161.000000</td>\n      <td>42588.000000</td>\n      <td>45168.000000</td>\n      <td>47161.000000</td>\n    </tr>\n    <tr>\n      <th>mean</th>\n      <td>6.561250e+06</td>\n      <td>1276.235534</td>\n      <td>3738.728314</td>\n      <td>107.807383</td>\n      <td>27.574180</td>\n      <td>0.331651</td>\n      <td>95.083964</td>\n      <td>537.208098</td>\n      <td>-5.613877</td>\n      <td>4.450436</td>\n      <td>1.876560</td>\n      <td>18.925313</td>\n      <td>15.333979</td>\n      <td>47.315690</td>\n      <td>75.594217</td>\n    </tr>\n    <tr>\n      <th>std</th>\n      <td>3.980540e+06</td>\n      <td>784.199258</td>\n      <td>2627.718317</td>\n      <td>70.156626</td>\n      <td>5.742565</td>\n      <td>0.926379</td>\n      <td>15.712498</td>\n      <td>87.326525</td>\n      <td>0.843048</td>\n      <td>46.378279</td>\n      <td>0.441957</td>\n      <td>5.758318</td>\n      <td>8.258744</td>\n      <td>4.272483</td>\n      <td>17.035455</td>\n    </tr>\n    <tr>\n      <th>min</th>\n      <td>5.568200e+04</td>\n      <td>28.000000</td>\n      <td>134.000000</td>\n      <td>2.000000</td>\n      <td>8.400000</td>\n      <td>0.000000</td>\n      <td>45.000000</td>\n      <td>204.000000</td>\n      <td>-13.600000</td>\n      <td>0.920000</td>\n      <td>0.000000</td>\n      <td>3.900000</td>\n      <td>1.700000</td>\n      <td>33.800000</td>\n      <td>23.630000</td>\n    </tr>\n    <tr>\n      <th>25%</th>\n      <td>3.636579e+06</td>\n      <td>410.000000</td>\n      <td>913.000000</td>\n      <td>65.000000</td>\n      <td>23.500000</td>\n      <td>0.000000</td>\n      <td>84.000000</td>\n      <td>482.000000</td>\n      <td>-6.100000</td>\n      <td>1.130000</td>\n      <td>1.660000</td>\n      <td>16.400000</td>\n      <td>10.000000</td>\n      <td>44.400000</td>\n      <td>63.060000</td>\n    </tr>\n    <tr>\n      <th>50%</th>\n      <td>6.234313e+06</td>\n      <td>1436.000000</td>\n      <td>3649.000000</td>\n      <td>89.000000</td>\n      <td>26.500000</td>\n      <td>0.000000</td>\n      <td>94.000000</td>\n      <td>537.000000</td>\n      <td>-5.600000</td>\n      <td>1.150000</td>\n      <td>1.850000</td>\n      <td>18.600000</td>\n      <td>13.400000</td>\n      <td>47.200000</td>\n      <td>72.140000</td>\n    </tr>\n    <tr>\n      <th>75%</th>\n      <td>9.742051e+06</td>\n      <td>2015.000000</td>\n      <td>6652.000000</td>\n      <td>126.000000</td>\n      <td>30.700000</td>\n      <td>0.000000</td>\n      <td>105.000000</td>\n      <td>596.000000</td>\n      <td>-5.100000</td>\n      <td>1.170000</td>\n      <td>2.070000</td>\n      <td>21.500000</td>\n      <td>18.200000</td>\n      <td>49.900000</td>\n      <td>85.040000</td>\n    </tr>\n    <tr>\n      <th>max</th>\n      <td>1.403190e+07</td>\n      <td>2664.000000</td>\n      <td>8520.000000</td>\n      <td>688.000000</td>\n      <td>51.800000</td>\n      <td>4.000000</td>\n      <td>158.000000</td>\n      <td>845.000000</td>\n      <td>-0.500000</td>\n      <td>655.350000</td>\n      <td>4.900000</td>\n      <td>58.500000</td>\n      <td>144.200000</td>\n      <td>84.900000</td>\n      <td>154.930000</td>\n    </tr>\n  </tbody>\n</table>\n</div>"
     },
     "metadata": {},
     "execution_count": 21
    }
   ],
   "source": [
    "data_bodyport.describe()"
   ]
  },
  {
   "cell_type": "code",
   "execution_count": 22,
   "metadata": {},
   "outputs": [
    {
     "output_type": "execute_result",
     "data": {
      "text/plain": "       impedance_mag_1_ohms  impedance_phase_1_degs  impedance_ratio  \\\n0                    464.00                    -5.1             1.11   \n1                    495.00                    -5.2             1.11   \n2                    445.00                    -5.0             1.10   \n3                    493.00                    -5.9             1.13   \n4                    478.00                    -5.6             1.12   \n...                     ...                     ...              ...   \n47156                483.44                    -7.3             1.22   \n47157                485.08                    -7.2             1.21   \n47158                481.25                    -7.3             1.21   \n47159                432.67                    -8.1             1.22   \n47160                446.57                    -7.4             1.19   \n\n       total_body_water_percent  peripheral_fluid  \n0                          47.6              2.16  \n1                          46.2              2.02  \n2                          48.5              2.25  \n3                          46.7              2.03  \n4                          47.9              2.09  \n...                         ...               ...  \n47156                      44.1              2.07  \n47157                      43.5              2.06  \n47158                      43.8              2.08  \n47159                      46.0              2.31  \n47160                      45.1              2.24  \n\n[47161 rows x 5 columns]",
      "text/html": "<div>\n<style scoped>\n    .dataframe tbody tr th:only-of-type {\n        vertical-align: middle;\n    }\n\n    .dataframe tbody tr th {\n        vertical-align: top;\n    }\n\n    .dataframe thead th {\n        text-align: right;\n    }\n</style>\n<table border=\"1\" class=\"dataframe\">\n  <thead>\n    <tr style=\"text-align: right;\">\n      <th></th>\n      <th>impedance_mag_1_ohms</th>\n      <th>impedance_phase_1_degs</th>\n      <th>impedance_ratio</th>\n      <th>total_body_water_percent</th>\n      <th>peripheral_fluid</th>\n    </tr>\n  </thead>\n  <tbody>\n    <tr>\n      <th>0</th>\n      <td>464.00</td>\n      <td>-5.1</td>\n      <td>1.11</td>\n      <td>47.6</td>\n      <td>2.16</td>\n    </tr>\n    <tr>\n      <th>1</th>\n      <td>495.00</td>\n      <td>-5.2</td>\n      <td>1.11</td>\n      <td>46.2</td>\n      <td>2.02</td>\n    </tr>\n    <tr>\n      <th>2</th>\n      <td>445.00</td>\n      <td>-5.0</td>\n      <td>1.10</td>\n      <td>48.5</td>\n      <td>2.25</td>\n    </tr>\n    <tr>\n      <th>3</th>\n      <td>493.00</td>\n      <td>-5.9</td>\n      <td>1.13</td>\n      <td>46.7</td>\n      <td>2.03</td>\n    </tr>\n    <tr>\n      <th>4</th>\n      <td>478.00</td>\n      <td>-5.6</td>\n      <td>1.12</td>\n      <td>47.9</td>\n      <td>2.09</td>\n    </tr>\n    <tr>\n      <th>...</th>\n      <td>...</td>\n      <td>...</td>\n      <td>...</td>\n      <td>...</td>\n      <td>...</td>\n    </tr>\n    <tr>\n      <th>47156</th>\n      <td>483.44</td>\n      <td>-7.3</td>\n      <td>1.22</td>\n      <td>44.1</td>\n      <td>2.07</td>\n    </tr>\n    <tr>\n      <th>47157</th>\n      <td>485.08</td>\n      <td>-7.2</td>\n      <td>1.21</td>\n      <td>43.5</td>\n      <td>2.06</td>\n    </tr>\n    <tr>\n      <th>47158</th>\n      <td>481.25</td>\n      <td>-7.3</td>\n      <td>1.21</td>\n      <td>43.8</td>\n      <td>2.08</td>\n    </tr>\n    <tr>\n      <th>47159</th>\n      <td>432.67</td>\n      <td>-8.1</td>\n      <td>1.22</td>\n      <td>46.0</td>\n      <td>2.31</td>\n    </tr>\n    <tr>\n      <th>47160</th>\n      <td>446.57</td>\n      <td>-7.4</td>\n      <td>1.19</td>\n      <td>45.1</td>\n      <td>2.24</td>\n    </tr>\n  </tbody>\n</table>\n<p>47161 rows × 5 columns</p>\n</div>"
     },
     "metadata": {},
     "execution_count": 22
    }
   ],
   "source": [
    "data_bodyport[['impedance_mag_1_ohms', 'impedance_phase_1_degs', 'impedance_ratio', 'total_body_water_percent', 'peripheral_fluid']]"
   ]
  },
  {
   "cell_type": "code",
   "execution_count": 23,
   "metadata": {},
   "outputs": [
    {
     "output_type": "execute_result",
     "data": {
      "text/plain": "2.1551724137931036"
     },
     "metadata": {},
     "execution_count": 23
    }
   ],
   "source": [
    "1000/464"
   ]
  },
  {
   "cell_type": "code",
   "execution_count": 24,
   "metadata": {},
   "outputs": [],
   "source": [
    "addendum = data_load(data_keys = {'check_in_2_addendum'}, wave=6)['check_in_2_addendum']"
   ]
  },
  {
   "cell_type": "code",
   "execution_count": 25,
   "metadata": {},
   "outputs": [
    {
     "output_type": "execute_result",
     "data": {
      "text/plain": "Index(['record_id', 'redcap_event_name', 'thirdparty___0', 'thirdparty___1',\n       'thirdparty___2', 'apps_guide', 'thirdparty_notes', 'rescuetime',\n       'rescuetime_start', 'rescuetime_end', 'rescuetime_data',\n       'rescuetime_notes', 'twitter', 'twitter_start', 'twitter_end',\n       'twitter_data', 'twitter_notes', 'check_in_2_addendum_complete'],\n      dtype='object')"
     },
     "metadata": {},
     "execution_count": 25
    }
   ],
   "source": [
    "addendum.columns"
   ]
  },
  {
   "cell_type": "code",
   "execution_count": 26,
   "metadata": {},
   "outputs": [
    {
     "output_type": "execute_result",
     "data": {
      "text/plain": "record_id                         0\nredcap_event_name                 0\nthirdparty___0                    0\nthirdparty___1                    0\nthirdparty___2                    0\napps_guide                      351\nthirdparty_notes                377\nrescuetime                      391\nrescuetime_start                459\nrescuetime_end                  472\nrescuetime_data                 472\nrescuetime_notes                466\ntwitter                         471\ntwitter_start                   473\ntwitter_end                     473\ntwitter_data                    473\ntwitter_notes                   473\ncheck_in_2_addendum_complete      0\ndtype: int64"
     },
     "metadata": {},
     "execution_count": 26
    }
   ],
   "source": [
    "np.sum(addendum.isna())"
   ]
  },
  {
   "cell_type": "code",
   "execution_count": 27,
   "metadata": {},
   "outputs": [
    {
     "output_type": "stream",
     "name": "stdout",
     "text": "['Optinal apps guide already sent during enrollment- not discussed. '\n 'Not interested in sharing phone information'\n 'Optional apps info provided during onboarding- not discussed'\n 'family uses her phone often so she does not want that to influence her data.'\n 'Provided 3rd party app instructions during enrolled. '\n 'work phone so she wants to keep additional apps and tracking to a minimum'\n 'Already received 3rd party app instructions during enrollment period'\n nan\n 'Participant provided 3rd party app directions with initial participant guide during enrollment'\n 'Sent during onboarding process'\n 'Pt was provided with third-party apps guide during enrollment; enrolled prior to 3/21/21'\n 'Does have Twitter or Instagram and not interested in Rescuetime'\n 'Participant was interested but wanted a bit more information. Emailed Optional Apps Guide and will circle back on next check-in.'\n \"Deleted all social media from phone and doesn't want to have location turned on for rescuetime\"\n \"The participant tried to add the app but had difficulty connecting.  She will try again and if it doesn't work, send me screenshots of the error\"\n 'Optional apps not introduced pending BUMP-C app release'\n 'awaiting BUMP-C app transfer, not introduced'\n 'No introduced as participant was in BUMP-C cohort and awaiting transfer to new app'\n 'Not introduced to participant at discretion of EE as she expressed feeling overwhelmed by required study activities '\n 'She said she was interested and asked to be emailed the guide.'\n 'Participant was interested in possibly using RescueTime but asked for me to send her the guide first so she can look into it more before deciding. '\n \"She already downloaded RescueTime prior to this call and said a participant guide wasn't needed.\"\n 'Participant was interested but wanted more information. Emailed Optional Apps Guide and will circle back on next check-in.'\n 'Participant expressed interest in RescueTime. Optional Apps Participant Guide emailed to pt.'\n '11/1: Pt was having a particularly difficult time due to stressors regarding her TTC journey. Did not bring up Third-Party Apps on this call. Will circle back at next check-in.\\r\\n\\r\\n12/17: Pt was not interested in using any of the optional, third-party apps.'\n 'Pt said she would look into it and will decide if she wants to move forward with downloading the app. She was interested in learning more so an email was sent with more information. \\r\\n\\r\\nPt was not interested in using after email was sent. '\n 'Participant is not interested in downloading external apps. '\n 'Twitter - Does not use twitter.\\r\\nRescueTime - Would prefer not to share that data. '\n 'Pt is not interested in downloading another app. '\n 'Twitter - Participant does not use twitter.\\r\\nRescueTime - participant feels like her screen time from an app will not accurately portray her \"optional\" use of her phone. She is on her phone for work and also watches TV on her phone as well. '\n 'Pt does not use twitter and is not interested in external apps.'\n 'Participant does not use twitter and participant only uses her phone for work related reasons. '\n \"Participant notes she doesn't use twitter and only uses her phone for work purposes. \"\n 'Participant does not use twitter and is not interested in downloading an external app. '\n 'Participant does not use twitter and she uses her phone mostly for work so prefers not to have an additional app on her phone. '\n 'Participant did not specify reason but says she is not interested'\n \"She has an iPhone 10 and it's barely hanging on. \"\n 'Concern over how app will impact battery life of phone. '\n 'Skipped at discretion of EE as participant has already expressed difficult keeping up with general study tasks. Will re-visit if adherence increases'\n \"She's on the phone all the time at work so doesn't want to add something that could drain her battery. Not on Twitter.\"\n 'Not using twitter and not interested in tracking her screen time.'\n \"Uses her phone for work and doesn't want to add another app.\"\n 'Participant does not use Twitter and is not interested in downloading an additional app at this time. '\n 'Participant is not interested in downloading external apps at this time. '\n \"No Twitter account. She uses her phone for work and doesn't want the battery drain.\"\n \"Recently had to get a new phone because of battery issues and she doesn't want to be worried about battery drain.\"\n \"Event planner and needs her phone to communicate for her job and can't have issues with her battery.\"\n \"Already having battery issues and doesn't want the battery to drain more. She doesn't use Twitter.\"\n \"Didn't want to download RescueTime due to the battery drain issue. Doesn't have Twitter.\"\n \"Doesn't use Twitter. Not interested in RescueTime because she uses her phone to catch her bus at the end of the day and doesn't want to worry about battery drain.\"\n \"Doesn't use Twitter and is concerned about battery drain.\"\n 'Does not think screentime data is accurate'\n 'Participant does not want to participate in RescueTime due to needing phone battery for contacting her kids while they are at school and work. '\n 'Her anxiety worsens when she gets notices about her screen time usage.'\n \"Doesn't have Twitter and not interested in the app.\"\n \"Doesn't use Twitter.\"\n \"Doesn't have twitter and uses her phone for work so doesn't want the battery drain.\"\n \"Doesn't want to know how much time she spends on her phone. She is not a twitter user.\"\n \"Uses her phone for work and doesn't want battery drain. Also doesn't want to be aware of how much time she spend on her phone. \"\n 'Not discussed at discretion of EE-- pt has yet to connect Oura ring and has not been attending to required study tasks. Will introduce at later point if overall adherence improves. '\n \"Doesn't have Twitter and not interested in RescueTime.\"\n \"Her phone battery is on the fritz and doesn't want the battery drain of the RescueTime app. She doesn't use twitter.\"]\n"
    }
   ],
   "source": [
    "print(addendum['thirdparty_notes'].unique())"
   ]
  },
  {
   "cell_type": "code",
   "execution_count": 28,
   "metadata": {},
   "outputs": [],
   "source": [
    "birthing_data_cohort_2_only = data_load(data_keys = {'birthing_data_cohort_2_only'}, wave=6)['birthing_data_cohort_2_only']"
   ]
  },
  {
   "cell_type": "code",
   "execution_count": 29,
   "metadata": {},
   "outputs": [
    {
     "output_type": "execute_result",
     "data": {
      "text/plain": "     user_id  record_id        redcap_event_name        date  birth_number  \\\n0         28          4  postnatal_checkin_arm_1  2021-09-23           1.0   \n1         29          5  postnatal_checkin_arm_1  2021-09-21           1.0   \n2         30          6  postnatal_checkin_arm_1  2021-08-26           1.0   \n3         35         11  postnatal_checkin_arm_1  2021-10-21           1.0   \n4       1018         11  postnatal_checkin_arm_1  2021-10-21           1.0   \n..       ...        ...                      ...         ...           ...   \n329     2176        891  postnatal_checkin_arm_1         NaN           1.0   \n330     2178        892  postnatal_checkin_arm_1  2023-01-09           1.0   \n331     2171        893  postnatal_checkin_arm_1  2023-11-30           1.0   \n332     2212        899  postnatal_checkin_arm_1         NaN           1.0   \n333     2267        992  postnatal_checkin_arm_1  2023-01-17           1.0   \n\n     birth_date  birth_scheduled  \\\n0    2021-08-16              3.0   \n1    2021-08-28              2.0   \n2    2021-08-11              1.0   \n3    2021-09-22              3.0   \n4    2021-09-22              3.0   \n..          ...              ...   \n329  2022-12-16              3.0   \n330  2022-11-26              1.0   \n331  2022-11-24              2.0   \n332  2023-01-02              1.0   \n333  2023-01-08              2.0   \n\n                                birth_scheduled_unsure      birth_gestage  \\\n0    Participant initially scheduled c-section for ...   37 weeks, 6 days   \n1                                                  NaN           38 weeks   \n2                                                  NaN   39 Weeks, 3 Days   \n3    scheduled?-- Elective induction at 41 weeks ge...   40 weeks, 6 days   \n4    scheduled?-- Elective induction at 41 weeks ge...   40 weeks, 6 days   \n..                                                 ...                ...   \n329  manually broke the water but did not take any ...           39 weeks   \n330                                                NaN                 40   \n331                                                NaN   40 weeks, 6 days   \n332                                                NaN   40 weeks, 0 days   \n333                                                NaN  37 weeks, 3 days    \n\n     birth_mode  ...  hem_meds birth_matmorbid  \\\n0           1.0  ...       NaN             1.0   \n1           2.0  ...       NaN             0.0   \n2           1.0  ...       NaN             NaN   \n3           1.0  ...       NaN             1.0   \n4           1.0  ...       NaN             1.0   \n..          ...  ...       ...             ...   \n329         2.0  ...       NaN             0.0   \n330         2.0  ...       NaN             0.0   \n331         2.0  ...       NaN             0.0   \n332         2.0  ...       NaN             0.0   \n333         2.0  ...       NaN             0.0   \n\n                                        birth_describe  birth_stay  \\\n0    Participant had c-section 2 days before schedu...           3   \n1                                                  NaN           3   \n2                                                  NaN           2   \n3    - Participant initially arrived at L&D on 9/20...           3   \n4    - Participant initially arrived at L&D on 9/20...           3   \n..                                                 ...         ...   \n329                                                NaN           2   \n330                                                NaN           2   \n331                                                NaN           4   \n332                                                NaN           2   \n333                                                NaN           2   \n\n     birth_stay_baby  birth_stay_baby_yes birth_feeding birth_matleave  \\\n0                0.0                  NaN           2.0            0.0   \n1                0.0                  NaN           1.0            0.0   \n2                0.0                  NaN           1.0            0.0   \n3                0.0                  NaN           1.0            1.0   \n4                0.0                  NaN           1.0            1.0   \n..               ...                  ...           ...            ...   \n329              0.0                  NaN           1.0            1.0   \n330              0.0                  NaN           2.0            1.0   \n331              0.0                  NaN           1.0            1.0   \n332              0.0                  NaN           2.0            1.0   \n333              0.0                  NaN           1.0            1.0   \n\n    birth_mat_leave_length  birthing_data_cohort_2_only_complete  \n0                      NaN                                     2  \n1                      NaN                                     2  \n2                      NaN                                     2  \n3                       12                                     2  \n4                       12                                     2  \n..                     ...                                   ...  \n329                     18                                     1  \n330                     13                                     2  \n331                     24                                     2  \n332                      9                                     2  \n333                     18                                     2  \n\n[334 rows x 42 columns]",
      "text/html": "<div>\n<style scoped>\n    .dataframe tbody tr th:only-of-type {\n        vertical-align: middle;\n    }\n\n    .dataframe tbody tr th {\n        vertical-align: top;\n    }\n\n    .dataframe thead th {\n        text-align: right;\n    }\n</style>\n<table border=\"1\" class=\"dataframe\">\n  <thead>\n    <tr style=\"text-align: right;\">\n      <th></th>\n      <th>user_id</th>\n      <th>record_id</th>\n      <th>redcap_event_name</th>\n      <th>date</th>\n      <th>birth_number</th>\n      <th>birth_date</th>\n      <th>birth_scheduled</th>\n      <th>birth_scheduled_unsure</th>\n      <th>birth_gestage</th>\n      <th>birth_mode</th>\n      <th>...</th>\n      <th>hem_meds</th>\n      <th>birth_matmorbid</th>\n      <th>birth_describe</th>\n      <th>birth_stay</th>\n      <th>birth_stay_baby</th>\n      <th>birth_stay_baby_yes</th>\n      <th>birth_feeding</th>\n      <th>birth_matleave</th>\n      <th>birth_mat_leave_length</th>\n      <th>birthing_data_cohort_2_only_complete</th>\n    </tr>\n  </thead>\n  <tbody>\n    <tr>\n      <th>0</th>\n      <td>28</td>\n      <td>4</td>\n      <td>postnatal_checkin_arm_1</td>\n      <td>2021-09-23</td>\n      <td>1.0</td>\n      <td>2021-08-16</td>\n      <td>3.0</td>\n      <td>Participant initially scheduled c-section for ...</td>\n      <td>37 weeks, 6 days</td>\n      <td>1.0</td>\n      <td>...</td>\n      <td>NaN</td>\n      <td>1.0</td>\n      <td>Participant had c-section 2 days before schedu...</td>\n      <td>3</td>\n      <td>0.0</td>\n      <td>NaN</td>\n      <td>2.0</td>\n      <td>0.0</td>\n      <td>NaN</td>\n      <td>2</td>\n    </tr>\n    <tr>\n      <th>1</th>\n      <td>29</td>\n      <td>5</td>\n      <td>postnatal_checkin_arm_1</td>\n      <td>2021-09-21</td>\n      <td>1.0</td>\n      <td>2021-08-28</td>\n      <td>2.0</td>\n      <td>NaN</td>\n      <td>38 weeks</td>\n      <td>2.0</td>\n      <td>...</td>\n      <td>NaN</td>\n      <td>0.0</td>\n      <td>NaN</td>\n      <td>3</td>\n      <td>0.0</td>\n      <td>NaN</td>\n      <td>1.0</td>\n      <td>0.0</td>\n      <td>NaN</td>\n      <td>2</td>\n    </tr>\n    <tr>\n      <th>2</th>\n      <td>30</td>\n      <td>6</td>\n      <td>postnatal_checkin_arm_1</td>\n      <td>2021-08-26</td>\n      <td>1.0</td>\n      <td>2021-08-11</td>\n      <td>1.0</td>\n      <td>NaN</td>\n      <td>39 Weeks, 3 Days</td>\n      <td>1.0</td>\n      <td>...</td>\n      <td>NaN</td>\n      <td>NaN</td>\n      <td>NaN</td>\n      <td>2</td>\n      <td>0.0</td>\n      <td>NaN</td>\n      <td>1.0</td>\n      <td>0.0</td>\n      <td>NaN</td>\n      <td>2</td>\n    </tr>\n    <tr>\n      <th>3</th>\n      <td>35</td>\n      <td>11</td>\n      <td>postnatal_checkin_arm_1</td>\n      <td>2021-10-21</td>\n      <td>1.0</td>\n      <td>2021-09-22</td>\n      <td>3.0</td>\n      <td>scheduled?-- Elective induction at 41 weeks ge...</td>\n      <td>40 weeks, 6 days</td>\n      <td>1.0</td>\n      <td>...</td>\n      <td>NaN</td>\n      <td>1.0</td>\n      <td>- Participant initially arrived at L&amp;D on 9/20...</td>\n      <td>3</td>\n      <td>0.0</td>\n      <td>NaN</td>\n      <td>1.0</td>\n      <td>1.0</td>\n      <td>12</td>\n      <td>2</td>\n    </tr>\n    <tr>\n      <th>4</th>\n      <td>1018</td>\n      <td>11</td>\n      <td>postnatal_checkin_arm_1</td>\n      <td>2021-10-21</td>\n      <td>1.0</td>\n      <td>2021-09-22</td>\n      <td>3.0</td>\n      <td>scheduled?-- Elective induction at 41 weeks ge...</td>\n      <td>40 weeks, 6 days</td>\n      <td>1.0</td>\n      <td>...</td>\n      <td>NaN</td>\n      <td>1.0</td>\n      <td>- Participant initially arrived at L&amp;D on 9/20...</td>\n      <td>3</td>\n      <td>0.0</td>\n      <td>NaN</td>\n      <td>1.0</td>\n      <td>1.0</td>\n      <td>12</td>\n      <td>2</td>\n    </tr>\n    <tr>\n      <th>...</th>\n      <td>...</td>\n      <td>...</td>\n      <td>...</td>\n      <td>...</td>\n      <td>...</td>\n      <td>...</td>\n      <td>...</td>\n      <td>...</td>\n      <td>...</td>\n      <td>...</td>\n      <td>...</td>\n      <td>...</td>\n      <td>...</td>\n      <td>...</td>\n      <td>...</td>\n      <td>...</td>\n      <td>...</td>\n      <td>...</td>\n      <td>...</td>\n      <td>...</td>\n      <td>...</td>\n    </tr>\n    <tr>\n      <th>329</th>\n      <td>2176</td>\n      <td>891</td>\n      <td>postnatal_checkin_arm_1</td>\n      <td>NaN</td>\n      <td>1.0</td>\n      <td>2022-12-16</td>\n      <td>3.0</td>\n      <td>manually broke the water but did not take any ...</td>\n      <td>39 weeks</td>\n      <td>2.0</td>\n      <td>...</td>\n      <td>NaN</td>\n      <td>0.0</td>\n      <td>NaN</td>\n      <td>2</td>\n      <td>0.0</td>\n      <td>NaN</td>\n      <td>1.0</td>\n      <td>1.0</td>\n      <td>18</td>\n      <td>1</td>\n    </tr>\n    <tr>\n      <th>330</th>\n      <td>2178</td>\n      <td>892</td>\n      <td>postnatal_checkin_arm_1</td>\n      <td>2023-01-09</td>\n      <td>1.0</td>\n      <td>2022-11-26</td>\n      <td>1.0</td>\n      <td>NaN</td>\n      <td>40</td>\n      <td>2.0</td>\n      <td>...</td>\n      <td>NaN</td>\n      <td>0.0</td>\n      <td>NaN</td>\n      <td>2</td>\n      <td>0.0</td>\n      <td>NaN</td>\n      <td>2.0</td>\n      <td>1.0</td>\n      <td>13</td>\n      <td>2</td>\n    </tr>\n    <tr>\n      <th>331</th>\n      <td>2171</td>\n      <td>893</td>\n      <td>postnatal_checkin_arm_1</td>\n      <td>2023-11-30</td>\n      <td>1.0</td>\n      <td>2022-11-24</td>\n      <td>2.0</td>\n      <td>NaN</td>\n      <td>40 weeks, 6 days</td>\n      <td>2.0</td>\n      <td>...</td>\n      <td>NaN</td>\n      <td>0.0</td>\n      <td>NaN</td>\n      <td>4</td>\n      <td>0.0</td>\n      <td>NaN</td>\n      <td>1.0</td>\n      <td>1.0</td>\n      <td>24</td>\n      <td>2</td>\n    </tr>\n    <tr>\n      <th>332</th>\n      <td>2212</td>\n      <td>899</td>\n      <td>postnatal_checkin_arm_1</td>\n      <td>NaN</td>\n      <td>1.0</td>\n      <td>2023-01-02</td>\n      <td>1.0</td>\n      <td>NaN</td>\n      <td>40 weeks, 0 days</td>\n      <td>2.0</td>\n      <td>...</td>\n      <td>NaN</td>\n      <td>0.0</td>\n      <td>NaN</td>\n      <td>2</td>\n      <td>0.0</td>\n      <td>NaN</td>\n      <td>2.0</td>\n      <td>1.0</td>\n      <td>9</td>\n      <td>2</td>\n    </tr>\n    <tr>\n      <th>333</th>\n      <td>2267</td>\n      <td>992</td>\n      <td>postnatal_checkin_arm_1</td>\n      <td>2023-01-17</td>\n      <td>1.0</td>\n      <td>2023-01-08</td>\n      <td>2.0</td>\n      <td>NaN</td>\n      <td>37 weeks, 3 days</td>\n      <td>2.0</td>\n      <td>...</td>\n      <td>NaN</td>\n      <td>0.0</td>\n      <td>NaN</td>\n      <td>2</td>\n      <td>0.0</td>\n      <td>NaN</td>\n      <td>1.0</td>\n      <td>1.0</td>\n      <td>18</td>\n      <td>2</td>\n    </tr>\n  </tbody>\n</table>\n<p>334 rows × 42 columns</p>\n</div>"
     },
     "metadata": {},
     "execution_count": 29
    }
   ],
   "source": [
    "birthing_data_cohort_2_only"
   ]
  },
  {
   "cell_type": "code",
   "execution_count": 30,
   "metadata": {},
   "outputs": [
    {
     "output_type": "execute_result",
     "data": {
      "text/plain": "2                                                                                                                  145\n3                                                                                                                   53\n1                                                                                                                   31\n4                                                                                                                   19\n1.5                                                                                                                  6\n5                                                                                                                    4\n3                                                                                                                    3\n6                                                                                                                    3\n2.5                                                                                                                  3\n0                                                                                                                    3\n3.5                                                                                                                  2\n3 days                                                                                                               2\n5 days                                                                                                               2\n2 days                                                                                                               2\n1 day                                                                                                                2\n2 nights                                                                                                             1\n2 hours                                                                                                              1\nNo, she discharged the day of delivery                                                                               1\nShe stayed in the hospital for 3 days, partly because of her baby's tongue tie and also due to gestational HTN.      1\n8                                                                                                                    1\n4 hours                                                                                                              1\n7                                                                                                                    1\n72                                                                                                                   1\n36                                                                                                                   1\n24                                                                                                                   1\n24 hours                                                                                                             1\nName: birth_stay, dtype: int64"
     },
     "metadata": {},
     "execution_count": 30
    }
   ],
   "source": [
    "birthing_data_cohort_2_only['birth_stay'].value_counts()"
   ]
  },
  {
   "cell_type": "code",
   "execution_count": 31,
   "metadata": {},
   "outputs": [
    {
     "output_type": "execute_result",
     "data": {
      "text/plain": "     conditionsknown  birth_maternal___1  birth_maternal___4\n0                NaN                   1                   0\n1                NaN                   0                   0\n2                NaN                   0                   0\n3                NaN                   0                   0\n4                NaN                   0                   0\n..               ...                 ...                 ...\n329              NaN                   0                   0\n330              0.0                   1                   0\n331              NaN                   0                   0\n332              NaN                   0                   0\n333              0.0                   0                   0\n\n[334 rows x 3 columns]",
      "text/html": "<div>\n<style scoped>\n    .dataframe tbody tr th:only-of-type {\n        vertical-align: middle;\n    }\n\n    .dataframe tbody tr th {\n        vertical-align: top;\n    }\n\n    .dataframe thead th {\n        text-align: right;\n    }\n</style>\n<table border=\"1\" class=\"dataframe\">\n  <thead>\n    <tr style=\"text-align: right;\">\n      <th></th>\n      <th>conditionsknown</th>\n      <th>birth_maternal___1</th>\n      <th>birth_maternal___4</th>\n    </tr>\n  </thead>\n  <tbody>\n    <tr>\n      <th>0</th>\n      <td>NaN</td>\n      <td>1</td>\n      <td>0</td>\n    </tr>\n    <tr>\n      <th>1</th>\n      <td>NaN</td>\n      <td>0</td>\n      <td>0</td>\n    </tr>\n    <tr>\n      <th>2</th>\n      <td>NaN</td>\n      <td>0</td>\n      <td>0</td>\n    </tr>\n    <tr>\n      <th>3</th>\n      <td>NaN</td>\n      <td>0</td>\n      <td>0</td>\n    </tr>\n    <tr>\n      <th>4</th>\n      <td>NaN</td>\n      <td>0</td>\n      <td>0</td>\n    </tr>\n    <tr>\n      <th>...</th>\n      <td>...</td>\n      <td>...</td>\n      <td>...</td>\n    </tr>\n    <tr>\n      <th>329</th>\n      <td>NaN</td>\n      <td>0</td>\n      <td>0</td>\n    </tr>\n    <tr>\n      <th>330</th>\n      <td>0.0</td>\n      <td>1</td>\n      <td>0</td>\n    </tr>\n    <tr>\n      <th>331</th>\n      <td>NaN</td>\n      <td>0</td>\n      <td>0</td>\n    </tr>\n    <tr>\n      <th>332</th>\n      <td>NaN</td>\n      <td>0</td>\n      <td>0</td>\n    </tr>\n    <tr>\n      <th>333</th>\n      <td>0.0</td>\n      <td>0</td>\n      <td>0</td>\n    </tr>\n  </tbody>\n</table>\n<p>334 rows × 3 columns</p>\n</div>"
     },
     "metadata": {},
     "execution_count": 31
    }
   ],
   "source": [
    "birthing_data_cohort_2_only[['conditionsknown', 'birth_maternal___1', 'birth_maternal___4']]"
   ]
  },
  {
   "cell_type": "code",
   "execution_count": 32,
   "metadata": {},
   "outputs": [
    {
     "output_type": "execute_result",
     "data": {
      "text/plain": "array([nan, '12', '18', '20', '6', '14', '8', '4 months', '6 weeks ',\n       '16', '4', '2.5', '24', '21', '30', '17', '0', '28', '13', '9.5',\n       '19', '7', '22', '26', '10', '29', '36', '9', '11'], dtype=object)"
     },
     "metadata": {},
     "execution_count": 32
    }
   ],
   "source": [
    "birthing_data_cohort_2_only['birth_mat_leave_length'].unique()"
   ]
  },
  {
   "cell_type": "code",
   "execution_count": 33,
   "metadata": {},
   "outputs": [
    {
     "output_type": "stream",
     "name": "stdout",
     "text": "user_id <class 'numpy.int64'>\nrecord_id <class 'numpy.int64'>\nredcap_event_name <class 'str'>\ndate <class 'str'>\nbirth_number <class 'numpy.float64'>\nbirth_date <class 'str'>\nbirth_scheduled <class 'numpy.float64'>\nbirth_scheduled_unsure <class 'str'>\nbirth_gestage <class 'str'>\nbirth_mode <class 'numpy.float64'>\ninduction_yn <class 'numpy.float64'>\ninduction_reason <class 'float'>\nvacuumforceps <class 'numpy.float64'>\nvaginalaftercesarean <class 'numpy.float64'>\nbirth_c_type <class 'numpy.float64'>\nbirth_incision <class 'numpy.float64'>\nbirth_indication <class 'str'>\nbirth_apgar1 <class 'str'>\nbirth_apgar2 <class 'float'>\nbirth_abnormal1 <class 'numpy.float64'>\nbirth_describe1 <class 'float'>\nconditionsknown <class 'numpy.float64'>\nbirth_abnormal2 <class 'numpy.float64'>\nbirth_describe2 <class 'float'>\nconditionsknown_2 <class 'numpy.float64'>\nbirth_maternal___1 <class 'numpy.int64'>\nbirth_maternal___2 <class 'numpy.int64'>\nbirth_maternal___4 <class 'numpy.int64'>\nhypertension <class 'numpy.float64'>\nhellpsyndrome <class 'numpy.float64'>\nbirth_urine <class 'numpy.float64'>\npostparhem <class 'numpy.float64'>\nhem_meds <class 'numpy.float64'>\nbirth_matmorbid <class 'numpy.float64'>\nbirth_describe <class 'str'>\nbirth_stay <class 'str'>\nbirth_stay_baby <class 'numpy.float64'>\nbirth_stay_baby_yes <class 'numpy.float64'>\nbirth_feeding <class 'numpy.float64'>\nbirth_matleave <class 'numpy.float64'>\nbirth_mat_leave_length <class 'float'>\nbirthing_data_cohort_2_only_complete <class 'numpy.int64'>\n"
    },
    {
     "output_type": "execute_result",
     "data": {
      "text/plain": "user_id                                   int64\nrecord_id                                 int64\nredcap_event_name                        object\ndate                                     object\nbirth_number                            float64\nbirth_date                               object\nbirth_scheduled                         float64\nbirth_scheduled_unsure                   object\nbirth_gestage                            object\nbirth_mode                              float64\ninduction_yn                            float64\ninduction_reason                         object\nvacuumforceps                           float64\nvaginalaftercesarean                    float64\nbirth_c_type                            float64\nbirth_incision                          float64\nbirth_indication                         object\nbirth_apgar1                             object\nbirth_apgar2                             object\nbirth_abnormal1                         float64\nbirth_describe1                          object\nconditionsknown                         float64\nbirth_abnormal2                         float64\nbirth_describe2                          object\nconditionsknown_2                       float64\nbirth_maternal___1                        int64\nbirth_maternal___2                        int64\nbirth_maternal___4                        int64\nhypertension                            float64\nhellpsyndrome                           float64\nbirth_urine                             float64\npostparhem                              float64\nhem_meds                                float64\nbirth_matmorbid                         float64\nbirth_describe                           object\nbirth_stay                               object\nbirth_stay_baby                         float64\nbirth_stay_baby_yes                     float64\nbirth_feeding                           float64\nbirth_matleave                          float64\nbirth_mat_leave_length                   object\nbirthing_data_cohort_2_only_complete      int64\ndtype: object"
     },
     "metadata": {},
     "execution_count": 33
    }
   ],
   "source": [
    "for i in birthing_data_cohort_2_only.columns:\n",
    "    print(i, type(birthing_data_cohort_2_only[i].iloc[0]))\n",
    "birthing_data_cohort_2_only.dtypes"
   ]
  },
  {
   "cell_type": "code",
   "execution_count": 39,
   "metadata": {},
   "outputs": [],
   "source": [
    "df_birth = data_load(data_keys={\"birth\"}, wave=5)['birth']"
   ]
  },
  {
   "cell_type": "code",
   "execution_count": 40,
   "metadata": {},
   "outputs": [
    {
     "output_type": "stream",
     "name": "stdout",
     "text": "record_id <class 'numpy.int64'>\nredcap_event_name_x <class 'str'>\nbirth_number <class 'numpy.float64'>\nbirth_date <class 'str'>\nbirth_scheduled <class 'numpy.float64'>\nbirth_scheduled_unsure <class 'str'>\nbirth_gestage <class 'str'>\nbirth_mode <class 'numpy.float64'>\ninduction_yn <class 'numpy.float64'>\ninduction_reason <class 'float'>\nvacuumforceps <class 'numpy.float64'>\nvaginalaftercesarean <class 'numpy.float64'>\nbirth_c_type <class 'numpy.float64'>\nbirth_incision <class 'numpy.float64'>\nbirth_indication <class 'str'>\nbirth_apgar1 <class 'str'>\nbirth_apgar2 <class 'float'>\nbirth_abnormal1 <class 'numpy.float64'>\nbirth_describe1 <class 'float'>\nconditionsknown <class 'numpy.float64'>\nbirth_abnormal2 <class 'numpy.float64'>\nbirth_describe2 <class 'float'>\nconditionsknown_2 <class 'numpy.float64'>\nbirth_maternal___1 <class 'numpy.int64'>\nbirth_maternal___2 <class 'numpy.int64'>\nbirth_maternal___4 <class 'numpy.int64'>\nhypertension <class 'numpy.float64'>\nhellpsyndrome <class 'numpy.float64'>\nbirth_urine <class 'numpy.float64'>\npostparhem <class 'numpy.float64'>\nhem_meds <class 'numpy.float64'>\nbirth_matmorbid <class 'numpy.float64'>\nbirth_describe <class 'str'>\nbirth_stay <class 'str'>\nbirth_stay_baby <class 'numpy.float64'>\nbirth_stay_baby_yes <class 'numpy.float64'>\nbirth_feeding <class 'numpy.float64'>\nbirth_matleave <class 'numpy.float64'>\nbirth_mat_leave_length <class 'float'>\nbirthing_data_cohort_2_only_complete <class 'numpy.int64'>\ndate <class 'datetime.date'>\nredcap_event_name_y <class 'str'>\nparticipant_id <class 'numpy.int64'>\nsema4_id <class 'str'>\nevidation_id <class 'numpy.float64'>\nevidation_id_prior1 <class 'numpy.float64'>\nevidation_id_prior2 <class 'numpy.float64'>\nevidation_id_c <class 'numpy.float64'>\nstudy_ids_complete <class 'numpy.int64'>\nuser_id <class 'numpy.float64'>\n"
    }
   ],
   "source": [
    "for i in df_birth.columns:\n",
    "    print(i, type(df_birth[i].iloc[0]))"
   ]
  },
  {
   "cell_type": "code",
   "execution_count": 35,
   "metadata": {},
   "outputs": [],
   "source": [
    "check_in_adherence_log = data_load(data_keys={\"check_in_adherence_log\"}, wave=6)['check_in_adherence_log'\n",
    "]\n"
   ]
  },
  {
   "cell_type": "code",
   "execution_count": 36,
   "metadata": {},
   "outputs": [
    {
     "output_type": "execute_result",
     "data": {
      "text/plain": "     user_id  record_id  checkin_completed  checkin_missed  checkin_scheduled  \\\n0         28          4               14.0             0.0               14.0   \n1         29          5               13.0             1.0               14.0   \n2         30          6               13.0             0.0               13.0   \n3         31          7                3.0             2.0                5.0   \n4         32          8                0.0             0.0                0.0   \n..       ...        ...                ...             ...                ...   \n659     2540       1101                NaN             NaN                NaN   \n660     2589       1102                NaN             NaN                NaN   \n661     2588       1103                NaN             NaN                NaN   \n662     2615       1104                NaN             NaN                NaN   \n663     2616       1105                NaN             NaN                NaN   \n\n     checkin_adherence_rate  checkin_1 checkin_1_date  checkin_2  \\\n0                       NaN        2.0     2021-03-18        2.0   \n1                       NaN        2.0     2021-03-24        2.0   \n2                       NaN        2.0     2021-03-18        2.0   \n3                       NaN        2.0     2021-03-25        2.0   \n4                       NaN        0.0            NaN        0.0   \n..                      ...        ...            ...        ...   \n659                     NaN        2.0     2022-10-12        2.0   \n660                     NaN        2.0     2022-10-10        2.0   \n661                     NaN        2.0     2022-10-26        2.0   \n662                     NaN        2.0     2022-10-26        2.0   \n663                     NaN        2.0     2022-10-20        2.0   \n\n    checkin_2_date  ...  checkin_30 checkin_30_date  checkin_postnatal_1  \\\n0       2021-04-01  ...         0.0             NaN                  2.0   \n1       2021-04-06  ...         0.0             NaN                  2.0   \n2       2021-04-01  ...         0.0             NaN                  2.0   \n3       2021-04-07  ...         0.0             NaN                  0.0   \n4              NaN  ...         0.0             NaN                  0.0   \n..             ...  ...         ...             ...                  ...   \n659     2022-10-26  ...         NaN             NaN                  NaN   \n660     2022-10-24  ...         NaN             NaN                  NaN   \n661     2022-11-10  ...         NaN             NaN                  NaN   \n662     2022-11-09  ...         NaN             NaN                  NaN   \n663     2022-11-10  ...         NaN             NaN                  NaN   \n\n    checkin_postnatal_1_date  checkin_postnatal_2 checkin_postnatal_2_date  \\\n0                 2021-09-23                  2.0               2021-10-28   \n1                 2021-09-21                  2.0               2021-10-19   \n2                 2021-08-26                  2.0               2021-09-23   \n3                        NaN                  0.0                      NaN   \n4                        NaN                  0.0                      NaN   \n..                       ...                  ...                      ...   \n659                      NaN                  NaN                      NaN   \n660                      NaN                  NaN                      NaN   \n661                      NaN                  NaN                      NaN   \n662                      NaN                  NaN                      NaN   \n663                      NaN                  NaN                      NaN   \n\n     checkin_postnatal_3 checkin_postnatal_3_date  checkin_exit  \\\n0                    2.0               2021-12-02           2.0   \n1                    2.0               2021-11-16           2.0   \n2                    2.0               2021-11-01           2.0   \n3                    0.0                      NaN           2.0   \n4                    0.0                      NaN           1.0   \n..                   ...                      ...           ...   \n659                  NaN                      NaN           NaN   \n660                  NaN                      NaN           NaN   \n661                  NaN                      NaN           NaN   \n662                  NaN                      NaN           NaN   \n663                  NaN                      NaN           NaN   \n\n    checkin_adherence_log_complete  \n0                                2  \n1                                2  \n2                                2  \n3                                2  \n4                                2  \n..                             ...  \n659                              0  \n660                              0  \n661                              0  \n662                              0  \n663                              0  \n\n[664 rows x 74 columns]",
      "text/html": "<div>\n<style scoped>\n    .dataframe tbody tr th:only-of-type {\n        vertical-align: middle;\n    }\n\n    .dataframe tbody tr th {\n        vertical-align: top;\n    }\n\n    .dataframe thead th {\n        text-align: right;\n    }\n</style>\n<table border=\"1\" class=\"dataframe\">\n  <thead>\n    <tr style=\"text-align: right;\">\n      <th></th>\n      <th>user_id</th>\n      <th>record_id</th>\n      <th>checkin_completed</th>\n      <th>checkin_missed</th>\n      <th>checkin_scheduled</th>\n      <th>checkin_adherence_rate</th>\n      <th>checkin_1</th>\n      <th>checkin_1_date</th>\n      <th>checkin_2</th>\n      <th>checkin_2_date</th>\n      <th>...</th>\n      <th>checkin_30</th>\n      <th>checkin_30_date</th>\n      <th>checkin_postnatal_1</th>\n      <th>checkin_postnatal_1_date</th>\n      <th>checkin_postnatal_2</th>\n      <th>checkin_postnatal_2_date</th>\n      <th>checkin_postnatal_3</th>\n      <th>checkin_postnatal_3_date</th>\n      <th>checkin_exit</th>\n      <th>checkin_adherence_log_complete</th>\n    </tr>\n  </thead>\n  <tbody>\n    <tr>\n      <th>0</th>\n      <td>28</td>\n      <td>4</td>\n      <td>14.0</td>\n      <td>0.0</td>\n      <td>14.0</td>\n      <td>NaN</td>\n      <td>2.0</td>\n      <td>2021-03-18</td>\n      <td>2.0</td>\n      <td>2021-04-01</td>\n      <td>...</td>\n      <td>0.0</td>\n      <td>NaN</td>\n      <td>2.0</td>\n      <td>2021-09-23</td>\n      <td>2.0</td>\n      <td>2021-10-28</td>\n      <td>2.0</td>\n      <td>2021-12-02</td>\n      <td>2.0</td>\n      <td>2</td>\n    </tr>\n    <tr>\n      <th>1</th>\n      <td>29</td>\n      <td>5</td>\n      <td>13.0</td>\n      <td>1.0</td>\n      <td>14.0</td>\n      <td>NaN</td>\n      <td>2.0</td>\n      <td>2021-03-24</td>\n      <td>2.0</td>\n      <td>2021-04-06</td>\n      <td>...</td>\n      <td>0.0</td>\n      <td>NaN</td>\n      <td>2.0</td>\n      <td>2021-09-21</td>\n      <td>2.0</td>\n      <td>2021-10-19</td>\n      <td>2.0</td>\n      <td>2021-11-16</td>\n      <td>2.0</td>\n      <td>2</td>\n    </tr>\n    <tr>\n      <th>2</th>\n      <td>30</td>\n      <td>6</td>\n      <td>13.0</td>\n      <td>0.0</td>\n      <td>13.0</td>\n      <td>NaN</td>\n      <td>2.0</td>\n      <td>2021-03-18</td>\n      <td>2.0</td>\n      <td>2021-04-01</td>\n      <td>...</td>\n      <td>0.0</td>\n      <td>NaN</td>\n      <td>2.0</td>\n      <td>2021-08-26</td>\n      <td>2.0</td>\n      <td>2021-09-23</td>\n      <td>2.0</td>\n      <td>2021-11-01</td>\n      <td>2.0</td>\n      <td>2</td>\n    </tr>\n    <tr>\n      <th>3</th>\n      <td>31</td>\n      <td>7</td>\n      <td>3.0</td>\n      <td>2.0</td>\n      <td>5.0</td>\n      <td>NaN</td>\n      <td>2.0</td>\n      <td>2021-03-25</td>\n      <td>2.0</td>\n      <td>2021-04-07</td>\n      <td>...</td>\n      <td>0.0</td>\n      <td>NaN</td>\n      <td>0.0</td>\n      <td>NaN</td>\n      <td>0.0</td>\n      <td>NaN</td>\n      <td>0.0</td>\n      <td>NaN</td>\n      <td>2.0</td>\n      <td>2</td>\n    </tr>\n    <tr>\n      <th>4</th>\n      <td>32</td>\n      <td>8</td>\n      <td>0.0</td>\n      <td>0.0</td>\n      <td>0.0</td>\n      <td>NaN</td>\n      <td>0.0</td>\n      <td>NaN</td>\n      <td>0.0</td>\n      <td>NaN</td>\n      <td>...</td>\n      <td>0.0</td>\n      <td>NaN</td>\n      <td>0.0</td>\n      <td>NaN</td>\n      <td>0.0</td>\n      <td>NaN</td>\n      <td>0.0</td>\n      <td>NaN</td>\n      <td>1.0</td>\n      <td>2</td>\n    </tr>\n    <tr>\n      <th>...</th>\n      <td>...</td>\n      <td>...</td>\n      <td>...</td>\n      <td>...</td>\n      <td>...</td>\n      <td>...</td>\n      <td>...</td>\n      <td>...</td>\n      <td>...</td>\n      <td>...</td>\n      <td>...</td>\n      <td>...</td>\n      <td>...</td>\n      <td>...</td>\n      <td>...</td>\n      <td>...</td>\n      <td>...</td>\n      <td>...</td>\n      <td>...</td>\n      <td>...</td>\n      <td>...</td>\n    </tr>\n    <tr>\n      <th>659</th>\n      <td>2540</td>\n      <td>1101</td>\n      <td>NaN</td>\n      <td>NaN</td>\n      <td>NaN</td>\n      <td>NaN</td>\n      <td>2.0</td>\n      <td>2022-10-12</td>\n      <td>2.0</td>\n      <td>2022-10-26</td>\n      <td>...</td>\n      <td>NaN</td>\n      <td>NaN</td>\n      <td>NaN</td>\n      <td>NaN</td>\n      <td>NaN</td>\n      <td>NaN</td>\n      <td>NaN</td>\n      <td>NaN</td>\n      <td>NaN</td>\n      <td>0</td>\n    </tr>\n    <tr>\n      <th>660</th>\n      <td>2589</td>\n      <td>1102</td>\n      <td>NaN</td>\n      <td>NaN</td>\n      <td>NaN</td>\n      <td>NaN</td>\n      <td>2.0</td>\n      <td>2022-10-10</td>\n      <td>2.0</td>\n      <td>2022-10-24</td>\n      <td>...</td>\n      <td>NaN</td>\n      <td>NaN</td>\n      <td>NaN</td>\n      <td>NaN</td>\n      <td>NaN</td>\n      <td>NaN</td>\n      <td>NaN</td>\n      <td>NaN</td>\n      <td>NaN</td>\n      <td>0</td>\n    </tr>\n    <tr>\n      <th>661</th>\n      <td>2588</td>\n      <td>1103</td>\n      <td>NaN</td>\n      <td>NaN</td>\n      <td>NaN</td>\n      <td>NaN</td>\n      <td>2.0</td>\n      <td>2022-10-26</td>\n      <td>2.0</td>\n      <td>2022-11-10</td>\n      <td>...</td>\n      <td>NaN</td>\n      <td>NaN</td>\n      <td>NaN</td>\n      <td>NaN</td>\n      <td>NaN</td>\n      <td>NaN</td>\n      <td>NaN</td>\n      <td>NaN</td>\n      <td>NaN</td>\n      <td>0</td>\n    </tr>\n    <tr>\n      <th>662</th>\n      <td>2615</td>\n      <td>1104</td>\n      <td>NaN</td>\n      <td>NaN</td>\n      <td>NaN</td>\n      <td>NaN</td>\n      <td>2.0</td>\n      <td>2022-10-26</td>\n      <td>2.0</td>\n      <td>2022-11-09</td>\n      <td>...</td>\n      <td>NaN</td>\n      <td>NaN</td>\n      <td>NaN</td>\n      <td>NaN</td>\n      <td>NaN</td>\n      <td>NaN</td>\n      <td>NaN</td>\n      <td>NaN</td>\n      <td>NaN</td>\n      <td>0</td>\n    </tr>\n    <tr>\n      <th>663</th>\n      <td>2616</td>\n      <td>1105</td>\n      <td>NaN</td>\n      <td>NaN</td>\n      <td>NaN</td>\n      <td>NaN</td>\n      <td>2.0</td>\n      <td>2022-10-20</td>\n      <td>2.0</td>\n      <td>2022-11-10</td>\n      <td>...</td>\n      <td>NaN</td>\n      <td>NaN</td>\n      <td>NaN</td>\n      <td>NaN</td>\n      <td>NaN</td>\n      <td>NaN</td>\n      <td>NaN</td>\n      <td>NaN</td>\n      <td>NaN</td>\n      <td>0</td>\n    </tr>\n  </tbody>\n</table>\n<p>664 rows × 74 columns</p>\n</div>"
     },
     "metadata": {},
     "execution_count": 36
    }
   ],
   "source": [
    "check_in_adherence_log"
   ]
  },
  {
   "cell_type": "code",
   "execution_count": 37,
   "metadata": {},
   "outputs": [
    {
     "output_type": "execute_result",
     "data": {
      "text/plain": "array([         nan,  80.        ,  88.        ,  91.30434783,\n        75.86206897, 100.        ,  95.65217391,  78.26086957,\n        88.88888889,  41.17647059,  95.        ,  76.        ,\n        96.2962963 ,  89.28571429,  72.22222222,  96.42857143,\n        73.91304348,  54.54545455,  94.44444444,   0.73333333,\n         0.92307692,  73.68421053,  96.77419355,  84.61538462,\n        91.66666667,   1.        ,  83.33333333,  92.85714286,\n        92.30769231,  76.92307692,  66.66666667,  93.33333333,\n        90.90909091,  81.81818182,  69.23076923,   0.        ,\n         0.5       ,   0.55555556,  90.47619048,  57.14285714,\n        61.53846154,  77.77777778,  16.66666667,  90.        ,\n        86.66666667,  87.5       ,  58.33333333,  75.        ,\n        82.60869565,   0.875     ,  70.        ,  85.71428571,\n        95.45454545,  52.94117647,  28.57142857,  50.        ,\n        78.57142857,  94.11764706,  63.63636364,  33.33333333,\n        20.        ,  60.        ,  93.75      ,  23.07692308])"
     },
     "metadata": {},
     "execution_count": 37
    }
   ],
   "source": [
    "check_in_adherence_log['checkin_adherence_rate'].unique()"
   ]
  },
  {
   "cell_type": "code",
   "execution_count": 38,
   "metadata": {},
   "outputs": [
    {
     "output_type": "stream",
     "name": "stdout",
     "text": "`user_id` <class 'numpy.int64'>\n`record_id` <class 'numpy.int64'>\n`checkin_completed` <class 'numpy.float64'>\n`checkin_missed` <class 'numpy.float64'>\n`checkin_scheduled` <class 'numpy.float64'>\n`checkin_adherence_rate` <class 'numpy.float64'>\n`checkin_1` <class 'numpy.float64'>\n`checkin_1_date` <class 'str'>\n`checkin_2` <class 'numpy.float64'>\n`checkin_2_date` <class 'str'>\n`checkin_3` <class 'numpy.float64'>\n`checkin_3_date` <class 'str'>\n`checkin_4` <class 'numpy.float64'>\n`checkin_4_date` <class 'str'>\n`checkin_5` <class 'numpy.float64'>\n`checkin_5_date` <class 'str'>\n`checkin_6` <class 'numpy.float64'>\n`checkin_6_date` <class 'str'>\n`checkin_7` <class 'numpy.float64'>\n`checkin_7_date` <class 'str'>\n`checkin_8` <class 'numpy.float64'>\n`checkin_8_date` <class 'str'>\n`checkin_9` <class 'numpy.float64'>\n`checkin_9_date` <class 'str'>\n`checkin_10` <class 'numpy.float64'>\n`checkin_10_date` <class 'str'>\n`checkin_11` <class 'numpy.float64'>\n`checkin_11_date` <class 'str'>\n`checkin_12` <class 'numpy.float64'>\n`checkin_12_date` <class 'float'>\n`checkin_13` <class 'numpy.float64'>\n`checkin_13_date` <class 'float'>\n`checkin_14` <class 'numpy.float64'>\n`checkin_14_date` <class 'float'>\n`checkin_15` <class 'numpy.float64'>\n`checkin_15_date` <class 'float'>\n`checkin_16` <class 'numpy.float64'>\n`checkin_16_date` <class 'float'>\n`checkin_17` <class 'numpy.float64'>\n`checkin_17_date` <class 'float'>\n`checkin_18` <class 'numpy.float64'>\n`checkin_18_date` <class 'float'>\n`checkin_19` <class 'numpy.float64'>\n`checkin_19_date` <class 'float'>\n`checkin_20` <class 'numpy.float64'>\n`checkin_20_date` <class 'float'>\n`checkin_21` <class 'numpy.float64'>\n`checkin_21_date` <class 'float'>\n`checkin_22` <class 'numpy.float64'>\n`checkin_22_date` <class 'float'>\n`checkin_23` <class 'numpy.float64'>\n`checkin_23_date` <class 'float'>\n`checkin_24` <class 'numpy.float64'>\n`checkin_24_date` <class 'float'>\n`checkin_25` <class 'numpy.float64'>\n`checkin_25_date` <class 'float'>\n`checkin_26` <class 'numpy.float64'>\n`checkin_26_date` <class 'float'>\n`checkin_27` <class 'numpy.float64'>\n`checkin_27_date` <class 'float'>\n`checkin_28` <class 'numpy.float64'>\n`checkin_28_date` <class 'float'>\n`checkin_29` <class 'numpy.float64'>\n`checkin_29_date` <class 'numpy.float64'>\n`checkin_30` <class 'numpy.float64'>\n`checkin_30_date` <class 'numpy.float64'>\n`checkin_postnatal_1` <class 'numpy.float64'>\n`checkin_postnatal_1_date` <class 'str'>\n`checkin_postnatal_2` <class 'numpy.float64'>\n`checkin_postnatal_2_date` <class 'str'>\n`checkin_postnatal_3` <class 'numpy.float64'>\n`checkin_postnatal_3_date` <class 'str'>\n`checkin_exit` <class 'numpy.float64'>\n`checkin_adherence_log_complete` <class 'numpy.int64'>\n"
    }
   ],
   "source": [
    "for i in check_in_adherence_log.columns:\n",
    "    print('`'+i+'`', type(check_in_adherence_log[i].iloc[0]))"
   ]
  },
  {
   "cell_type": "code",
   "execution_count": 41,
   "metadata": {},
   "outputs": [],
   "source": [
    "metadata = data_load(data_keys={\"metadata\"}, wave=6)['metadata']\n"
   ]
  },
  {
   "cell_type": "code",
   "execution_count": 42,
   "metadata": {},
   "outputs": [
    {
     "output_type": "execute_result",
     "data": {
      "text/plain": "                    field_name              form_name  \\\n0                    record_id       screening_survey   \n1                    firstname       screening_survey   \n2                     lastname       screening_survey   \n3                         mmyy       screening_survey   \n4                     eighteen       screening_survey   \n..                         ...                    ...   \n889    complete_adherence_note  study_completion_form   \n890  complete_adherence_note_2  study_completion_form   \n891  complete_adherence_note_3  study_completion_form   \n892  complete_adherence_note_4  study_completion_form   \n893  complete_adherence_note_5  study_completion_form   \n\n                                        section_header field_type  \\\n0                                                  NaN       text   \n1    To see if you are eligible for this study, I a...       text   \n2                                                  NaN       text   \n3                                                  NaN       text   \n4                                                  NaN       text   \n..                                                 ...        ...   \n889  <div class=\"rich-text-field-label\"><p>SPECIFIC...      notes   \n890                                                NaN      notes   \n891                                                NaN      notes   \n892                                                NaN      notes   \n893                                                NaN      notes   \n\n                                           field_label  \\\n0                                            Record ID   \n1                                       1. First Name:   \n2                                        2. Last Name:   \n3                       3. When were you born? (MM/YY)   \n4    <div class=\"rich-text-field-label\"><p>4. How o...   \n..                                                 ...   \n889                                  Adherence Note 1:   \n890                                  Adherence Note 2:   \n891                                  Adherence Note 3:   \n892                                  Adherence Note 4:   \n893                                  Adherence Note 5:   \n\n    select_choices_or_calculations field_note  \\\n0                              NaN        NaN   \n1                              NaN        NaN   \n2                              NaN        NaN   \n3                              NaN        NaN   \n4                              NaN        NaN   \n..                             ...        ...   \n889                            NaN        NaN   \n890                            NaN        NaN   \n891                            NaN        NaN   \n892                            NaN        NaN   \n893                            NaN        NaN   \n\n    text_validation_type_or_show_slider_number  text_validation_min  \\\n0                                          NaN                  NaN   \n1                                          NaN                  NaN   \n2                                          NaN                  NaN   \n3                                          NaN                  NaN   \n4                                          NaN                  NaN   \n..                                         ...                  ...   \n889                                        NaN                  NaN   \n890                                        NaN                  NaN   \n891                                        NaN                  NaN   \n892                                        NaN                  NaN   \n893                                        NaN                  NaN   \n\n     text_validation_max  identifier branching_logic required_field  \\\n0                    NaN         NaN             NaN            NaN   \n1                    NaN         NaN             NaN            NaN   \n2                    NaN         NaN             NaN            NaN   \n3                    NaN         NaN             NaN            NaN   \n4                    NaN         NaN             NaN            NaN   \n..                   ...         ...             ...            ...   \n889                  NaN         NaN             NaN            NaN   \n890                  NaN         NaN             NaN            NaN   \n891                  NaN         NaN             NaN            NaN   \n892                  NaN         NaN             NaN            NaN   \n893                  NaN         NaN             NaN            NaN   \n\n    custom_alignment  question_number matrix_group_name  matrix_ranking  \\\n0                NaN              NaN               NaN             NaN   \n1                 RH              NaN               NaN             NaN   \n2                 RH              NaN               NaN             NaN   \n3                 RH              NaN               NaN             NaN   \n4                 RH              NaN               NaN             NaN   \n..               ...              ...               ...             ...   \n889               LH              NaN               NaN             NaN   \n890               LH              NaN               NaN             NaN   \n891               LH              NaN               NaN             NaN   \n892               LH              NaN               NaN             NaN   \n893               LH              NaN               NaN             NaN   \n\n     field_annotation  \n0                 NaN  \n1                 NaN  \n2                 NaN  \n3                 NaN  \n4                 NaN  \n..                ...  \n889               NaN  \n890               NaN  \n891               NaN  \n892               NaN  \n893               NaN  \n\n[894 rows x 18 columns]",
      "text/html": "<div>\n<style scoped>\n    .dataframe tbody tr th:only-of-type {\n        vertical-align: middle;\n    }\n\n    .dataframe tbody tr th {\n        vertical-align: top;\n    }\n\n    .dataframe thead th {\n        text-align: right;\n    }\n</style>\n<table border=\"1\" class=\"dataframe\">\n  <thead>\n    <tr style=\"text-align: right;\">\n      <th></th>\n      <th>field_name</th>\n      <th>form_name</th>\n      <th>section_header</th>\n      <th>field_type</th>\n      <th>field_label</th>\n      <th>select_choices_or_calculations</th>\n      <th>field_note</th>\n      <th>text_validation_type_or_show_slider_number</th>\n      <th>text_validation_min</th>\n      <th>text_validation_max</th>\n      <th>identifier</th>\n      <th>branching_logic</th>\n      <th>required_field</th>\n      <th>custom_alignment</th>\n      <th>question_number</th>\n      <th>matrix_group_name</th>\n      <th>matrix_ranking</th>\n      <th>field_annotation</th>\n    </tr>\n  </thead>\n  <tbody>\n    <tr>\n      <th>0</th>\n      <td>record_id</td>\n      <td>screening_survey</td>\n      <td>NaN</td>\n      <td>text</td>\n      <td>Record ID</td>\n      <td>NaN</td>\n      <td>NaN</td>\n      <td>NaN</td>\n      <td>NaN</td>\n      <td>NaN</td>\n      <td>NaN</td>\n      <td>NaN</td>\n      <td>NaN</td>\n      <td>NaN</td>\n      <td>NaN</td>\n      <td>NaN</td>\n      <td>NaN</td>\n      <td>NaN</td>\n    </tr>\n    <tr>\n      <th>1</th>\n      <td>firstname</td>\n      <td>screening_survey</td>\n      <td>To see if you are eligible for this study, I a...</td>\n      <td>text</td>\n      <td>1. First Name:</td>\n      <td>NaN</td>\n      <td>NaN</td>\n      <td>NaN</td>\n      <td>NaN</td>\n      <td>NaN</td>\n      <td>NaN</td>\n      <td>NaN</td>\n      <td>NaN</td>\n      <td>RH</td>\n      <td>NaN</td>\n      <td>NaN</td>\n      <td>NaN</td>\n      <td>NaN</td>\n    </tr>\n    <tr>\n      <th>2</th>\n      <td>lastname</td>\n      <td>screening_survey</td>\n      <td>NaN</td>\n      <td>text</td>\n      <td>2. Last Name:</td>\n      <td>NaN</td>\n      <td>NaN</td>\n      <td>NaN</td>\n      <td>NaN</td>\n      <td>NaN</td>\n      <td>NaN</td>\n      <td>NaN</td>\n      <td>NaN</td>\n      <td>RH</td>\n      <td>NaN</td>\n      <td>NaN</td>\n      <td>NaN</td>\n      <td>NaN</td>\n    </tr>\n    <tr>\n      <th>3</th>\n      <td>mmyy</td>\n      <td>screening_survey</td>\n      <td>NaN</td>\n      <td>text</td>\n      <td>3. When were you born? (MM/YY)</td>\n      <td>NaN</td>\n      <td>NaN</td>\n      <td>NaN</td>\n      <td>NaN</td>\n      <td>NaN</td>\n      <td>NaN</td>\n      <td>NaN</td>\n      <td>NaN</td>\n      <td>RH</td>\n      <td>NaN</td>\n      <td>NaN</td>\n      <td>NaN</td>\n      <td>NaN</td>\n    </tr>\n    <tr>\n      <th>4</th>\n      <td>eighteen</td>\n      <td>screening_survey</td>\n      <td>NaN</td>\n      <td>text</td>\n      <td>&lt;div class=\"rich-text-field-label\"&gt;&lt;p&gt;4. How o...</td>\n      <td>NaN</td>\n      <td>NaN</td>\n      <td>NaN</td>\n      <td>NaN</td>\n      <td>NaN</td>\n      <td>NaN</td>\n      <td>NaN</td>\n      <td>NaN</td>\n      <td>RH</td>\n      <td>NaN</td>\n      <td>NaN</td>\n      <td>NaN</td>\n      <td>NaN</td>\n    </tr>\n    <tr>\n      <th>...</th>\n      <td>...</td>\n      <td>...</td>\n      <td>...</td>\n      <td>...</td>\n      <td>...</td>\n      <td>...</td>\n      <td>...</td>\n      <td>...</td>\n      <td>...</td>\n      <td>...</td>\n      <td>...</td>\n      <td>...</td>\n      <td>...</td>\n      <td>...</td>\n      <td>...</td>\n      <td>...</td>\n      <td>...</td>\n      <td>...</td>\n    </tr>\n    <tr>\n      <th>889</th>\n      <td>complete_adherence_note</td>\n      <td>study_completion_form</td>\n      <td>&lt;div class=\"rich-text-field-label\"&gt;&lt;p&gt;SPECIFIC...</td>\n      <td>notes</td>\n      <td>Adherence Note 1:</td>\n      <td>NaN</td>\n      <td>NaN</td>\n      <td>NaN</td>\n      <td>NaN</td>\n      <td>NaN</td>\n      <td>NaN</td>\n      <td>NaN</td>\n      <td>NaN</td>\n      <td>LH</td>\n      <td>NaN</td>\n      <td>NaN</td>\n      <td>NaN</td>\n      <td>NaN</td>\n    </tr>\n    <tr>\n      <th>890</th>\n      <td>complete_adherence_note_2</td>\n      <td>study_completion_form</td>\n      <td>NaN</td>\n      <td>notes</td>\n      <td>Adherence Note 2:</td>\n      <td>NaN</td>\n      <td>NaN</td>\n      <td>NaN</td>\n      <td>NaN</td>\n      <td>NaN</td>\n      <td>NaN</td>\n      <td>NaN</td>\n      <td>NaN</td>\n      <td>LH</td>\n      <td>NaN</td>\n      <td>NaN</td>\n      <td>NaN</td>\n      <td>NaN</td>\n    </tr>\n    <tr>\n      <th>891</th>\n      <td>complete_adherence_note_3</td>\n      <td>study_completion_form</td>\n      <td>NaN</td>\n      <td>notes</td>\n      <td>Adherence Note 3:</td>\n      <td>NaN</td>\n      <td>NaN</td>\n      <td>NaN</td>\n      <td>NaN</td>\n      <td>NaN</td>\n      <td>NaN</td>\n      <td>NaN</td>\n      <td>NaN</td>\n      <td>LH</td>\n      <td>NaN</td>\n      <td>NaN</td>\n      <td>NaN</td>\n      <td>NaN</td>\n    </tr>\n    <tr>\n      <th>892</th>\n      <td>complete_adherence_note_4</td>\n      <td>study_completion_form</td>\n      <td>NaN</td>\n      <td>notes</td>\n      <td>Adherence Note 4:</td>\n      <td>NaN</td>\n      <td>NaN</td>\n      <td>NaN</td>\n      <td>NaN</td>\n      <td>NaN</td>\n      <td>NaN</td>\n      <td>NaN</td>\n      <td>NaN</td>\n      <td>LH</td>\n      <td>NaN</td>\n      <td>NaN</td>\n      <td>NaN</td>\n      <td>NaN</td>\n    </tr>\n    <tr>\n      <th>893</th>\n      <td>complete_adherence_note_5</td>\n      <td>study_completion_form</td>\n      <td>NaN</td>\n      <td>notes</td>\n      <td>Adherence Note 5:</td>\n      <td>NaN</td>\n      <td>NaN</td>\n      <td>NaN</td>\n      <td>NaN</td>\n      <td>NaN</td>\n      <td>NaN</td>\n      <td>NaN</td>\n      <td>NaN</td>\n      <td>LH</td>\n      <td>NaN</td>\n      <td>NaN</td>\n      <td>NaN</td>\n      <td>NaN</td>\n    </tr>\n  </tbody>\n</table>\n<p>894 rows × 18 columns</p>\n</div>"
     },
     "metadata": {},
     "execution_count": 42
    }
   ],
   "source": [
    "metadata"
   ]
  },
  {
   "cell_type": "code",
   "execution_count": 44,
   "metadata": {},
   "outputs": [
    {
     "output_type": "execute_result",
     "data": {
      "text/plain": "array(['screening_survey', 'study_ids', 'enrollment_status',\n       'fulfillment', 'study_dates_cohort_info', 'check_in_adherence_log',\n       'monthly_points_log', 'concomitant_medication',\n       'symptom_tracking_permission', 'check_in_2_addendum', 'ace',\n       'personal_characteristics', 'medications', 'phq9', 'cssrs',\n       'generalized_anxiety_disorder_scale_gad7', 'epds_cohort_2_only_2',\n       'pitting_edema_cohort_2_only', 'perinatal_ptsd_cohort_2_only',\n       'mssi_cohort_2_only', 'birthing_data_cohort_2_only',\n       'pediatric_outcomes_cohort_2_only', 'adverse_event_report',\n       'risk_alert_trigger', 'contact_log',\n       'suicide_risk_response_completed_by_study_doctor',\n       'exit_interview', 'study_completion_form'], dtype=object)"
     },
     "metadata": {},
     "execution_count": 44
    }
   ],
   "source": [
    "metadata['form_name'].unique()"
   ]
  },
  {
   "cell_type": "code",
   "execution_count": 48,
   "metadata": {},
   "outputs": [
    {
     "output_type": "execute_result",
     "data": {
      "text/plain": "         field_name                 form_name  \\\n611      lifestyle1  personal_characteristics   \n612      lifestyle2  personal_characteristics   \n613     lifestyle2a  personal_characteristics   \n614      lifestyle3  personal_characteristics   \n615     lifestyle3a  personal_characteristics   \n616      lifestyle4  personal_characteristics   \n617     height_feet  personal_characteristics   \n618   height_inches  personal_characteristics   \n619          weight  personal_characteristics   \n620  weight_prepreg  personal_characteristics   \n621     lifestyle_8  personal_characteristics   \n622    lifestyle_8a  personal_characteristics   \n623    lifestyle_8b  personal_characteristics   \n624     lifestyle_9  personal_characteristics   \n625    lifestyle_9a  personal_characteristics   \n626    lifestyle_10  personal_characteristics   \n\n                                        section_header field_type  \\\n611  Please answer the following questions about yo...      radio   \n612                                                NaN      radio   \n613                                                NaN      radio   \n614                                                NaN      radio   \n615                                                NaN      radio   \n616                                                NaN      radio   \n617                                                NaN       text   \n618                                                NaN       text   \n619                                                NaN       text   \n620                                                NaN       text   \n621                                                NaN      radio   \n622                                                NaN       text   \n623                                                NaN      radio   \n624  The next question is about \"periods of extreme...      radio   \n625                                                NaN      radio   \n626                                                NaN      radio   \n\n                                           field_label  \\\n611  1. On average before your pregnancy, how often...   \n612  2. On average before your pregnancy, how often...   \n613  2a. On average before your pregnancy, how ofte...   \n614  3. Before your pregnancy, did you ever use rec...   \n615  3a. Before your pregnancy, how often did you u...   \n616  4. On average before your pregnancy, how often...   \n617  <div class=\"rich-text-field-label\"><p>5. How t...   \n618  <div class=\"rich-text-field-label\"><p>5a. How ...   \n619  <div class=\"rich-text-field-label\"><p>6. How m...   \n620  <div class=\"rich-text-field-label\"><p>7. How m...   \n621  8. Did you lose any weight in the past year / ...   \n622  <div class=\"rich-text-field-label\"><p>8a. If y...   \n623  8b. If yes, over what period of time did you l...   \n624  9. Thinking about the past three months, how o...   \n625  9a. If once a week or more, to what extent do ...   \n626  10. Does day to day variation in your weight i...   \n\n                        select_choices_or_calculations field_note  \\\n611  0, Never | 1, Less than once a week | 2, Once ...        NaN   \n612  0, Never | 1, Less than once a week | 2, Once ...        NaN   \n613  0, None | 1, Once | 2, 2-3 times a week | 3, 4...        NaN   \n614           0, No | 1, Yes | 2, Prefer not to answer        NaN   \n615  0, Just once | 1, Just a few times | 2, Once a...        NaN   \n616  0, Never | 1, Less than once a week | 2, Once ...        NaN   \n617                                                NaN        NaN   \n618                                                NaN        NaN   \n619                                                NaN        NaN   \n620                                                NaN        NaN   \n621                        1, Yes | 0, No | 2, Unknown        NaN   \n622                                                NaN        NaN   \n623  1, < 1 month | 2, 1-3 months | 3, 3-6 months |...        NaN   \n624  1, Rarely or never | 2, About once a week | 3,...        NaN   \n625  1, Not at all | 2, Slightly | 3, Moderately | ...        NaN   \n626  1, Not at all | 2, Slightly | 3, Moderately | ...        NaN   \n\n    text_validation_type_or_show_slider_number  text_validation_min  \\\n611                                        NaN                  NaN   \n612                                        NaN                  NaN   \n613                                        NaN                  NaN   \n614                                        NaN                  NaN   \n615                                        NaN                  NaN   \n616                                        NaN                  NaN   \n617                                        NaN                  NaN   \n618                                        NaN                  NaN   \n619                                        NaN                  NaN   \n620                                        NaN                  NaN   \n621                                        NaN                  NaN   \n622                                        NaN                  NaN   \n623                                        NaN                  NaN   \n624                                        NaN                  NaN   \n625                                        NaN                  NaN   \n626                                        NaN                  NaN   \n\n     text_validation_max  identifier  \\\n611                  NaN         NaN   \n612                  NaN         NaN   \n613                  NaN         NaN   \n614                  NaN         NaN   \n615                  NaN         NaN   \n616                  NaN         NaN   \n617                  NaN         NaN   \n618                  NaN         NaN   \n619                  NaN         NaN   \n620                  NaN         NaN   \n621                  NaN         NaN   \n622                  NaN         NaN   \n623                  NaN         NaN   \n624                  NaN         NaN   \n625                  NaN         NaN   \n626                  NaN         NaN   \n\n                                       branching_logic required_field  \\\n611                                                NaN            NaN   \n612                                                NaN            NaN   \n613  [lifestyle2] = '1' or [lifestyle2] = '2' or [l...            NaN   \n614                                                NaN            NaN   \n615                                 [lifestyle3] = '1'            NaN   \n616                                                NaN            NaN   \n617                                                NaN            NaN   \n618                                                NaN            NaN   \n619                                                NaN            NaN   \n620                                                NaN            NaN   \n621                                                NaN            NaN   \n622                                [lifestyle_8] = '1'            NaN   \n623                                [lifestyle_8] = '1'            NaN   \n624                                                NaN            NaN   \n625  [lifestyle_9] = '2' and [lifestyle_9] = '3' an...            NaN   \n626                                                NaN            NaN   \n\n    custom_alignment  question_number matrix_group_name  matrix_ranking  \\\n611               LV              NaN               NaN             NaN   \n612               LV              NaN               NaN             NaN   \n613               LV              NaN               NaN             NaN   \n614               LV              NaN               NaN             NaN   \n615               LV              NaN               NaN             NaN   \n616               LV              NaN               NaN             NaN   \n617               RH              NaN               NaN             NaN   \n618               RH              NaN               NaN             NaN   \n619               RH              NaN               NaN             NaN   \n620               RH              NaN               NaN             NaN   \n621               LH              NaN               NaN             NaN   \n622               RH              NaN               NaN             NaN   \n623               LH              NaN               NaN             NaN   \n624               LH              NaN               NaN             NaN   \n625               LH              NaN               NaN             NaN   \n626               LH              NaN               NaN             NaN   \n\n     field_annotation  \n611               NaN  \n612               NaN  \n613               NaN  \n614               NaN  \n615               NaN  \n616               NaN  \n617               NaN  \n618               NaN  \n619               NaN  \n620               NaN  \n621               NaN  \n622               NaN  \n623               NaN  \n624               NaN  \n625               NaN  \n626               NaN  ",
      "text/html": "<div>\n<style scoped>\n    .dataframe tbody tr th:only-of-type {\n        vertical-align: middle;\n    }\n\n    .dataframe tbody tr th {\n        vertical-align: top;\n    }\n\n    .dataframe thead th {\n        text-align: right;\n    }\n</style>\n<table border=\"1\" class=\"dataframe\">\n  <thead>\n    <tr style=\"text-align: right;\">\n      <th></th>\n      <th>field_name</th>\n      <th>form_name</th>\n      <th>section_header</th>\n      <th>field_type</th>\n      <th>field_label</th>\n      <th>select_choices_or_calculations</th>\n      <th>field_note</th>\n      <th>text_validation_type_or_show_slider_number</th>\n      <th>text_validation_min</th>\n      <th>text_validation_max</th>\n      <th>identifier</th>\n      <th>branching_logic</th>\n      <th>required_field</th>\n      <th>custom_alignment</th>\n      <th>question_number</th>\n      <th>matrix_group_name</th>\n      <th>matrix_ranking</th>\n      <th>field_annotation</th>\n    </tr>\n  </thead>\n  <tbody>\n    <tr>\n      <th>611</th>\n      <td>lifestyle1</td>\n      <td>personal_characteristics</td>\n      <td>Please answer the following questions about yo...</td>\n      <td>radio</td>\n      <td>1. On average before your pregnancy, how often...</td>\n      <td>0, Never | 1, Less than once a week | 2, Once ...</td>\n      <td>NaN</td>\n      <td>NaN</td>\n      <td>NaN</td>\n      <td>NaN</td>\n      <td>NaN</td>\n      <td>NaN</td>\n      <td>NaN</td>\n      <td>LV</td>\n      <td>NaN</td>\n      <td>NaN</td>\n      <td>NaN</td>\n      <td>NaN</td>\n    </tr>\n    <tr>\n      <th>612</th>\n      <td>lifestyle2</td>\n      <td>personal_characteristics</td>\n      <td>NaN</td>\n      <td>radio</td>\n      <td>2. On average before your pregnancy, how often...</td>\n      <td>0, Never | 1, Less than once a week | 2, Once ...</td>\n      <td>NaN</td>\n      <td>NaN</td>\n      <td>NaN</td>\n      <td>NaN</td>\n      <td>NaN</td>\n      <td>NaN</td>\n      <td>NaN</td>\n      <td>LV</td>\n      <td>NaN</td>\n      <td>NaN</td>\n      <td>NaN</td>\n      <td>NaN</td>\n    </tr>\n    <tr>\n      <th>613</th>\n      <td>lifestyle2a</td>\n      <td>personal_characteristics</td>\n      <td>NaN</td>\n      <td>radio</td>\n      <td>2a. On average before your pregnancy, how ofte...</td>\n      <td>0, None | 1, Once | 2, 2-3 times a week | 3, 4...</td>\n      <td>NaN</td>\n      <td>NaN</td>\n      <td>NaN</td>\n      <td>NaN</td>\n      <td>NaN</td>\n      <td>[lifestyle2] = '1' or [lifestyle2] = '2' or [l...</td>\n      <td>NaN</td>\n      <td>LV</td>\n      <td>NaN</td>\n      <td>NaN</td>\n      <td>NaN</td>\n      <td>NaN</td>\n    </tr>\n    <tr>\n      <th>614</th>\n      <td>lifestyle3</td>\n      <td>personal_characteristics</td>\n      <td>NaN</td>\n      <td>radio</td>\n      <td>3. Before your pregnancy, did you ever use rec...</td>\n      <td>0, No | 1, Yes | 2, Prefer not to answer</td>\n      <td>NaN</td>\n      <td>NaN</td>\n      <td>NaN</td>\n      <td>NaN</td>\n      <td>NaN</td>\n      <td>NaN</td>\n      <td>NaN</td>\n      <td>LV</td>\n      <td>NaN</td>\n      <td>NaN</td>\n      <td>NaN</td>\n      <td>NaN</td>\n    </tr>\n    <tr>\n      <th>615</th>\n      <td>lifestyle3a</td>\n      <td>personal_characteristics</td>\n      <td>NaN</td>\n      <td>radio</td>\n      <td>3a. Before your pregnancy, how often did you u...</td>\n      <td>0, Just once | 1, Just a few times | 2, Once a...</td>\n      <td>NaN</td>\n      <td>NaN</td>\n      <td>NaN</td>\n      <td>NaN</td>\n      <td>NaN</td>\n      <td>[lifestyle3] = '1'</td>\n      <td>NaN</td>\n      <td>LV</td>\n      <td>NaN</td>\n      <td>NaN</td>\n      <td>NaN</td>\n      <td>NaN</td>\n    </tr>\n    <tr>\n      <th>616</th>\n      <td>lifestyle4</td>\n      <td>personal_characteristics</td>\n      <td>NaN</td>\n      <td>radio</td>\n      <td>4. On average before your pregnancy, how often...</td>\n      <td>0, Never | 1, Less than once a week | 2, Once ...</td>\n      <td>NaN</td>\n      <td>NaN</td>\n      <td>NaN</td>\n      <td>NaN</td>\n      <td>NaN</td>\n      <td>NaN</td>\n      <td>NaN</td>\n      <td>LV</td>\n      <td>NaN</td>\n      <td>NaN</td>\n      <td>NaN</td>\n      <td>NaN</td>\n    </tr>\n    <tr>\n      <th>617</th>\n      <td>height_feet</td>\n      <td>personal_characteristics</td>\n      <td>NaN</td>\n      <td>text</td>\n      <td>&lt;div class=\"rich-text-field-label\"&gt;&lt;p&gt;5. How t...</td>\n      <td>NaN</td>\n      <td>NaN</td>\n      <td>NaN</td>\n      <td>NaN</td>\n      <td>NaN</td>\n      <td>NaN</td>\n      <td>NaN</td>\n      <td>NaN</td>\n      <td>RH</td>\n      <td>NaN</td>\n      <td>NaN</td>\n      <td>NaN</td>\n      <td>NaN</td>\n    </tr>\n    <tr>\n      <th>618</th>\n      <td>height_inches</td>\n      <td>personal_characteristics</td>\n      <td>NaN</td>\n      <td>text</td>\n      <td>&lt;div class=\"rich-text-field-label\"&gt;&lt;p&gt;5a. How ...</td>\n      <td>NaN</td>\n      <td>NaN</td>\n      <td>NaN</td>\n      <td>NaN</td>\n      <td>NaN</td>\n      <td>NaN</td>\n      <td>NaN</td>\n      <td>NaN</td>\n      <td>RH</td>\n      <td>NaN</td>\n      <td>NaN</td>\n      <td>NaN</td>\n      <td>NaN</td>\n    </tr>\n    <tr>\n      <th>619</th>\n      <td>weight</td>\n      <td>personal_characteristics</td>\n      <td>NaN</td>\n      <td>text</td>\n      <td>&lt;div class=\"rich-text-field-label\"&gt;&lt;p&gt;6. How m...</td>\n      <td>NaN</td>\n      <td>NaN</td>\n      <td>NaN</td>\n      <td>NaN</td>\n      <td>NaN</td>\n      <td>NaN</td>\n      <td>NaN</td>\n      <td>NaN</td>\n      <td>RH</td>\n      <td>NaN</td>\n      <td>NaN</td>\n      <td>NaN</td>\n      <td>NaN</td>\n    </tr>\n    <tr>\n      <th>620</th>\n      <td>weight_prepreg</td>\n      <td>personal_characteristics</td>\n      <td>NaN</td>\n      <td>text</td>\n      <td>&lt;div class=\"rich-text-field-label\"&gt;&lt;p&gt;7. How m...</td>\n      <td>NaN</td>\n      <td>NaN</td>\n      <td>NaN</td>\n      <td>NaN</td>\n      <td>NaN</td>\n      <td>NaN</td>\n      <td>NaN</td>\n      <td>NaN</td>\n      <td>RH</td>\n      <td>NaN</td>\n      <td>NaN</td>\n      <td>NaN</td>\n      <td>NaN</td>\n    </tr>\n    <tr>\n      <th>621</th>\n      <td>lifestyle_8</td>\n      <td>personal_characteristics</td>\n      <td>NaN</td>\n      <td>radio</td>\n      <td>8. Did you lose any weight in the past year / ...</td>\n      <td>1, Yes | 0, No | 2, Unknown</td>\n      <td>NaN</td>\n      <td>NaN</td>\n      <td>NaN</td>\n      <td>NaN</td>\n      <td>NaN</td>\n      <td>NaN</td>\n      <td>NaN</td>\n      <td>LH</td>\n      <td>NaN</td>\n      <td>NaN</td>\n      <td>NaN</td>\n      <td>NaN</td>\n    </tr>\n    <tr>\n      <th>622</th>\n      <td>lifestyle_8a</td>\n      <td>personal_characteristics</td>\n      <td>NaN</td>\n      <td>text</td>\n      <td>&lt;div class=\"rich-text-field-label\"&gt;&lt;p&gt;8a. If y...</td>\n      <td>NaN</td>\n      <td>NaN</td>\n      <td>NaN</td>\n      <td>NaN</td>\n      <td>NaN</td>\n      <td>NaN</td>\n      <td>[lifestyle_8] = '1'</td>\n      <td>NaN</td>\n      <td>RH</td>\n      <td>NaN</td>\n      <td>NaN</td>\n      <td>NaN</td>\n      <td>NaN</td>\n    </tr>\n    <tr>\n      <th>623</th>\n      <td>lifestyle_8b</td>\n      <td>personal_characteristics</td>\n      <td>NaN</td>\n      <td>radio</td>\n      <td>8b. If yes, over what period of time did you l...</td>\n      <td>1, &lt; 1 month | 2, 1-3 months | 3, 3-6 months |...</td>\n      <td>NaN</td>\n      <td>NaN</td>\n      <td>NaN</td>\n      <td>NaN</td>\n      <td>NaN</td>\n      <td>[lifestyle_8] = '1'</td>\n      <td>NaN</td>\n      <td>LH</td>\n      <td>NaN</td>\n      <td>NaN</td>\n      <td>NaN</td>\n      <td>NaN</td>\n    </tr>\n    <tr>\n      <th>624</th>\n      <td>lifestyle_9</td>\n      <td>personal_characteristics</td>\n      <td>The next question is about \"periods of extreme...</td>\n      <td>radio</td>\n      <td>9. Thinking about the past three months, how o...</td>\n      <td>1, Rarely or never | 2, About once a week | 3,...</td>\n      <td>NaN</td>\n      <td>NaN</td>\n      <td>NaN</td>\n      <td>NaN</td>\n      <td>NaN</td>\n      <td>NaN</td>\n      <td>NaN</td>\n      <td>LH</td>\n      <td>NaN</td>\n      <td>NaN</td>\n      <td>NaN</td>\n      <td>NaN</td>\n    </tr>\n    <tr>\n      <th>625</th>\n      <td>lifestyle_9a</td>\n      <td>personal_characteristics</td>\n      <td>NaN</td>\n      <td>radio</td>\n      <td>9a. If once a week or more, to what extent do ...</td>\n      <td>1, Not at all | 2, Slightly | 3, Moderately | ...</td>\n      <td>NaN</td>\n      <td>NaN</td>\n      <td>NaN</td>\n      <td>NaN</td>\n      <td>NaN</td>\n      <td>[lifestyle_9] = '2' and [lifestyle_9] = '3' an...</td>\n      <td>NaN</td>\n      <td>LH</td>\n      <td>NaN</td>\n      <td>NaN</td>\n      <td>NaN</td>\n      <td>NaN</td>\n    </tr>\n    <tr>\n      <th>626</th>\n      <td>lifestyle_10</td>\n      <td>personal_characteristics</td>\n      <td>NaN</td>\n      <td>radio</td>\n      <td>10. Does day to day variation in your weight i...</td>\n      <td>1, Not at all | 2, Slightly | 3, Moderately | ...</td>\n      <td>NaN</td>\n      <td>NaN</td>\n      <td>NaN</td>\n      <td>NaN</td>\n      <td>NaN</td>\n      <td>NaN</td>\n      <td>NaN</td>\n      <td>LH</td>\n      <td>NaN</td>\n      <td>NaN</td>\n      <td>NaN</td>\n      <td>NaN</td>\n    </tr>\n  </tbody>\n</table>\n</div>"
     },
     "metadata": {},
     "execution_count": 48
    }
   ],
   "source": [
    "metadata[metadata['form_name']=='personal_characteristics']"
   ]
  },
  {
   "cell_type": "code",
   "execution_count": 49,
   "metadata": {},
   "outputs": [],
   "source": [
    "personal_characteristics = data_load(data_keys={\"personal_characteristics\"}, wave=6)['personal_characteristics']"
   ]
  },
  {
   "cell_type": "code",
   "execution_count": 50,
   "metadata": {},
   "outputs": [
    {
     "output_type": "execute_result",
     "data": {
      "text/plain": "     user_id  record_id redcap_event_name        date  lifestyle1  lifestyle2  \\\n0         28          4        ci_2_arm_1  2021-04-01           0           0   \n1         29          5        ci_2_arm_1  2021-04-06           0           1   \n2         30          6        ci_2_arm_1  2021-04-01           0           0   \n3         31          7        ci_2_arm_1  2021-04-07           0           1   \n4         35         11        ci_2_arm_1  2021-04-21           0           3   \n..       ...        ...               ...         ...         ...         ...   \n484     2540       1101        ci_2_arm_1  2022-10-26           0           4   \n485     2589       1102        ci_2_arm_1  2022-10-24           0           1   \n486     2588       1103        ci_2_arm_1  2022-11-10           0           4   \n487     2615       1104        ci_2_arm_1  2022-11-09           0           3   \n488     2616       1105        ci_2_arm_1  2022-11-10           0           1   \n\n     lifestyle2a  lifestyle3  lifestyle3a  lifestyle4  ... height_inches  \\\n0            NaN         0.0          NaN           4  ...           5.0   \n1            1.0         0.0          NaN           2  ...           6.0   \n2            NaN         0.0          NaN           3  ...           4.0   \n3            0.0         1.0          1.0           3  ...           1.0   \n4            NaN         0.0          NaN           4  ...           2.0   \n..           ...         ...          ...         ...  ...           ...   \n484          3.0         1.0          4.0           3  ...           5.0   \n485          0.0         0.0          NaN           3  ...           3.0   \n486          1.0         1.0          1.0           4  ...           3.0   \n487          1.0         1.0          1.0           4  ...           4.0   \n488          1.0         1.0          1.0           4  ...           8.0   \n\n     weight weight_prepreg lifestyle_8  lifestyle_8a lifestyle_8b  \\\n0       145            117         0.0           NaN          NaN   \n1       181            170         0.0           NaN          NaN   \n2       279            279         0.0           NaN          NaN   \n3       152            149         1.0            30          2.0   \n4       170            155         2.0           NaN          NaN   \n..      ...            ...         ...           ...          ...   \n484     169            165         0.0           NaN          NaN   \n485     150            136         1.0             4          NaN   \n486     121            116         0.0           NaN          NaN   \n487     140            128         1.0             7          3.0   \n488     185            140         1.0            13          5.0   \n\n     lifestyle_9  lifestyle_9a  lifestyle_10  \\\n0            1.0           NaN           1.0   \n1            1.0           NaN           2.0   \n2            1.0           NaN           3.0   \n3            1.0           NaN           3.0   \n4            1.0           NaN           3.0   \n..           ...           ...           ...   \n484          1.0           NaN           2.0   \n485          1.0           NaN           1.0   \n486          1.0           NaN           1.0   \n487          1.0           NaN           2.0   \n488          3.0           NaN           1.0   \n\n     personal_characteristics_complete  \n0                                    2  \n1                                    2  \n2                                    2  \n3                                    2  \n4                                    2  \n..                                 ...  \n484                                  2  \n485                                  2  \n486                                  2  \n487                                  2  \n488                                  2  \n\n[489 rows x 21 columns]",
      "text/html": "<div>\n<style scoped>\n    .dataframe tbody tr th:only-of-type {\n        vertical-align: middle;\n    }\n\n    .dataframe tbody tr th {\n        vertical-align: top;\n    }\n\n    .dataframe thead th {\n        text-align: right;\n    }\n</style>\n<table border=\"1\" class=\"dataframe\">\n  <thead>\n    <tr style=\"text-align: right;\">\n      <th></th>\n      <th>user_id</th>\n      <th>record_id</th>\n      <th>redcap_event_name</th>\n      <th>date</th>\n      <th>lifestyle1</th>\n      <th>lifestyle2</th>\n      <th>lifestyle2a</th>\n      <th>lifestyle3</th>\n      <th>lifestyle3a</th>\n      <th>lifestyle4</th>\n      <th>...</th>\n      <th>height_inches</th>\n      <th>weight</th>\n      <th>weight_prepreg</th>\n      <th>lifestyle_8</th>\n      <th>lifestyle_8a</th>\n      <th>lifestyle_8b</th>\n      <th>lifestyle_9</th>\n      <th>lifestyle_9a</th>\n      <th>lifestyle_10</th>\n      <th>personal_characteristics_complete</th>\n    </tr>\n  </thead>\n  <tbody>\n    <tr>\n      <th>0</th>\n      <td>28</td>\n      <td>4</td>\n      <td>ci_2_arm_1</td>\n      <td>2021-04-01</td>\n      <td>0</td>\n      <td>0</td>\n      <td>NaN</td>\n      <td>0.0</td>\n      <td>NaN</td>\n      <td>4</td>\n      <td>...</td>\n      <td>5.0</td>\n      <td>145</td>\n      <td>117</td>\n      <td>0.0</td>\n      <td>NaN</td>\n      <td>NaN</td>\n      <td>1.0</td>\n      <td>NaN</td>\n      <td>1.0</td>\n      <td>2</td>\n    </tr>\n    <tr>\n      <th>1</th>\n      <td>29</td>\n      <td>5</td>\n      <td>ci_2_arm_1</td>\n      <td>2021-04-06</td>\n      <td>0</td>\n      <td>1</td>\n      <td>1.0</td>\n      <td>0.0</td>\n      <td>NaN</td>\n      <td>2</td>\n      <td>...</td>\n      <td>6.0</td>\n      <td>181</td>\n      <td>170</td>\n      <td>0.0</td>\n      <td>NaN</td>\n      <td>NaN</td>\n      <td>1.0</td>\n      <td>NaN</td>\n      <td>2.0</td>\n      <td>2</td>\n    </tr>\n    <tr>\n      <th>2</th>\n      <td>30</td>\n      <td>6</td>\n      <td>ci_2_arm_1</td>\n      <td>2021-04-01</td>\n      <td>0</td>\n      <td>0</td>\n      <td>NaN</td>\n      <td>0.0</td>\n      <td>NaN</td>\n      <td>3</td>\n      <td>...</td>\n      <td>4.0</td>\n      <td>279</td>\n      <td>279</td>\n      <td>0.0</td>\n      <td>NaN</td>\n      <td>NaN</td>\n      <td>1.0</td>\n      <td>NaN</td>\n      <td>3.0</td>\n      <td>2</td>\n    </tr>\n    <tr>\n      <th>3</th>\n      <td>31</td>\n      <td>7</td>\n      <td>ci_2_arm_1</td>\n      <td>2021-04-07</td>\n      <td>0</td>\n      <td>1</td>\n      <td>0.0</td>\n      <td>1.0</td>\n      <td>1.0</td>\n      <td>3</td>\n      <td>...</td>\n      <td>1.0</td>\n      <td>152</td>\n      <td>149</td>\n      <td>1.0</td>\n      <td>30</td>\n      <td>2.0</td>\n      <td>1.0</td>\n      <td>NaN</td>\n      <td>3.0</td>\n      <td>2</td>\n    </tr>\n    <tr>\n      <th>4</th>\n      <td>35</td>\n      <td>11</td>\n      <td>ci_2_arm_1</td>\n      <td>2021-04-21</td>\n      <td>0</td>\n      <td>3</td>\n      <td>NaN</td>\n      <td>0.0</td>\n      <td>NaN</td>\n      <td>4</td>\n      <td>...</td>\n      <td>2.0</td>\n      <td>170</td>\n      <td>155</td>\n      <td>2.0</td>\n      <td>NaN</td>\n      <td>NaN</td>\n      <td>1.0</td>\n      <td>NaN</td>\n      <td>3.0</td>\n      <td>2</td>\n    </tr>\n    <tr>\n      <th>...</th>\n      <td>...</td>\n      <td>...</td>\n      <td>...</td>\n      <td>...</td>\n      <td>...</td>\n      <td>...</td>\n      <td>...</td>\n      <td>...</td>\n      <td>...</td>\n      <td>...</td>\n      <td>...</td>\n      <td>...</td>\n      <td>...</td>\n      <td>...</td>\n      <td>...</td>\n      <td>...</td>\n      <td>...</td>\n      <td>...</td>\n      <td>...</td>\n      <td>...</td>\n      <td>...</td>\n    </tr>\n    <tr>\n      <th>484</th>\n      <td>2540</td>\n      <td>1101</td>\n      <td>ci_2_arm_1</td>\n      <td>2022-10-26</td>\n      <td>0</td>\n      <td>4</td>\n      <td>3.0</td>\n      <td>1.0</td>\n      <td>4.0</td>\n      <td>3</td>\n      <td>...</td>\n      <td>5.0</td>\n      <td>169</td>\n      <td>165</td>\n      <td>0.0</td>\n      <td>NaN</td>\n      <td>NaN</td>\n      <td>1.0</td>\n      <td>NaN</td>\n      <td>2.0</td>\n      <td>2</td>\n    </tr>\n    <tr>\n      <th>485</th>\n      <td>2589</td>\n      <td>1102</td>\n      <td>ci_2_arm_1</td>\n      <td>2022-10-24</td>\n      <td>0</td>\n      <td>1</td>\n      <td>0.0</td>\n      <td>0.0</td>\n      <td>NaN</td>\n      <td>3</td>\n      <td>...</td>\n      <td>3.0</td>\n      <td>150</td>\n      <td>136</td>\n      <td>1.0</td>\n      <td>4</td>\n      <td>NaN</td>\n      <td>1.0</td>\n      <td>NaN</td>\n      <td>1.0</td>\n      <td>2</td>\n    </tr>\n    <tr>\n      <th>486</th>\n      <td>2588</td>\n      <td>1103</td>\n      <td>ci_2_arm_1</td>\n      <td>2022-11-10</td>\n      <td>0</td>\n      <td>4</td>\n      <td>1.0</td>\n      <td>1.0</td>\n      <td>1.0</td>\n      <td>4</td>\n      <td>...</td>\n      <td>3.0</td>\n      <td>121</td>\n      <td>116</td>\n      <td>0.0</td>\n      <td>NaN</td>\n      <td>NaN</td>\n      <td>1.0</td>\n      <td>NaN</td>\n      <td>1.0</td>\n      <td>2</td>\n    </tr>\n    <tr>\n      <th>487</th>\n      <td>2615</td>\n      <td>1104</td>\n      <td>ci_2_arm_1</td>\n      <td>2022-11-09</td>\n      <td>0</td>\n      <td>3</td>\n      <td>1.0</td>\n      <td>1.0</td>\n      <td>1.0</td>\n      <td>4</td>\n      <td>...</td>\n      <td>4.0</td>\n      <td>140</td>\n      <td>128</td>\n      <td>1.0</td>\n      <td>7</td>\n      <td>3.0</td>\n      <td>1.0</td>\n      <td>NaN</td>\n      <td>2.0</td>\n      <td>2</td>\n    </tr>\n    <tr>\n      <th>488</th>\n      <td>2616</td>\n      <td>1105</td>\n      <td>ci_2_arm_1</td>\n      <td>2022-11-10</td>\n      <td>0</td>\n      <td>1</td>\n      <td>1.0</td>\n      <td>1.0</td>\n      <td>1.0</td>\n      <td>4</td>\n      <td>...</td>\n      <td>8.0</td>\n      <td>185</td>\n      <td>140</td>\n      <td>1.0</td>\n      <td>13</td>\n      <td>5.0</td>\n      <td>3.0</td>\n      <td>NaN</td>\n      <td>1.0</td>\n      <td>2</td>\n    </tr>\n  </tbody>\n</table>\n<p>489 rows × 21 columns</p>\n</div>"
     },
     "metadata": {},
     "execution_count": 50
    }
   ],
   "source": [
    "personal_characteristics"
   ]
  },
  {
   "cell_type": "code",
   "execution_count": null,
   "metadata": {},
   "outputs": [],
   "source": []
  }
 ],
 "metadata": {
  "language_info": {
   "codemirror_mode": {
    "name": "ipython",
    "version": 3
   },
   "file_extension": ".py",
   "mimetype": "text/x-python",
   "name": "python",
   "nbconvert_exporter": "python",
   "pygments_lexer": "ipython3",
   "version": "3.7.0-final"
  },
  "orig_nbformat": 2,
  "kernelspec": {
   "name": "python37064bitmyvenv42640430fa1449dabc77a405631854d3",
   "display_name": "Python 3.7.0 64-bit ('myvenv')"
  }
 },
 "nbformat": 4,
 "nbformat_minor": 2
}