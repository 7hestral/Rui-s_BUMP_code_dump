{
 "cells": [
  {
   "cell_type": "code",
   "execution_count": null,
   "metadata": {},
   "outputs": [],
   "source": [
    "from pcalg import estimate_cpdag\n",
    "from pcalg import estimate_skeleton\n",
    "import numpy as np\n",
    "import pandas as pd"
   ]
  },
  {
   "cell_type": "code",
   "execution_count": null,
   "metadata": {},
   "outputs": [],
   "source": [
    "from gsq.ci_tests import ci_test_bin, ci_test_dis\n",
    "from gsq.gsq_testdata import bin_data, dis_data\n",
    "a=np.array(dis_data).reshape((10000, 5))\n",
    "np.amax(a, axis=0)+1"
   ]
  },
  {
   "cell_type": "code",
   "execution_count": null,
   "metadata": {},
   "outputs": [],
   "source": [
    "data_matrix = np.array(bin_data).reshape((5000, 5))\n",
    "(graph, sep_set) = estimate_skeleton(indep_test_func=ci_test_dis,\n",
    "                                         data_matrix=data_matrix,\n",
    "                                         alpha=0.01)\n"
   ]
  },
  {
   "cell_type": "code",
   "execution_count": null,
   "metadata": {},
   "outputs": [],
   "source": [
    "import networkx as nx\n",
    "nx.draw(graph, with_labels=True)"
   ]
  },
  {
   "cell_type": "code",
   "execution_count": null,
   "metadata": {},
   "outputs": [],
   "source": [
    "graph = estimate_cpdag(skel_graph=graph, sep_set=sep_set)\n",
    "nx.draw(graph, with_labels=True)\n"
   ]
  },
  {
   "cell_type": "code",
   "execution_count": null,
   "metadata": {},
   "outputs": [],
   "source": [
    "pd.read_csv(\"/domino/datasets/Bump/processed_causal_ace.csv\")"
   ]
  },
  {
   "cell_type": "code",
   "execution_count": null,
   "metadata": {},
   "outputs": [],
   "source": []
  }
 ],
 "metadata": {
  "language_info": {
   "name": "python",
   "pygments_lexer": "ipython3"
  }
 },
 "nbformat": 4,
 "nbformat_minor": 2
}
