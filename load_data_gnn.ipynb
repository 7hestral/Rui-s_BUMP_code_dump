{
 "cells": [
  {
   "cell_type": "code",
   "execution_count": null,
   "metadata": {},
   "outputs": [],
   "source": [
    "from src.utils import data_load\n",
    "import pandas as pd\n",
    "from src.s3_utils import pandas_from_csv_s3\n",
    "import numpy as np"
   ]
  },
  {
   "cell_type": "code",
   "execution_count": null,
   "metadata": {},
   "outputs": [],
   "source": [
    "data = data_load(data_keys={'bodyport', 'oura_activity', 'oura_sleep'})\n"
   ]
  },
  {
   "cell_type": "code",
   "execution_count": null,
   "metadata": {},
   "outputs": [],
   "source": [
    "data['bodyport']['subsource'].unique()\n",
    "# subsource is only `weight`"
   ]
  },
  {
   "cell_type": "code",
   "execution_count": null,
   "metadata": {},
   "outputs": [],
   "source": [
    "data_bodyport = data['bodyport']\n",
    "users = data_bodyport['user_id'].unique().tolist()\n",
    "most_data_user = -1\n",
    "most_data = -1\n",
    "for u in users:\n",
    "    num_data = len(data_bodyport[data_bodyport['user_id'] == u])\n",
    "    if num_data > most_data:\n",
    "        most_data = num_data\n",
    "        most_data_user = u\n",
    "most_data_user\n",
    "# userid 74 has the most data"
   ]
  },
  {
   "cell_type": "code",
   "execution_count": null,
   "metadata": {},
   "outputs": [],
   "source": [
    "data_bodyport.columns.tolist()"
   ]
  },
  {
   "cell_type": "code",
   "execution_count": null,
   "metadata": {},
   "outputs": [],
   "source": [
    "selected_data_bodyport = data_bodyport[data_bodyport['user_id'] == 74][['date', 'impedance_ratio', 'peripheral_fluid', 'impedance_mag_1_ohms', 'impedance_phase_1_degs', 'weight_kg']].groupby(\"date\", as_index = False).mean()\n"
   ]
  },
  {
   "cell_type": "code",
   "execution_count": null,
   "metadata": {},
   "outputs": [],
   "source": [
    "data_oura_activity = data['oura_activity']\n",
    "data_oura_activity[data_oura_activity['user_id'] == 74]\n",
    "data_oura_sleep = data['oura_sleep']\n",
    "# target_user_sleep = data_oura_sleep[data_oura_sleep['user_id'] == 74]\n",
    "# target_user_sleep[['hr_5min', 'date']]"
   ]
  },
  {
   "cell_type": "code",
   "execution_count": null,
   "metadata": {},
   "outputs": [],
   "source": [
    "data_oura_activity.columns.tolist()"
   ]
  },
  {
   "cell_type": "code",
   "execution_count": null,
   "metadata": {},
   "outputs": [],
   "source": [
    "selected_data_oura_activity = data_oura_activity[data_oura_activity['user_id'] == 74][[\n",
    " 'cal_active',\n",
    " 'cal_total',\n",
    " 'daily_movement',\n",
    " 'high',\n",
    " 'inactive',\n",
    "#  'inactivity_alerts',\n",
    " 'low',\n",
    " 'medium',\n",
    " 'met_min_high',\n",
    " 'met_min_inactive',\n",
    " 'met_min_low',\n",
    " 'met_min_medium',\n",
    " 'non_wear',\n",
    " 'rest',\n",
    "#  'rest_mode_state',\n",
    "#  'score',\n",
    "#  'score_meet_daily_targets',\n",
    "#  'score_move_every_hour',\n",
    "#  'score_recovery_time',\n",
    "#  'score_stay_active',\n",
    "#  'score_training_frequency',\n",
    "#  'score_training_volume',\n",
    " 'steps',\n",
    " 'date']]"
   ]
  },
  {
   "cell_type": "code",
   "execution_count": null,
   "metadata": {},
   "outputs": [],
   "source": [
    "def get_min_date(df):\n",
    "    return np.min(df['date'])\n",
    "def get_max_date(df):\n",
    "    return np.max(df['date'])"
   ]
  },
  {
   "cell_type": "code",
   "execution_count": null,
   "metadata": {},
   "outputs": [],
   "source": [
    "\n",
    "# # union\n",
    "# overall_min_date = np.min([get_min_date(selected_data_bodyport), get_min_date(selected_data_oura_activity)])\n",
    "# overall_max_date = np.max([get_max_date(selected_data_bodyport), get_max_date(selected_data_oura_activity)])\n",
    "\n",
    "# intercept\n",
    "overall_min_date = np.max([get_min_date(selected_data_bodyport), get_min_date(selected_data_oura_activity)])\n",
    "overall_max_date = np.min([get_max_date(selected_data_bodyport), get_max_date(selected_data_oura_activity)])\n",
    "\n",
    "date_range = pd.date_range(overall_min_date, overall_max_date, freq='d')\n",
    "overall_df = pd.DataFrame()\n",
    "overall_df['date'] = date_range\n",
    "selected_data_bodyport['date'] = selected_data_bodyport['date'].astype('datetime64')\n",
    "selected_data_oura_activity['date'] = selected_data_oura_activity['date'].astype('datetime64')\n",
    "overall_df = pd.merge(overall_df, selected_data_bodyport, how='left')\n",
    "overall_df = pd.merge(overall_df, selected_data_oura_activity, how='left')\n"
   ]
  },
  {
   "cell_type": "code",
   "execution_count": null,
   "metadata": {},
   "outputs": [],
   "source": [
    "np.sum(overall_df.isna())"
   ]
  },
  {
   "cell_type": "code",
   "execution_count": null,
   "metadata": {},
   "outputs": [],
   "source": [
    "overall_df.describe()"
   ]
  },
  {
   "cell_type": "code",
   "execution_count": null,
   "metadata": {},
   "outputs": [],
   "source": [
    "overall_df.loc[overall_df['impedance_ratio'] > 10,'impedance_ratio'] = np.nan\n",
    "np.sum(overall_df.isna())"
   ]
  },
  {
   "cell_type": "code",
   "execution_count": null,
   "metadata": {},
   "outputs": [],
   "source": [
    "import seaborn as sns\n",
    "import matplotlib.pyplot as plt\n",
    "\n",
    "sns.set_theme(style='darkgrid')\n",
    "sns.set(rc={'figure.figsize':(11.7,8.27)})\n",
    "sns.scatterplot(data=overall_df, x=\"date\", y=\"non_wear\")\n",
    "\n"
   ]
  },
  {
   "cell_type": "code",
   "execution_count": null,
   "metadata": {},
   "outputs": [],
   "source": [
    "overall_df_filled = overall_df.fillna(method=\"ffill\")\n",
    "#sns.scatterplot(data=overall_df_filled, x=\"date\", y=\"non_wear\")\n",
    "sns.scatterplot(x=overall_df_filled[\"date\"], y=overall_df_filled[\"non_wear\"])"
   ]
  },
  {
   "cell_type": "code",
   "execution_count": null,
   "metadata": {},
   "outputs": [],
   "source": [
    "overall_df_filled = overall_df_filled.drop('date', axis=1)\n",
    "overall_df_filled.to_csv('/mnt/results/user_72_activity_bodyport_ffilled.csv', index=False, header=False)\n",
    "overall_df_without_date = overall_df.drop('date', axis=1)\n",
    "overall_df_without_date.to_csv('/mnt/results/user_72_activity_bodyport_unfilled.csv', index=False, header=False)"
   ]
  },
  {
   "cell_type": "code",
   "execution_count": null,
   "metadata": {},
   "outputs": [],
   "source": [
    "overall_df_filled.columns.to_list()"
   ]
  },
  {
   "cell_type": "code",
   "execution_count": null,
   "metadata": {},
   "outputs": [],
   "source": [
    "len(overall_df_filled.columns.to_list())"
   ]
  },
  {
   "cell_type": "code",
   "execution_count": null,
   "metadata": {},
   "outputs": [],
   "source": [
    "np.sum(overall_df_filled.isna())"
   ]
  },
  {
   "cell_type": "code",
   "execution_count": null,
   "metadata": {},
   "outputs": [],
   "source": [
    "len(overall_df_filled)"
   ]
  },
  {
   "cell_type": "code",
   "execution_count": null,
   "metadata": {},
   "outputs": [],
   "source": [
    "# hyperimpute requires python 3.7\n",
    "from hyperimpute.plugins.imputers import Imputers\n",
    "import numpy as np\n",
    "imputers = Imputers()\n",
    "\n",
    "imputers.list()\n",
    "method = 'hyperimpute'\n",
    "plugin = Imputers().get(method)\n",
    "X = overall_df_without_date\n",
    "out = plugin.fit_transform(X.copy())\n",
    "\n",
    "print(method, out)"
   ]
  },
  {
   "cell_type": "code",
   "execution_count": null,
   "metadata": {},
   "outputs": [],
   "source": [
    "hyperimputed_df_without_date = out\n",
    "hyperimputed_df_without_date.to_csv('/mnt/results/user_72_activity_bodyport_hyperimpute.csv', index=False, header=False)"
   ]
  },
  {
   "cell_type": "code",
   "execution_count": null,
   "metadata": {},
   "outputs": [],
   "source": [
    "hyperimputed_df_without_date['date'] = date_range"
   ]
  },
  {
   "cell_type": "code",
   "execution_count": null,
   "metadata": {},
   "outputs": [],
   "source": [
    "sns.scatterplot(x=hyperimputed_df_without_date[\"date\"], y=hyperimputed_df_without_date[\"impedance_ratio\"], hue=overall_df['impedance_ratio'].isna())"
   ]
  },
  {
   "cell_type": "code",
   "execution_count": null,
   "metadata": {},
   "outputs": [],
   "source": []
  }
 ],
 "metadata": {
  "language_info": {
   "name": "python",
   "pygments_lexer": "ipython3"
  }
 },
 "nbformat": 4,
 "nbformat_minor": 2
}
