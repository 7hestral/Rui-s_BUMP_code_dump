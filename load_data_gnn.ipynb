{
 "cells": [
  {
   "cell_type": "code",
   "execution_count": null,
   "metadata": {},
   "outputs": [],
   "source": [
    "from src.utils import data_load\n",
    "import pandas as pd\n",
    "from src.s3_utils import pandas_from_csv_s3\n",
    "import numpy as np\n",
    "from utils import get_survey_question"
   ]
  },
  {
   "cell_type": "code",
   "execution_count": null,
   "metadata": {},
   "outputs": [],
   "source": [
    "data = data_load(data_keys={'bodyport', 'oura_activity', 'oura_sleep', \"surveys\"}, wave=5)\n"
   ]
  },
  {
   "cell_type": "code",
   "execution_count": null,
   "metadata": {},
   "outputs": [],
   "source": [
    "print(len(data['surveys']['user_id'].unique()))\n",
    "print(len(data['bodyport']['user_id'].unique()))\n",
    "print(len(data['oura_sleep']['user_id'].unique()))\n"
   ]
  },
  {
   "cell_type": "code",
   "execution_count": null,
   "metadata": {},
   "outputs": [],
   "source": [
    "df_survey = data['surveys']\n",
    "survey_question_str = 'swollen'\n",
    "df_edema = get_survey_question(df_survey, survey_question_str)\n",
    "df_edema[df_edema['user_id'] == 293][['answer_text', 'date']]"
   ]
  },
  {
   "cell_type": "code",
   "execution_count": null,
   "metadata": {},
   "outputs": [],
   "source": [
    "import datetime\n",
    "df_birth = data_load(data_keys={'birth'})['birth']\n",
    "pd.to_datetime(df_birth[df_birth.user_id == 293].birth_date.values[0])\n",
    "pd.to_datetime(df_birth[df_birth.user_id == 293].birth_date.values[0]) - datetime.timedelta(days=91)"
   ]
  },
  {
   "cell_type": "code",
   "execution_count": null,
   "metadata": {},
   "outputs": [],
   "source": [
    "\n",
    "\n",
    "df_puqe = data['surveys'].loc[data['surveys']['title']=='PUQE']\n",
    "puqe_user_lst = []\n",
    "for u in df_puqe['user_id'].unique():\n",
    "    # 53, 54, 132, 404\n",
    "    # 404: 'During the past week, did you experience any nausea?'\n",
    "    # 132: 'On average in a day, for how long do you feel nauseated or sick to your stomach?'\n",
    "    # 53: 'On average in a day, how many times do you vomit or throw up?'\n",
    "    # 54: 'On average in a day, how many times have you had retching or dry heaves without bringing anything up?'\n",
    "    selected_user_puqe = df_puqe[df_puqe['user_id'] == u]\n",
    "    every_date = selected_user_puqe['date'].unique()\n",
    "    count = 0\n",
    "    for d in every_date:\n",
    "        if len(selected_user_puqe.loc[(selected_user_puqe['date'] == d) & (selected_user_puqe['question_id'] == 404)]):\n",
    "            if (selected_user_puqe.loc[(selected_user_puqe['date'] == d) & (selected_user_puqe['question_id'] == 404)]['answer_text'].iloc[0]) == 'Yes':\n",
    "                count += 1\n",
    "    puqe_user_lst.append((u, count))\n",
    "most_user = sorted(puqe_user_lst, key=lambda x: x[1], reverse=True)[0][0]\n",
    "\n",
    "selected_user_puqe = df_puqe[df_puqe['user_id'] == 1032]\n",
    "selected_user_puqe\n",
    "sorted_select = sorted(puqe_user_lst, key=lambda x: x[1], reverse=True)\n",
    "list(map(lambda x: x[0], sorted_select))\n",
    "\n",
    "# user 1032 has most puqe"
   ]
  },
  {
   "cell_type": "code",
   "execution_count": null,
   "metadata": {},
   "outputs": [],
   "source": [
    "data['bodyport']['subsource'].unique()\n",
    "# subsource is only `weight`"
   ]
  },
  {
   "cell_type": "code",
   "execution_count": null,
   "metadata": {},
   "outputs": [],
   "source": [
    "data_bodyport = data['bodyport']\n",
    "users = data_bodyport['user_id'].unique().tolist()\n",
    "most_data_user = -1\n",
    "most_data = -1\n",
    "for u in users:\n",
    "    num_data = len(data_bodyport[data_bodyport['user_id'] == u])\n",
    "    if num_data > most_data:\n",
    "        most_data = num_data\n",
    "        most_data_user = u\n",
    "most_data_user\n",
    "# userid 74 has the most data for bodyport\n",
    "# userid 293 has the most data for daily surveys"
   ]
  },
  {
   "cell_type": "code",
   "execution_count": null,
   "metadata": {},
   "outputs": [],
   "source": [
    "data_bodyport.columns.tolist()"
   ]
  },
  {
   "cell_type": "code",
   "execution_count": null,
   "metadata": {},
   "outputs": [],
   "source": [
    "selected_data_bodyport = data_bodyport[data_bodyport['user_id'] == 74][['date', 'impedance_ratio', 'peripheral_fluid', 'impedance_mag_1_ohms', 'impedance_phase_1_degs', 'weight_kg']].groupby(\"date\", as_index = False).mean()\n"
   ]
  },
  {
   "cell_type": "code",
   "execution_count": null,
   "metadata": {},
   "outputs": [],
   "source": [
    "data_oura_activity = data['oura_activity']\n",
    "data_oura_activity[data_oura_activity['user_id'] == 74]\n",
    "data_oura_sleep = data['oura_sleep']\n",
    "# target_user_sleep = data_oura_sleep[data_oura_sleep['user_id'] == 74]\n",
    "# target_user_sleep[['hr_5min', 'date']]"
   ]
  },
  {
   "cell_type": "code",
   "execution_count": null,
   "metadata": {},
   "outputs": [],
   "source": [
    "data_oura_activity.columns.tolist()"
   ]
  },
  {
   "cell_type": "code",
   "execution_count": null,
   "metadata": {},
   "outputs": [],
   "source": [
    "selected_data_oura_activity = data_oura_activity[data_oura_activity['user_id'] == 74][[\n",
    " 'cal_active',\n",
    " 'cal_total',\n",
    " 'daily_movement',\n",
    " 'high',\n",
    " 'inactive',\n",
    "#  'inactivity_alerts',\n",
    " 'low',\n",
    " 'medium',\n",
    " 'met_min_high',\n",
    " 'met_min_inactive',\n",
    " 'met_min_low',\n",
    " 'met_min_medium',\n",
    " 'non_wear',\n",
    " 'rest',\n",
    "#  'rest_mode_state',\n",
    "#  'score',\n",
    "#  'score_meet_daily_targets',\n",
    "#  'score_move_every_hour',\n",
    "#  'score_recovery_time',\n",
    "#  'score_stay_active',\n",
    "#  'score_training_frequency',\n",
    "#  'score_training_volume',\n",
    " 'steps',\n",
    " 'date']]"
   ]
  },
  {
   "cell_type": "code",
   "execution_count": null,
   "metadata": {},
   "outputs": [],
   "source": [
    "def get_min_date(df):\n",
    "    return np.min(df['date'])\n",
    "def get_max_date(df):\n",
    "    return np.max(df['date'])"
   ]
  },
  {
   "cell_type": "code",
   "execution_count": null,
   "metadata": {},
   "outputs": [],
   "source": [
    "\n",
    "# # union\n",
    "# overall_min_date = np.min([get_min_date(selected_data_bodyport), get_min_date(selected_data_oura_activity)])\n",
    "# overall_max_date = np.max([get_max_date(selected_data_bodyport), get_max_date(selected_data_oura_activity)])\n",
    "\n",
    "# intercept\n",
    "overall_min_date = np.max([get_min_date(selected_data_bodyport), get_min_date(selected_data_oura_activity)])\n",
    "overall_max_date = np.min([get_max_date(selected_data_bodyport), get_max_date(selected_data_oura_activity)])\n",
    "\n",
    "date_range = pd.date_range(overall_min_date, overall_max_date, freq='d')\n",
    "overall_df = pd.DataFrame()\n",
    "overall_df['date'] = date_range\n",
    "selected_data_bodyport['date'] = selected_data_bodyport['date'].astype('datetime64')\n",
    "selected_data_oura_activity['date'] = selected_data_oura_activity['date'].astype('datetime64')\n",
    "overall_df = pd.merge(overall_df, selected_data_bodyport, how='left')\n",
    "overall_df = pd.merge(overall_df, selected_data_oura_activity, how='left')\n"
   ]
  },
  {
   "cell_type": "code",
   "execution_count": null,
   "metadata": {},
   "outputs": [],
   "source": [
    "np.sum(overall_df.isna())"
   ]
  },
  {
   "cell_type": "code",
   "execution_count": null,
   "metadata": {},
   "outputs": [],
   "source": [
    "overall_df.describe()"
   ]
  },
  {
   "cell_type": "code",
   "execution_count": null,
   "metadata": {},
   "outputs": [],
   "source": [
    "overall_df.loc[overall_df['impedance_ratio'] > 10,'impedance_ratio'] = np.nan\n",
    "np.sum(overall_df.isna())"
   ]
  },
  {
   "cell_type": "code",
   "execution_count": null,
   "metadata": {},
   "outputs": [],
   "source": [
    "import seaborn as sns\n",
    "import matplotlib.pyplot as plt\n",
    "\n",
    "sns.set_theme(style='darkgrid')\n",
    "sns.set(rc={'figure.figsize':(11.7,8.27)})\n",
    "sns.scatterplot(data=overall_df, x=\"date\", y=\"non_wear\")\n",
    "\n"
   ]
  },
  {
   "cell_type": "code",
   "execution_count": null,
   "metadata": {},
   "outputs": [],
   "source": [
    "overall_df_filled = overall_df.fillna(method=\"ffill\")\n",
    "#sns.scatterplot(data=overall_df_filled, x=\"date\", y=\"non_wear\")\n",
    "sns.scatterplot(x=overall_df_filled[\"date\"], y=overall_df_filled[\"non_wear\"])"
   ]
  },
  {
   "cell_type": "code",
   "execution_count": null,
   "metadata": {},
   "outputs": [],
   "source": [
    "overall_df_filled = overall_df_filled.drop('date', axis=1)\n",
    "overall_df_filled.to_csv('/mnt/results/user_72_activity_bodyport_ffilled.csv', index=False, header=False)\n",
    "overall_df_without_date = overall_df.drop('date', axis=1)\n",
    "overall_df_without_date.to_csv('/mnt/results/user_72_activity_bodyport_unfilled.csv', index=False, header=False)"
   ]
  },
  {
   "cell_type": "code",
   "execution_count": null,
   "metadata": {},
   "outputs": [],
   "source": [
    "overall_df_filled.columns.to_list()"
   ]
  },
  {
   "cell_type": "code",
   "execution_count": null,
   "metadata": {},
   "outputs": [],
   "source": [
    "len(overall_df_filled.columns.to_list())"
   ]
  },
  {
   "cell_type": "code",
   "execution_count": null,
   "metadata": {},
   "outputs": [],
   "source": [
    "np.sum(overall_df_filled.isna())"
   ]
  },
  {
   "cell_type": "code",
   "execution_count": null,
   "metadata": {},
   "outputs": [],
   "source": [
    "len(overall_df_filled)"
   ]
  },
  {
   "cell_type": "code",
   "execution_count": null,
   "metadata": {},
   "outputs": [],
   "source": [
    "# hyperimpute requires python 3.7\n",
    "from hyperimpute.plugins.imputers import Imputers\n",
    "import numpy as np\n",
    "imputers = Imputers()\n",
    "\n",
    "imputers.list()\n",
    "method = 'hyperimpute'\n",
    "plugin = Imputers().get(method)\n",
    "X = overall_df_without_date\n",
    "out = plugin.fit_transform(X.copy())\n",
    "\n",
    "print(method, out)"
   ]
  },
  {
   "cell_type": "code",
   "execution_count": null,
   "metadata": {},
   "outputs": [],
   "source": [
    "hyperimputed_df_without_date = out\n",
    "hyperimputed_df_without_date.to_csv('/mnt/results/user_72_activity_bodyport_hyperimpute.csv', index=False, header=False)"
   ]
  },
  {
   "cell_type": "code",
   "execution_count": null,
   "metadata": {},
   "outputs": [],
   "source": [
    "hyperimputed_df_without_date['date'] = date_range"
   ]
  },
  {
   "cell_type": "code",
   "execution_count": null,
   "metadata": {},
   "outputs": [],
   "source": [
    "sns.scatterplot(x=hyperimputed_df_without_date[\"date\"], y=hyperimputed_df_without_date[\"impedance_ratio\"], hue=overall_df['impedance_ratio'].isna())"
   ]
  },
  {
   "cell_type": "code",
   "execution_count": null,
   "metadata": {},
   "outputs": [],
   "source": []
  }
 ],
 "metadata": {
  "language_info": {
   "name": "python",
   "pygments_lexer": "ipython3"
  }
 },
 "nbformat": 4,
 "nbformat_minor": 2
}
