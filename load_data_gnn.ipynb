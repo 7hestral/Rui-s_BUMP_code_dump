{
 "cells": [
  {
   "cell_type": "code",
   "execution_count": null,
   "metadata": {},
   "outputs": [],
   "source": [
    "from src.utils import data_load\n",
    "import pandas as pd\n",
    "from src.s3_utils import pandas_from_csv_s3\n",
    "import numpy as np\n",
    "from datetime import datetime, timedelta\n",
    "import seaborn as sns\n",
    "import matplotlib.pyplot as plt\n",
    "from utils import get_survey_question, na_rate\n",
    "from hyperimpute.plugins.imputers import Imputers\n",
    "\n",
    "import hyperimpute as hp"
   ]
  },
  {
   "cell_type": "code",
   "execution_count": null,
   "metadata": {},
   "outputs": [],
   "source": [
    "data = data_load(data_keys={'bodyport', 'oura_activity', 'oura_sleep', \"surveys\"}, wave=7)\n"
   ]
  },
  {
   "cell_type": "code",
   "execution_count": null,
   "metadata": {},
   "outputs": [],
   "source": [
    "df_birth = data_load(data_keys={\"birth\"}, wave=5)['birth']"
   ]
  },
  {
   "cell_type": "code",
   "execution_count": null,
   "metadata": {},
   "outputs": [],
   "source": [
    "# mast_mat: shape Txd\n",
    "def get_usable_window(mask, window_size=21, tolerance=2):\n",
    "    result_windows = []\n",
    "    T = len(mask)\n",
    "    i=0\n",
    "    while i < (T - window_size + 1):\n",
    "        curr_window = np.array(mask[i:i+window_size])\n",
    "        # usable\n",
    "        if np.sum(curr_window) < tolerance:\n",
    "            result_windows.append((i, i+window_size))\n",
    "            i += window_size\n",
    "        else:\n",
    "            # add tolerance window\n",
    "            tolerance_window = np.array(mask[i:i+window_size+tolerance])\n",
    "            miss_idx = np.where(tolerance_window == 1)[0]\n",
    "            tolerance_counter = 0\n",
    "            early_stop = False\n",
    "            stop_idx = None\n",
    "            for j in range(len(miss_idx) - 1):\n",
    "                if miss_idx[j] + 1 == miss_idx[j + 1]:\n",
    "                    tolerance_counter += 1\n",
    "                else:\n",
    "                    tolerance_counter = 0\n",
    "                if tolerance_counter >= tolerance:\n",
    "                    early_stop = True\n",
    "                    stop_idx = j + 1\n",
    "                    # break\n",
    "            if early_stop:\n",
    "                i += stop_idx + 1\n",
    "            else:\n",
    "                # usable\n",
    "                result_windows.append((i, i+window_size))\n",
    "                i += window_size\n",
    "    return result_windows\n",
    "\n",
    "my_mask = [0,0,0,0,0, 0, 0, 1, 1, 1, 0, 0, 0, 0, 0, 0, 0, 0, 0, 0, 0, 0, 0, 0, 0, 0, 0, 1, 0, 0, 0, 0, 0, 0, 0, 0, 0, 0, 0, 0, 0, 0]\n",
    "print(my_mask)\n",
    "get_usable_window(my_mask)\n",
    "        \n"
   ]
  },
  {
   "cell_type": "code",
   "execution_count": null,
   "metadata": {},
   "outputs": [],
   "source": [
    "def generate_csv_for_user(selected_user, preset_start_date=datetime(2009, 10, 12, 10, 10), preset_end_date=datetime(2030, 10, 12, 10, 10), file_name=''):\n",
    "\n",
    "    # selected_user = 1441\n",
    "    print(f\"Curr user: {selected_user}\")\n",
    "    root_folder = file_name\n",
    "\n",
    "\n",
    "    data_bodyport = data['bodyport']\n",
    "    data_oura_activity = data['oura_activity']\n",
    "    data_oura_sleep = data['oura_sleep']\n",
    "    # data_survey = data['surveys']\n",
    "    # survey_question_str = 'swollen'\n",
    "    selected_data_bodyport = data_bodyport[data_bodyport['user_id'] == selected_user][['date', \n",
    "    # 'impedance_ratio', \n",
    "    # 'peripheral_fluid', \n",
    "    'impedance_mag_1_ohms', 'impedance_phase_1_degs', \n",
    "    'weight_kg']].groupby(\"date\", as_index = False).first()\n",
    "    edema_csv_path = f'/mnt/results/edema_coarse_label/user_{selected_user}_edema_coarse_label.csv'\n",
    "    if not os.path.exists(edema_csv_path):\n",
    "        print(\"Empty Edema\")\n",
    "        return\n",
    "    selected_data_edema = pd.read_csv(edema_csv_path).groupby(\"date\", as_index = False).first()\n",
    "\n",
    "    selected_data_oura_sleep = data_oura_sleep[data_oura_sleep['user_id'] == selected_user][['breath_average', 'date']]\n",
    "    selected_data_oura_activity = data_oura_activity[data_oura_activity['user_id'] == selected_user][[\n",
    "    # 'cal_active',\n",
    "    'cal_total',\n",
    "    'daily_movement',\n",
    "    'high',\n",
    "    'inactive',\n",
    "    'low',\n",
    "    'medium',\n",
    "    'non_wear',\n",
    "    'rest',\n",
    "    'steps',\n",
    "    'date']]\n",
    "\n",
    "\n",
    "    def get_min_date(df):\n",
    "        return np.min(df['date'].astype('datetime64'))\n",
    "    def get_max_date(df):\n",
    "        return np.max(df['date'].astype('datetime64'))\n",
    "    \n",
    "    if not len(selected_data_bodyport):\n",
    "        print(\"Empty bodyport\")\n",
    "        return\n",
    "    if not len(selected_data_oura_activity):\n",
    "        print(\"Empty Oura activity\")\n",
    "        return\n",
    "    if not len(selected_data_edema):\n",
    "        print(\"Empty Edema\")\n",
    "        return\n",
    "    if not len(selected_data_oura_sleep):\n",
    "        print(\"Empty Oura sleep\")\n",
    "        return\n",
    "\n",
    "    overall_min_date = np.max(list(map(get_min_date, (selected_data_edema, selected_data_bodyport, selected_data_oura_activity, selected_data_oura_sleep))) + [preset_start_date])\n",
    "    overall_max_date = np.min(list(map(get_max_date, (selected_data_edema, selected_data_bodyport, selected_data_oura_activity, selected_data_oura_sleep))) + [preset_end_date])\n",
    "    \n",
    "    date_range = pd.date_range(overall_min_date, overall_max_date, freq='d')\n",
    "    print(overall_max_date-overall_min_date)\n",
    "    if overall_max_date-overall_min_date < timedelta(days=10):\n",
    "        return False\n",
    "    date_df = pd.DataFrame()\n",
    "    date_df['date'] = date_range\n",
    "    date_df['date'] = date_df['date'].astype(\"datetime64\")\n",
    "    date_df.to_csv('/mnt/test2.csv')\n",
    "    def change_date_type(df):\n",
    "        df['date'] = df['date'].astype('datetime64')\n",
    "        return pd.merge(date_df, df, how='left')\n",
    "\n",
    "    selected_data_edema = change_date_type(selected_data_edema)\n",
    "    selected_data_oura_activity = change_date_type(selected_data_oura_activity)\n",
    "    selected_data_oura_sleep = change_date_type(selected_data_oura_sleep)\n",
    "    selected_data_bodyport = change_date_type(selected_data_bodyport)\n",
    "\n",
    "    unimputed_df = pd.DataFrame()\n",
    "    unimputed_df['date'] = date_range\n",
    "    unimputed_df = pd.merge(unimputed_df, selected_data_bodyport, how='left')\n",
    "    unimputed_df = pd.merge(unimputed_df, selected_data_oura_activity, how='left')\n",
    "    unimputed_df = pd.merge(unimputed_df, selected_data_oura_sleep, how='left')\n",
    "    unimputed_df = pd.merge(unimputed_df, selected_data_edema, how='left')\n",
    "\n",
    "    missingness_mask = unimputed_df.isna()\n",
    "    missingness_mask = np.sum(missingness_mask, axis=1)\n",
    "    missingness_mask[missingness_mask >= 1] = 1\n",
    "    \n",
    "    window_lst = get_usable_window(missingness_mask, tolerance=3)\n",
    "\n",
    "    imputers = Imputers()\n",
    "    imputers.list()\n",
    "    method = 'hyperimpute'\n",
    "    plugin = Imputers().get(method)\n",
    "\n",
    "\n",
    "\n",
    "    if not os.path.exists(os.path.join('/', 'mnt', 'results', root_folder)):\n",
    "        os.mkdir(os.path.join('/', 'mnt', 'results', root_folder))\n",
    "    # save the windows\n",
    "    for count, w in enumerate(window_lst):\n",
    "        curr_window = unimputed_df[w[0]:w[1]]\n",
    "        X = curr_window.drop('date', axis=1).drop('user_id', axis=1)\n",
    "        # print(np.sum(X.isna()))\n",
    "        # print(X.shape)\n",
    "        curr_window = plugin.fit_transform(X.copy())\n",
    "        curr_window.to_csv(f'/mnt/results/{root_folder}/user_{selected_user}_{file_name}_hyperimpute_slice{count}.csv', index=False, header=False)\n",
    "\n",
    "        hyperimputed_df_with_date = curr_window.copy()\n",
    "        hyperimputed_df_with_date['date'] = date_range[w[0]:w[1]]\n",
    "        hyperimputed_df_with_date.to_csv(f'/mnt/results/{root_folder}/user_{selected_user}_{file_name}_hyperimpute_with_date_slice{count}.csv', index=False)\n",
    "\n",
    "    return len(window_lst)\n",
    "\n"
   ]
  },
  {
   "cell_type": "code",
   "execution_count": null,
   "metadata": {},
   "outputs": [],
   "source": [
    "counter = 0\n",
    "for user in df_birth['user_id'].unique():\n",
    "    user = int(user)\n",
    "    if len(df_birth[df_birth.user_id == user].birth_date):\n",
    "        curr_birth_date = pd.to_datetime(df_birth[df_birth.user_id == user].birth_date.values[0])\n",
    "        # only interested in the 3rd trimester\n",
    "        third_trimester_start_date = curr_birth_date - timedelta(days=91)\n",
    "        result = generate_csv_for_user(user, preset_start_date=third_trimester_start_date, preset_end_date=curr_birth_date, file_name='edema_pred_window')\n",
    "        if result:\n",
    "            counter += result\n",
    "counter\n"
   ]
  },
  {
   "cell_type": "code",
   "execution_count": null,
   "metadata": {},
   "outputs": [],
   "source": [
    "result[1:21]"
   ]
  },
  {
   "cell_type": "code",
   "execution_count": null,
   "metadata": {},
   "outputs": [],
   "source": [
    "\n",
    "selected_user = 53\n",
    "\n",
    "curr_birth_date = pd.to_datetime(df_birth[df_birth.user_id == selected_user].birth_date.values[0])\n",
    "# only interested in the 3rd trimester\n",
    "third_trimester_start_date = curr_birth_date - timedelta(days=91)\n",
    "a = generate_csv_for_user(selected_user, preset_start_date=third_trimester_start_date, preset_end_date=curr_birth_date, file_name='edema_pred')\n",
    "np.sum(a)\n",
    "get_usable_window(a, tolerance=3)\n"
   ]
  },
  {
   "cell_type": "code",
   "execution_count": null,
   "metadata": {},
   "outputs": [],
   "source": [
    "for count, i in enumerate(a):\n",
    "    print(count, i)"
   ]
  },
  {
   "cell_type": "code",
   "execution_count": null,
   "metadata": {},
   "outputs": [],
   "source": [
    "# data = data_load(data_keys={'bodyport', 'oura_activity', 'oura_sleep', \"surveys\"}, wave=6)\n",
    "data = data_load(data_keys={'bodyport'}, wave=7)\n",
    "df_birth = data_load(data_keys={'birth'}, wave=5)['birth']\n",
    "df_oura_activity = data_load(data_keys={\"oura_activity\"}, wave=7)[\"oura_activity\"]\n"
   ]
  },
  {
   "cell_type": "code",
   "execution_count": null,
   "metadata": {},
   "outputs": [],
   "source": [
    "df_garmin_activity = data_load(data_keys={\"garmin_activities\"}, wave=7)[\"garmin_activities\"]\n",
    "df_garmin_activity = df_garmin_activity[df_garmin_activity['record_id'] == 'sema4_524']"
   ]
  },
  {
   "cell_type": "code",
   "execution_count": null,
   "metadata": {},
   "outputs": [],
   "source": [
    "# print(len(data['surveys']['user_id'].unique()))\n",
    "print(len(data['bodyport']['user_id'].unique()))\n",
    "# print(len(data['oura_sleep']['user_id'].unique()))\n",
    "df_bodyport = data['bodyport']\n",
    "print(len(df_bodyport))"
   ]
  },
  {
   "cell_type": "code",
   "execution_count": null,
   "metadata": {},
   "outputs": [],
   "source": [
    "selected_bodyport_df = df_bodyport[df_bodyport['record_id'] == 'sema4_69']"
   ]
  },
  {
   "cell_type": "code",
   "execution_count": null,
   "metadata": {},
   "outputs": [],
   "source": [
    "selected_bodyport_df.columns"
   ]
  },
  {
   "cell_type": "code",
   "execution_count": null,
   "metadata": {},
   "outputs": [],
   "source": [
    "len(selected_bodyport_df)"
   ]
  },
  {
   "cell_type": "code",
   "execution_count": null,
   "metadata": {},
   "outputs": [],
   "source": [
    "selected_bodyport_df.dtypes"
   ]
  },
  {
   "cell_type": "code",
   "execution_count": null,
   "metadata": {},
   "outputs": [],
   "source": [
    "np.sum(selected_bodyport_df.isna())"
   ]
  },
  {
   "cell_type": "code",
   "execution_count": null,
   "metadata": {},
   "outputs": [],
   "source": [
    "selected_bodyport_df = selected_bodyport_df.fillna(selected_bodyport_df.mean())                                          "
   ]
  },
  {
   "cell_type": "code",
   "execution_count": null,
   "metadata": {},
   "outputs": [],
   "source": [
    "selected_bodyport_df.record_id"
   ]
  },
  {
   "cell_type": "code",
   "execution_count": null,
   "metadata": {},
   "outputs": [],
   "source": [
    "selected_bodyport_df = selected_bodyport_df[[\n",
    "       'backend_sway_area_mm2', 'bmi_kg_m2',\n",
    "       'heart_rate', 'impedance_mag_1_ohms', 'impedance_phase_1_degs',\n",
    "       'impedance_ratio', 'peripheral_fluid',\n",
    "       'run_time_sec', 'sway_velocity_mm_sec', 'total_body_water_percent', 'weight_kg',]]"
   ]
  },
  {
   "cell_type": "code",
   "execution_count": null,
   "metadata": {},
   "outputs": [],
   "source": [
    "selected_garmin_activity_df = df_garmin_activity[['active_kilocalories',\n",
    "       'activity_description', 'activity_id', \n",
    "       'average_bike_cadence_in_rounds_per_minute',\n",
    "       'average_heart_rate_in_beats_per_minute',\n",
    "       'average_pace_in_minutes_per_kilometer',\n",
    "       'average_run_cadence_in_steps_per_minute',\n",
    "       'average_speed_in_meters_per_second',\n",
    "       'average_swim_cadence_in_strokes_per_minute', \n",
    "       'distance_in_meters', 'duration_in_seconds', \n",
    "       'max_bike_cadence_in_rounds_per_minute',\n",
    "       'max_heart_rate_in_beats_per_minute',\n",
    "       'max_pace_in_minutes_per_kilometer',\n",
    "       'max_run_cadence_in_steps_per_minute', 'max_speed_in_meters_per_second',\n",
    "       'start_time_in_seconds', 'start_time_offset_in_seconds',\n",
    "       'starting_latitude_in_degree', 'starting_longitude_in_degree', 'steps', 'total_elevation_gain_in_meters',\n",
    "       'total_elevation_loss_in_meters']]"
   ]
  },
  {
   "cell_type": "code",
   "execution_count": null,
   "metadata": {},
   "outputs": [],
   "source": [
    "# df_oura_activity[df_oura_activity['record_id'] == 'direct_10']\n",
    "selected_activity_df = df_oura_activity[df_oura_activity['record_id'] == 'direct_10'][['average_met', 'cal_active',\n",
    "       'cal_total', # 'class_5min', \n",
    "       'daily_movement', \n",
    "       'high', 'inactive', 'inactivity_alerts', 'low', 'medium', 'met_1min',\n",
    "       'met_min_high', 'met_min_inactive', 'met_min_low', 'met_min_medium',\n",
    "       'non_wear', 'rest', 'steps', 'target_calories', 'target_km',\n",
    "       'target_miles', 'to_target_km', 'to_target_miles', 'total']]\n",
    "\n"
   ]
  },
  {
   "cell_type": "code",
   "execution_count": null,
   "metadata": {},
   "outputs": [],
   "source": [
    "selected_activity_df"
   ]
  },
  {
   "cell_type": "code",
   "execution_count": null,
   "metadata": {},
   "outputs": [],
   "source": [
    "corr = selected_bodyport_df.corr()\n",
    "# corr[(corr < 0.9) & (corr > -0.9)] = 0\n",
    "# Generate a mask for the upper triangle\n",
    "mask = np.triu(np.ones_like(corr, dtype=bool))\n",
    "# Set up the matplotlib figure\n",
    "f, ax = plt.subplots(figsize=(11, 9))\n",
    "\n",
    "# Generate a custom diverging colormap\n",
    "cmap = sns.diverging_palette(230, 20, as_cmap=True)\n",
    "\n",
    "# Draw the heatmap with the mask and correct aspect ratio\n",
    "sns.heatmap(corr, cmap=cmap, mask=mask)\n"
   ]
  },
  {
   "cell_type": "code",
   "execution_count": null,
   "metadata": {},
   "outputs": [],
   "source": [
    "np.sum(df_bodyport.isna())"
   ]
  },
  {
   "cell_type": "code",
   "execution_count": null,
   "metadata": {},
   "outputs": [],
   "source": [
    "df_bodyport[df_bodyport['user_id'] == 'user_id']"
   ]
  },
  {
   "cell_type": "code",
   "execution_count": null,
   "metadata": {},
   "outputs": [],
   "source": [
    "def good_user(user_id, start_date, end_date, threshold=0.05, leq=True):\n",
    "    selected_data_bodyport = df_bodyport[df_bodyport['user_id'] == user_id]\n",
    "    # print(user)\n",
    "    date_range = pd.date_range(start_date, end_date, freq='d')\n",
    "    date_df = pd.DataFrame()\n",
    "    date_df['date'] = date_range\n",
    "    selected_data_bodyport['date'] = selected_data_bodyport['date'].astype('datetime64')\n",
    "    selected_data_bodyport = pd.merge(date_df, selected_data_bodyport, how='left')\n",
    "    weight_na_rate = np.max(np.sum(selected_data_bodyport['weight_kg'].isna()))/len(selected_data_bodyport)\n",
    "    # print(selected_data_bodyport)\n",
    "    # print(weight_na_rate)\n",
    "    if leq:\n",
    "        return weight_na_rate <= threshold\n",
    "    else:\n",
    "        return weight_na_rate >= threshold\n",
    "    \n"
   ]
  },
  {
   "cell_type": "code",
   "execution_count": null,
   "metadata": {},
   "outputs": [],
   "source": [
    "good_user_lst = []\n",
    "bad_user_lst = []\n",
    "for user in data['bodyport']['user_id'].unique():\n",
    "    if len(df_birth[df_birth.user_id == user].birth_date):\n",
    "        curr_birth_date = pd.to_datetime(df_birth[df_birth.user_id == user].birth_date.values[0])\n",
    "        # only interested in the 3rd trimester\n",
    "        start_date = curr_birth_date - timedelta(days=200)\n",
    "        end_date = curr_birth_date + timedelta(days=100)\n",
    "        if good_user(user, start_date, end_date, threshold=0.1):\n",
    "            good_user_lst.append(user)\n",
    "        if good_user(user, start_date, end_date, threshold=0.4, leq=False):\n",
    "            bad_user_lst.append(user)\n",
    "\n",
    "print(len(good_user_lst))\n",
    "print(good_user_lst)\n",
    "print(len(bad_user_lst))\n",
    "print(bad_user_lst)"
   ]
  },
  {
   "cell_type": "code",
   "execution_count": null,
   "metadata": {},
   "outputs": [],
   "source": [
    "df_survey = data['surveys']\n",
    "survey_question_str = 'swollen'\n",
    "df_edema = get_survey_question(df_survey, survey_question_str)\n",
    "df_edema[df_edema['user_id'] == 293][['answer_text', 'date']]"
   ]
  },
  {
   "cell_type": "code",
   "execution_count": null,
   "metadata": {},
   "outputs": [],
   "source": [
    "import datetime\n",
    "df_birth = data_load(data_keys={'birth'})['birth']\n",
    "pd.to_datetime(df_birth[df_birth.user_id == 293].birth_date.values[0])\n",
    "pd.to_datetime(df_birth[df_birth.user_id == 293].birth_date.values[0]) - datetime.timedelta(days=91)"
   ]
  },
  {
   "cell_type": "code",
   "execution_count": null,
   "metadata": {},
   "outputs": [],
   "source": [
    "\n",
    "\n",
    "df_puqe = data['surveys'].loc[data['surveys']['title']=='PUQE']\n",
    "puqe_user_lst = []\n",
    "for u in df_puqe['user_id'].unique():\n",
    "    # 53, 54, 132, 404\n",
    "    # 404: 'During the past week, did you experience any nausea?'\n",
    "    # 132: 'On average in a day, for how long do you feel nauseated or sick to your stomach?'\n",
    "    # 53: 'On average in a day, how many times do you vomit or throw up?'\n",
    "    # 54: 'On average in a day, how many times have you had retching or dry heaves without bringing anything up?'\n",
    "    selected_user_puqe = df_puqe[df_puqe['user_id'] == u]\n",
    "    every_date = selected_user_puqe['date'].unique()\n",
    "    count = 0\n",
    "    for d in every_date:\n",
    "        if len(selected_user_puqe.loc[(selected_user_puqe['date'] == d) & (selected_user_puqe['question_id'] == 404)]):\n",
    "            if (selected_user_puqe.loc[(selected_user_puqe['date'] == d) & (selected_user_puqe['question_id'] == 404)]['answer_text'].iloc[0]) == 'Yes':\n",
    "                count += 1\n",
    "    puqe_user_lst.append((u, count))\n",
    "most_user = sorted(puqe_user_lst, key=lambda x: x[1], reverse=True)[0][0]\n",
    "\n",
    "selected_user_puqe = df_puqe[df_puqe['user_id'] == 1032]\n",
    "selected_user_puqe\n",
    "sorted_select = sorted(puqe_user_lst, key=lambda x: x[1], reverse=True)\n",
    "list(map(lambda x: x[0], sorted_select))\n",
    "\n",
    "# user 1032 has most puqe"
   ]
  },
  {
   "cell_type": "code",
   "execution_count": null,
   "metadata": {},
   "outputs": [],
   "source": [
    "data['bodyport']['subsource'].unique()\n",
    "# subsource is only `weight`"
   ]
  },
  {
   "cell_type": "code",
   "execution_count": null,
   "metadata": {},
   "outputs": [],
   "source": [
    "data_bodyport = data['bodyport']\n",
    "users = data_bodyport['user_id'].unique().tolist()\n",
    "most_data_user = -1\n",
    "most_data = -1\n",
    "for u in users:\n",
    "    num_data = len(data_bodyport[data_bodyport['user_id'] == u])\n",
    "    if num_data > most_data:\n",
    "        most_data = num_data\n",
    "        most_data_user = u\n",
    "most_data_user\n",
    "# userid 74 has the most data for bodyport\n",
    "# userid 293 has the most data for daily surveys"
   ]
  },
  {
   "cell_type": "code",
   "execution_count": null,
   "metadata": {},
   "outputs": [],
   "source": [
    "data_bodyport.columns.tolist()"
   ]
  },
  {
   "cell_type": "code",
   "execution_count": null,
   "metadata": {},
   "outputs": [],
   "source": [
    "selected_data_bodyport = data_bodyport[data_bodyport['user_id'] == 74][['date', 'impedance_ratio', 'peripheral_fluid', 'impedance_mag_1_ohms', 'impedance_phase_1_degs', 'weight_kg']].groupby(\"date\", as_index = False).mean()\n"
   ]
  },
  {
   "cell_type": "code",
   "execution_count": null,
   "metadata": {},
   "outputs": [],
   "source": [
    "data_oura_activity = data['oura_activity']\n",
    "data_oura_activity[data_oura_activity['user_id'] == 74]\n",
    "data_oura_sleep = data['oura_sleep']\n",
    "# target_user_sleep = data_oura_sleep[data_oura_sleep['user_id'] == 74]\n",
    "# target_user_sleep[['hr_5min', 'date']]"
   ]
  },
  {
   "cell_type": "code",
   "execution_count": null,
   "metadata": {},
   "outputs": [],
   "source": [
    "data_oura_activity.columns.tolist()"
   ]
  },
  {
   "cell_type": "code",
   "execution_count": null,
   "metadata": {},
   "outputs": [],
   "source": [
    "selected_data_oura_activity = data_oura_activity[data_oura_activity['user_id'] == 74][[\n",
    " 'cal_active',\n",
    " 'cal_total',\n",
    " 'daily_movement',\n",
    " 'high',\n",
    " 'inactive',\n",
    "#  'inactivity_alerts',\n",
    " 'low',\n",
    " 'medium',\n",
    " 'met_min_high',\n",
    " 'met_min_inactive',\n",
    " 'met_min_low',\n",
    " 'met_min_medium',\n",
    " 'non_wear',\n",
    " 'rest',\n",
    "#  'rest_mode_state',\n",
    "#  'score',\n",
    "#  'score_meet_daily_targets',\n",
    "#  'score_move_every_hour',\n",
    "#  'score_recovery_time',\n",
    "#  'score_stay_active',\n",
    "#  'score_training_frequency',\n",
    "#  'score_training_volume',\n",
    " 'steps',\n",
    " 'date']]"
   ]
  },
  {
   "cell_type": "code",
   "execution_count": null,
   "metadata": {},
   "outputs": [],
   "source": [
    "def get_min_date(df):\n",
    "    return np.min(df['date'])\n",
    "def get_max_date(df):\n",
    "    return np.max(df['date'])"
   ]
  },
  {
   "cell_type": "code",
   "execution_count": null,
   "metadata": {},
   "outputs": [],
   "source": [
    "\n",
    "# # union\n",
    "# overall_min_date = np.min([get_min_date(selected_data_bodyport), get_min_date(selected_data_oura_activity)])\n",
    "# overall_max_date = np.max([get_max_date(selected_data_bodyport), get_max_date(selected_data_oura_activity)])\n",
    "\n",
    "# intercept\n",
    "overall_min_date = np.max([get_min_date(selected_data_bodyport), get_min_date(selected_data_oura_activity)])\n",
    "overall_max_date = np.min([get_max_date(selected_data_bodyport), get_max_date(selected_data_oura_activity)])\n",
    "\n",
    "date_range = pd.date_range(overall_min_date, overall_max_date, freq='d')\n",
    "overall_df = pd.DataFrame()\n",
    "overall_df['date'] = date_range\n",
    "selected_data_bodyport['date'] = selected_data_bodyport['date'].astype('datetime64')\n",
    "selected_data_oura_activity['date'] = selected_data_oura_activity['date'].astype('datetime64')\n",
    "overall_df = pd.merge(overall_df, selected_data_bodyport, how='left')\n",
    "overall_df = pd.merge(overall_df, selected_data_oura_activity, how='left')\n"
   ]
  },
  {
   "cell_type": "code",
   "execution_count": null,
   "metadata": {},
   "outputs": [],
   "source": [
    "np.sum(overall_df.isna())"
   ]
  },
  {
   "cell_type": "code",
   "execution_count": null,
   "metadata": {},
   "outputs": [],
   "source": [
    "overall_df.describe()"
   ]
  },
  {
   "cell_type": "code",
   "execution_count": null,
   "metadata": {},
   "outputs": [],
   "source": [
    "overall_df.loc[overall_df['impedance_ratio'] > 10,'impedance_ratio'] = np.nan\n",
    "np.sum(overall_df.isna())"
   ]
  },
  {
   "cell_type": "code",
   "execution_count": null,
   "metadata": {},
   "outputs": [],
   "source": [
    "import seaborn as sns\n",
    "import matplotlib.pyplot as plt\n",
    "\n",
    "sns.set_theme(style='darkgrid')\n",
    "sns.set(rc={'figure.figsize':(11.7,8.27)})\n",
    "sns.scatterplot(data=overall_df, x=\"date\", y=\"non_wear\")\n",
    "\n"
   ]
  },
  {
   "cell_type": "code",
   "execution_count": null,
   "metadata": {},
   "outputs": [],
   "source": [
    "overall_df_filled = overall_df.fillna(method=\"ffill\")\n",
    "#sns.scatterplot(data=overall_df_filled, x=\"date\", y=\"non_wear\")\n",
    "sns.scatterplot(x=overall_df_filled[\"date\"], y=overall_df_filled[\"non_wear\"])"
   ]
  },
  {
   "cell_type": "code",
   "execution_count": null,
   "metadata": {},
   "outputs": [],
   "source": [
    "overall_df_filled = overall_df_filled.drop('date', axis=1)\n",
    "overall_df_filled.to_csv('/mnt/results/user_72_activity_bodyport_ffilled.csv', index=False, header=False)\n",
    "overall_df_without_date = overall_df.drop('date', axis=1)\n",
    "overall_df_without_date.to_csv('/mnt/results/user_72_activity_bodyport_unfilled.csv', index=False, header=False)"
   ]
  },
  {
   "cell_type": "code",
   "execution_count": null,
   "metadata": {},
   "outputs": [],
   "source": [
    "overall_df_filled.columns.to_list()"
   ]
  },
  {
   "cell_type": "code",
   "execution_count": null,
   "metadata": {},
   "outputs": [],
   "source": [
    "len(overall_df_filled.columns.to_list())"
   ]
  },
  {
   "cell_type": "code",
   "execution_count": null,
   "metadata": {},
   "outputs": [],
   "source": [
    "np.sum(overall_df_filled.isna())"
   ]
  },
  {
   "cell_type": "code",
   "execution_count": null,
   "metadata": {},
   "outputs": [],
   "source": [
    "len(overall_df_filled)"
   ]
  },
  {
   "cell_type": "code",
   "execution_count": null,
   "metadata": {},
   "outputs": [],
   "source": [
    "# hyperimpute requires python 3.7\n",
    "from hyperimpute.plugins.imputers import Imputers\n",
    "import numpy as np\n",
    "imputers = Imputers()\n",
    "\n",
    "imputers.list()\n",
    "method = 'hyperimpute'\n",
    "plugin = Imputers().get(method)\n",
    "X = overall_df_without_date\n",
    "out = plugin.fit_transform(X.copy())\n",
    "\n",
    "print(method, out)"
   ]
  },
  {
   "cell_type": "code",
   "execution_count": null,
   "metadata": {},
   "outputs": [],
   "source": [
    "hyperimputed_df_without_date = out\n",
    "hyperimputed_df_without_date.to_csv('/mnt/results/user_72_activity_bodyport_hyperimpute.csv', index=False, header=False)"
   ]
  },
  {
   "cell_type": "code",
   "execution_count": null,
   "metadata": {},
   "outputs": [],
   "source": [
    "hyperimputed_df_without_date['date'] = date_range"
   ]
  },
  {
   "cell_type": "code",
   "execution_count": null,
   "metadata": {},
   "outputs": [],
   "source": [
    "sns.scatterplot(x=hyperimputed_df_without_date[\"date\"], y=hyperimputed_df_without_date[\"impedance_ratio\"], hue=overall_df['impedance_ratio'].isna())"
   ]
  },
  {
   "cell_type": "code",
   "execution_count": null,
   "metadata": {},
   "outputs": [],
   "source": []
  }
 ],
 "metadata": {
  "language_info": {
   "name": "python",
   "pygments_lexer": "ipython3"
  }
 },
 "nbformat": 4,
 "nbformat_minor": 2
}
