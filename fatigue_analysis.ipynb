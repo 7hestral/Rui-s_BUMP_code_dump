{
 "cells": [
  {
   "cell_type": "code",
   "execution_count": 1,
   "metadata": {},
   "outputs": [
    {
     "output_type": "stream",
     "name": "stderr",
     "text": "Matplotlib created a temporary config/cache directory at /tmp/matplotlib-0wri8gl5 because the default path (/home/ubuntu/.config/matplotlib) is not a writable directory; it is highly recommended to set the MPLCONFIGDIR environment variable to a writable directory, in particular to speed up the import of Matplotlib and to better support multiprocessing.\n"
    }
   ],
   "source": [
    "import os\n",
    "from src.utils import data_load\n",
    "import pandas as pd\n",
    "from src.s3_utils import pandas_from_csv_s3\n",
    "import numpy as np\n",
    "from datetime import datetime, timedelta\n",
    "import seaborn as sns\n",
    "import matplotlib.pyplot as plt\n",
    "from utils import get_survey_question, na_rate\n",
    "import torch\n",
    "import matplotlib.dates as mdates\n",
    "import pingouin as pg\n",
    "from torch.utils.data import Dataset, ConcatDataset, DataLoader"
   ]
  },
  {
   "cell_type": "code",
   "execution_count": 2,
   "metadata": {},
   "outputs": [],
   "source": [
    "df_survey = data_load(data_keys={\"surveys\"}, wave=7)['surveys']\n",
    "# df_birth = data_load(data_keys={\"birth\"}, wave=5)['birth']\n"
   ]
  },
  {
   "cell_type": "code",
   "execution_count": 3,
   "metadata": {},
   "outputs": [],
   "source": [
    "question_148_level = {\"Yes\": 0, \"No\": 0}\n",
    "question_149_to_157_level = {\"Never\": 1, 'Sometimes': 2, 'Regularly': 3, 'Often': 4, 'Always': 5}\n",
    "question_158_level = {\"Never\": 5, 'Sometimes': 4, 'Regularly': 3, 'Often': 2, 'Always': 1}\n"
   ]
  },
  {
   "cell_type": "code",
   "execution_count": 4,
   "metadata": {},
   "outputs": [],
   "source": [
    "question_id_lst = list(range(148, 159))\n",
    "num_questions = len(list(range(148, 159)))\n",
    "question_levels_lst = [question_149_to_157_level] * num_questions\n",
    "question_levels_lst[0] = question_148_level\n",
    "question_levels_lst[-1] = question_158_level\n",
    "question_level_mapping_dict = dict(zip(question_id_lst, question_levels_lst))"
   ]
  },
  {
   "cell_type": "code",
   "execution_count": 5,
   "metadata": {},
   "outputs": [],
   "source": [
    "df_fas = df_survey.loc[df_survey['title'] =='Fatigue survey']"
   ]
  },
  {
   "cell_type": "code",
   "execution_count": 6,
   "metadata": {},
   "outputs": [],
   "source": [
    "def map_answer_to_int(row):\n",
    "    curr_level_mapping = question_level_mapping_dict[row['question_id']]\n",
    "    return curr_level_mapping[row['answer_text']]\n",
    "df_fas['fas_score'] = df_fas.apply(map_answer_to_int, axis=1)"
   ]
  },
  {
   "cell_type": "code",
   "execution_count": 7,
   "metadata": {},
   "outputs": [],
   "source": [
    "grouped_df_fas = df_fas.groupby(['user_id', 'date'])['fas_score'].sum().reset_index()\n",
    "grouped_df_fas['date'] = pd.to_datetime(grouped_df_fas['date'])\n",
    "grouped_df_fas['week_year'] = grouped_df_fas['date'].dt.strftime('%Y-%U')"
   ]
  },
  {
   "cell_type": "code",
   "execution_count": 8,
   "metadata": {},
   "outputs": [],
   "source": []
  },
  {
   "cell_type": "code",
   "execution_count": 8,
   "metadata": {},
   "outputs": [
    {
     "output_type": "execute_result",
     "data": {
      "text/plain": "      user_id       date  fas_score week_year\n0          28 2021-02-24         28   2021-08\n1          28 2021-03-02         34   2021-09\n2          28 2021-03-09         28   2021-10\n3          28 2021-03-16         31   2021-11\n4          28 2021-03-23         26   2021-12\n...       ...        ...        ...       ...\n8752     2664 2023-01-30         17   2023-05\n8753     2664 2023-02-06         17   2023-06\n8754     2664 2023-02-13         17   2023-07\n8755     2664 2023-02-20         17   2023-08\n8756     2664 2023-02-27         16   2023-09\n\n[8757 rows x 4 columns]",
      "text/html": "<div>\n<style scoped>\n    .dataframe tbody tr th:only-of-type {\n        vertical-align: middle;\n    }\n\n    .dataframe tbody tr th {\n        vertical-align: top;\n    }\n\n    .dataframe thead th {\n        text-align: right;\n    }\n</style>\n<table border=\"1\" class=\"dataframe\">\n  <thead>\n    <tr style=\"text-align: right;\">\n      <th></th>\n      <th>user_id</th>\n      <th>date</th>\n      <th>fas_score</th>\n      <th>week_year</th>\n    </tr>\n  </thead>\n  <tbody>\n    <tr>\n      <th>0</th>\n      <td>28</td>\n      <td>2021-02-24</td>\n      <td>28</td>\n      <td>2021-08</td>\n    </tr>\n    <tr>\n      <th>1</th>\n      <td>28</td>\n      <td>2021-03-02</td>\n      <td>34</td>\n      <td>2021-09</td>\n    </tr>\n    <tr>\n      <th>2</th>\n      <td>28</td>\n      <td>2021-03-09</td>\n      <td>28</td>\n      <td>2021-10</td>\n    </tr>\n    <tr>\n      <th>3</th>\n      <td>28</td>\n      <td>2021-03-16</td>\n      <td>31</td>\n      <td>2021-11</td>\n    </tr>\n    <tr>\n      <th>4</th>\n      <td>28</td>\n      <td>2021-03-23</td>\n      <td>26</td>\n      <td>2021-12</td>\n    </tr>\n    <tr>\n      <th>...</th>\n      <td>...</td>\n      <td>...</td>\n      <td>...</td>\n      <td>...</td>\n    </tr>\n    <tr>\n      <th>8752</th>\n      <td>2664</td>\n      <td>2023-01-30</td>\n      <td>17</td>\n      <td>2023-05</td>\n    </tr>\n    <tr>\n      <th>8753</th>\n      <td>2664</td>\n      <td>2023-02-06</td>\n      <td>17</td>\n      <td>2023-06</td>\n    </tr>\n    <tr>\n      <th>8754</th>\n      <td>2664</td>\n      <td>2023-02-13</td>\n      <td>17</td>\n      <td>2023-07</td>\n    </tr>\n    <tr>\n      <th>8755</th>\n      <td>2664</td>\n      <td>2023-02-20</td>\n      <td>17</td>\n      <td>2023-08</td>\n    </tr>\n    <tr>\n      <th>8756</th>\n      <td>2664</td>\n      <td>2023-02-27</td>\n      <td>16</td>\n      <td>2023-09</td>\n    </tr>\n  </tbody>\n</table>\n<p>8757 rows × 4 columns</p>\n</div>"
     },
     "metadata": {},
     "execution_count": 8
    }
   ],
   "source": [
    "grouped_df_fas"
   ]
  },
  {
   "cell_type": "code",
   "execution_count": 9,
   "metadata": {},
   "outputs": [
    {
     "output_type": "error",
     "ename": "NameError",
     "evalue": "name 'curr_user_fas' is not defined",
     "traceback": [
      "\u001b[0;31m---------------------------------------------------------------------------\u001b[0m",
      "\u001b[0;31mNameError\u001b[0m                                 Traceback (most recent call last)",
      "\u001b[0;32m/tmp/ipykernel_7024/1095947337.py\u001b[0m in \u001b[0;36m<module>\u001b[0;34m\u001b[0m\n\u001b[0;32m----> 1\u001b[0;31m \u001b[0mcurr_user_fas\u001b[0m\u001b[0;34m[\u001b[0m\u001b[0mcurr_user_fas\u001b[0m\u001b[0;34m[\u001b[0m\u001b[0;34m'date'\u001b[0m\u001b[0;34m]\u001b[0m \u001b[0;34m==\u001b[0m \u001b[0;34m'2021-09-21'\u001b[0m\u001b[0;34m]\u001b[0m\u001b[0;34m\u001b[0m\u001b[0m\n\u001b[0m",
      "\u001b[0;31mNameError\u001b[0m: name 'curr_user_fas' is not defined"
     ]
    }
   ],
   "source": [
    "curr_user_fas[curr_user_fas['date'] == '2021-09-21']"
   ]
  },
  {
   "cell_type": "code",
   "execution_count": 45,
   "metadata": {},
   "outputs": [],
   "source": [
    "\n",
    "def get_dates_within_one_week(date):\n",
    "    week_dates = [(pd.to_datetime(date) - timedelta(days=i)) for i in range(7)]\n",
    "    return week_dates\n",
    "\n",
    "class SameDayMappingDataset(Dataset):\n",
    "    def __init__(self, dataset_x, dataset_y, user_id, feature_name_lst_x, feature_name_lst_y, train_time_steps, target_time_steps, one_week_back=True, normalize=True):\n",
    "        self.user_id = user_id\n",
    "        self.feature_name_lst_x = feature_name_lst_x\n",
    "        self.feature_name_lst_y = feature_name_lst_y\n",
    "        self.one_week_back = one_week_back\n",
    "        self.train_time_steps = train_time_steps\n",
    "        self.target_time_steps = target_time_steps\n",
    "        if normalize:\n",
    "            self.dataset_x = self._normalize(dataset_x, feature_name_lst_x, x_true=True)\n",
    "            self.dataset_y = self._normalize(dataset_y, feature_name_lst_y, x_true=False)\n",
    "        else:\n",
    "            self.dataset_x = dataset_x\n",
    "            self.dataset_y = dataset_y\n",
    "        # 0 impute\n",
    "\n",
    "        mean_value = 0\n",
    "        self.dataset_x = self.dataset_x.fillna(value=mean_value)\n",
    "\n",
    "    def _normalize(self, df, feature_names, x_true):\n",
    "        if self.one_week_back:\n",
    "\n",
    "            if x_true:\n",
    "                dates_with_one_week = []\n",
    "                for date in self.train_time_steps:\n",
    "                    week_dates = get_dates_within_one_week(date)\n",
    "                    dates_with_one_week.extend(week_dates)\n",
    "                train_dates = [date.strftime('%Y-%m-%d') for date in dates_with_one_week]\n",
    "            else:\n",
    "                train_dates = self.train_time_steps\n",
    "            # print(len(train_dates))\n",
    "            train_indices = df.index[df['date'].isin(train_dates)]\n",
    "            # print('len(df)', len(df))\n",
    "            assert len(train_indices) != 0\n",
    "            # print('train_indices', train_indices)\n",
    "            def min_max_normalize_subset(feature):\n",
    "                # print('len(feature)', len(feature))\n",
    "                min_val = feature.iloc[train_indices].min()\n",
    "                max_val = feature.iloc[train_indices].max()\n",
    "                if min_val == max_val:\n",
    "                    max_val += 1\n",
    "                return (feature - min_val) / (max_val - min_val)\n",
    "            print(feature_names)\n",
    "            df[feature_names] = df[feature_names].apply(min_max_normalize_subset)\n",
    "            return df\n",
    "    \n",
    "    def __len__(self):\n",
    "        return len(self.target_time_steps)\n",
    "    def __getitem__(self, idx, dict_format=False):\n",
    "        time_step = self.target_time_steps[idx]\n",
    "        print(time_step)\n",
    "        # print(self.dataset_y)\n",
    "        y = self.dataset_y[self.dataset_y['date'] == time_step][self.feature_name_lst_y].values\n",
    "\n",
    "        print(y.shape)\n",
    "        if self.one_week_back:\n",
    "            prev_week_dates = get_dates_within_one_week(time_step)\n",
    "            x = self.dataset_x[self.dataset_x['date'].isin(prev_week_dates)][self.feature_name_lst_x].values\n",
    "        else:\n",
    "            x = self.dataset_x[self.dataset_x['date'].isin(time_step)][self.feature_name_lst_x].values\n",
    "        print(x.shape)\n",
    "        desired_size = [7, 1]\n",
    "        padding = []\n",
    "        for i in range(len(desired_size)):\n",
    "            pad_length = desired_size[i] - x.shape[i]\n",
    "            padding.append((0, pad_length))\n",
    "        x = np.pad(x, padding, mode='constant')\n",
    "\n",
    "        if dict_format:\n",
    "            return {\"X\": x, \"Y\": y, \"user_id\": self.user_id}\n",
    "        else:\n",
    "            return x, y"
   ]
  },
  {
   "cell_type": "code",
   "execution_count": 46,
   "metadata": {},
   "outputs": [],
   "source": [
    "# train_set = SameDayMappingDataset(dataset_y = curr_user_fas, dataset_x = curr_user_daily_df, \n",
    "#     user_id=curr_user, feature_name_lst_y=['fas_score'], feature_name_lst_x=['fatigue'], train_time_steps=train_times, target_time_steps=test_times)"
   ]
  },
  {
   "cell_type": "code",
   "execution_count": 13,
   "metadata": {},
   "outputs": [
    {
     "output_type": "stream",
     "name": "stdout",
     "text": "2021-11-23\n(1, 1)\n(7, 1)\n"
    },
    {
     "output_type": "execute_result",
     "data": {
      "text/plain": "{'X': array([[0.],\n        [0.],\n        [0.],\n        [0.],\n        [0.],\n        [0.],\n        [0.]]),\n 'Y': array([[0.52631579]]),\n 'user_id': 28}"
     },
     "metadata": {},
     "execution_count": 13
    }
   ],
   "source": []
  },
  {
   "cell_type": "code",
   "execution_count": 47,
   "metadata": {
    "tags": [
     "outputPrepend",
     "outputPrepend",
     "outputPrepend",
     "outputPrepend",
     "outputPrepend",
     "outputPrepend",
     "outputPrepend",
     "outputPrepend",
     "outputPrepend",
     "outputPrepend",
     "outputPrepend",
     "outputPrepend",
     "outputPrepend",
     "outputPrepend",
     "outputPrepend",
     "outputPrepend",
     "outputPrepend",
     "outputPrepend",
     "outputPrepend",
     "outputPrepend",
     "outputPrepend",
     "outputPrepend",
     "outputPrepend",
     "outputPrepend",
     "outputPrepend",
     "outputPrepend",
     "outputPrepend",
     "outputPrepend",
     "outputPrepend",
     "outputPrepend",
     "outputPrepend",
     "outputPrepend",
     "outputPrepend",
     "outputPrepend",
     "outputPrepend",
     "outputPrepend",
     "outputPrepend"
    ]
   },
   "outputs": [
    {
     "output_type": "stream",
     "name": "stdout",
     "text": "']\n\n\ncurr_user 1439\n['fatigue']\n['fas_score']\n['fatigue']\n['fas_score']\n\n\ncurr_user 1440\n['fatigue']\n['fas_score']\n['fatigue']\n['fas_score']\n\n\ncurr_user 1441\n['fatigue']\n['fas_score']\n['fatigue']\n['fas_score']\n\n\ncurr_user 1442\ncurr_user 1443\ncurr_user 1444\n['fatigue']\n['fas_score']\n['fatigue']\n['fas_score']\n\n\ncurr_user 1445\ncurr_user 1446\ncurr_user 1452\n['fatigue']\n['fas_score']\n['fatigue']\n['fas_score']\n\n\ncurr_user 1453\n['fatigue']\n['fas_score']\n['fatigue']\n['fas_score']\n\n\ncurr_user 1456\ncurr_user 1658\n['fatigue']\n['fas_score']\n['fatigue']\n['fas_score']\n\n\ncurr_user 1659\n['fatigue']\n['fas_score']\n['fatigue']\n['fas_score']\n\n\ncurr_user 1661\n['fatigue']\n['fas_score']\n['fatigue']\n['fas_score']\n\n\ncurr_user 1695\n['fatigue']\n['fas_score']\n['fatigue']\n['fas_score']\n\n\ncurr_user 1696\n['fatigue']\n['fas_score']\n['fatigue']\n['fas_score']\n\n\ncurr_user 1697\n['fatigue']\n['fas_score']\n['fatigue']\n['fas_score']\n\n\ncurr_user 1698\ncurr_user 1699\ncurr_user 1700\n['fatigue']\n['fas_score']\n['fatigue']\n['fas_score']\n\n\ncurr_user 1701\n['fatigue']\n['fas_score']\n['fatigue']\n['fas_score']\n\n\ncurr_user 1702\n['fatigue']\n['fas_score']\n['fatigue']\n['fas_score']\n\n\ncurr_user 1703\n['fatigue']\n['fas_score']\n['fatigue']\n['fas_score']\n\n\ncurr_user 1704\ncurr_user 1706\n['fatigue']\n['fas_score']\n['fatigue']\n['fas_score']\n\n\ncurr_user 1707\n['fatigue']\n['fas_score']\n['fatigue']\n['fas_score']\n\n\ncurr_user 1708\n['fatigue']\n['fas_score']\n['fatigue']\n['fas_score']\n\n\ncurr_user 1709\n['fatigue']\n['fas_score']\n['fatigue']\n['fas_score']\n\n\ncurr_user 1710\n['fatigue']\n['fas_score']\n['fatigue']\n['fas_score']\n\n\ncurr_user 1711\ncurr_user 1712\n['fatigue']\n['fas_score']\n['fatigue']\n['fas_score']\n\n\ncurr_user 1714\n['fatigue']\n['fas_score']\n['fatigue']\n['fas_score']\n\n\ncurr_user 1715\n['fatigue']\n['fas_score']\n['fatigue']\n['fas_score']\n\n\ncurr_user 1716\n['fatigue']\n['fas_score']\n['fatigue']\n['fas_score']\n\n\ncurr_user 1717\n['fatigue']\n['fas_score']\n['fatigue']\n['fas_score']\n\n\ncurr_user 1719\n['fatigue']\n['fas_score']\n['fatigue']\n['fas_score']\n\n\ncurr_user 1720\ncurr_user 1721\n['fatigue']\n['fas_score']\n['fatigue']\n['fas_score']\n\n\ncurr_user 1724\n['fatigue']\n['fas_score']\n['fatigue']\n['fas_score']\n\n\ncurr_user 1728\n['fatigue']\n['fas_score']\n['fatigue']\n['fas_score']\n\n\ncurr_user 1729\n['fatigue']\n['fas_score']\n['fatigue']\n['fas_score']\n\n\ncurr_user 1730\n['fatigue']\n['fas_score']\n['fatigue']\n['fas_score']\n\n\ncurr_user 1731\n['fatigue']\n['fas_score']\n['fatigue']\n['fas_score']\n\n\ncurr_user 1743\n['fatigue']\n['fas_score']\n['fatigue']\n['fas_score']\n\n\ncurr_user 1744\n['fatigue']\n['fas_score']\n['fatigue']\n['fas_score']\n\n\ncurr_user 1745\n['fatigue']\n['fas_score']\n['fatigue']\n['fas_score']\n\n\ncurr_user 1746\ncurr_user 1747\n['fatigue']\n['fas_score']\n['fatigue']\n['fas_score']\n\n\ncurr_user 1749\ncurr_user 1750\n['fatigue']\n['fas_score']\n['fatigue']\n['fas_score']\n\n\ncurr_user 1751\ncurr_user 1753\n['fatigue']\n['fas_score']\n['fatigue']\n['fas_score']\n\n\ncurr_user 1755\n['fatigue']\n['fas_score']\n['fatigue']\n['fas_score']\n\n\ncurr_user 1757\n['fatigue']\n['fas_score']\n['fatigue']\n['fas_score']\n\n\ncurr_user 1759\n['fatigue']\n['fas_score']\n['fatigue']\n['fas_score']\n\n\ncurr_user 1962\n['fatigue']\n['fas_score']\n['fatigue']\n['fas_score']\n\n\ncurr_user 1966\n['fatigue']\n['fas_score']\n['fatigue']\n['fas_score']\n\n\ncurr_user 1976\n['fatigue']\n['fas_score']\n['fatigue']\n['fas_score']\n\n\ncurr_user 1977\n['fatigue']\n['fas_score']\n['fatigue']\n['fas_score']\n\n\ncurr_user 1984\ncurr_user 1985\n['fatigue']\n['fas_score']\n['fatigue']\n['fas_score']\n\n\ncurr_user 1988\n['fatigue']\n['fas_score']\n['fatigue']\n['fas_score']\n\n\ncurr_user 1989\n['fatigue']\n['fas_score']\n['fatigue']\n['fas_score']\n\n\ncurr_user 1990\n['fatigue']\n['fas_score']\n['fatigue']\n['fas_score']\n\n\ncurr_user 1991\ncurr_user 1992\n['fatigue']\n['fas_score']\n['fatigue']\n['fas_score']\n\n\ncurr_user 1993\n['fatigue']\n['fas_score']\n['fatigue']\n['fas_score']\n\n\ncurr_user 1994\n['fatigue']\n['fas_score']\n['fatigue']\n['fas_score']\n\n\ncurr_user 1995\n['fatigue']\n['fas_score']\n['fatigue']\n['fas_score']\n\n\ncurr_user 1996\n['fatigue']\n['fas_score']\n['fatigue']\n['fas_score']\n\n\ncurr_user 1997\n['fatigue']\n['fas_score']\n['fatigue']\n['fas_score']\n\n\ncurr_user 1998\ncurr_user 1999\n['fatigue']\n['fas_score']\n['fatigue']\n['fas_score']\n\n\ncurr_user 2000\n['fatigue']\n['fas_score']\n['fatigue']\n['fas_score']\n\n\ncurr_user 2001\n['fatigue']\n['fas_score']\n['fatigue']\n['fas_score']\n\n\ncurr_user 2002\ncurr_user 2003\ncurr_user 2004\n['fatigue']\n['fas_score']\n['fatigue']\n['fas_score']\n\n\ncurr_user 2006\n['fatigue']\n['fas_score']\n['fatigue']\n['fas_score']\n\n\ncurr_user 2014\n['fatigue']\n['fas_score']\n['fatigue']\n['fas_score']\n\n\ncurr_user 2015\n['fatigue']\n['fas_score']\n['fatigue']\n['fas_score']\n\n\ncurr_user 2016\n['fatigue']\n['fas_score']\n['fatigue']\n['fas_score']\n\n\ncurr_user 2017\n['fatigue']\n['fas_score']\n['fatigue']\n['fas_score']\n\n\ncurr_user 2018\n['fatigue']\n['fas_score']\n['fatigue']\n['fas_score']\n\n\ncurr_user 2019\n['fatigue']\n['fas_score']\n['fatigue']\n['fas_score']\n\n\ncurr_user 2031\n['fatigue']\n['fas_score']\n['fatigue']\n['fas_score']\n\n\ncurr_user 2032\n['fatigue']\n['fas_score']\n['fatigue']\n['fas_score']\n\n\ncurr_user 2034\n['fatigue']\n['fas_score']\n['fatigue']\n['fas_score']\n\n\ncurr_user 2038\n['fatigue']\n['fas_score']\n['fatigue']\n['fas_score']\n\n\ncurr_user 2041\n['fatigue']\n['fas_score']\n['fatigue']\n['fas_score']\n\n\ncurr_user 2056\n['fatigue']\n['fas_score']\n['fatigue']\n['fas_score']\n\n\ncurr_user 2058\n['fatigue']\n['fas_score']\n['fatigue']\n['fas_score']\n\n\ncurr_user 2060\n['fatigue']\n['fas_score']\n['fatigue']\n['fas_score']\n\n\ncurr_user 2061\n['fatigue']\n['fas_score']\n['fatigue']\n['fas_score']\n\n\ncurr_user 2062\n['fatigue']\n['fas_score']\n['fatigue']\n['fas_score']\n\n\ncurr_user 2064\n['fatigue']\n['fas_score']\n['fatigue']\n['fas_score']\n\n\ncurr_user 2065\n['fatigue']\n['fas_score']\n['fatigue']\n['fas_score']\n\n\ncurr_user 2066\n['fatigue']\n['fas_score']\n['fatigue']\n['fas_score']\n\n\ncurr_user 2067\n['fatigue']\n['fas_score']\n['fatigue']\n['fas_score']\n\n\ncurr_user 2068\n['fatigue']\n['fas_score']\n['fatigue']\n['fas_score']\n\n\ncurr_user 2071\ncurr_user 2075\ncurr_user 2076\n['fatigue']\n['fas_score']\n['fatigue']\n['fas_score']\n\n\ncurr_user 2080\n['fatigue']\n['fas_score']\n['fatigue']\n['fas_score']\n\n\ncurr_user 2083\n['fatigue']\n['fas_score']\n['fatigue']\n['fas_score']\n\n\ncurr_user 2084\n['fatigue']\n['fas_score']\n['fatigue']\n['fas_score']\n\n\ncurr_user 2085\n['fatigue']\n['fas_score']\n['fatigue']\n['fas_score']\n\n\ncurr_user 2091\n['fatigue']\n['fas_score']\n['fatigue']\n['fas_score']\n\n\ncurr_user 2092\ncurr_user 2093\n['fatigue']\n['fas_score']\n['fatigue']\n['fas_score']\n\n\ncurr_user 2094\n['fatigue']\n['fas_score']\n['fatigue']\n['fas_score']\n\n\ncurr_user 2095\ncurr_user 2100\n['fatigue']\n['fas_score']\n['fatigue']\n['fas_score']\n\n\ncurr_user 2101\n['fatigue']\n['fas_score']\n['fatigue']\n['fas_score']\n\n\ncurr_user 2102\n['fatigue']\n['fas_score']\n['fatigue']\n['fas_score']\n\n\ncurr_user 2103\n['fatigue']\n['fas_score']\n['fatigue']\n['fas_score']\n\n\ncurr_user 2104\n['fatigue']\n['fas_score']\n['fatigue']\n['fas_score']\n\n\ncurr_user 2106\n['fatigue']\n['fas_score']\n['fatigue']\n['fas_score']\n\n\ncurr_user 2107\n['fatigue']\n['fas_score']\n['fatigue']\n['fas_score']\n\n\ncurr_user 2108\n['fatigue']\n['fas_score']\n['fatigue']\n['fas_score']\n\n\ncurr_user 2109\n['fatigue']\n['fas_score']\n['fatigue']\n['fas_score']\n\n\ncurr_user 2110\ncurr_user 2113\n['fatigue']\n['fas_score']\n['fatigue']\n['fas_score']\n\n\ncurr_user 2114\ncurr_user 2117\n['fatigue']\n['fas_score']\n['fatigue']\n['fas_score']\n\n\ncurr_user 2120\n['fatigue']\n['fas_score']\n['fatigue']\n['fas_score']\n\n\ncurr_user 2125\ncurr_user 2126\n['fatigue']\n['fas_score']\n['fatigue']\n['fas_score']\n\n\ncurr_user 2130\n['fatigue']\n['fas_score']\n['fatigue']\n['fas_score']\n\n\ncurr_user 2133\n['fatigue']\n['fas_score']\n['fatigue']\n['fas_score']\n\n\ncurr_user 2134\n['fatigue']\n['fas_score']\n['fatigue']\n['fas_score']\n\n\ncurr_user 2135\n['fatigue']\n['fas_score']\n['fatigue']\n['fas_score']\n\n\ncurr_user 2136\n['fatigue']\n['fas_score']\n['fatigue']\n['fas_score']\n\n\ncurr_user 2137\n['fatigue']\n['fas_score']\n['fatigue']\n['fas_score']\n\n\ncurr_user 2139\n['fatigue']\n['fas_score']\n['fatigue']\n['fas_score']\n\n\ncurr_user 2142\n['fatigue']\n['fas_score']\n['fatigue']\n['fas_score']\n\n\ncurr_user 2143\n['fatigue']\n['fas_score']\n['fatigue']\n['fas_score']\n\n\ncurr_user 2144\ncurr_user 2145\n['fatigue']\n['fas_score']\n['fatigue']\n['fas_score']\n\n\ncurr_user 2146\ncurr_user 2147\n['fatigue']\n['fas_score']\n['fatigue']\n['fas_score']\n\n\ncurr_user 2148\n['fatigue']\n['fas_score']\n['fatigue']\n['fas_score']\n\n\ncurr_user 2149\ncurr_user 2150\n['fatigue']\n['fas_score']\n['fatigue']\n['fas_score']\n\n\ncurr_user 2151\n['fatigue']\n['fas_score']\n['fatigue']\n['fas_score']\n\n\ncurr_user 2152\ncurr_user 2153\n['fatigue']\n['fas_score']\n['fatigue']\n['fas_score']\n\n\ncurr_user 2158\n['fatigue']\n['fas_score']\n['fatigue']\n['fas_score']\n\n\ncurr_user 2159\n['fatigue']\n['fas_score']\n['fatigue']\n['fas_score']\n\n\ncurr_user 2160\n['fatigue']\n['fas_score']\n['fatigue']\n['fas_score']\n\n\ncurr_user 2163\n['fatigue']\n['fas_score']\n['fatigue']\n['fas_score']\n\n\ncurr_user 2164\n['fatigue']\n['fas_score']\n['fatigue']\n['fas_score']\n\n\ncurr_user 2166\n['fatigue']\n['fas_score']\n['fatigue']\n['fas_score']\n\n\ncurr_user 2167\n['fatigue']\n['fas_score']\n['fatigue']\n['fas_score']\n\n\ncurr_user 2169\n['fatigue']\n['fas_score']\n['fatigue']\n['fas_score']\n\n\ncurr_user 2170\n['fatigue']\n['fas_score']\n['fatigue']\n['fas_score']\n\n\ncurr_user 2171\n['fatigue']\n['fas_score']\n['fatigue']\n['fas_score']\n\n\ncurr_user 2173\ncurr_user 2174\n['fatigue']\n['fas_score']\n['fatigue']\n['fas_score']\n\n\ncurr_user 2175\n['fatigue']\n['fas_score']\n['fatigue']\n['fas_score']\n\n\ncurr_user 2176\n['fatigue']\n['fas_score']\n['fatigue']\n['fas_score']\n\n\ncurr_user 2178\n['fatigue']\n['fas_score']\n['fatigue']\n['fas_score']\n\n\ncurr_user 2182\n['fatigue']\n['fas_score']\n['fatigue']\n['fas_score']\n\n\ncurr_user 2183\n['fatigue']\n['fas_score']\n['fatigue']\n['fas_score']\n\n\ncurr_user 2187\n['fatigue']\n['fas_score']\n['fatigue']\n['fas_score']\n\n\ncurr_user 2194\n['fatigue']\n['fas_score']\n['fatigue']\n['fas_score']\n\n\ncurr_user 2196\n['fatigue']\n['fas_score']\n['fatigue']\n['fas_score']\n\n\ncurr_user 2197\n['fatigue']\n['fas_score']\n['fatigue']\n['fas_score']\n\n\ncurr_user 2201\n['fatigue']\n['fas_score']\n['fatigue']\n['fas_score']\n\n\ncurr_user 2202\n['fatigue']\n['fas_score']\n['fatigue']\n['fas_score']\n\n\ncurr_user 2203\n['fatigue']\n['fas_score']\n['fatigue']\n['fas_score']\n\n\ncurr_user 2204\n['fatigue']\n['fas_score']\n['fatigue']\n['fas_score']\n\n\ncurr_user 2209\n['fatigue']\n['fas_score']\n['fatigue']\n['fas_score']\n\n\ncurr_user 2210\n['fatigue']\n['fas_score']\n['fatigue']\n['fas_score']\n\n\ncurr_user 2212\n['fatigue']\n['fas_score']\n['fatigue']\n['fas_score']\n\n\ncurr_user 2214\n['fatigue']\n['fas_score']\n['fatigue']\n['fas_score']\n\n\ncurr_user 2215\n['fatigue']\n['fas_score']\n['fatigue']\n['fas_score']\n\n\ncurr_user 2223\n['fatigue']\n['fas_score']\n['fatigue']\n['fas_score']\n\n\ncurr_user 2224\n['fatigue']\n['fas_score']\n['fatigue']\n['fas_score']\n\n\ncurr_user 2225\n['fatigue']\n['fas_score']\n['fatigue']\n['fas_score']\n\n\ncurr_user 2226\n['fatigue']\n['fas_score']\n['fatigue']\n['fas_score']\n\n\ncurr_user 2227\ncurr_user 2230\n['fatigue']\n['fas_score']\n['fatigue']\n['fas_score']\n\n\ncurr_user 2233\n['fatigue']\n['fas_score']\n['fatigue']\n['fas_score']\n\n\ncurr_user 2234\n['fatigue']\n['fas_score']\n['fatigue']\n['fas_score']\n\n\ncurr_user 2235\n['fatigue']\n['fas_score']\n['fatigue']\n['fas_score']\n\n\ncurr_user 2257\n['fatigue']\n['fas_score']\n['fatigue']\n['fas_score']\n\n\ncurr_user 2258\ncurr_user 2259\n['fatigue']\n['fas_score']\n['fatigue']\n['fas_score']\n\n\ncurr_user 2260\n['fatigue']\n['fas_score']\n['fatigue']\n['fas_score']\n\n\ncurr_user 2261\n['fatigue']\n['fas_score']\n['fatigue']\n['fas_score']\n\n\ncurr_user 2262\ncurr_user 2264\n['fatigue']\n['fas_score']\n['fatigue']\n['fas_score']\n\n\ncurr_user 2265\n['fatigue']\n['fas_score']\n['fatigue']\n['fas_score']\n\n\ncurr_user 2266\n['fatigue']\n['fas_score']\n['fatigue']\n['fas_score']\n\n\ncurr_user 2267\n['fatigue']\n['fas_score']\n['fatigue']\n['fas_score']\n\n\ncurr_user 2268\ncurr_user 2286\n['fatigue']\n['fas_score']\n['fatigue']\n['fas_score']\n\n\ncurr_user 2299\n['fatigue']\n['fas_score']\n['fatigue']\n['fas_score']\n\n\ncurr_user 2301\n['fatigue']\n['fas_score']\n['fatigue']\n['fas_score']\n\n\ncurr_user 2309\ncurr_user 2310\ncurr_user 2311\n['fatigue']\n['fas_score']\n['fatigue']\n['fas_score']\n\n\ncurr_user 2312\n['fatigue']\n['fas_score']\n['fatigue']\n['fas_score']\n\n\ncurr_user 2313\n['fatigue']\n['fas_score']\n['fatigue']\n['fas_score']\n\n\ncurr_user 2314\n['fatigue']\n['fas_score']\n['fatigue']\n['fas_score']\n\n\ncurr_user 2315\n['fatigue']\n['fas_score']\n['fatigue']\n['fas_score']\n\n\ncurr_user 2316\ncurr_user 2318\n['fatigue']\n['fas_score']\n['fatigue']\n['fas_score']\n\n\ncurr_user 2339\n['fatigue']\n['fas_score']\n['fatigue']\n['fas_score']\n\n\ncurr_user 2340\n['fatigue']\n['fas_score']\n['fatigue']\n['fas_score']\n\n\ncurr_user 2341\n['fatigue']\n['fas_score']\n['fatigue']\n['fas_score']\n\n\ncurr_user 2342\n['fatigue']\n['fas_score']\n['fatigue']\n['fas_score']\n\n\ncurr_user 2343\n['fatigue']\n['fas_score']\n['fatigue']\n['fas_score']\n\n\ncurr_user 2344\n['fatigue']\n['fas_score']\n['fatigue']\n['fas_score']\n\n\ncurr_user 2346\ncurr_user 2347\n['fatigue']\n['fas_score']\n['fatigue']\n['fas_score']\n\n\ncurr_user 2349\n['fatigue']\n['fas_score']\n['fatigue']\n['fas_score']\n\n\ncurr_user 2350\n['fatigue']\n['fas_score']\n['fatigue']\n['fas_score']\n\n\ncurr_user 2351\n['fatigue']\n['fas_score']\n['fatigue']\n['fas_score']\n\n\ncurr_user 2353\n['fatigue']\n['fas_score']\n['fatigue']\n['fas_score']\n\n\ncurr_user 2358\n['fatigue']\n['fas_score']\n['fatigue']\n['fas_score']\n\n\ncurr_user 2370\n['fatigue']\n['fas_score']\n['fatigue']\n['fas_score']\n\n\ncurr_user 2372\ncurr_user 2375\ncurr_user 2376\n['fatigue']\n['fas_score']\n['fatigue']\n['fas_score']\n\n\ncurr_user 2377\ncurr_user 2378\ncurr_user 2379\n['fatigue']\n['fas_score']\n['fatigue']\n['fas_score']\n\n\ncurr_user 2380\n['fatigue']\n['fas_score']\n['fatigue']\n['fas_score']\n\n\ncurr_user 2381\ncurr_user 2383\ncurr_user 2385\n['fatigue']\n['fas_score']\n['fatigue']\n['fas_score']\n\n\ncurr_user 2386\n['fatigue']\n['fas_score']\n['fatigue']\n['fas_score']\n\n\ncurr_user 2387\ncurr_user 2388\n['fatigue']\n['fas_score']\n['fatigue']\n['fas_score']\n\n\ncurr_user 2392\n['fatigue']\n['fas_score']\n['fatigue']\n['fas_score']\n\n\ncurr_user 2453\n['fatigue']\n['fas_score']\n['fatigue']\n['fas_score']\n\n\ncurr_user 2478\ncurr_user 2479\ncurr_user 2480\n['fatigue']\n['fas_score']\n['fatigue']\n['fas_score']\n\n\ncurr_user 2481\ncurr_user 2482\n['fatigue']\n['fas_score']\n['fatigue']\n['fas_score']\n\n\ncurr_user 2483\n['fatigue']\n['fas_score']\n['fatigue']\n['fas_score']\n\n\ncurr_user 2484\n['fatigue']\n['fas_score']\n['fatigue']\n['fas_score']\n\n\ncurr_user 2485\n['fatigue']\n['fas_score']\n['fatigue']\n['fas_score']\n\n\ncurr_user 2486\n['fatigue']\n['fas_score']\n['fatigue']\n['fas_score']\n\n\ncurr_user 2487\n['fatigue']\n['fas_score']\n['fatigue']\n['fas_score']\n\n\ncurr_user 2488\n['fatigue']\n['fas_score']\n['fatigue']\n['fas_score']\n\n\ncurr_user 2489\n['fatigue']\n['fas_score']\n['fatigue']\n['fas_score']\n\n\ncurr_user 2490\n['fatigue']\n['fas_score']\n['fatigue']\n['fas_score']\n\n\ncurr_user 2491\n['fatigue']\n['fas_score']\n['fatigue']\n['fas_score']\n\n\ncurr_user 2492\n['fatigue']\n['fas_score']\n['fatigue']\n['fas_score']\n\n\ncurr_user 2494\n['fatigue']\n['fas_score']\n['fatigue']\n['fas_score']\n\n\ncurr_user 2495\n['fatigue']\n['fas_score']\n['fatigue']\n['fas_score']\n\n\ncurr_user 2496\n['fatigue']\n['fas_score']\n['fatigue']\n['fas_score']\n\n\ncurr_user 2498\n['fatigue']\n['fas_score']\n['fatigue']\n['fas_score']\n\n\ncurr_user 2499\ncurr_user 2500\n['fatigue']\n['fas_score']\n['fatigue']\n['fas_score']\n\n\ncurr_user 2501\ncurr_user 2502\n['fatigue']\n['fas_score']\n['fatigue']\n['fas_score']\n\n\ncurr_user 2503\n['fatigue']\n['fas_score']\n['fatigue']\n['fas_score']\n\n\ncurr_user 2504\n['fatigue']\n['fas_score']\n['fatigue']\n['fas_score']\n\n\ncurr_user 2505\ncurr_user 2508\ncurr_user 2509\n['fatigue']\n['fas_score']\n['fatigue']\n['fas_score']\n\n\ncurr_user 2510\n['fatigue']\n['fas_score']\n['fatigue']\n['fas_score']\n\n\ncurr_user 2511\ncurr_user 2514\n['fatigue']\n['fas_score']\n['fatigue']\n['fas_score']\n\n\ncurr_user 2515\n['fatigue']\n['fas_score']\n['fatigue']\n['fas_score']\n\n\ncurr_user 2516\n['fatigue']\n['fas_score']\n['fatigue']\n['fas_score']\n\n\ncurr_user 2518\n['fatigue']\n['fas_score']\n['fatigue']\n['fas_score']\n\n\ncurr_user 2520\ncurr_user 2524\ncurr_user 2528\n['fatigue']\n['fas_score']\n['fatigue']\n['fas_score']\n\n\ncurr_user 2530\n['fatigue']\n['fas_score']\n['fatigue']\n['fas_score']\n\n\ncurr_user 2534\ncurr_user 2536\n['fatigue']\n['fas_score']\n['fatigue']\n['fas_score']\n\n\ncurr_user 2540\ncurr_user 2541\n['fatigue']\n['fas_score']\n['fatigue']\n['fas_score']\n\n\ncurr_user 2542\n['fatigue']\n['fas_score']\n['fatigue']\n['fas_score']\n\n\ncurr_user 2543\n['fatigue']\n['fas_score']\n['fatigue']\n['fas_score']\n\n\ncurr_user 2546\n['fatigue']\n['fas_score']\n['fatigue']\n['fas_score']\n\n\ncurr_user 2547\n['fatigue']\n['fas_score']\n['fatigue']\n['fas_score']\n\n\ncurr_user 2548\n['fatigue']\n['fas_score']\n['fatigue']\n['fas_score']\n\n\ncurr_user 2549\n['fatigue']\n['fas_score']\n['fatigue']\n['fas_score']\n\n\ncurr_user 2550\n['fatigue']\n['fas_score']\n['fatigue']\n['fas_score']\n\n\ncurr_user 2551\n['fatigue']\n['fas_score']\n['fatigue']\n['fas_score']\n\n\ncurr_user 2562\n['fatigue']\n['fas_score']\n['fatigue']\n['fas_score']\n\n\ncurr_user 2563\n['fatigue']\n['fas_score']\n['fatigue']\n['fas_score']\n\n\ncurr_user 2564\n['fatigue']\n['fas_score']\n['fatigue']\n['fas_score']\n\n\ncurr_user 2565\n['fatigue']\n['fas_score']\n['fatigue']\n['fas_score']\n\n\ncurr_user 2569\ncurr_user 2571\n['fatigue']\n['fas_score']\n['fatigue']\n['fas_score']\n\n\ncurr_user 2572\n['fatigue']\n['fas_score']\n['fatigue']\n['fas_score']\n\n\ncurr_user 2573\n['fatigue']\n['fas_score']\n['fatigue']\n['fas_score']\n\n\ncurr_user 2574\n['fatigue']\n['fas_score']\n['fatigue']\n['fas_score']\n\n\ncurr_user 2575\n['fatigue']\n['fas_score']\n['fatigue']\n['fas_score']\n\n\ncurr_user 2576\n['fatigue']\n['fas_score']\n['fatigue']\n['fas_score']\n\n\ncurr_user 2578\n['fatigue']\n['fas_score']\n['fatigue']\n['fas_score']\n\n\ncurr_user 2580\ncurr_user 2581\n['fatigue']\n['fas_score']\n['fatigue']\n['fas_score']\n\n\ncurr_user 2582\ncurr_user 2583\n['fatigue']\n['fas_score']\n['fatigue']\n['fas_score']\n\n\ncurr_user 2584\n['fatigue']\n['fas_score']\n['fatigue']\n['fas_score']\n\n\ncurr_user 2586\n['fatigue']\n['fas_score']\n['fatigue']\n['fas_score']\n\n\ncurr_user 2587\n['fatigue']\n['fas_score']\n['fatigue']\n['fas_score']\n\n\ncurr_user 2588\n['fatigue']\n['fas_score']\n['fatigue']\n['fas_score']\n\n\ncurr_user 2590\ncurr_user 2592\n['fatigue']\n['fas_score']\n['fatigue']\n['fas_score']\n\n\ncurr_user 2593\n['fatigue']\n['fas_score']\n['fatigue']\n['fas_score']\n\n\ncurr_user 2594\n['fatigue']\n['fas_score']\n['fatigue']\n['fas_score']\n\n\ncurr_user 2595\ncurr_user 2596\n['fatigue']\n['fas_score']\n['fatigue']\n['fas_score']\n\n\ncurr_user 2598\n['fatigue']\n['fas_score']\n['fatigue']\n['fas_score']\n\n\ncurr_user 2599\n['fatigue']\n['fas_score']\n['fatigue']\n['fas_score']\n\n\ncurr_user 2601\ncurr_user 2602\ncurr_user 2603\n['fatigue']\n['fas_score']\n['fatigue']\n['fas_score']\n\n\ncurr_user 2605\n['fatigue']\n['fas_score']\n['fatigue']\n['fas_score']\n\n\ncurr_user 2607\n['fatigue']\n['fas_score']\n['fatigue']\n['fas_score']\n\n\ncurr_user 2608\n['fatigue']\n['fas_score']\n['fatigue']\n['fas_score']\n\n\ncurr_user 2610\n['fatigue']\n['fas_score']\n['fatigue']\n['fas_score']\n\n\ncurr_user 2611\n['fatigue']\n['fas_score']\n['fatigue']\n['fas_score']\n\n\ncurr_user 2612\n['fatigue']\n['fas_score']\n['fatigue']\n['fas_score']\n\n\ncurr_user 2613\n['fatigue']\n['fas_score']\n['fatigue']\n['fas_score']\n\n\ncurr_user 2614\n['fatigue']\n['fas_score']\n['fatigue']\n['fas_score']\n\n\ncurr_user 2615\n['fatigue']\n['fas_score']\n['fatigue']\n['fas_score']\n\n\ncurr_user 2616\ncurr_user 2626\n['fatigue']\n['fas_score']\n['fatigue']\n['fas_score']\n\n\ncurr_user 2628\n['fatigue']\n['fas_score']\n['fatigue']\n['fas_score']\n\n\ncurr_user 2629\ncurr_user 2631\n['fatigue']\n['fas_score']\n['fatigue']\n['fas_score']\n\n\ncurr_user 2634\n['fatigue']\n['fas_score']\n['fatigue']\n['fas_score']\n\n\ncurr_user 2635\ncurr_user 2636\n['fatigue']\n['fas_score']\n['fatigue']\n['fas_score']\n\n\ncurr_user 2637\ncurr_user 2643\n['fatigue']\n['fas_score']\n['fatigue']\n['fas_score']\n\n\ncurr_user 2645\n['fatigue']\n['fas_score']\n['fatigue']\n['fas_score']\n\n\ncurr_user 2650\n['fatigue']\n['fas_score']\n['fatigue']\n['fas_score']\n\n\ncurr_user 2654\n['fatigue']\n['fas_score']\n['fatigue']\n['fas_score']\n\n\ncurr_user 2656\n['fatigue']\n['fas_score']\n['fatigue']\n['fas_score']\n\n\ncurr_user 2664\n['fatigue']\n['fas_score']\n['fatigue']\n['fas_score']\n\n\n"
    }
   ],
   "source": [
    "\n",
    "train_set_lst = []\n",
    "test_set_lst = []\n",
    "for curr_user in grouped_df_fas['user_id'].unique():\n",
    "    # curr_user = 28\n",
    "    print(\"curr_user\", curr_user)\n",
    "    curr_user_fas = grouped_df_fas[grouped_df_fas['user_id'] == curr_user].reset_index()\n",
    "    fas_time = list(curr_user_fas['date'].unique())\n",
    "    daily_csv_path = f'/mnt/dataset/fatigue/user_{curr_user}_fatigue_label.csv'\n",
    "    if not os.path.exists(daily_csv_path):\n",
    "        #print(\"Empty Edema\")\n",
    "        continue\n",
    "    curr_user_daily_df = pd.read_csv(daily_csv_path).groupby(\"date\", as_index = False).first()[['date', 'fatigue']]\n",
    "    curr_user_daily_df['date'] = pd.to_datetime(curr_user_daily_df['date'])\n",
    "    \n",
    "    daily_time = list(curr_user_daily_df['date'].unique())\n",
    "    available_time = list(set(daily_time).intersection(fas_time))\n",
    "    available_time = pd.to_datetime(available_time)\n",
    "    available_time = [date.strftime('%Y-%m-%d') for date in available_time]\n",
    "    train_times = available_time[:int(len(available_time) * 0.8)]\n",
    "    test_times = available_time[int(len(available_time) * 0.8):]\n",
    "    if len(train_times) <= 3:\n",
    "        continue\n",
    "\n",
    "    train_set = SameDayMappingDataset(dataset_y = curr_user_fas, dataset_x = curr_user_daily_df, \n",
    "    user_id=curr_user, feature_name_lst_y=['fas_score'], feature_name_lst_x=['fatigue'], train_time_steps=train_times, target_time_steps=train_times)\n",
    "    test_set = SameDayMappingDataset(dataset_y = curr_user_fas, dataset_x = curr_user_daily_df, \n",
    "    user_id=curr_user, feature_name_lst_y=['fas_score'], feature_name_lst_x=['fatigue'], train_time_steps=train_times, target_time_steps=test_times)\n",
    "    train_set_lst.append(train_set)\n",
    "    test_set_lst.append(test_set)\n",
    "    print(\"\\n\")\n",
    "train_set = ConcatDataset(train_set_lst)\n",
    "test_set = ConcatDataset(test_set_lst)\n",
    "train_dataloader = DataLoader(train_set, batch_size=32, shuffle=True)\n",
    "test_dataloader = DataLoader(test_set, batch_size=32, shuffle=True)"
   ]
  },
  {
   "cell_type": "code",
   "execution_count": 50,
   "metadata": {
    "tags": [
     "outputPrepend",
     "outputPrepend",
     "outputPrepend",
     "outputPrepend",
     "outputPrepend",
     "outputPrepend",
     "outputPrepend",
     "outputPrepend",
     "outputPrepend",
     "outputPrepend",
     "outputPrepend",
     "outputPrepend",
     "outputPrepend",
     "outputPrepend",
     "outputPrepend",
     "outputPrepend",
     "outputPrepend",
     "outputPrepend",
     "outputPrepend",
     "outputPrepend",
     "outputPrepend",
     "outputPrepend",
     "outputPrepend",
     "outputPrepend",
     "outputPrepend",
     "outputPrepend",
     "outputPrepend",
     "outputPrepend",
     "outputPrepend",
     "outputPrepend",
     "outputPrepend",
     "outputPrepend",
     "outputPrepend",
     "outputPrepend",
     "outputPrepend",
     "outputPrepend",
     "outputPrepend",
     "outputPrepend",
     "outputPrepend",
     "outputPrepend",
     "outputPrepend",
     "outputPrepend",
     "outputPrepend",
     "outputPrepend",
     "outputPrepend",
     "outputPrepend",
     "outputPrepend",
     "outputPrepend",
     "outputPrepend",
     "outputPrepend",
     "outputPrepend",
     "outputPrepend",
     "outputPrepend",
     "outputPrepend",
     "outputPrepend",
     "outputPrepend",
     "outputPrepend",
     "outputPrepend",
     "outputPrepend",
     "outputPrepend",
     "outputPrepend",
     "outputPrepend",
     "outputPrepend",
     "outputPrepend",
     "outputPrepend",
     "outputPrepend",
     "outputPrepend",
     "outputPrepend",
     "outputPrepend",
     "outputPrepend",
     "outputPrepend",
     "outputPrepend",
     "outputPrepend",
     "outputPrepend",
     "outputPrepend",
     "outputPrepend",
     "outputPrepend",
     "outputPrepend",
     "outputPrepend",
     "outputPrepend",
     "outputPrepend",
     "outputPrepend",
     "outputPrepend",
     "outputPrepend",
     "outputPrepend",
     "outputPrepend",
     "outputPrepend",
     "outputPrepend",
     "outputPrepend",
     "outputPrepend",
     "outputPrepend",
     "outputPrepend",
     "outputPrepend",
     "outputPrepend",
     "outputPrepend",
     "outputPrepend",
     "outputPrepend",
     "outputPrepend",
     "outputPrepend",
     "outputPrepend",
     "outputPrepend",
     "outputPrepend",
     "outputPrepend",
     "outputPrepend",
     "outputPrepend",
     "outputPrepend",
     "outputPrepend",
     "outputPrepend",
     "outputPrepend",
     "outputPrepend",
     "outputPrepend",
     "outputPrepend",
     "outputPrepend",
     "outputPrepend",
     "outputPrepend",
     "outputPrepend",
     "outputPrepend",
     "outputPrepend",
     "outputPrepend",
     "outputPrepend",
     "outputPrepend"
    ]
   },
   "outputs": [
    {
     "output_type": "stream",
     "name": "stdout",
     "text": "2023-01-04\n(1, 1)\n(7, 1)\n2022-03-24\n(1, 1)\n(7, 1)\n2022-05-18\n(1, 1)\n(7, 1)\n2022-12-21\n(1, 1)\n(7, 1)\n2022-03-14\n(1, 1)\n(7, 1)\n2023-02-13\n(1, 1)\n(7, 1)\n2022-01-06\n(1, 1)\n(7, 1)\n2023-02-01\n(1, 1)\n(7, 1)\n2023-02-24\n(1, 1)\n(7, 1)\n2022-12-17\n(1, 1)\n(7, 1)\n2021-12-07\n(1, 1)\n(7, 1)\n2022-07-07\n(1, 1)\n(7, 1)\n2022-07-16\n(1, 1)\n(7, 1)\n2023-01-25\n(1, 1)\n(7, 1)\n2023-01-20\n(1, 1)\n(7, 1)\n2022-01-13\n(1, 1)\n(7, 1)\n2023-01-14\n(1, 1)\n(7, 1)\n2023-02-09\n(1, 1)\n(7, 1)\n2022-06-13\n(1, 1)\n(7, 1)\n2022-12-23\n(1, 1)\n(7, 1)\n2023-01-24\n(1, 1)\n(7, 1)\n2022-05-03\n(1, 1)\n(7, 1)\n2022-12-30\n(1, 1)\n(7, 1)\n2022-11-04\n(1, 1)\n(7, 1)\n2022-11-03\n(1, 1)\n(7, 1)\n2022-01-18\n(1, 1)\n(7, 1)\n2021-12-14\n(1, 1)\n(7, 1)\n2022-01-29\n(1, 1)\n(7, 1)\n2022-09-02\n(1, 1)\n(7, 1)\n2022-08-13\n(1, 1)\n(7, 1)\n2022-09-01\n(1, 1)\n(7, 1)\n2021-08-27\n(1, 1)\n(7, 1)\n2021-09-23\n(1, 1)\n(7, 1)\n2023-02-15\n(1, 1)\n(7, 1)\n2022-07-18\n(1, 1)\n(7, 1)\n2023-02-17\n(1, 1)\n(7, 1)\n2022-02-01\n(1, 1)\n(7, 1)\n2023-02-17\n(1, 1)\n(7, 1)\n2022-11-08\n(1, 1)\n(7, 1)\n2022-09-23\n(1, 1)\n(7, 1)\n2021-09-21\n(1, 1)\n(7, 1)\n2023-01-11\n(1, 1)\n(7, 1)\n2022-11-25\n(1, 1)\n(7, 1)\n2021-11-11\n(1, 1)\n(7, 1)\n2022-10-07\n(1, 1)\n(7, 1)\n2023-01-02\n(1, 1)\n(7, 1)\n2023-02-24\n(1, 1)\n(7, 1)\n2022-08-08\n(1, 1)\n(7, 1)\n2022-11-03\n(1, 1)\n(7, 1)\n2023-01-18\n(1, 1)\n(7, 1)\n2022-12-07\n(1, 1)\n(7, 1)\n2022-03-04\n(1, 1)\n(7, 1)\n2022-03-10\n(1, 1)\n(7, 1)\n2023-02-23\n(1, 1)\n(7, 1)\n2021-08-03\n(1, 1)\n(7, 1)\n2022-03-12\n(1, 1)\n(7, 1)\n2022-03-30\n(1, 1)\n(7, 1)\n2022-06-03\n(1, 1)\n(7, 1)\n2023-01-26\n(1, 1)\n(7, 1)\n2022-05-05\n(1, 1)\n(7, 1)\n2023-01-18\n(1, 1)\n(7, 1)\n2022-06-04\n(1, 1)\n(7, 1)\n2023-01-27\n(1, 1)\n(7, 1)\n2022-02-02\n(1, 1)\n(7, 1)\n2023-01-24\n(1, 1)\n(7, 1)\n2022-04-22\n(1, 1)\n(7, 1)\n2022-11-18\n(1, 1)\n(7, 1)\n2022-08-05\n(1, 1)\n(7, 1)\n2022-03-10\n(1, 1)\n(7, 1)\n2023-01-20\n(1, 1)\n(7, 1)\n2021-12-21\n(1, 1)\n(7, 1)\n2023-02-13\n(1, 1)\n(7, 1)\n2023-01-13\n(1, 1)\n(7, 1)\n2021-08-27\n(1, 1)\n(7, 1)\n2022-09-15\n(1, 1)\n(7, 1)\n2022-01-22\n(1, 1)\n(7, 1)\n2023-02-28\n(1, 1)\n(7, 1)\n2023-01-30\n(1, 1)\n(7, 1)\n2023-02-21\n(1, 1)\n(7, 1)\n2022-10-26\n(1, 1)\n(7, 1)\n2023-02-14\n(1, 1)\n(7, 1)\n2021-09-09\n(1, 1)\n(7, 1)\n2022-09-27\n(1, 1)\n(7, 1)\n2022-05-28\n(1, 1)\n(7, 1)\n2022-01-17\n(1, 1)\n(7, 1)\n2022-12-15\n(1, 1)\n(7, 1)\n2022-12-21\n(1, 1)\n(7, 1)\n2023-02-11\n(1, 1)\n(7, 1)\n2022-09-15\n(1, 1)\n(7, 1)\n2023-02-23\n(1, 1)\n(7, 1)\n2022-08-31\n(1, 1)\n(7, 1)\n2022-11-30\n(1, 1)\n(7, 1)\n2022-06-23\n(1, 1)\n(7, 1)\n2023-02-03\n(1, 1)\n(7, 1)\n2022-06-25\n(1, 1)\n(7, 1)\n2022-01-10\n(1, 1)\n(7, 1)\n2022-09-08\n(1, 1)\n(7, 1)\n2022-08-31\n(1, 1)\n(7, 1)\n2022-06-22\n(1, 1)\n(7, 1)\n2021-11-16\n(1, 1)\n(7, 1)\n2023-01-04\n(1, 1)\n(7, 1)\n2021-10-01\n(1, 1)\n(7, 1)\n2022-08-21\n(1, 1)\n(7, 1)\n2021-10-26\n(1, 1)\n(7, 1)\n2021-10-20\n(1, 1)\n(7, 1)\n2023-02-07\n(1, 1)\n(7, 1)\n2022-11-09\n(1, 1)\n(7, 1)\n2022-09-23\n(1, 1)\n(7, 1)\n2021-07-21\n(1, 1)\n(7, 1)\n2022-05-04\n(1, 1)\n(7, 1)\n2022-10-26\n(1, 1)\n(7, 1)\n2022-12-20\n(1, 1)\n(7, 1)\n2022-04-28\n(1, 1)\n(7, 1)\n2023-01-16\n(1, 1)\n(7, 1)\n2021-07-22\n(1, 1)\n(7, 1)\n2021-08-19\n(1, 1)\n(7, 1)\n2023-01-31\n(1, 1)\n(7, 1)\n2022-04-23\n(1, 1)\n(7, 1)\n2021-08-06\n(1, 1)\n(7, 1)\n2023-02-08\n(1, 1)\n(7, 1)\n2022-07-12\n(1, 1)\n(7, 1)\n2022-06-04\n(1, 1)\n(7, 1)\n2021-06-01\n(1, 1)\n(7, 1)\n2022-07-08\n(1, 1)\n(7, 1)\n2022-02-02\n(1, 1)\n(7, 1)\n2021-11-11\n(1, 1)\n(7, 1)\n2022-08-31\n(1, 1)\n(7, 1)\n2022-12-21\n(1, 1)\n(7, 1)\n2023-02-07\n(1, 1)\n(7, 1)\n2022-03-08\n(1, 1)\n(7, 1)\n2023-02-17\n(1, 1)\n(7, 1)\n2023-02-14\n(1, 1)\n(7, 1)\n2022-08-25\n(1, 1)\n(7, 1)\n2023-02-16\n(1, 1)\n(7, 1)\n2021-12-15\n(1, 1)\n(7, 1)\n2022-12-14\n(1, 1)\n(7, 1)\n2023-02-22\n(1, 1)\n(7, 1)\n2022-08-26\n(1, 1)\n(7, 1)\n2023-02-06\n(1, 1)\n(7, 1)\n2022-04-26\n(1, 1)\n(7, 1)\n2023-02-23\n(1, 1)\n(7, 1)\n2022-05-10\n(1, 1)\n(7, 1)\n2022-11-02\n(1, 1)\n(7, 1)\n2022-12-30\n(1, 1)\n(7, 1)\n2022-04-01\n(1, 1)\n(7, 1)\n2022-08-31\n(1, 1)\n(7, 1)\n2021-05-04\n(1, 1)\n(7, 1)\n2023-01-26\n(1, 1)\n(7, 1)\n2022-12-22\n(1, 1)\n(7, 1)\n2023-01-23\n(1, 1)\n(7, 1)\n2022-04-09\n(1, 1)\n(7, 1)\n2022-09-23\n(1, 1)\n(7, 1)\n2023-02-17\n(1, 1)\n(7, 1)\n2023-02-25\n(1, 1)\n(7, 1)\n2022-09-23\n(1, 1)\n(7, 1)\n2021-11-26\n(1, 1)\n(7, 1)\n2021-08-12\n(1, 1)\n(7, 1)\n2022-07-13\n(1, 1)\n(7, 1)\n2022-11-09\n(1, 1)\n(7, 1)\n2022-01-26\n(1, 1)\n(7, 1)\n2022-02-09\n(1, 1)\n(7, 1)\n2022-04-15\n(1, 1)\n(7, 1)\n2023-02-27\n(1, 1)\n(7, 1)\n2022-08-05\n(1, 1)\n(7, 1)\n2022-07-20\n(1, 1)\n(7, 1)\n2023-02-10\n(1, 1)\n(7, 1)\n2021-08-31\n(1, 1)\n(7, 1)\n2022-12-21\n(1, 1)\n(7, 1)\n2021-12-30\n(1, 1)\n(7, 1)\n2023-01-31\n(1, 1)\n(7, 1)\n2022-11-09\n(1, 1)\n(7, 1)\n2022-03-26\n(1, 1)\n(7, 1)\n2023-01-27\n(1, 1)\n(7, 1)\n2021-10-21\n(1, 1)\n(7, 1)\n2022-02-24\n(1, 1)\n(7, 1)\n2023-02-20\n(1, 1)\n(7, 1)\n2022-07-26\n(1, 1)\n(7, 1)\n2023-02-27\n(1, 1)\n(7, 1)\n2022-03-08\n(1, 1)\n(7, 1)\n2021-04-19\n(1, 1)\n(7, 1)\n2022-02-22\n(1, 1)\n(7, 1)\n2022-02-28\n(1, 1)\n(7, 1)\n2022-06-25\n(1, 1)\n(7, 1)\n2021-07-08\n(1, 1)\n(7, 1)\n2022-12-09\n(1, 1)\n(7, 1)\n2021-08-12\n(1, 1)\n(7, 1)\n2021-10-20\n(1, 1)\n(7, 1)\n2022-06-09\n(1, 1)\n(7, 1)\n2022-07-28\n(1, 1)\n(7, 1)\n2023-02-14\n(1, 1)\n(7, 1)\n2023-01-24\n(1, 1)\n(7, 1)\n2022-09-20\n(1, 1)\n(7, 1)\n2022-01-06\n(1, 1)\n(7, 1)\n2022-03-04\n(1, 1)\n(7, 1)\n2022-03-18\n(1, 1)\n(7, 1)\n2022-11-15\n(1, 1)\n(7, 1)\n2022-01-27\n(1, 1)\n(7, 1)\n2023-02-08\n(1, 1)\n(7, 1)\n2021-10-22\n(1, 1)\n(7, 1)\n2021-07-14\n(1, 1)\n(7, 1)\n2022-04-15\n(1, 1)\n(7, 1)\n2023-02-22\n(1, 1)\n(7, 1)\n2022-12-30\n(1, 1)\n(7, 1)\n2022-07-28\n(1, 1)\n(7, 1)\n2022-07-28\n(1, 1)\n(7, 1)\n2022-06-25\n(1, 1)\n(7, 1)\n2021-09-01\n(1, 1)\n(7, 1)\n2022-05-14\n(1, 1)\n(7, 1)\n2022-07-09\n(1, 1)\n(7, 1)\n2022-03-17\n(1, 1)\n(7, 1)\n2022-01-18\n(1, 1)\n(7, 1)\n2023-01-30\n(1, 1)\n(7, 1)\n2022-06-10\n(1, 1)\n(7, 1)\n2022-04-05\n(1, 1)\n(7, 1)\n2021-12-28\n(1, 1)\n(7, 1)\n2021-11-05\n(1, 1)\n(7, 1)\n2021-12-27\n(1, 1)\n(7, 1)\n2022-05-27\n(1, 1)\n(7, 1)\n2021-12-10\n(1, 1)\n(7, 1)\n2021-12-24\n(1, 1)\n(7, 1)\n2022-11-03\n(1, 1)\n(7, 1)\n2022-11-04\n(1, 1)\n(7, 1)\n2022-10-14\n(1, 1)\n(7, 1)\n2022-08-12\n(1, 1)\n(7, 1)\n2022-09-02\n(1, 1)\n(7, 1)\n2022-03-08\n(1, 1)\n(7, 1)\n2023-02-26\n(1, 1)\n(7, 1)\n2022-11-24\n(1, 1)\n(7, 1)\n2022-03-19\n(1, 1)\n(7, 1)\n2022-11-11\n(1, 1)\n(7, 1)\n2022-01-17\n(1, 1)\n(7, 1)\n2022-12-09\n(1, 1)\n(7, 1)\n2022-06-04\n(1, 1)\n(7, 1)\n2023-01-10\n(1, 1)\n(7, 1)\n2021-11-04\n(1, 1)\n(7, 1)\n2022-03-22\n(1, 1)\n(7, 1)\n2022-08-16\n(1, 1)\n(7, 1)\n2023-02-07\n(1, 1)\n(7, 1)\n2021-11-19\n(1, 1)\n(7, 1)\n2022-12-22\n(1, 1)\n(7, 1)\n2022-05-20\n(1, 1)\n(7, 1)\n2021-08-17\n(1, 1)\n(7, 1)\n2022-02-14\n(1, 1)\n(7, 1)\n2023-02-28\n(1, 1)\n(7, 1)\n2022-07-21\n(1, 1)\n(7, 1)\n2021-12-03\n(1, 1)\n(7, 1)\n2023-02-08\n(1, 1)\n(7, 1)\n2022-04-20\n(1, 1)\n(7, 1)\n2022-10-27\n(1, 1)\n(7, 1)\n2023-01-11\n(1, 1)\n(7, 1)\n2022-05-07\n(1, 1)\n(7, 1)\n2022-05-22\n(1, 1)\n(7, 1)\n2022-12-19\n(1, 1)\n(7, 1)\n2022-02-10\n(1, 1)\n(7, 1)\n2022-12-30\n(1, 1)\n(7, 1)\n2021-09-15\n(1, 1)\n(7, 1)\n2023-01-04\n(1, 1)\n(7, 1)\n2021-11-16\n(1, 1)\n(7, 1)\n2022-10-18\n(1, 1)\n(7, 1)\n2022-07-28\n(1, 1)\n(7, 1)\n2023-01-20\n(1, 1)\n(7, 1)\n2022-12-23\n(1, 1)\n(7, 1)\n2021-09-09\n(1, 1)\n(7, 1)\n2021-11-05\n(1, 1)\n(7, 1)\n2021-11-11\n(1, 1)\n(7, 1)\n2022-07-30\n(1, 1)\n(7, 1)\n2023-02-07\n(1, 1)\n(7, 1)\n2023-02-23\n(1, 1)\n(7, 1)\n2023-02-23\n(1, 1)\n(7, 1)\n2022-06-29\n(1, 1)\n(7, 1)\n2022-08-17\n(1, 1)\n(7, 1)\n2021-12-16\n(1, 1)\n(7, 1)\n2023-01-26\n(1, 1)\n(7, 1)\n2023-02-06\n(1, 1)\n(7, 1)\n2022-07-21\n(1, 1)\n(7, 1)\n2023-01-04\n(1, 1)\n(7, 1)\n2022-03-26\n(1, 1)\n(7, 1)\n2023-01-22\n(1, 1)\n(7, 1)\n2022-09-02\n(1, 1)\n(7, 1)\n2021-09-28\n(1, 1)\n(7, 1)\n2022-10-04\n(1, 1)\n(7, 1)\n2022-08-12\n(1, 1)\n(7, 1)\n2023-02-09\n(1, 1)\n(7, 1)\n2023-01-02\n(1, 1)\n(7, 1)\n2022-09-22\n(1, 1)\n(7, 1)\n2022-09-27\n(1, 1)\n(7, 1)\n2022-09-30\n(1, 1)\n(7, 1)\n2022-11-03\n(1, 1)\n(7, 1)\n2022-09-22\n(1, 1)\n(7, 1)\n2022-02-18\n(1, 1)\n(7, 1)\n2022-01-07\n(1, 1)\n(7, 1)\n2022-04-21\n(1, 1)\n(7, 1)\n2022-01-05\n(1, 1)\n(7, 1)\n2022-12-21\n(1, 1)\n(7, 1)\n2023-02-17\n(1, 1)\n(7, 1)\n2022-06-10\n(1, 1)\n(7, 1)\n2022-09-22\n(1, 1)\n(7, 1)\n2021-12-07\n(1, 1)\n(7, 1)\n2021-10-02\n(1, 1)\n(7, 1)\n2022-03-08\n(1, 1)\n(7, 1)\n2021-10-12\n(1, 1)\n(7, 1)\n2022-01-18\n(1, 1)\n(7, 1)\n2022-12-15\n(1, 1)\n(7, 1)\n2023-01-13\n(1, 1)\n(7, 1)\n2022-10-20\n(1, 1)\n(7, 1)\n2022-09-02\n(1, 1)\n(7, 1)\n2022-07-30\n(1, 1)\n(7, 1)\n2022-02-17\n(1, 1)\n(7, 1)\n2023-02-09\n(1, 1)\n(7, 1)\n2022-09-05\n(1, 1)\n(7, 1)\n2022-08-11\n(1, 1)\n(7, 1)\n2023-02-09\n(1, 1)\n(7, 1)\n2023-01-18\n(1, 1)\n(7, 1)\n2022-06-30\n(1, 1)\n(7, 1)\n2023-02-01\n(1, 1)\n(7, 1)\n2023-01-26\n(1, 1)\n(7, 1)\n2022-12-20\n(1, 1)\n(7, 1)\n2023-01-04\n(1, 1)\n(7, 1)\n2022-03-10\n(1, 1)\n(7, 1)\n2022-09-06\n(1, 1)\n(7, 1)\n2021-11-30\n(1, 1)\n(7, 1)\n2022-08-31\n(1, 1)\n(7, 1)\n2022-04-09\n(1, 1)\n(7, 1)\n2022-02-24\n(1, 1)\n(7, 1)\n2022-03-15\n(1, 1)\n(7, 1)\n2022-01-26\n(1, 1)\n(7, 1)\n2023-01-20\n(1, 1)\n(7, 1)\n2022-09-20\n(1, 1)\n(7, 1)\n2022-06-09\n(1, 1)\n(7, 1)\n2023-02-03\n(1, 1)\n(7, 1)\n2023-02-24\n(1, 1)\n(7, 1)\n2022-05-06\n(1, 1)\n(7, 1)\n2023-02-14\n(1, 1)\n(7, 1)\n2022-12-29\n(1, 1)\n(7, 1)\n2022-10-12\n(1, 1)\n(7, 1)\n2021-11-18\n(1, 1)\n(7, 1)\n2022-09-04\n(1, 1)\n(7, 1)\n2021-09-01\n(1, 1)\n(7, 1)\n2023-01-12\n(1, 1)\n(7, 1)\n2023-01-10\n(1, 1)\n(7, 1)\n2023-02-14\n(1, 1)\n(7, 1)\n2023-01-19\n(1, 1)\n(7, 1)\n2022-06-25\n(1, 1)\n(7, 1)\n2023-02-07\n(1, 1)\n(7, 1)\n2021-11-11\n(1, 1)\n(7, 1)\n2022-09-30\n(1, 1)\n(7, 1)\n2022-07-25\n(1, 1)\n(7, 1)\n2022-12-21\n(1, 1)\n(7, 1)\n2023-02-15\n(1, 1)\n(7, 1)\n2022-03-29\n(1, 1)\n(7, 1)\n2022-05-13\n(1, 1)\n(7, 1)\n2021-10-19\n(1, 1)\n(7, 1)\n2022-01-26\n(1, 1)\n(7, 1)\n2022-08-05\n(1, 1)\n(7, 1)\n2022-01-21\n(1, 1)\n(7, 1)\n2021-09-01\n(1, 1)\n(7, 1)\n2022-05-10\n(1, 1)\n(7, 1)\n2021-11-18\n(1, 1)\n(7, 1)\n2022-09-02\n(1, 1)\n(7, 1)\n2023-02-21\n(1, 1)\n(7, 1)\n2023-02-03\n(1, 1)\n(7, 1)\n2022-11-01\n(1, 1)\n(7, 1)\n2022-12-14\n(1, 1)\n(7, 1)\n2023-02-23\n(1, 1)\n(7, 1)\n2021-12-16\n(1, 1)\n(7, 1)\n2023-01-20\n(1, 1)\n(7, 1)\n2022-03-26\n(1, 1)\n(7, 1)\n2022-08-04\n(1, 1)\n(7, 1)\n2023-01-06\n(1, 1)\n(7, 1)\n2022-08-23\n(1, 1)\n(7, 1)\n2023-01-27\n(1, 1)\n(7, 1)\n2023-02-24\n(1, 1)\n(7, 1)\n2022-02-04\n(1, 1)\n(7, 1)\n2022-11-23\n(1, 1)\n(7, 1)\n2023-02-10\n(1, 1)\n(7, 1)\n2022-10-26\n(1, 1)\n(7, 1)\n2022-10-05\n(1, 1)\n(7, 1)\n2023-01-11\n(1, 1)\n(7, 1)\n2022-12-09\n(1, 1)\n(7, 1)\n2022-09-16\n(1, 1)\n(7, 1)\n2022-10-27\n(1, 1)\n(7, 1)\n2022-07-26\n(1, 1)\n(7, 1)\n2022-10-22\n(1, 1)\n(7, 1)\n2023-01-06\n(1, 1)\n(7, 1)\n2022-09-14\n(1, 1)\n(7, 1)\n2023-01-26\n(1, 1)\n(7, 1)\n2023-02-23\n(1, 1)\n(7, 1)\n2022-02-02\n(1, 1)\n(7, 1)\n2023-01-25\n(1, 1)\n(7, 1)\n2022-02-10\n(1, 1)\n(7, 1)\n2022-07-14\n(1, 1)\n(7, 1)\n2023-02-28\n(1, 1)\n(7, 1)\n2022-11-29\n(1, 1)\n(7, 1)\n2022-06-24\n(1, 1)\n(7, 1)\n2022-12-21\n(1, 1)\n(7, 1)\n2022-03-07\n(1, 1)\n(7, 1)\n2023-02-25\n(1, 1)\n(7, 1)\n2022-07-08\n(1, 1)\n(7, 1)\n2022-10-06\n(1, 1)\n(7, 1)\n2022-06-13\n(1, 1)\n(7, 1)\n2022-01-25\n(1, 1)\n(7, 1)\n2023-02-10\n(1, 1)\n(7, 1)\n2023-02-13\n(1, 1)\n(7, 1)\n2021-07-28\n(1, 1)\n(7, 1)\n2023-01-17\n(1, 1)\n(7, 1)\n2023-01-06\n(1, 1)\n(7, 1)\n2022-06-18\n(1, 1)\n(7, 1)\n2021-09-15\n(1, 1)\n(7, 1)\n2022-11-04\n(1, 1)\n(7, 1)\n2022-08-17\n(1, 1)\n(7, 1)\n2022-04-07\n(1, 1)\n(7, 1)\n2022-09-02\n(1, 1)\n(7, 1)\n2023-02-21\n(1, 1)\n(7, 1)\n2023-01-20\n(1, 1)\n(7, 1)\n2022-02-20\n(1, 1)\n(7, 1)\n2022-12-07\n(1, 1)\n(7, 1)\n2023-02-15\n(1, 1)\n(7, 1)\n2023-02-09\n(1, 1)\n(7, 1)\n2023-02-23\n(1, 1)\n(7, 1)\n2023-01-27\n(1, 1)\n(7, 1)\n2022-08-09\n(1, 1)\n(7, 1)\n2023-02-17\n(1, 1)\n(7, 1)\n2022-12-09\n(1, 1)\n(7, 1)\n2022-05-09\n(1, 1)\n(7, 1)\n2023-02-21\n(1, 1)\n(7, 1)\n2022-03-03\n(1, 1)\n(7, 1)\n2022-06-02\n(1, 1)\n(7, 1)\n2022-09-23\n(1, 1)\n(7, 1)\n2021-10-30\n(1, 1)\n(7, 1)\n2022-08-19\n(1, 1)\n(7, 1)\n2022-01-11\n(1, 1)\n(7, 1)\n2022-01-06\n(1, 1)\n(7, 1)\n2022-03-02\n(1, 1)\n(7, 1)\n2021-11-23\n(1, 1)\n(7, 1)\n2022-08-23\n(1, 1)\n(7, 1)\n2023-02-24\n(1, 1)\n(7, 1)\n2023-01-06\n(1, 1)\n(7, 1)\n2023-02-09\n(1, 1)\n(7, 1)\n2022-12-30\n(1, 1)\n(7, 1)\n2022-02-01\n(1, 1)\n(7, 1)\n2023-02-15\n(1, 1)\n(7, 1)\n2021-11-02\n(1, 1)\n(7, 1)\n2022-02-17\n(1, 1)\n(7, 1)\n2022-08-19\n(1, 1)\n(7, 1)\n2023-02-24\n(1, 1)\n(7, 1)\n2022-06-29\n(1, 1)\n(7, 1)\n2022-01-16\n(1, 1)\n(7, 1)\n2022-05-21\n(1, 1)\n(7, 1)\n2022-05-26\n(1, 1)\n(7, 1)\n2022-07-21\n(1, 1)\n(7, 1)\n2022-03-19\n(1, 1)\n(7, 1)\n2022-12-07\n(1, 1)\n(7, 1)\n2022-09-01\n(1, 1)\n(7, 1)\n2023-02-16\n(1, 1)\n(7, 1)\n2022-03-22\n(1, 1)\n(7, 1)\n2022-05-17\n(1, 1)\n(7, 1)\n2022-05-19\n(1, 1)\n(7, 1)\n2021-06-30\n(1, 1)\n(7, 1)\n2022-08-27\n(1, 1)\n(7, 1)\n2022-11-17\n(1, 1)\n(7, 1)\n2022-04-29\n(1, 1)\n(7, 1)\n2022-02-17\n(1, 1)\n(7, 1)\n2022-02-04\n(1, 1)\n(7, 1)\n2021-11-18\n(1, 1)\n(7, 1)\n2022-03-04\n(1, 1)\n(7, 1)\n2023-01-25\n(1, 1)\n(7, 1)\n2022-01-11\n(1, 1)\n(7, 1)\n2022-10-28\n(1, 1)\n(7, 1)\n2021-09-01\n(1, 1)\n(7, 1)\n2022-09-06\n(1, 1)\n(7, 1)\n2023-02-03\n(1, 1)\n(7, 1)\n2021-10-05\n(1, 1)\n(7, 1)\n2022-04-21\n(1, 1)\n(7, 1)\n2022-09-09\n(1, 1)\n(7, 1)\n2022-11-18\n(1, 1)\n(7, 1)\n2021-07-28\n(1, 1)\n(7, 1)\n2022-10-18\n(1, 1)\n(7, 1)\n2022-11-15\n(1, 1)\n(7, 1)\n2022-05-02\n(1, 1)\n(7, 1)\n2022-04-14\n(1, 1)\n(7, 1)\n2022-06-09\n(1, 1)\n(7, 1)\n2022-06-18\n(1, 1)\n(7, 1)\n2022-05-19\n(1, 1)\n(7, 1)\n2023-01-31\n(1, 1)\n(7, 1)\n2023-01-27\n(1, 1)\n(7, 1)\n2022-11-11\n(1, 1)\n(7, 1)\n2022-09-26\n(1, 1)\n(7, 1)\n2022-11-03\n(1, 1)\n(7, 1)\n2023-01-04\n(1, 1)\n(7, 1)\n2022-08-23\n(1, 1)\n(7, 1)\n2023-01-18\n(1, 1)\n(7, 1)\n2021-07-08\n(1, 1)\n(7, 1)\n2022-02-09\n(1, 1)\n(7, 1)\n2022-06-09\n(1, 1)\n(7, 1)\n2023-01-18\n(1, 1)\n(7, 1)\n2023-02-02\n(1, 1)\n(7, 1)\n2022-01-19\n(1, 1)\n(7, 1)\n2022-08-01\n(1, 1)\n(7, 1)\n2022-07-16\n(1, 1)\n(7, 1)\n2023-02-03\n(1, 1)\n(7, 1)\n2022-09-15\n(1, 1)\n(7, 1)\n2023-02-14\n(1, 1)\n(7, 1)\n2022-05-17\n(1, 1)\n(7, 1)\n2022-11-25\n(1, 1)\n(7, 1)\n2022-12-08\n(1, 1)\n(7, 1)\n2023-02-01\n(1, 1)\n(7, 1)\n2022-09-01\n(1, 1)\n(7, 1)\n2022-02-02\n(1, 1)\n(7, 1)\n2022-02-24\n(1, 1)\n(7, 1)\n2022-06-29\n(1, 1)\n(7, 1)\n2022-11-08\n(1, 1)\n(7, 1)\n2022-07-13\n(1, 1)\n(7, 1)\n2022-08-16\n(1, 1)\n(7, 1)\n2023-02-02\n(1, 1)\n(7, 1)\n2022-09-02\n(1, 1)\n(7, 1)\n2022-08-09\n(1, 1)\n(7, 1)\n2022-12-07\n(1, 1)\n(7, 1)\n2023-01-06\n(1, 1)\n(7, 1)\n2022-10-12\n(1, 1)\n(7, 1)\n2023-02-14\n(1, 1)\n(7, 1)\n2022-10-20\n(1, 1)\n(7, 1)\n2022-11-04\n(1, 1)\n(7, 1)\n2023-02-15\n(1, 1)\n(7, 1)\n2021-10-26\n(1, 1)\n(7, 1)\n2022-01-11\n(1, 1)\n(7, 1)\n2022-01-18\n(1, 1)\n(7, 1)\n2021-11-23\n(1, 1)\n(7, 1)\n2021-07-31\n(1, 1)\n(7, 1)\n2022-08-09\n(1, 1)\n(7, 1)\n2022-08-13\n(1, 1)\n(7, 1)\n2021-10-18\n(1, 1)\n(7, 1)\n2022-10-27\n(1, 1)\n(7, 1)\n2021-10-26\n(1, 1)\n(7, 1)\n2022-07-26\n(1, 1)\n(7, 1)\n2022-12-09\n(1, 1)\n(7, 1)\n2023-02-01\n(1, 1)\n(7, 1)\n2021-11-11\n(1, 1)\n(7, 1)\n2023-01-12\n(1, 1)\n(7, 1)\n2022-08-05\n(1, 1)\n(7, 1)\n2022-10-13\n(1, 1)\n(7, 1)\n2022-08-16\n(1, 1)\n(7, 1)\n2022-06-02\n(1, 1)\n(7, 1)\n2022-04-30\n(1, 1)\n(7, 1)\n2021-09-02\n(1, 1)\n(7, 1)\n2023-02-01\n(1, 1)\n(7, 1)\n2023-01-04\n(1, 1)\n(7, 1)\n2022-12-15\n(1, 1)\n(7, 1)\n2021-08-04\n(1, 1)\n(7, 1)\n2022-09-15\n(1, 1)\n(7, 1)\n2022-11-19\n(1, 1)\n(7, 1)\n2023-01-11\n(1, 1)\n(7, 1)\n2022-09-15\n(1, 1)\n(7, 1)\n2022-07-08\n(1, 1)\n(7, 1)\n2023-02-15\n(1, 1)\n(7, 1)\n2023-02-22\n(1, 1)\n(7, 1)\n2022-03-11\n(1, 1)\n(7, 1)\n2023-01-18\n(1, 1)\n(7, 1)\n2022-02-01\n(1, 1)\n(7, 1)\n2022-08-02\n(1, 1)\n(7, 1)\n2022-06-17\n(1, 1)\n(7, 1)\n2022-04-22\n(1, 1)\n(7, 1)\n2023-02-03\n(1, 1)\n(7, 1)\n2023-02-17\n(1, 1)\n(7, 1)\n2022-04-16\n(1, 1)\n(7, 1)\n2021-10-08\n(1, 1)\n(7, 1)\n2022-05-25\n(1, 1)\n(7, 1)\n2021-11-18\n(1, 1)\n(7, 1)\n2023-02-01\n(1, 1)\n(7, 1)\n2021-12-04\n(1, 1)\n(7, 1)\n2021-12-30\n(1, 1)\n(7, 1)\n2023-02-03\n(1, 1)\n(7, 1)\n2023-01-06\n(1, 1)\n(7, 1)\n2021-10-13\n(1, 1)\n(7, 1)\n2022-05-05\n(1, 1)\n(7, 1)\n2022-05-29\n(1, 1)\n(7, 1)\n2021-10-06\n(1, 1)\n(7, 1)\n2023-02-14\n(1, 1)\n(7, 1)\n2023-02-01\n(1, 1)\n(7, 1)\n2023-02-15\n(1, 1)\n(7, 1)\n2022-12-30\n(1, 1)\n(7, 1)\n2022-06-08\n(1, 1)\n(7, 1)\n2022-03-31\n(1, 1)\n(7, 1)\n2023-02-21\n(1, 1)\n(7, 1)\n2022-11-02\n(1, 1)\n(7, 1)\n2022-01-11\n(1, 1)\n(7, 1)\n2022-01-21\n(1, 1)\n(7, 1)\n2022-09-08\n(1, 1)\n(7, 1)\n2023-01-11\n(1, 1)\n(7, 1)\n2022-04-01\n(1, 1)\n(7, 1)\n2023-02-21\n(1, 1)\n(7, 1)\n2022-06-29\n(1, 1)\n(7, 1)\n2022-06-04\n(1, 1)\n(7, 1)\n2022-07-21\n(1, 1)\n(7, 1)\n2021-11-10\n(1, 1)\n(7, 1)\n2022-01-27\n(1, 1)\n(7, 1)\n2022-01-18\n(1, 1)\n(7, 1)\n2021-10-15\n(1, 1)\n(7, 1)\n2022-10-14\n(1, 1)\n(7, 1)\n2021-11-03\n(1, 1)\n(7, 1)\n2021-08-04\n(1, 1)\n(7, 1)\n2022-11-01\n(1, 1)\n(7, 1)\n2022-02-22\n(1, 1)\n(7, 1)\n2022-08-29\n(1, 1)\n(7, 1)\n2022-07-01\n(1, 1)\n(7, 1)\n2023-01-05\n(1, 1)\n(7, 1)\n2023-02-21\n(1, 1)\n(7, 1)\n2022-06-14\n(1, 1)\n(7, 1)\n2022-09-01\n(1, 1)\n(7, 1)\n2023-02-21\n(1, 1)\n(7, 1)\n2021-08-18\n(1, 1)\n(7, 1)\n2022-10-06\n(1, 1)\n(7, 1)\n2023-01-27\n(1, 1)\n(7, 1)\n2021-11-24\n(1, 1)\n(7, 1)\n2022-01-07\n(1, 1)\n(7, 1)\n2022-02-16\n(1, 1)\n(7, 1)\n2021-09-15\n(1, 1)\n(7, 1)\n2022-11-25\n(1, 1)\n(7, 1)\n2022-08-30\n(1, 1)\n(7, 1)\n2022-07-26\n(1, 1)\n(7, 1)\n2022-12-29\n(1, 1)\n(7, 1)\n2022-03-12\n(1, 1)\n(7, 1)\n2023-02-03\n(1, 1)\n(7, 1)\n2022-09-30\n(1, 1)\n(7, 1)\n2021-10-08\n(1, 1)\n(7, 1)\n2022-04-15\n(1, 1)\n(7, 1)\n2022-04-01\n(1, 1)\n(7, 1)\n2022-08-13\n(1, 1)\n(7, 1)\n2021-12-17\n(1, 1)\n(7, 1)\n2023-02-07\n(1, 1)\n(7, 1)\n2021-09-17\n(1, 1)\n(7, 1)\n2023-01-20\n(1, 1)\n(7, 1)\n2022-01-21\n(1, 1)\n(7, 1)\n2022-03-03\n(1, 1)\n(7, 1)\n2023-01-27\n(1, 1)\n(7, 1)\n2021-12-07\n(1, 1)\n(7, 1)\n2023-02-07\n(1, 1)\n(7, 1)\n2022-03-08\n(1, 1)\n(7, 1)\n2023-01-20\n(1, 1)\n(7, 1)\n2023-02-03\n(1, 1)\n(7, 1)\n2022-04-21\n(1, 1)\n(7, 1)\n2022-05-12\n(1, 1)\n(7, 1)\n2023-02-21\n(1, 1)\n(7, 1)\n2022-04-14\n(1, 1)\n(7, 1)\n2022-03-08\n(1, 1)\n(7, 1)\n2022-10-20\n(1, 1)\n(7, 1)\n2022-10-06\n(1, 1)\n(7, 1)\n2022-07-13\n(1, 1)\n(7, 1)\n2023-01-26\n(1, 1)\n(7, 1)\n2022-04-26\n(1, 1)\n(7, 1)\n2022-01-27\n(1, 1)\n(7, 1)\n2021-12-02\n(1, 1)\n(7, 1)\n2022-07-29\n(1, 1)\n(7, 1)\n2022-11-15\n(1, 1)\n(7, 1)\n2022-08-17\n(1, 1)\n(7, 1)\n2021-09-08\n(1, 1)\n(7, 1)\n2022-11-01\n(1, 1)\n(7, 1)\n2023-01-12\n(1, 1)\n(7, 1)\n2022-10-18\n(1, 1)\n(7, 1)\n2022-06-09\n(1, 1)\n(7, 1)\n2023-01-28\n(1, 1)\n(7, 1)\n2023-02-21\n(1, 1)\n(7, 1)\n2021-07-22\n(1, 1)\n(7, 1)\n2023-01-24\n(1, 1)\n(7, 1)\n2022-03-19\n(1, 1)\n(7, 1)\n2022-08-08\n(1, 1)\n(7, 1)\n2023-02-24\n(1, 1)\n(7, 1)\n2021-08-17\n(1, 1)\n(7, 1)\n2022-02-25\n(1, 1)\n(7, 1)\n2022-07-26\n(1, 1)\n(7, 1)\n2022-06-29\n(1, 1)\n(7, 1)\n2022-07-11\n(1, 1)\n(7, 1)\n2022-07-14\n(1, 1)\n(7, 1)\n2023-02-23\n(1, 1)\n(7, 1)\n2022-12-16\n(1, 1)\n(7, 1)\n2022-06-17\n(1, 1)\n(7, 1)\n2023-01-24\n(1, 1)\n(7, 1)\n2022-01-07\n(1, 1)\n(7, 1)\n2022-05-07\n(1, 1)\n(7, 1)\n2023-02-16\n(1, 1)\n(7, 1)\n2022-03-16\n(1, 1)\n(7, 1)\n2021-08-28\n(1, 1)\n(7, 1)\n2022-07-22\n(1, 1)\n(7, 1)\n2021-12-02\n(1, 1)\n(7, 1)\n2021-08-19\n(1, 1)\n(7, 1)\n2021-11-03\n(1, 1)\n(7, 1)\n2022-12-30\n(1, 1)\n(7, 1)\n2022-09-08\n(1, 1)\n(7, 1)\n2022-08-05\n(1, 1)\n(7, 1)\n2022-12-23\n(1, 1)\n(7, 1)\n2021-10-08\n(1, 1)\n(7, 1)\n2021-08-31\n(1, 1)\n(7, 1)\n2022-01-13\n(1, 1)\n(7, 1)\n2022-06-30\n(1, 1)\n(7, 1)\n2022-07-14\n(1, 1)\n(7, 1)\n2021-08-20\n(1, 1)\n(7, 1)\n2023-01-10\n(1, 1)\n(7, 1)\n2023-01-11\n(1, 1)\n(7, 1)\n2021-08-18\n(1, 1)\n(7, 1)\n2022-02-08\n(1, 1)\n(7, 1)\n2023-02-10\n(1, 1)\n(7, 1)\n2023-02-03\n(1, 1)\n(7, 1)\n2022-08-26\n(1, 1)\n(7, 1)\n2023-02-06\n(1, 1)\n(7, 1)\n2023-02-09\n(1, 1)\n(7, 1)\n2022-01-25\n(1, 1)\n(7, 1)\n2022-07-16\n(1, 1)\n(7, 1)\n2022-06-21\n(1, 1)\n(7, 1)\n2022-05-26\n(1, 1)\n(7, 1)\n2023-01-30\n(1, 1)\n(7, 1)\n2022-12-21\n(1, 1)\n(7, 1)\n2022-12-12\n(1, 1)\n(7, 1)\n2023-02-09\n(1, 1)\n(7, 1)\n2021-08-11\n(1, 1)\n(7, 1)\n2021-05-13\n(1, 1)\n(7, 1)\n2022-04-29\n(1, 1)\n(7, 1)\n2023-01-02\n(1, 1)\n(7, 1)\n2022-03-22\n(1, 1)\n(7, 1)\n2022-02-01\n(1, 1)\n(7, 1)\n2022-01-29\n(1, 1)\n(7, 1)\n2022-09-15\n(1, 1)\n(7, 1)\n2022-01-05\n(1, 1)\n(7, 1)\n2022-10-04\n(1, 1)\n(7, 1)\n2022-07-19\n(1, 1)\n(7, 1)\n2022-07-21\n(1, 1)\n(7, 1)\n2021-08-11\n(1, 1)\n(7, 1)\n2022-08-19\n(1, 1)\n(7, 1)\n2022-12-27\n(1, 1)\n(7, 1)\n2023-01-20\n(1, 1)\n(7, 1)\n2022-06-14\n(1, 1)\n(7, 1)\n2022-09-16\n(1, 1)\n(7, 1)\n2022-11-23\n(1, 1)\n(7, 1)\n2022-11-04\n(1, 1)\n(7, 1)\n2021-12-30\n(1, 1)\n(7, 1)\n2022-10-26\n(1, 1)\n(7, 1)\n2023-02-24\n(1, 1)\n(7, 1)\n2022-03-24\n(1, 1)\n(7, 1)\n2021-09-07\n(1, 1)\n(7, 1)\n2022-06-28\n(1, 1)\n(7, 1)\n2022-03-22\n(1, 1)\n(7, 1)\n2022-02-17\n(1, 1)\n(7, 1)\n2023-02-03\n(1, 1)\n(7, 1)\n2022-08-12\n(1, 1)\n(7, 1)\n2023-01-21\n(1, 1)\n(7, 1)\n2022-11-04\n(1, 1)\n(7, 1)\n2021-09-15\n(1, 1)\n(7, 1)\n2021-09-02\n(1, 1)\n(7, 1)\n2023-01-26\n(1, 1)\n(7, 1)\n2022-02-04\n(1, 1)\n(7, 1)\n2022-11-08\n(1, 1)\n(7, 1)\n2022-10-24\n(1, 1)\n(7, 1)\n2022-07-07\n(1, 1)\n(7, 1)\n2022-11-17\n(1, 1)\n(7, 1)\n2021-06-26\n(1, 1)\n(7, 1)\n2023-01-12\n(1, 1)\n(7, 1)\n2023-01-10\n(1, 1)\n(7, 1)\n2023-02-11\n(1, 1)\n(7, 1)\n2022-06-03\n(1, 1)\n(7, 1)\n2022-11-18\n(1, 1)\n(7, 1)\n2022-09-23\n(1, 1)\n(7, 1)\n2022-09-15\n(1, 1)\n(7, 1)\n2022-09-08\n(1, 1)\n(7, 1)\n2022-09-08\n(1, 1)\n(7, 1)\n2022-01-31\n(1, 1)\n(7, 1)\n2023-02-10\n(1, 1)\n(7, 1)\n2021-10-20\n(1, 1)\n(7, 1)\n2022-06-16\n(1, 1)\n(7, 1)\n2022-06-16\n(1, 1)\n(7, 1)\n2022-04-01\n(1, 1)\n(7, 1)\n2021-11-16\n(1, 1)\n(7, 1)\n2023-01-04\n(1, 1)\n(7, 1)\n2021-08-17\n(1, 1)\n(7, 1)\n2021-08-05\n(1, 1)\n(7, 1)\n2022-08-01\n(1, 1)\n(7, 1)\n2022-09-26\n(1, 1)\n(7, 1)\n2023-01-13\n(1, 1)\n(7, 1)\n2023-02-03\n(1, 1)\n(7, 1)\n2022-09-21\n(1, 1)\n(7, 1)\n2022-10-28\n(1, 1)\n(7, 1)\n2021-08-17\n(1, 1)\n(7, 1)\n2022-11-04\n(1, 1)\n(7, 1)\n2022-12-07\n(1, 1)\n(7, 1)\n2022-09-22\n(1, 1)\n(7, 1)\n2023-01-25\n(1, 1)\n(7, 1)\n2023-02-15\n(1, 1)\n(7, 1)\n2022-06-03\n(1, 1)\n(7, 1)\n2023-02-24\n(1, 1)\n(7, 1)\n2022-06-17\n(1, 1)\n(7, 1)\n2021-09-30\n(1, 1)\n(7, 1)\n2022-12-23\n(1, 1)\n(7, 1)\n2022-05-13\n(1, 1)\n(7, 1)\n2022-11-14\n(1, 1)\n(7, 1)\n2022-07-09\n(1, 1)\n(7, 1)\n2023-02-10\n(1, 1)\n(7, 1)\n2022-04-29\n(1, 1)\n(7, 1)\n2023-01-31\n(1, 1)\n(7, 1)\n2021-09-03\n(1, 1)\n(7, 1)\n2022-04-30\n(1, 1)\n(7, 1)\n2023-02-23\n(1, 1)\n(7, 1)\n2021-08-24\n(1, 1)\n(7, 1)\n2023-02-09\n(1, 1)\n(7, 1)\n"
    }
   ],
   "source": [
    "\n",
    "# Initialize empty lists to store extracted features and labels\n",
    "all_features = []\n",
    "all_labels = []\n",
    "\n",
    "# Extract features and labels from DataLoader and convert to NumPy arrays\n",
    "for dataloader in [train_dataloader, test_dataloader]:\n",
    "    for batch_features, batch_labels in dataloader:\n",
    "        all_features.append(batch_features.numpy().squeeze())\n",
    "        all_labels.append(batch_labels.numpy().squeeze())\n",
    "\n",
    "# Concatenate all batches to get the complete feature and label arrays\n",
    "X_numpy = np.concatenate(all_features, axis=0)\n",
    "y_numpy = np.concatenate(all_labels, axis=0)\n",
    "X_numpy = np.concatenate(all_features, axis=0)\n",
    "y_numpy = np.concatenate(all_labels, axis=0)"
   ]
  },
  {
   "cell_type": "code",
   "execution_count": 53,
   "metadata": {},
   "outputs": [
    {
     "output_type": "stream",
     "name": "stdout",
     "text": "mae 0.3286395057370594\nr2 0.026263555166545438\nmse 0.40982481757396555\n"
    }
   ],
   "source": [
    "from sklearn.svm import SVR\n",
    "from sklearn.model_selection import train_test_split\n",
    "from sklearn.metrics import mean_absolute_error, r2_score, mean_squared_error\n",
    "# Split the data into training and testing sets\n",
    "X_train, X_test, y_train, y_test = train_test_split(X_numpy, y_numpy, test_size=0.2, random_state=42)\n",
    "\n",
    "# Initialize and train an SVM model\n",
    "svm_model = SVR()\n",
    "svm_model.fit(X_train, y_train)\n",
    "\n",
    "# Predict on the test set\n",
    "y_pred = svm_model.predict(X_test)\n",
    "mae = mean_absolute_error(y_test, y_pred)\n",
    "r2 = r2_score(y_test, y_pred)\n",
    "mse = mean_squared_error(y_test, y_pred)\n",
    "\n",
    "print(\"mae\", mae)\n",
    "print(\"r2\", r2)\n",
    "print(\"mse\", mse)"
   ]
  },
  {
   "cell_type": "code",
   "execution_count": null,
   "metadata": {},
   "outputs": [],
   "source": []
  }
 ],
 "metadata": {
  "language_info": {
   "codemirror_mode": {
    "name": "ipython",
    "version": 3
   },
   "file_extension": ".py",
   "mimetype": "text/x-python",
   "name": "python",
   "nbconvert_exporter": "python",
   "pygments_lexer": "ipython3",
   "version": "3.7.0-final"
  },
  "orig_nbformat": 2,
  "kernelspec": {
   "name": "python37064bitmyvenvvenvd1e5e9afda854db5b7246ed89d30986e",
   "display_name": "Python 3.7.0 64-bit ('myvenv': venv)"
  }
 },
 "nbformat": 4,
 "nbformat_minor": 2
}