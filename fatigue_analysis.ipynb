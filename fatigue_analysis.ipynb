{
 "cells": [
  {
   "cell_type": "code",
   "execution_count": 1,
   "metadata": {},
   "outputs": [
    {
     "output_type": "stream",
     "name": "stderr",
     "text": "Matplotlib created a temporary config/cache directory at /tmp/matplotlib-1nesx790 because the default path (/home/ubuntu/.config/matplotlib) is not a writable directory; it is highly recommended to set the MPLCONFIGDIR environment variable to a writable directory, in particular to speed up the import of Matplotlib and to better support multiprocessing.\n"
    }
   ],
   "source": [
    "import os\n",
    "from src.utils import data_load\n",
    "import pandas as pd\n",
    "from src.s3_utils import pandas_from_csv_s3\n",
    "import numpy as np\n",
    "from datetime import datetime, timedelta\n",
    "import seaborn as sns\n",
    "import matplotlib.pyplot as plt\n",
    "from utils import get_survey_question, na_rate\n",
    "import torch\n",
    "import matplotlib.dates as mdates\n",
    "import pingouin as pg"
   ]
  },
  {
   "cell_type": "code",
   "execution_count": 2,
   "metadata": {},
   "outputs": [],
   "source": [
    "df_survey = data_load(data_keys={\"surveys\"}, wave=7)['surveys']\n",
    "# df_birth = data_load(data_keys={\"birth\"}, wave=5)['birth']\n"
   ]
  },
  {
   "cell_type": "code",
   "execution_count": 3,
   "metadata": {},
   "outputs": [],
   "source": [
    "question_148_level = {\"Yes\": 0, \"No\": 0}\n",
    "question_149_to_157_level = {\"Never\": 1, 'Sometimes': 2, 'Regularly': 3, 'Often': 4, 'Always': 5}\n",
    "question_158_level = {\"Never\": 5, 'Sometimes': 4, 'Regularly': 3, 'Often': 2, 'Always': 1}"
   ]
  },
  {
   "cell_type": "code",
   "execution_count": null,
   "metadata": {},
   "outputs": [],
   "source": []
  }
 ],
 "metadata": {
  "language_info": {
   "codemirror_mode": {
    "name": "ipython",
    "version": 3
   },
   "file_extension": ".py",
   "mimetype": "text/x-python",
   "name": "python",
   "nbconvert_exporter": "python",
   "pygments_lexer": "ipython3",
   "version": "3.7.0-final"
  },
  "orig_nbformat": 2,
  "kernelspec": {
   "name": "python37064bitmyvenvvenvd1e5e9afda854db5b7246ed89d30986e",
   "display_name": "Python 3.7.0 64-bit ('myvenv': venv)"
  }
 },
 "nbformat": 4,
 "nbformat_minor": 2
}