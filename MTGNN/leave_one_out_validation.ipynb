{
 "cells": [
  {
   "cell_type": "code",
   "execution_count": null,
   "metadata": {},
   "outputs": [],
   "source": [
    "import pandas as pd\n",
    "import datetime\n",
    "from sklearn.neural_network import MLPClassifier\n",
    "import random\n",
    "import torch\n",
    "from net import gtnet\n",
    "from sklearn.metrics import roc_auc_score, recall_score, precision_score, confusion_matrix\n",
    "import seaborn as sns\n",
    "import matplotlib.pyplot as plt\n",
    "from sklearn.manifold import TSNE\n",
    "import numpy as np"
   ]
  },
  {
   "cell_type": "code",
   "execution_count": null,
   "metadata": {},
   "outputs": [],
   "source": [
    "list_users_above_criteria = [\n",
    "        1032,\n",
    "        581,\n",
    "        407,\n",
    "        290,\n",
    "        1436,\n",
    "        1000,\n",
    "        95,\n",
    "        1386,\n",
    "        1431,\n",
    "        992,\n",
    "        1717,\n",
    "        1441,\n",
    "        122,\n",
    "        977,\n",
    "        293,\n",
    "        1700,\n",
    "        1744,\n",
    "        622,\n",
    "\n",
    "        192,\n",
    "        1373,\n",
    "        84,\n",
    "        1393,\n",
    "        1432,\n",
    "        1378,\n",
    "        225,\n",
    "        1753,\n",
    "        2084,\n",
    "        969,\n",
    "        280,\n",
    "        99,\n",
    "        53,\n",
    "        983,\n",
    "        2068,\n",
    "        193,\n",
    "        2056,\n",
    "        2016,\n",
    "        2109, \n",
    "        1995,\n",
    "        1706,\n",
    "        2015,\n",
    "        186,\n",
    "        137,\n",
    "        1658,\n",
    "        2083,\n",
    "        1383,\n",
    "        429,\n",
    "        279]\n",
    "print(len(list_users_above_criteria))"
   ]
  },
  {
   "cell_type": "code",
   "execution_count": null,
   "metadata": {},
   "outputs": [],
   "source": [
    "seq_len = 14\n",
    "selected_user = 1032\n",
    "# 1431 and 95 have bug, excluded for now\n",
    "# user_lst = [290, 407, 581, 1032, 1436, 1000, 1386]\n",
    "user_lst = list_users_above_criteria\n",
    "def match_dataset_date(selected_user, seq_len):\n",
    "    y_df = pd.read_csv(f'/mnt/results/user_{selected_user}_puqe.csv')\n",
    "    x_df = pd.read_csv(f'/mnt/results/user_{selected_user}_activity_bodyport_hyperimpute_with_date.csv')\n",
    "    y_df['date'] = pd.to_datetime(y_df['date'])\n",
    "    x_df['date'] = pd.to_datetime(x_df['date'])\n",
    "    dataset = []\n",
    "    for i in range(len(y_df)):\n",
    "        row = y_df.iloc[i]\n",
    "        day_before = row['date'] - datetime.timedelta(days=seq_len)\n",
    "        x = (x_df[(x_df['date'] > day_before) & (x_df['date'] <= row['date'])])\n",
    "        dataset.append((x.drop('date', axis=1).to_numpy(), row['answer_text'], selected_user))\n",
    "    return dataset\n",
    "# gnn_dataset_1032 = match_dataset_date(selected_user, seq_len)\n",
    "# gnn_dataset_1032 = list(filter(lambda x: len(x[0])>=seq_len, gnn_dataset))\n",
    "# baseline_dataset_1032 = list(map(lambda x: (x[0][-7:], x[1]), gnn_dataset))\n",
    "baseline_ds_lst = []\n",
    "gnn_ds_lst = []\n",
    "for u in user_lst:\n",
    "    temp_dataset = match_dataset_date(u, seq_len)\n",
    "    temp_dataset = list(filter(lambda x: len(x[0])>=seq_len, temp_dataset))\n",
    "    gnn_ds_lst.append(temp_dataset)\n",
    "    baseline_dataset = list(map(lambda x: (x[0][-7:], x[1], x[2]), temp_dataset))\n",
    "    baseline_ds_lst.append(baseline_dataset)\n",
    "print(len(baseline_ds_lst))\n",
    "print(len(gnn_ds_lst))"
   ]
  },
  {
   "cell_type": "code",
   "execution_count": null,
   "metadata": {},
   "outputs": [],
   "source": [
    "# dynamic time warping\n",
    "from tslearn.metrics import dtw\n",
    "def get_similarities(target_user, user_lst):\n",
    "    result = []\n",
    "    target_user_df = pd.read_csv(f'/mnt/results/user_{target_user}_activity_bodyport_hyperimpute_with_date.csv').drop('date', axis=1)\n",
    "    for user in user_lst:\n",
    "        if user == target_user:\n",
    "            continue\n",
    "        else:\n",
    "            curr_user_df = pd.read_csv(f'/mnt/results/user_{user}_activity_bodyport_hyperimpute_with_date.csv').drop('date', axis=1)\n",
    "            result.append((user, dtw(target_user_df, curr_user_df)))\n",
    "    return sorted(result, key=lambda x: x[1])\n",
    "print(get_similarities(186, user_lst))"
   ]
  },
  {
   "cell_type": "code",
   "execution_count": null,
   "metadata": {},
   "outputs": [],
   "source": [
    "# args = {'data': '/mnt/results/user_456546_activity_bodyport_hyperimpute.csv', 'log_interval': 2000, 'optim': 'adam', 'L1Loss': True, 'normalize': 2, 'device': 'cuda:0', 'gcn_true': True, 'buildA_true': True, 'gcn_depth': 2, 'num_nodes': 19, 'dropout': 0.3, 'subgraph_size': 19, 'node_dim': 40, 'dilation_exponential': 2, 'conv_channels': 16, 'residual_channels': 16, 'skip_channels': 32, 'end_channels': 64, 'in_dim': 1, 'seq_in_len': 14, 'seq_out_len': 1, 'horizon': 7, 'layers': 5, 'batch_size': 32, 'lr': 0.0001, 'weight_decay': 1e-05, 'clip': 5, 'propalpha': 0.05, 'tanhalpha': 3, 'epochs': 50, 'num_split': 1, 'step_size': 100}\n",
    "device = torch.device('cuda:0')\n",
    "torch.set_num_threads(3)\n",
    "gnn_raw_copy = gnn_ds_lst.copy()\n",
    "gnn_ds_lst = []\n",
    "\n",
    "# user_data format [(X's, y's), ...]\n",
    "def get_gnn_output(gnn_user_id, user_data):\n",
    "    model = torch.load(f'/mnt/results/model/model_{gnn_user_id}.pt')\n",
    "    model.to(device)\n",
    "    model.eval()\n",
    "    result = []\n",
    "    for j in range(len(user_data)):\n",
    "        # print(d[0].shape)\n",
    "        curr = user_data[j]\n",
    "        X = torch.from_numpy(curr[0]).unsqueeze(0).unsqueeze(0).permute(0,1,3,2)\n",
    "        # print(X.shape)\n",
    "        X.to(device)\n",
    "        X = X.type(torch.cuda.FloatTensor)\n",
    "        out = model(X)\n",
    "        out = out.squeeze(0).squeeze(0).squeeze(-1)\n",
    "        result.append((out.detach().cpu().numpy(), curr[1], curr[2]))\n",
    "    return result\n",
    "\n",
    "for i in range(len(user_lst)):\n",
    "    gnn_ds_lst.append(get_gnn_output(user_lst[i], gnn_raw_copy[i]))\n"
   ]
  },
  {
   "cell_type": "code",
   "execution_count": null,
   "metadata": {},
   "outputs": [],
   "source": [
    "def generate_tsne_2d(gnn_ds_lst):\n",
    "    all_gnn_data = []\n",
    "    for user_data in gnn_ds_lst:\n",
    "        all_gnn_data.extend(user_data)\n",
    "    gnn_embeddings = list(map(lambda x: np.expand_dims(x[0], axis=0), all_gnn_data))\n",
    "    print(gnn_embeddings[0].shape)\n",
    "    class_labels = list(map(lambda x: x[1], all_gnn_data))\n",
    "    user_labels = list(map(lambda x: x[2], all_gnn_data))\n",
    "    gnn_embeddings = np.concatenate(gnn_embeddings, axis=0)\n",
    "    print(gnn_embeddings.shape)\n",
    "    tsne = TSNE(n_components=2, verbose=1, perplexity=40, n_iter=300, random_state=42)\n",
    "    # tsne_results = tsne.fit_transform(pca_result)\n",
    "    tsne_results = tsne.fit_transform(gnn_embeddings)\n",
    "\n",
    "    df_tsne = pd.DataFrame(tsne_results, columns=[\"X\", \"Y\"])\n",
    "\n",
    "    df_tsne[\"user_labels\"] = user_labels\n",
    "    df_tsne[\"user_labels\"] = df_tsne[\"user_labels\"].apply(lambda i: str(i))\n",
    "\n",
    "    class_map = ['mild', 'medium', 'severe']\n",
    "    df_tsne[\"class_labels\"] = class_labels\n",
    "    df_tsne[\"class_labels\"] = df_tsne[\"class_labels\"].apply(lambda i: class_map[i])\n",
    "    return df_tsne\n",
    "df_tsne = generate_tsne_2d(gnn_ds_lst)"
   ]
  },
  {
   "cell_type": "code",
   "execution_count": null,
   "metadata": {},
   "outputs": [],
   "source": [
    "markers_dict = {\n",
    "    'mild': 'o',\n",
    "    'medium': 'X',\n",
    "    'severe': '^'\n",
    "\n",
    "}\n",
    "plt.figure(figsize=(16,16))\n",
    "\n",
    "sns.scatterplot(\n",
    "    x=\"X\", y=\"Y\",\n",
    "    hue=\"user_labels\",\n",
    "    style=\"class_labels\",\n",
    "    data=df_tsne,\n",
    "    legend=\"full\", s=70,\n",
    "    alpha=0.9,\n",
    "    markers=markers_dict\n",
    ")"
   ]
  },
  {
   "cell_type": "code",
   "execution_count": null,
   "metadata": {},
   "outputs": [],
   "source": [
    "plt.figure(figsize=(8,8))\n",
    "\n",
    "sns.scatterplot(\n",
    "    x=\"X\", y=\"Y\",\n",
    "    hue=\"user_labels\",\n",
    "    style=\"class_labels\",\n",
    "    data=df_tsne.loc[(df_tsne['user_labels'] == '1378') | (df_tsne['user_labels'] == '186')],\n",
    "    legend=\"full\", s=100,\n",
    "    alpha=0.9,\n",
    "    markers=markers_dict\n",
    ")"
   ]
  },
  {
   "cell_type": "code",
   "execution_count": null,
   "metadata": {},
   "outputs": [],
   "source": [
    "plt.figure(figsize=(7,7))\n",
    "\n",
    "sns.scatterplot(\n",
    "    x=\"X\", y=\"Y\",\n",
    "    hue=\"user_labels\",\n",
    "    style=\"class_labels\",\n",
    "    data=df_tsne.loc[(df_tsne['user_labels'] == '290') | (df_tsne['user_labels'] == '186')],\n",
    "    legend=\"full\", s=70,\n",
    "    alpha=0.9,\n",
    "    markers=markers_dict\n",
    ")"
   ]
  },
  {
   "cell_type": "code",
   "execution_count": null,
   "metadata": {},
   "outputs": [],
   "source": [
    "plt.figure(figsize=(4,4))\n",
    "\n",
    "sns.scatterplot(\n",
    "    x=\"X\", y=\"Y\",\n",
    "    hue=\"user_labels\",\n",
    "    style=\"class_labels\",\n",
    "    data=df_tsne.loc[(df_tsne['user_labels'] == '983')],\n",
    "    legend=\"full\", s=100,\n",
    "    alpha=0.9,\n",
    "    markers=markers_dict\n",
    ")"
   ]
  },
  {
   "cell_type": "code",
   "execution_count": null,
   "metadata": {},
   "outputs": [],
   "source": [
    "plt.figure(figsize=(4,4))\n",
    "\n",
    "sns.scatterplot(\n",
    "    x=\"X\", y=\"Y\",\n",
    "    hue=\"user_labels\",\n",
    "    style=\"class_labels\",\n",
    "    data=df_tsne.loc[(df_tsne['user_labels'] == '992')],\n",
    "    legend=\"full\", s=100,\n",
    "    alpha=0.9,\n",
    "    markers=markers_dict\n",
    ")"
   ]
  },
  {
   "cell_type": "code",
   "execution_count": null,
   "metadata": {},
   "outputs": [],
   "source": [
    "# now we use 992's model to generate 983's embedding\n",
    "left_user = 1378\n",
    "similar_user = 186\n",
    "replacement_embedding = get_gnn_output(similar_user, gnn_raw_copy[user_lst.index(left_user)])\n",
    "replacement_gnn_lst = gnn_ds_lst.copy()\n",
    "replacement_gnn_lst[user_lst.index(left_user)] = replacement_embedding\n",
    "replacement_df_tsne = generate_tsne_2d(replacement_gnn_lst)\n"
   ]
  },
  {
   "cell_type": "code",
   "execution_count": null,
   "metadata": {},
   "outputs": [],
   "source": [
    "print(df_tsne[\"class_labels\"].value_counts())\n",
    "sns.countplot(x=\"class_labels\",data=df_tsne[df_tsne['user_labels'] == '1000'])\n",
    "print(df_tsne[df_tsne['user_labels'] == '1000'][\"class_labels\"].value_counts())\n",
    "#sns.countplot(x=\"class_labels\",data=df_tsne)"
   ]
  },
  {
   "cell_type": "code",
   "execution_count": null,
   "metadata": {},
   "outputs": [],
   "source": [
    "plt.figure(figsize=(7,7))\n",
    "\n",
    "sns.scatterplot(\n",
    "    x=\"X\", y=\"Y\",\n",
    "    hue=\"user_labels\",\n",
    "    style=\"class_labels\",\n",
    "    data=replacement_df_tsne.loc[(replacement_df_tsne['user_labels'] == str(left_user)) | (replacement_df_tsne['user_labels'] == str(similar_user))],\n",
    "    legend=\"full\", s=50,\n",
    "    alpha=0.9,\n",
    "    markers=markers_dict\n",
    ")"
   ]
  },
  {
   "cell_type": "code",
   "execution_count": null,
   "metadata": {},
   "outputs": [],
   "source": [
    "def analysis_result(x, true, clf):\n",
    "    pred = clf.predict(x)\n",
    "    recall = recall_score(y_true=true, y_pred=pred, average='micro')\n",
    "    #roc_auc = roc_auc_score(y_true=gnn_y_test, y_score=gnn_y_pred, average='micro', multi_class='ovr')\n",
    "    precision = precision_score(y_true=true, y_pred=pred, average='micro')\n",
    "    print(f\"Recall: {recall}\")\n",
    "    #print(f\"ROC AUC: {roc_auc}\")\n",
    "    print(f\"Precision: {precision}\")\n",
    "    cm = confusion_matrix(y_true=true, y_pred=pred)\n",
    "    if cm.shape[0] == 2:\n",
    "        cm_df = pd.DataFrame(cm,\n",
    "                        index = ['mild','medium'], \n",
    "                        columns = ['mild','medium'])\n",
    "    else:\n",
    "        cm_df = pd.DataFrame(cm,\n",
    "                            index = ['mild','medium','severe'], \n",
    "                            columns = ['mild','medium','severe'])\n",
    "\n",
    "    #Plotting the confusion matrix\n",
    "    plt.figure(figsize=(5,4))\n",
    "    sns.heatmap(cm_df, annot=True)\n",
    "    plt.title('Confusion Matrix')\n",
    "    plt.ylabel('Actal Values')\n",
    "    plt.xlabel('Predicted Values')\n",
    "    plt.show()\n",
    "def leave_one_out_validation(target_user, user_lst, gnn_embedding_lst, gnn_raw_lst, baseline_ds_lst):\n",
    "    user_idx = user_lst.index(target_user)\n",
    "    gnn_training_set = []\n",
    "    baseline_training_set = []\n",
    "    for i in range(len(gnn_embedding_lst)):\n",
    "        if i == user_idx:\n",
    "            continue\n",
    "        else:\n",
    "            gnn_training_set.extend(gnn_embedding_lst[i])\n",
    "            baseline_training_set.extend(baseline_ds_lst[i])\n",
    "    gnn_train_x = list(map(lambda x: x[0], gnn_training_set))\n",
    "    gnn_train_y = list(map(lambda x: x[1], gnn_training_set))\n",
    "    baseline_train_x = list(map(lambda x: x[0].ravel(), baseline_training_set))\n",
    "    baseline_train_y = list(map(lambda x: x[1], baseline_training_set))\n",
    "\n",
    "    most_similar_user = get_similarities(target_user, user_lst)[0][0]\n",
    "    gnn_test = get_gnn_output(most_similar_user, gnn_raw_lst[user_idx])\n",
    "    gnn_test_x = list(map(lambda x: x[0], gnn_test))\n",
    "    gnn_test_y = list(map(lambda x: x[1], gnn_test))\n",
    "\n",
    "    baseline_test_x = list(map(lambda x: x[0].ravel(), baseline_ds_lst[user_idx]))\n",
    "    baseline_test_y = list(map(lambda x: x[1], baseline_ds_lst[user_idx]))\n",
    "    print(\"Baseline:\")\n",
    "    base_clf = MLPClassifier(random_state=90, max_iter=300, hidden_layer_sizes=(50, 15,)).fit(baseline_train_x, baseline_train_y)\n",
    "    print(base_clf.score(baseline_test_x, baseline_test_y))\n",
    "    analysis_result(baseline_test_x, baseline_test_y, base_clf)\n",
    "    print(\"GNN:\")\n",
    "    gnn_clf = MLPClassifier(random_state=90, max_iter=300, hidden_layer_sizes=(40,8,)).fit(gnn_train_x, gnn_train_y)\n",
    "    print(gnn_clf.score(gnn_test_x, gnn_test_y))\n",
    "    analysis_result(gnn_test_x, gnn_test_y, gnn_clf)\n",
    "\n",
    "leave_one_out_validation(290, user_lst, gnn_ds_lst, gnn_raw_copy, baseline_ds_lst)"
   ]
  },
  {
   "cell_type": "code",
   "execution_count": null,
   "metadata": {},
   "outputs": [],
   "source": [
    "leave_one_out_validation(983, user_lst, gnn_ds_lst, gnn_raw_copy, baseline_ds_lst)"
   ]
  },
  {
   "cell_type": "code",
   "execution_count": null,
   "metadata": {},
   "outputs": [],
   "source": [
    "leave_one_out_validation(992, user_lst, gnn_ds_lst, gnn_raw_copy, baseline_ds_lst)"
   ]
  },
  {
   "cell_type": "code",
   "execution_count": null,
   "metadata": {},
   "outputs": [],
   "source": [
    "leave_one_out_validation(1717, user_lst, gnn_ds_lst, gnn_raw_copy, baseline_ds_lst)"
   ]
  },
  {
   "cell_type": "code",
   "execution_count": null,
   "metadata": {},
   "outputs": [],
   "source": [
    "leave_one_out_validation(1032, user_lst, gnn_ds_lst, gnn_raw_copy, baseline_ds_lst)"
   ]
  },
  {
   "cell_type": "code",
   "execution_count": null,
   "metadata": {},
   "outputs": [],
   "source": [
    "leave_one_out_validation(1436, user_lst, gnn_ds_lst, gnn_raw_copy, baseline_ds_lst)"
   ]
  },
  {
   "cell_type": "code",
   "execution_count": null,
   "metadata": {},
   "outputs": [],
   "source": [
    "leave_one_out_validation(290, user_lst, gnn_ds_lst, gnn_raw_copy, baseline_ds_lst)"
   ]
  },
  {
   "cell_type": "code",
   "execution_count": null,
   "metadata": {},
   "outputs": [],
   "source": [
    "leave_one_out_validation(1386, user_lst, gnn_ds_lst, gnn_raw_copy, baseline_ds_lst)"
   ]
  },
  {
   "cell_type": "code",
   "execution_count": null,
   "metadata": {},
   "outputs": [],
   "source": [
    "# for u in user_lst:\n",
    "#     print('='*20, u, '='*20)\n",
    "#     leave_one_out_validation(u, user_lst, gnn_ds_lst, gnn_raw_copy, baseline_ds_lst)"
   ]
  },
  {
   "cell_type": "code",
   "execution_count": null,
   "metadata": {},
   "outputs": [],
   "source": []
  }
 ],
 "metadata": {
  "language_info": {
   "name": "python",
   "pygments_lexer": "ipython3"
  }
 },
 "nbformat": 4,
 "nbformat_minor": 2
}
