{
 "cells": [
  {
   "cell_type": "code",
   "execution_count": 1,
   "metadata": {},
   "outputs": [
    {
     "output_type": "stream",
     "name": "stderr",
     "text": "Matplotlib created a temporary config/cache directory at /tmp/matplotlib-0vcwuflv because the default path (/home/ubuntu/.config/matplotlib) is not a writable directory; it is highly recommended to set the MPLCONFIGDIR environment variable to a writable directory, in particular to speed up the import of Matplotlib and to better support multiprocessing.\n"
    }
   ],
   "source": [
    "import json\n",
    "import os\n",
    "import ast\n",
    "import csv\n",
    "import io\n",
    "from io import StringIO, BytesIO, TextIOWrapper\n",
    "import gzip\n",
    "from datetime import datetime, date\n",
    "from s3_utils import *\n",
    "import matplotlib.pyplot as plt\n",
    "import seaborn as sns\n",
    "import datetime as dt\n",
    "import ast\n",
    "from datetime import timedelta\n",
    "from tqdm import tqdm\n",
    "from sklearn.linear_model import LogisticRegression\n",
    "from sklearn.metrics import roc_auc_score, accuracy_score, f1_score, precision_score\n",
    "from xgboost.sklearn import XGBClassifier, XGBRegressor\n",
    "from sklearn.model_selection import cross_val_score, ShuffleSplit, KFold\n",
    "from sklearn.ensemble import RandomForestClassifier\n",
    "from sklearn.model_selection import train_test_split\n",
    "from sklearn.utils import shuffle\n",
    "import warnings\n",
    "import sys\n",
    "import time\n",
    "from utils import *\n",
    "warnings.filterwarnings(\"ignore\")"
   ]
  },
  {
   "cell_type": "code",
   "execution_count": 2,
   "metadata": {},
   "outputs": [],
   "source": [
    "# Define s3 bucket\n",
    "bucket = 'fouryouandme-study-data'\n",
    "\n",
    "#List s3 keys\n",
    "# get_matching_s3_keys(bucket, prefix='bump/') #Remove prefix to view non-BUMP data\n",
    "bucket = '4youandme-study-data' # for SinC project\n",
    "bucket = 'fouryouandme-study-data' # for 4YouandMe, Bump, CamCog or Bodyport project\n",
    "\n",
    "# prefix = {study_name} or {study_name}/{source}\n",
    "# sources: app_activities, bodyport, camcog, garmin, oura, redcap, rescuetime\n",
    "# note camcog not accessible to bodyport (and vice a versa)\n",
    "get_matching_s3_keys(bucket, prefix='bump/oura')\n",
    "key = 'bump/redcap/wave_4/study_ids.csv.gz'\n",
    "df_studyID = pandas_from_csv_s3(bucket, key=key, compression='gzip')\n",
    "\n",
    "# Some dataframes use 'record_id' instead of 'user_id'. \n",
    "# You'll need to match it up with df_studyID where'evidation_id' is 'user_id'\n",
    "# NOTE: Very few examples of this. Birthing data is the important one\n",
    "\n",
    "# Birthing Data\n",
    "key = 'bump/redcap/wave_4/birthing_data_cohort_2_only.csv.gz'\n",
    "df_birth = pandas_from_csv_s3(bucket, key=key, compression='gzip')\n",
    "df_birth['date'] = pd.to_datetime(df_birth.birth_date).dt.date\n",
    "\n",
    "\n",
    "df_birth = pd.merge(df_birth, df_studyID, on='record_id')\n",
    "df_birth['user_id'] = df_birth.evidation_id\n",
    "\n",
    "# There is a missing value in the birthing data. I'm removing it here\n",
    "df_birth = df_birth.drop(index=50)\n",
    "\n",
    "# Bodyport Wave 4\n",
    "key = 'bump/bodyport/wave_4/bodyport.csv.gz'\n",
    "df_bodyport = pandas_from_csv_s3(bucket, key=key, compression='gzip')\n",
    "# OPTIONAL: Convert date format\n",
    "df_bodyport['date'] = pd.to_datetime(df_bodyport.event_date).dt.date \n",
    "\n",
    "# Oura Wave 4\n",
    "key = 'bump/oura/wave_4/oura_sleep.csv.gz'\n",
    "df_sleep = pandas_from_csv_s3(bucket, key=key, compression='gzip')\n",
    "df_sleep['date'] = pd.to_datetime(df_sleep.event_date).dt.date\n",
    "\n",
    "key = 'bump/oura/wave_4/oura_activity.csv.gz'\n",
    "df_activity = pandas_from_csv_s3(bucket, key=key, compression='gzip')\n",
    "df_activity['date'] = pd.to_datetime(df_activity.event_date).dt.date\n",
    "\n",
    "key = 'bump/oura/wave_4/oura_readiness.csv.gz'\n",
    "df_readiness = pandas_from_csv_s3(bucket, key=key, compression='gzip')\n",
    "df_readiness['date'] = pd.to_datetime(df_readiness.event_date).dt.date\n",
    "\n",
    "# Surveys Wave 4\n",
    "key = 'bump/app_activities/wave_4/surveys.csv.gz'\n",
    "df_survey = pandas_from_csv_s3(bucket, key=key, compression='gzip')\n",
    "df_survey['date'] = pd.to_datetime(df_survey.updated_at).dt.date\n",
    "\n",
    "key = 'bump/app_activities/wave_4/quick_activities.csv.gz'\n",
    "df_sam = pandas_from_csv_s3(bucket, key=key, compression='gzip')\n",
    "df_sam['date'] = pd.to_datetime(df_sam.event_date).dt.date\n",
    "\n",
    "dfs = [df_sleep, df_bodyport, df_birth, df_activity, df_readiness, df_survey, df_sam]"
   ]
  },
  {
   "cell_type": "code",
   "execution_count": 4,
   "metadata": {},
   "outputs": [
    {
     "output_type": "execute_result",
     "data": {
      "text/plain": "id               0\nuser_id          0\nsurvey_id        0\ntitle            0\nevent_date       0\nfrom             0\nto               0\ncreated_at       0\nupdated_at       0\nquestion_id      0\nquestion_text    0\nanswer_text      0\ndate             0\ndtype: int64"
     },
     "metadata": {},
     "execution_count": 4
    }
   ],
   "source": [
    "# extracting fatigue related questions\n",
    "survey_question_str = 'fatigue'\n",
    "\n",
    "df_fatigue = get_survey_question(df_survey, survey_question_str)\n",
    "np.sum(df_fatigue.isna())\n"
   ]
  },
  {
   "cell_type": "code",
   "execution_count": 3,
   "metadata": {
    "tags": [
     "outputPrepend",
     "outputPrepend",
     "outputPrepend",
     "outputPrepend",
     "outputPrepend",
     "outputPrepend",
     "outputPrepend",
     "outputPrepend",
     "outputPrepend",
     "outputPrepend",
     "outputPrepend"
    ]
   },
   "outputs": [
    {
     "output_type": "error",
     "ename": "NameError",
     "evalue": "name 'df_fatigue' is not defined",
     "traceback": [
      "\u001b[0;31m---------------------------------------------------------------------------\u001b[0m",
      "\u001b[0;31mNameError\u001b[0m                                 Traceback (most recent call last)",
      "Input \u001b[0;32mIn [3]\u001b[0m, in \u001b[0;36m<cell line: 1>\u001b[0;34m()\u001b[0m\n\u001b[0;32m----> 1\u001b[0m \u001b[43mdf_fatigue\u001b[49m[df_fatigue\u001b[38;5;241m.\u001b[39muser_id \u001b[38;5;241m==\u001b[39m \u001b[38;5;241m2019\u001b[39m]\n\u001b[1;32m      3\u001b[0m df_fatigue[df_fatigue\u001b[38;5;241m.\u001b[39mdate \u001b[38;5;241m==\u001b[39m np\u001b[38;5;241m.\u001b[39mmin(df_fatigue\u001b[38;5;241m.\u001b[39mdate)]\n",
      "\u001b[0;31mNameError\u001b[0m: name 'df_fatigue' is not defined"
     ]
    }
   ],
   "source": [
    "df_fatigue[df_fatigue.user_id == 2019]\n",
    "\n",
    "df_fatigue[df_fatigue.date == np.min(df_fatigue.date)]"
   ]
  },
  {
   "cell_type": "code",
   "execution_count": 5,
   "metadata": {},
   "outputs": [
    {
     "output_type": "execute_result",
     "data": {
      "text/plain": "           date\n0    2022-01-05\n1    2022-01-06\n2    2022-01-07\n3    2022-01-08\n4    2022-01-09\n..          ...\n145  2022-05-30\n146  2022-05-31\n147  2022-06-01\n148  2022-06-02\n149  2022-06-03\n\n[150 rows x 1 columns]",
      "text/html": "<div>\n<style scoped>\n    .dataframe tbody tr th:only-of-type {\n        vertical-align: middle;\n    }\n\n    .dataframe tbody tr th {\n        vertical-align: top;\n    }\n\n    .dataframe thead th {\n        text-align: right;\n    }\n</style>\n<table border=\"1\" class=\"dataframe\">\n  <thead>\n    <tr style=\"text-align: right;\">\n      <th></th>\n      <th>date</th>\n    </tr>\n  </thead>\n  <tbody>\n    <tr>\n      <th>0</th>\n      <td>2022-01-05</td>\n    </tr>\n    <tr>\n      <th>1</th>\n      <td>2022-01-06</td>\n    </tr>\n    <tr>\n      <th>2</th>\n      <td>2022-01-07</td>\n    </tr>\n    <tr>\n      <th>3</th>\n      <td>2022-01-08</td>\n    </tr>\n    <tr>\n      <th>4</th>\n      <td>2022-01-09</td>\n    </tr>\n    <tr>\n      <th>...</th>\n      <td>...</td>\n    </tr>\n    <tr>\n      <th>145</th>\n      <td>2022-05-30</td>\n    </tr>\n    <tr>\n      <th>146</th>\n      <td>2022-05-31</td>\n    </tr>\n    <tr>\n      <th>147</th>\n      <td>2022-06-01</td>\n    </tr>\n    <tr>\n      <th>148</th>\n      <td>2022-06-02</td>\n    </tr>\n    <tr>\n      <th>149</th>\n      <td>2022-06-03</td>\n    </tr>\n  </tbody>\n</table>\n<p>150 rows × 1 columns</p>\n</div>"
     },
     "metadata": {},
     "execution_count": 5
    }
   ],
   "source": [
    "a=df_birth[df_birth.user_id==290].birth_date.values[0]\n",
    "b=df_birth[df_birth.user_id==1429].birth_date.values[0]\n",
    "date_range = pd.date_range(a, b, freq='d')\n",
    "date_range\n",
    "date_df = pd.DataFrame()\n",
    "date_df['date'] = date_range.date\n",
    "date_df"
   ]
  },
  {
   "cell_type": "code",
   "execution_count": null,
   "metadata": {},
   "outputs": [],
   "source": [
    "# get all column names in merged dfs\n",
    "names = []\n",
    "for df in dfs:\n",
    "    [names.append(i) for i in df.columns.to_list()]\n",
    "    \n"
   ]
  },
  {
   "cell_type": "code",
   "execution_count": null,
   "metadata": {},
   "outputs": [],
   "source": [
    "bodyport_features = [\n",
    "    # 'heart_rate',\n",
    "    # 'breath_average',\n",
    "    # 'peripheral_fluid',\n",
    "    # 'total_body_water_percent',\n",
    "    # 'weight_kg'\n",
    "]\n",
    "oura_features = [\n",
    "    # 'hr_lowest',\n",
    "    'hr_average',\n",
    "    'rmssd',\n",
    "    # 'score_deep',\n",
    "    # 'temperature_deviation',\n",
    "    # 'temperature_trend_deviation',\n",
    "    # 'temperature_delta',\n",
    "    # 'duration',\n",
    "    # 'rem',\n",
    "    # 'efficiency',\n",
    "    # 'score_alignment',\n",
    "    # 'score_rem',\n",
    "    # 'light',\n",
    "    # 'onset_latency',\n",
    "    # 'restless',\n",
    "    'breath_average',\n",
    "    # 'score_disturbances',\n",
    "    'score',\n",
    "    # 'score_efficiency',\n",
    "    # 'score_latency',\n",
    "    # 'score_total'\n",
    "]\n",
    "\n",
    "feature_names = bodyport_features + oura_features\n",
    "date_list = [\n",
    "    \"d\", \"id_x\", \n",
    "    \"user_id_x\", \n",
    "    \"identity_id_x\", \n",
    "    \"created_at_x\", \n",
    "    \"updated_at_x\", \n",
    "    \"retrieved_at_x\", \n",
    "    \"subsource_x\", \n",
    "    \"event_date_x\",\n",
    "    \"date\", \"id_y\", \n",
    "    \"user_id_y\", \n",
    "    \"identity_id_y\", \n",
    "    \"created_at_y\", \n",
    "    \"updated_at_y\", \n",
    "    \"retrieved_at_y\", \n",
    "    \"subsource_y\", \n",
    "    \"creation_date\", \n",
    "    \"event_date_y\"\n",
    "]"
   ]
  },
  {
   "cell_type": "code",
   "execution_count": null,
   "metadata": {
    "tags": [
     "outputPrepend",
     "outputPrepend",
     "outputPrepend",
     "outputPrepend",
     "outputPrepend",
     "outputPrepend",
     "outputPrepend",
     "outputPrepend",
     "outputPrepend",
     "outputPrepend",
     "outputPrepend",
     "outputPrepend",
     "outputPrepend",
     "outputPrepend",
     "outputPrepend",
     "outputPrepend",
     "outputPrepend",
     "outputPrepend",
     "outputPrepend",
     "outputPrepend",
     "outputPrepend",
     "outputPrepend",
     "outputPrepend",
     "outputPrepend",
     "outputPrepend",
     "outputPrepend",
     "outputPrepend",
     "outputPrepend",
     "outputPrepend",
     "outputPrepend",
     "outputPrepend",
     "outputPrepend",
     "outputPrepend",
     "outputPrepend",
     "outputPrepend",
     "outputPrepend",
     "outputPrepend",
     "outputPrepend",
     "outputPrepend",
     "outputPrepend",
     "outputPrepend",
     "outputPrepend",
     "outputPrepend",
     "outputPrepend",
     "outputPrepend",
     "outputPrepend",
     "outputPrepend",
     "outputPrepend",
     "outputPrepend",
     "outputPrepend",
     "outputPrepend",
     "outputPrepend",
     "outputPrepend",
     "outputPrepend",
     "outputPrepend",
     "outputPrepend",
     "outputPrepend",
     "outputPrepend",
     "outputPrepend",
     "outputPrepend",
     "outputPrepend",
     "outputPrepend",
     "outputPrepend",
     "outputPrepend",
     "outputPrepend",
     "outputPrepend",
     "outputPrepend",
     "outputPrepend",
     "outputPrepend",
     "outputPrepend",
     "outputPrepend",
     "outputPrepend",
     "outputPrepend",
     "outputPrepend",
     "outputPrepend",
     "outputPrepend",
     "outputPrepend"
    ]
   },
   "outputs": [],
   "source": [
    "import time\n",
    "from utils import *\n",
    "# merge df_fatigue and df_sleep\n",
    "close_users = []\n",
    "close_users_id = []\n",
    "# start_close_days = 90\n",
    "all_survey_user_id = df_fatigue[['answer_text', 'date', 'user_id']].user_id.unique()\n",
    "#print(len(all_survey_user_id))\n",
    "#print(all_survey_user_id)\n",
    "for user_id in tqdm(all_survey_user_id):\n",
    "    start_time = time.time()\n",
    "    #print(\"Current user id:\", user_id)\n",
    "    if len(df_sleep[df_sleep.user_id==user_id]) == 0:\n",
    "        print(\"No row in df_sleep, continue\")\n",
    "        continue\n",
    "    # selected_user_df = df_fatigue.loc[df_fatigue.user_id == user_id]\n",
    "    # survey_retrived_date = selected_user_df.reset_index()['date'][0]\n",
    "    min_date = np.min(df_fatigue[df_fatigue.user_id == user_id].date)\n",
    "    max_date = np.max(df_fatigue[df_fatigue.user_id == user_id].date)\n",
    "    date_range = pd.date_range(min_date, max_date, freq='d')\n",
    "    selected_fatigue_df = df_fatigue[df_fatigue.user_id == user_id]\n",
    "    selected_fatigue_df = selected_fatigue_df[['answer_text', 'date', 'user_id']]\n",
    "    date_range_df = pd.DataFrame()\n",
    "    \n",
    "    date_range_df['date'] = date_range.date\n",
    "    date_range_df['user_id'] = user_id\n",
    "    #print(date_range_df)\n",
    "    add_date_fatigue_df = pd.merge(date_range_df, selected_fatigue_df, how='left')\n",
    "    #print(selected_fatigue_df)\n",
    "    #print(add_date_fatigue_df)\n",
    "\n",
    "    sleep_features = oura_features + ['date', 'user_id']\n",
    "    merged_df = merge_two_df_by_userid(user_id, add_date_fatigue_df, df_sleep[sleep_features], how='left')\n",
    "    merge_end_time = time.time()\n",
    "    #print('merge_time:', merge_end_time-start_time)\n",
    "    # print(merged_df)\n",
    "    # merged_df = merged_df.fillna(merged_df.mean())\n",
    "    # print(merged_df)\n",
    "    fillna_end_time = time.time()\n",
    "    #print('fillna_time:', fillna_end_time-merge_end_time)\n",
    "    merged_df = merged_df.sort_values(by=['date'], ascending=True)\n",
    "    if len(df_birth[df_birth.user_id == user_id]):\n",
    "        merged_df['birth_date'] = df_birth[df_birth.user_id == user_id].birth_date.values[0]\n",
    "    else:\n",
    "        merged_df['birth_date'] = np.nan\n",
    "    close_users.append(merged_df)\n",
    "    close_users_id.append(user_id)\n",
    "\n",
    "len(close_users_id)\n",
    "    # schedule_birth = birth['birth_scheduled'].to_list()[0] #schedule_birth == 1: induced deliveries; schedule_birth == 2: non induced\n",
    "    # if len(birth) > 0 and pd.isnull(birthdate) == False and schedule_birth == 2:\n",
    "    #     start = birthdate - pd.to_timedelta(start_close_days, unit='d') # pd.to_timedelta(100, unit='d')\n",
    "    #     end = birthdate + pd.to_timedelta(5, unit='d')\n",
    "    #     date_range = pd.date_range(start, end, freq='d')\n",
    "    #     df = get_user(user_id, start, birthdate)\n",
    "    #     dr = pd.DataFrame()\n",
    "    #     dr[\"d\"] = date_range.date\n",
    "    #     dr.set_index(dr.d, inplace=True)\n",
    "    #     df = dr.join(df)\n",
    "    #     df = df[feature_names + date_list]\n",
    "    #     if df.isna().sum().max() < round(start_close_days) / 2: # max null counts in each col is less than 5\n",
    "    #         df.set_index(df.d - df.d.min(), inplace=True)\n",
    "    #         df = df.resample(\"D\").mean()\n",
    "    #         df.set_index(df.index.days, inplace=True)\n",
    "    #         # df = df.interpolate(\"linear\", 0) #linear interpolation on data\n",
    "    #         df = df.fillna(method='ffill')\n",
    "    #         df = df.fillna(df.mean(0))\n",
    "    #         close_users.append(df)\n",
    "    #         close_users_id.append(user_id)"
   ]
  },
  {
   "cell_type": "code",
   "execution_count": 9,
   "metadata": {},
   "outputs": [
    {
     "output_type": "execute_result",
     "data": {
      "text/plain": "           date  user_id_x answer_text  hr_average  rmssd  breath_average  \\\n0    2021-10-28       1037           4         NaN    NaN             NaN   \n1    2021-10-29       1037         NaN         NaN    NaN             NaN   \n2    2021-10-30       1037         NaN         NaN    NaN             NaN   \n3    2021-10-31       1037         NaN         NaN    NaN             NaN   \n4    2021-11-01       1037           3       58.25   75.0          18.125   \n..          ...        ...         ...         ...    ...             ...   \n189  2022-05-03       1037         NaN       50.33   86.0          16.625   \n190  2022-05-04       1037         NaN       50.12   67.0          16.375   \n191  2022-05-05       1037         NaN       51.96   86.0          16.875   \n192  2022-05-06       1037         NaN       52.22   99.0          16.250   \n193  2022-05-07       1037           4       53.35   84.0          16.875   \n\n     score  user_id_y  birth_date  \n0      NaN        NaN  2022-04-14  \n1      NaN        NaN  2022-04-14  \n2      NaN        NaN  2022-04-14  \n3      NaN        NaN  2022-04-14  \n4     84.0     1037.0  2022-04-14  \n..     ...        ...         ...  \n189   61.0     1037.0  2022-04-14  \n190   73.0     1037.0  2022-04-14  \n191   80.0     1037.0  2022-04-14  \n192   66.0     1037.0  2022-04-14  \n193   61.0     1037.0  2022-04-14  \n\n[194 rows x 9 columns]",
      "text/html": "<div>\n<style scoped>\n    .dataframe tbody tr th:only-of-type {\n        vertical-align: middle;\n    }\n\n    .dataframe tbody tr th {\n        vertical-align: top;\n    }\n\n    .dataframe thead th {\n        text-align: right;\n    }\n</style>\n<table border=\"1\" class=\"dataframe\">\n  <thead>\n    <tr style=\"text-align: right;\">\n      <th></th>\n      <th>date</th>\n      <th>user_id_x</th>\n      <th>answer_text</th>\n      <th>hr_average</th>\n      <th>rmssd</th>\n      <th>breath_average</th>\n      <th>score</th>\n      <th>user_id_y</th>\n      <th>birth_date</th>\n    </tr>\n  </thead>\n  <tbody>\n    <tr>\n      <th>0</th>\n      <td>2021-10-28</td>\n      <td>1037</td>\n      <td>4</td>\n      <td>NaN</td>\n      <td>NaN</td>\n      <td>NaN</td>\n      <td>NaN</td>\n      <td>NaN</td>\n      <td>2022-04-14</td>\n    </tr>\n    <tr>\n      <th>1</th>\n      <td>2021-10-29</td>\n      <td>1037</td>\n      <td>NaN</td>\n      <td>NaN</td>\n      <td>NaN</td>\n      <td>NaN</td>\n      <td>NaN</td>\n      <td>NaN</td>\n      <td>2022-04-14</td>\n    </tr>\n    <tr>\n      <th>2</th>\n      <td>2021-10-30</td>\n      <td>1037</td>\n      <td>NaN</td>\n      <td>NaN</td>\n      <td>NaN</td>\n      <td>NaN</td>\n      <td>NaN</td>\n      <td>NaN</td>\n      <td>2022-04-14</td>\n    </tr>\n    <tr>\n      <th>3</th>\n      <td>2021-10-31</td>\n      <td>1037</td>\n      <td>NaN</td>\n      <td>NaN</td>\n      <td>NaN</td>\n      <td>NaN</td>\n      <td>NaN</td>\n      <td>NaN</td>\n      <td>2022-04-14</td>\n    </tr>\n    <tr>\n      <th>4</th>\n      <td>2021-11-01</td>\n      <td>1037</td>\n      <td>3</td>\n      <td>58.25</td>\n      <td>75.0</td>\n      <td>18.125</td>\n      <td>84.0</td>\n      <td>1037.0</td>\n      <td>2022-04-14</td>\n    </tr>\n    <tr>\n      <th>...</th>\n      <td>...</td>\n      <td>...</td>\n      <td>...</td>\n      <td>...</td>\n      <td>...</td>\n      <td>...</td>\n      <td>...</td>\n      <td>...</td>\n      <td>...</td>\n    </tr>\n    <tr>\n      <th>189</th>\n      <td>2022-05-03</td>\n      <td>1037</td>\n      <td>NaN</td>\n      <td>50.33</td>\n      <td>86.0</td>\n      <td>16.625</td>\n      <td>61.0</td>\n      <td>1037.0</td>\n      <td>2022-04-14</td>\n    </tr>\n    <tr>\n      <th>190</th>\n      <td>2022-05-04</td>\n      <td>1037</td>\n      <td>NaN</td>\n      <td>50.12</td>\n      <td>67.0</td>\n      <td>16.375</td>\n      <td>73.0</td>\n      <td>1037.0</td>\n      <td>2022-04-14</td>\n    </tr>\n    <tr>\n      <th>191</th>\n      <td>2022-05-05</td>\n      <td>1037</td>\n      <td>NaN</td>\n      <td>51.96</td>\n      <td>86.0</td>\n      <td>16.875</td>\n      <td>80.0</td>\n      <td>1037.0</td>\n      <td>2022-04-14</td>\n    </tr>\n    <tr>\n      <th>192</th>\n      <td>2022-05-06</td>\n      <td>1037</td>\n      <td>NaN</td>\n      <td>52.22</td>\n      <td>99.0</td>\n      <td>16.250</td>\n      <td>66.0</td>\n      <td>1037.0</td>\n      <td>2022-04-14</td>\n    </tr>\n    <tr>\n      <th>193</th>\n      <td>2022-05-07</td>\n      <td>1037</td>\n      <td>4</td>\n      <td>53.35</td>\n      <td>84.0</td>\n      <td>16.875</td>\n      <td>61.0</td>\n      <td>1037.0</td>\n      <td>2022-04-14</td>\n    </tr>\n  </tbody>\n</table>\n<p>194 rows × 9 columns</p>\n</div>"
     },
     "metadata": {},
     "execution_count": 9
    }
   ],
   "source": [
    "close_users[0]\n",
    "#df_fatigue[[f for f in ['answer_text', 'date', 'user_id']]]\n"
   ]
  },
  {
   "cell_type": "code",
   "execution_count": null,
   "metadata": {},
   "outputs": [],
   "source": [
    "\n",
    "len(merge_two_df_by_userid(1037, df_fatigue[['answer_text', 'date', 'user_id']], df_sleep[['hr_average', 'date', 'user_id']]).date.unique())\n"
   ]
  },
  {
   "cell_type": "code",
   "execution_count": null,
   "metadata": {},
   "outputs": [],
   "source": [
    "len(df_fatigue[['answer_text', 'date', 'user_id']][df_fatigue.user_id==1037].date.unique())"
   ]
  },
  {
   "cell_type": "code",
   "execution_count": null,
   "metadata": {},
   "outputs": [],
   "source": [
    "len(df_sleep[['hr_average', 'date', 'user_id']][df_sleep.user_id==1037].date.unique())"
   ]
  },
  {
   "cell_type": "code",
   "execution_count": 10,
   "metadata": {},
   "outputs": [],
   "source": [
    "# store to local directory for R\n",
    "import os\n",
    "stored_path = os.path.join('.', 'all_date_combined_df_sleep_'+survey_question_str)\n",
    "if not os.path.exists(stored_path):\n",
    "    os.mkdir(stored_path)\n",
    "for df, uid in zip(close_users, close_users_id):\n",
    "    df.to_csv(os.path.join('.', 'all_date_combined_df_sleep_'+survey_question_str, 'user_id_'+str(uid)+'.csv'))"
   ]
  },
  {
   "cell_type": "code",
   "execution_count": 11,
   "metadata": {},
   "outputs": [
    {
     "output_type": "stream",
     "name": "stdout",
     "text": "1037 194\n1386 231\n1391 219\n1703 174\n1005 231\n1759 139\n1712 165\n1429 193\n1032 276\n1038 257\n603 277\n79 311\n1988 137\n1966 117\n1995 136\n1991 19\n1747 176\n1724 128\n989 191\n2015 141\n1436 220\n604 279\n991 188\n1373 258\n1427 179\n1378 245\n1745 34\n1002 133\n1435 191\n1441 223\n1708 169\n1044 208\n1439 238\n1706 187\n992 217\n1453 182\n1366 184\n966 218\n605 164\n1751 72\n429 261\n975 228\n1425 197\n1035 224\n615 195\n1755 146\n1452 170\n1731 172\n1707 102\n1976 136\n1700 180\n1374 125\n1369 182\n2083 107\n1996 134\n1989 148\n2067 104\n1715 175\n2001 131\n2014 107\n2068 113\n1400 215\n173 411\n404 233\n1709 162\n1992 127\n2032 124\n1696 190\n174 240\n225 245\n289 256\n1444 152\n1701 176\n1047 196\n1999 123\n1658 194\n2018 131\n1442 92\n1716 132\n1389 154\n2006 115\n118 190\n977 161\n406 165\n410 339\n978 177\n976 55\n1041 149\n192 310\n581 327\n972 198\n987 185\n1423 177\n409 177\n1004 61\n997 95\n94 219\n405 310\n1014 76\n159 212\n750 213\n428 183\n1443 63\n1001 264\n127 233\n68 287\n407 277\n984 87\n980 166\n39 280\n185 310\n1351 1\n122 404\n1363 70\n595 140\n734 173\n2062 87\n1757 155\n2060 76\n2134 54\n2149 52\n2076 98\n1997 104\n2085 90\n2038 101\n168 336\n1990 117\n2061 117\n1730 120\n1962 123\n1743 143\n2056 115\n2106 79\n1702 161\n2102 3\n2117 68\n2120 70\n2084 95\n1977 141\n2066 98\n2126 76\n1998 88\n2152 45\n2100 82\n2031 66\n1045 187\n2065 104\n1456 1\n1711 12\n1393 267\n114 432\n280 207\n1426 184\n1445 19\n1024 141\n1367 162\n1370 65\n969 233\n99 261\n983 164\n1720 115\n1695 15\n1422 221\n1750 174\n2153 46\n2113 87\n1000 287\n2169 34\n2197 21\n2151 31\n2160 33\n2041 112\n2178 37\n2109 87\n1714 126\n2064 93\n998 194\n234 171\n54 277\n84 341\n107 1\n98 125\n158 185\n218 76\n74 186\n86 84\n254 32\n62 176\n95 277\n196 62\n64 132\n38 154\n44 193\n40 118\n106 4\n82 1\n117 24\n29 187\n70 270\n30 126\n101 134\n47 135\n165 1\n90 121\n37 161\n81 44\n190 383\n115 70\n140 32\n191 19\n471 88\n202 72\n141 77\n290 321\n193 107\n292 93\n87 4\n600 38\n291 176\n431 40\n279 221\n100 1\n622 206\n42 248\n186 293\n594 171\n65 176\n241 5\n187 143\n161 3\n105 29\n167 148\n2101 50\n1383 236\n2187 9\n2166 39\n1728 187\n1403 235\n1704 27\n1432 222\n1440 128\n1698 33\n1431 228\n1699 95\n1387 244\n137 380\n1015 55\n1455 191\n1717 198\n1719 177\n2000 126\n2196 18\n1985 130\n2103 81\n2150 27\n2058 94\n2091 58\n66 91\n212 88\n55 235\n110 106\n293 300\n200 164\n41 134\n67 178\n124 108\n135 133\n139 47\n194 1\n170 106\n408 168\n199 157\n238 8\n53 298\n1661 114\n2019 137\n1753 156\n2071 60\n2093 94\n1368 161\n2114 43\n2004 127\n2002 41\n1744 168\n1994 107\n1984 2\n1729 144\n1023 194\n2017 128\n2175 2\n988 72\n1385 19\n2125 7\n2159 41\n2034 116\n985 171\n1437 213\n1659 89\n1382 82\n1697 187\n2202 10\n2130 56\n1746 30\n136 8\n28 158\n103 1\n31 54\n239 42\n166 1\n244 1\n596 128\n123 1\n195 43\n216 1\n275 45\n1446 81\n1721 110\n1993 49\n2170 1\n2080 95\n2142 32\n2016 136\n963 128\n273 144\n2075 37\n1710 101\n1723 19\n737 32\n247 17\n281 41\n45 161\n144 60\n256 1\n91 1\n591 12\n220 10\n89 1\n2094 1\n2174 40\n243 30\n240 1\n602 4\n1749 88\n1021 1\n80 70\n206 1\n"
    }
   ],
   "source": [
    "for df, uid in zip(close_users, close_users_id):\n",
    "    print(uid, len(df))"
   ]
  },
  {
   "cell_type": "code",
   "execution_count": null,
   "metadata": {},
   "outputs": [],
   "source": [
    "# Stationary test\n"
   ]
  },
  {
   "cell_type": "code",
   "execution_count": null,
   "metadata": {},
   "outputs": [],
   "source": [
    "# def get_user(user_id, start=None, end=None):\n",
    "#     user_sleep = df_sleep[df_sleep.user_id == user_id]#.dropna()\n",
    "#     user_bp = df_bodyport[df_bodyport.user_id == user_id]#.dropna()\n",
    "    \n",
    "#     df2 = pd.merge(user_sleep, user_bp, on=\"date\")\n",
    "\n",
    "#     if \"creation_date\" in df2.columns:\n",
    "#         for i in range(len(df2)):\n",
    "#             df2[\"creation_date\"][i] = dt.datetime.strptime(df2[\"creation_date\"][i], '%Y-%m-%d %H:%M:%S')\n",
    "#     df2.set_index(df2[\"date\"], inplace=True)\n",
    "#     df2.sort_index(inplace=True)\n",
    "    \n",
    "#     if start and end:\n",
    "#         mask = (df2['date'] > np.datetime64(start)) & (df2['date'] <= np.datetime64(end))\n",
    "#         # mask = pd.to_datetime(df2[\"date\"]).between(start.astype(str)[0], end.astype(str)[0], inclusive=True)\n",
    "#         df2 = df2[mask]\n",
    "#     return df2"
   ]
  },
  {
   "cell_type": "code",
   "execution_count": 11,
   "metadata": {},
   "outputs": [
    {
     "output_type": "stream",
     "name": "stderr",
     "text": "1%|          | 1/138 [00:00<00:00, 251.96it/s]\n"
    },
    {
     "output_type": "error",
     "ename": "NameError",
     "evalue": "name 'get_user' is not defined",
     "traceback": [
      "\u001b[0;31m---------------------------------------------------------------------------\u001b[0m",
      "\u001b[0;31mNameError\u001b[0m                                 Traceback (most recent call last)",
      "\u001b[0;32m/tmp/ipykernel_25066/675548849.py\u001b[0m in \u001b[0;36m<module>\u001b[0;34m\u001b[0m\n\u001b[1;32m     11\u001b[0m         \u001b[0mend\u001b[0m \u001b[0;34m=\u001b[0m \u001b[0mbirthdate\u001b[0m \u001b[0;34m+\u001b[0m \u001b[0mpd\u001b[0m\u001b[0;34m.\u001b[0m\u001b[0mto_timedelta\u001b[0m\u001b[0;34m(\u001b[0m\u001b[0;36m5\u001b[0m\u001b[0;34m,\u001b[0m \u001b[0munit\u001b[0m\u001b[0;34m=\u001b[0m\u001b[0;34m'd'\u001b[0m\u001b[0;34m)\u001b[0m\u001b[0;34m\u001b[0m\u001b[0m\n\u001b[1;32m     12\u001b[0m         \u001b[0mdate_range\u001b[0m \u001b[0;34m=\u001b[0m \u001b[0mpd\u001b[0m\u001b[0;34m.\u001b[0m\u001b[0mdate_range\u001b[0m\u001b[0;34m(\u001b[0m\u001b[0mstart\u001b[0m\u001b[0;34m,\u001b[0m \u001b[0mend\u001b[0m\u001b[0;34m,\u001b[0m \u001b[0mfreq\u001b[0m\u001b[0;34m=\u001b[0m\u001b[0;34m'd'\u001b[0m\u001b[0;34m)\u001b[0m\u001b[0;34m\u001b[0m\u001b[0m\n\u001b[0;32m---> 13\u001b[0;31m         \u001b[0mdf\u001b[0m \u001b[0;34m=\u001b[0m \u001b[0mget_user\u001b[0m\u001b[0;34m(\u001b[0m\u001b[0muser_id\u001b[0m\u001b[0;34m,\u001b[0m \u001b[0mstart\u001b[0m\u001b[0;34m,\u001b[0m \u001b[0mbirthdate\u001b[0m\u001b[0;34m)\u001b[0m\u001b[0;34m\u001b[0m\u001b[0m\n\u001b[0m\u001b[1;32m     14\u001b[0m         \u001b[0mdr\u001b[0m \u001b[0;34m=\u001b[0m \u001b[0mpd\u001b[0m\u001b[0;34m.\u001b[0m\u001b[0mDataFrame\u001b[0m\u001b[0;34m(\u001b[0m\u001b[0;34m)\u001b[0m\u001b[0;34m\u001b[0m\u001b[0m\n\u001b[1;32m     15\u001b[0m         \u001b[0mdr\u001b[0m\u001b[0;34m[\u001b[0m\u001b[0;34m\"d\"\u001b[0m\u001b[0;34m]\u001b[0m \u001b[0;34m=\u001b[0m \u001b[0mdate_range\u001b[0m\u001b[0;34m.\u001b[0m\u001b[0mdate\u001b[0m\u001b[0;34m\u001b[0m\u001b[0m\n",
      "\u001b[0;31mNameError\u001b[0m: name 'get_user' is not defined"
     ]
    }
   ],
   "source": [
    "# #merge all data features\n",
    "# close_users = []\n",
    "# close_users_id = []\n",
    "# start_close_days = 90\n",
    "# for user_id in tqdm(df_birth[['birth_scheduled', 'birth_date', 'user_id']].dropna().user_id.unique()):\n",
    "#     birth = df_birth.loc[df_birth.user_id == user_id]\n",
    "#     birthdate = birth.reset_index()['date'][0]\n",
    "#     schedule_birth = birth['birth_scheduled'].to_list()[0] #schedule_birth == 1: induced deliveries; schedule_birth == 2: non induced\n",
    "#     if len(birth) > 0 and pd.isnull(birthdate) == False and schedule_birth == 2:\n",
    "#         start = birthdate - pd.to_timedelta(start_close_days, unit='d') # pd.to_timedelta(100, unit='d')\n",
    "#         end = birthdate + pd.to_timedelta(5, unit='d')\n",
    "#         date_range = pd.date_range(start, end, freq='d')\n",
    "#         df = get_user(user_id, start, birthdate)\n",
    "#         dr = pd.DataFrame()\n",
    "#         dr[\"d\"] = date_range.date\n",
    "#         dr.set_index(dr.d, inplace=True)\n",
    "#         df = dr.join(df)\n",
    "#         df = df[feature_names + date_list]\n",
    "#         if df.isna().sum().max() < round(start_close_days) / 2: # max null counts in each col is less than 5\n",
    "#             df.set_index(df.d - df.d.min(), inplace=True)\n",
    "#             df = df.resample(\"D\").mean()\n",
    "#             df.set_index(df.index.days, inplace=True)\n",
    "#             # df = df.interpolate(\"linear\", 0) #linear interpolation on data\n",
    "#             df = df.fillna(method='ffill')\n",
    "#             df = df.fillna(df.mean(0))\n",
    "#             close_users.append(df)\n",
    "#             close_users_id.append(user_id)\n",
    "            "
   ]
  },
  {
   "cell_type": "code",
   "execution_count": 14,
   "metadata": {},
   "outputs": [
    {
     "output_type": "execute_result",
     "data": {
      "text/plain": "27"
     },
     "metadata": {},
     "execution_count": 14
    }
   ],
   "source": [
    "len(close_users_id)"
   ]
  },
  {
   "cell_type": "code",
   "execution_count": 14,
   "metadata": {},
   "outputs": [
    {
     "output_type": "error",
     "ename": "AttributeError",
     "evalue": "'PathCollection' object has no property 'ci'",
     "traceback": [
      "\u001b[0;31m---------------------------------------------------------------------------\u001b[0m",
      "\u001b[0;31mAttributeError\u001b[0m                            Traceback (most recent call last)",
      "\u001b[0;32m/tmp/ipykernel_25066/705519578.py\u001b[0m in \u001b[0;36m<module>\u001b[0;34m\u001b[0m\n\u001b[1;32m     30\u001b[0m     \u001b[0mplt\u001b[0m\u001b[0;34m.\u001b[0m\u001b[0mtitle\u001b[0m\u001b[0;34m(\u001b[0m\u001b[0;34m'User ID: '\u001b[0m \u001b[0;34m+\u001b[0m \u001b[0mstr\u001b[0m\u001b[0;34m(\u001b[0m\u001b[0muser_id\u001b[0m\u001b[0;34m)\u001b[0m\u001b[0;34m)\u001b[0m\u001b[0;34m\u001b[0m\u001b[0m\n\u001b[1;32m     31\u001b[0m     \u001b[0mplt\u001b[0m\u001b[0;34m.\u001b[0m\u001b[0mshow\u001b[0m\u001b[0;34m(\u001b[0m\u001b[0;34m)\u001b[0m\u001b[0;34m\u001b[0m\u001b[0m\n\u001b[0;32m---> 32\u001b[0;31m \u001b[0mexploreDataBirthBA\u001b[0m\u001b[0;34m(\u001b[0m\u001b[0mdf_sleep\u001b[0m\u001b[0;34m,\u001b[0m \u001b[0;34m'hr_average'\u001b[0m\u001b[0;34m,\u001b[0m \u001b[0;36m30\u001b[0m\u001b[0;34m)\u001b[0m\u001b[0;34m\u001b[0m\u001b[0m\n\u001b[0m",
      "\u001b[0;32m/tmp/ipykernel_25066/705519578.py\u001b[0m in \u001b[0;36mexploreDataBirthBA\u001b[0;34m(df, col, user_id)\u001b[0m\n\u001b[1;32m      4\u001b[0m     \u001b[0mpdf\u001b[0m \u001b[0;34m=\u001b[0m \u001b[0mdf\u001b[0m\u001b[0;34m.\u001b[0m\u001b[0mloc\u001b[0m\u001b[0;34m[\u001b[0m\u001b[0mdf\u001b[0m\u001b[0;34m.\u001b[0m\u001b[0muser_id\u001b[0m \u001b[0;34m==\u001b[0m \u001b[0muser_id\u001b[0m\u001b[0;34m]\u001b[0m\u001b[0;34m\u001b[0m\u001b[0m\n\u001b[1;32m      5\u001b[0m     \u001b[0mplt\u001b[0m\u001b[0;34m.\u001b[0m\u001b[0mfigure\u001b[0m\u001b[0;34m(\u001b[0m\u001b[0mfigsize\u001b[0m\u001b[0;34m=\u001b[0m\u001b[0;34m(\u001b[0m\u001b[0;36m12\u001b[0m\u001b[0;34m,\u001b[0m\u001b[0;36m4\u001b[0m\u001b[0;34m)\u001b[0m\u001b[0;34m)\u001b[0m\u001b[0;34m\u001b[0m\u001b[0m\n\u001b[0;32m----> 6\u001b[0;31m     \u001b[0msns\u001b[0m\u001b[0;34m.\u001b[0m\u001b[0mscatterplot\u001b[0m\u001b[0;34m(\u001b[0m\u001b[0mdata\u001b[0m\u001b[0;34m=\u001b[0m\u001b[0mpdf\u001b[0m\u001b[0;34m,\u001b[0m \u001b[0mx\u001b[0m\u001b[0;34m=\u001b[0m\u001b[0;34m'date'\u001b[0m\u001b[0;34m,\u001b[0m \u001b[0my\u001b[0m\u001b[0;34m=\u001b[0m\u001b[0mcol\u001b[0m\u001b[0;34m,\u001b[0m \u001b[0mci\u001b[0m\u001b[0;34m=\u001b[0m\u001b[0;32mNone\u001b[0m\u001b[0;34m,\u001b[0m \u001b[0mcolor\u001b[0m\u001b[0;34m=\u001b[0m\u001b[0;34m'purple'\u001b[0m\u001b[0;34m)\u001b[0m\u001b[0;34m\u001b[0m\u001b[0m\n\u001b[0m\u001b[1;32m      7\u001b[0m     \u001b[0msns\u001b[0m\u001b[0;34m.\u001b[0m\u001b[0mlineplot\u001b[0m\u001b[0;34m(\u001b[0m\u001b[0mdata\u001b[0m\u001b[0;34m=\u001b[0m\u001b[0mpdf\u001b[0m\u001b[0;34m,\u001b[0m \u001b[0mx\u001b[0m\u001b[0;34m=\u001b[0m\u001b[0;34m'date'\u001b[0m\u001b[0;34m,\u001b[0m \u001b[0my\u001b[0m\u001b[0;34m=\u001b[0m\u001b[0mcol\u001b[0m\u001b[0;34m,\u001b[0m \u001b[0mci\u001b[0m\u001b[0;34m=\u001b[0m\u001b[0;32mNone\u001b[0m\u001b[0;34m)\u001b[0m\u001b[0;34m\u001b[0m\u001b[0m\n\u001b[1;32m      8\u001b[0m \u001b[0;34m\u001b[0m\u001b[0m\n",
      "\u001b[0;32m/opt/conda/envs/virtualenv2/lib/python3.7/site-packages/seaborn/relational.py\u001b[0m in \u001b[0;36mscatterplot\u001b[0;34m(data, x, y, hue, size, style, palette, hue_order, hue_norm, sizes, size_order, size_norm, markers, style_order, legend, ax, **kwargs)\u001b[0m\n\u001b[1;32m    759\u001b[0m     \u001b[0mkwargs\u001b[0m\u001b[0;34m[\u001b[0m\u001b[0;34m\"color\"\u001b[0m\u001b[0;34m]\u001b[0m \u001b[0;34m=\u001b[0m \u001b[0m_default_color\u001b[0m\u001b[0;34m(\u001b[0m\u001b[0max\u001b[0m\u001b[0;34m.\u001b[0m\u001b[0mscatter\u001b[0m\u001b[0;34m,\u001b[0m \u001b[0mhue\u001b[0m\u001b[0;34m,\u001b[0m \u001b[0mcolor\u001b[0m\u001b[0;34m,\u001b[0m \u001b[0mkwargs\u001b[0m\u001b[0;34m)\u001b[0m\u001b[0;34m\u001b[0m\u001b[0m\n\u001b[1;32m    760\u001b[0m \u001b[0;34m\u001b[0m\u001b[0m\n\u001b[0;32m--> 761\u001b[0;31m     \u001b[0mp\u001b[0m\u001b[0;34m.\u001b[0m\u001b[0mplot\u001b[0m\u001b[0;34m(\u001b[0m\u001b[0max\u001b[0m\u001b[0;34m,\u001b[0m \u001b[0mkwargs\u001b[0m\u001b[0;34m)\u001b[0m\u001b[0;34m\u001b[0m\u001b[0m\n\u001b[0m\u001b[1;32m    762\u001b[0m \u001b[0;34m\u001b[0m\u001b[0m\n\u001b[1;32m    763\u001b[0m     \u001b[0;32mreturn\u001b[0m \u001b[0max\u001b[0m\u001b[0;34m\u001b[0m\u001b[0m\n",
      "\u001b[0;32m/opt/conda/envs/virtualenv2/lib/python3.7/site-packages/seaborn/relational.py\u001b[0m in \u001b[0;36mplot\u001b[0;34m(self, ax, kws)\u001b[0m\n\u001b[1;32m    571\u001b[0m \u001b[0;34m\u001b[0m\u001b[0m\n\u001b[1;32m    572\u001b[0m         \u001b[0;31m# Draw the scatter plot\u001b[0m\u001b[0;34m\u001b[0m\u001b[0;34m\u001b[0m\u001b[0m\n\u001b[0;32m--> 573\u001b[0;31m         \u001b[0mpoints\u001b[0m \u001b[0;34m=\u001b[0m \u001b[0max\u001b[0m\u001b[0;34m.\u001b[0m\u001b[0mscatter\u001b[0m\u001b[0;34m(\u001b[0m\u001b[0mx\u001b[0m\u001b[0;34m=\u001b[0m\u001b[0mx\u001b[0m\u001b[0;34m,\u001b[0m \u001b[0my\u001b[0m\u001b[0;34m=\u001b[0m\u001b[0my\u001b[0m\u001b[0;34m,\u001b[0m \u001b[0;34m**\u001b[0m\u001b[0mkws\u001b[0m\u001b[0;34m)\u001b[0m\u001b[0;34m\u001b[0m\u001b[0m\n\u001b[0m\u001b[1;32m    574\u001b[0m \u001b[0;34m\u001b[0m\u001b[0m\n\u001b[1;32m    575\u001b[0m         \u001b[0;31m# Apply the mapping from semantic variables to artist attributes\u001b[0m\u001b[0;34m\u001b[0m\u001b[0;34m\u001b[0m\u001b[0m\n",
      "\u001b[0;32m/opt/conda/envs/virtualenv2/lib/python3.7/site-packages/matplotlib/__init__.py\u001b[0m in \u001b[0;36minner\u001b[0;34m(ax, data, *args, **kwargs)\u001b[0m\n\u001b[1;32m   1412\u001b[0m     \u001b[0;32mdef\u001b[0m \u001b[0minner\u001b[0m\u001b[0;34m(\u001b[0m\u001b[0max\u001b[0m\u001b[0;34m,\u001b[0m \u001b[0;34m*\u001b[0m\u001b[0margs\u001b[0m\u001b[0;34m,\u001b[0m \u001b[0mdata\u001b[0m\u001b[0;34m=\u001b[0m\u001b[0;32mNone\u001b[0m\u001b[0;34m,\u001b[0m \u001b[0;34m**\u001b[0m\u001b[0mkwargs\u001b[0m\u001b[0;34m)\u001b[0m\u001b[0;34m:\u001b[0m\u001b[0;34m\u001b[0m\u001b[0m\n\u001b[1;32m   1413\u001b[0m         \u001b[0;32mif\u001b[0m \u001b[0mdata\u001b[0m \u001b[0;32mis\u001b[0m \u001b[0;32mNone\u001b[0m\u001b[0;34m:\u001b[0m\u001b[0;34m\u001b[0m\u001b[0m\n\u001b[0;32m-> 1414\u001b[0;31m             \u001b[0;32mreturn\u001b[0m \u001b[0mfunc\u001b[0m\u001b[0;34m(\u001b[0m\u001b[0max\u001b[0m\u001b[0;34m,\u001b[0m \u001b[0;34m*\u001b[0m\u001b[0mmap\u001b[0m\u001b[0;34m(\u001b[0m\u001b[0msanitize_sequence\u001b[0m\u001b[0;34m,\u001b[0m \u001b[0margs\u001b[0m\u001b[0;34m)\u001b[0m\u001b[0;34m,\u001b[0m \u001b[0;34m**\u001b[0m\u001b[0mkwargs\u001b[0m\u001b[0;34m)\u001b[0m\u001b[0;34m\u001b[0m\u001b[0m\n\u001b[0m\u001b[1;32m   1415\u001b[0m \u001b[0;34m\u001b[0m\u001b[0m\n\u001b[1;32m   1416\u001b[0m         \u001b[0mbound\u001b[0m \u001b[0;34m=\u001b[0m \u001b[0mnew_sig\u001b[0m\u001b[0;34m.\u001b[0m\u001b[0mbind\u001b[0m\u001b[0;34m(\u001b[0m\u001b[0max\u001b[0m\u001b[0;34m,\u001b[0m \u001b[0;34m*\u001b[0m\u001b[0margs\u001b[0m\u001b[0;34m,\u001b[0m \u001b[0;34m**\u001b[0m\u001b[0mkwargs\u001b[0m\u001b[0;34m)\u001b[0m\u001b[0;34m\u001b[0m\u001b[0m\n",
      "\u001b[0;32m/opt/conda/envs/virtualenv2/lib/python3.7/site-packages/matplotlib/axes/_axes.py\u001b[0m in \u001b[0;36mscatter\u001b[0;34m(self, x, y, s, c, marker, cmap, norm, vmin, vmax, alpha, linewidths, edgecolors, plotnonfinite, **kwargs)\u001b[0m\n\u001b[1;32m   4465\u001b[0m                 )\n\u001b[1;32m   4466\u001b[0m         \u001b[0mcollection\u001b[0m\u001b[0;34m.\u001b[0m\u001b[0mset_transform\u001b[0m\u001b[0;34m(\u001b[0m\u001b[0mmtransforms\u001b[0m\u001b[0;34m.\u001b[0m\u001b[0mIdentityTransform\u001b[0m\u001b[0;34m(\u001b[0m\u001b[0;34m)\u001b[0m\u001b[0;34m)\u001b[0m\u001b[0;34m\u001b[0m\u001b[0m\n\u001b[0;32m-> 4467\u001b[0;31m         \u001b[0mcollection\u001b[0m\u001b[0;34m.\u001b[0m\u001b[0mupdate\u001b[0m\u001b[0;34m(\u001b[0m\u001b[0mkwargs\u001b[0m\u001b[0;34m)\u001b[0m\u001b[0;34m\u001b[0m\u001b[0m\n\u001b[0m\u001b[1;32m   4468\u001b[0m \u001b[0;34m\u001b[0m\u001b[0m\n\u001b[1;32m   4469\u001b[0m         \u001b[0;32mif\u001b[0m \u001b[0mcolors\u001b[0m \u001b[0;32mis\u001b[0m \u001b[0;32mNone\u001b[0m\u001b[0;34m:\u001b[0m\u001b[0;34m\u001b[0m\u001b[0m\n",
      "\u001b[0;32m/opt/conda/envs/virtualenv2/lib/python3.7/site-packages/matplotlib/artist.py\u001b[0m in \u001b[0;36mupdate\u001b[0;34m(self, props)\u001b[0m\n\u001b[1;32m   1065\u001b[0m                     \u001b[0mfunc\u001b[0m \u001b[0;34m=\u001b[0m \u001b[0mgetattr\u001b[0m\u001b[0;34m(\u001b[0m\u001b[0mself\u001b[0m\u001b[0;34m,\u001b[0m \u001b[0;34mf\"set_{k}\"\u001b[0m\u001b[0;34m,\u001b[0m \u001b[0;32mNone\u001b[0m\u001b[0;34m)\u001b[0m\u001b[0;34m\u001b[0m\u001b[0m\n\u001b[1;32m   1066\u001b[0m                     \u001b[0;32mif\u001b[0m \u001b[0;32mnot\u001b[0m \u001b[0mcallable\u001b[0m\u001b[0;34m(\u001b[0m\u001b[0mfunc\u001b[0m\u001b[0;34m)\u001b[0m\u001b[0;34m:\u001b[0m\u001b[0;34m\u001b[0m\u001b[0m\n\u001b[0;32m-> 1067\u001b[0;31m                         raise AttributeError(f\"{type(self).__name__!r} object \"\n\u001b[0m\u001b[1;32m   1068\u001b[0m                                              f\"has no property {k!r}\")\n\u001b[1;32m   1069\u001b[0m                     \u001b[0mret\u001b[0m\u001b[0;34m.\u001b[0m\u001b[0mappend\u001b[0m\u001b[0;34m(\u001b[0m\u001b[0mfunc\u001b[0m\u001b[0;34m(\u001b[0m\u001b[0mv\u001b[0m\u001b[0;34m)\u001b[0m\u001b[0;34m)\u001b[0m\u001b[0;34m\u001b[0m\u001b[0m\n",
      "\u001b[0;31mAttributeError\u001b[0m: 'PathCollection' object has no property 'ci'"
     ]
    }
   ],
   "source": [
    "# def exploreDataBirthBA(df, col, user_id):\n",
    "#     plt.rcParams.update({'figure.max_open_warning': 0})\n",
    "#     sns.set_theme(style='darkgrid')\n",
    "#     pdf = df.loc[df.user_id == user_id]    \n",
    "#     plt.figure(figsize=(12,4))\n",
    "#     sns.scatterplot(data=pdf, x='date', y=col, ci=None, color='purple')\n",
    "#     sns.lineplot(data=pdf, x='date', y=col, ci=None)\n",
    "\n",
    "#     # Plot birthing data if it exists for that user\n",
    "#     if (len(df_birth.loc[df_birth.user_id == user_id]) != 0):\n",
    "#         birth = df_birth.loc[df_birth.user_id == user_id].reset_index()\n",
    "#         plt.axvline(x=birth.date, color = 'y', ls='--')\n",
    "#         ymin, ymax = plt.gca().get_ylim()\n",
    "#         xmin, xmax = plt.gca().get_xlim()\n",
    "#         plt.text(birth.date, ymax, birth['date'][0], fontsize=12, color='y')\n",
    "        \n",
    "#         # Dataframe of data before birth\n",
    "#         after = pdf[~(pdf['date'] < birth.date[0])]\n",
    "#         before = pdf[~(pdf['date'] > birth.date[0])]\n",
    "#         before_avg = before[col].mean()\n",
    "#         after_avg = after[col].mean()\n",
    "# #         print('Pre-birth Average: ', before_avg)\n",
    "# #         print('Post-birth Average: ', after_avg)\n",
    "#         plt.hlines(y=before_avg, xmin=xmin, xmax=birth.date, color='blue', linestyles='dashdot')\n",
    "#         plt.hlines(y=after_avg, xmin=birth.date, xmax=xmax, color='red', linestyles='dashdot')\n",
    "# #         sns.lineplot(data=before, x='date', y=col, ci=None, color='r')\n",
    "# #         sns.lineplot(data=after, x='date', y=col, ci=None, color='r')\n",
    "\n",
    "#     plt.xlabel(''); plt.ylabel(col)\n",
    "#     plt.title('User ID: ' + str(user_id))\n",
    "#     plt.show()\n",
    "# exploreDataBirthBA(df_sleep, 'hr_average', 30)"
   ]
  },
  {
   "cell_type": "code",
   "execution_count": null,
   "metadata": {},
   "outputs": [],
   "source": []
  }
 ],
 "metadata": {
  "kernelspec": {
   "display_name": "Python 3.6.10 64-bit ('test': venv)",
   "language": "python",
   "name": "python361064bittestvenvffa84736bc0f4a929f1714c5b83d5a1e"
  },
  "language_info": {
   "codemirror_mode": {
    "name": "ipython",
    "version": 3
   },
   "file_extension": ".py",
   "mimetype": "text/x-python",
   "name": "python",
   "nbconvert_exporter": "python",
   "pygments_lexer": "ipython3",
   "version": "3.6.10-final"
  }
 },
 "nbformat": 4,
 "nbformat_minor": 4
}