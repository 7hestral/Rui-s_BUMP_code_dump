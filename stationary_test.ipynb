{
 "cells": [
  {
   "cell_type": "code",
   "execution_count": 2,
   "metadata": {},
   "outputs": [
    {
     "output_type": "stream",
     "name": "stderr",
     "text": "Matplotlib created a temporary config/cache directory at /tmp/matplotlib-0q1g3enq because the default path (/home/ubuntu/.config/matplotlib) is not a writable directory; it is highly recommended to set the MPLCONFIGDIR environment variable to a writable directory, in particular to speed up the import of Matplotlib and to better support multiprocessing.\n"
    }
   ],
   "source": [
    "import json\n",
    "import os\n",
    "import ast\n",
    "import csv\n",
    "import io\n",
    "from io import StringIO, BytesIO, TextIOWrapper\n",
    "import gzip\n",
    "from datetime import datetime, date\n",
    "from s3_utils import *\n",
    "import matplotlib.pyplot as plt\n",
    "import seaborn as sns\n",
    "import datetime as dt\n",
    "import ast\n",
    "from datetime import timedelta\n",
    "from tqdm import tqdm\n",
    "from sklearn.linear_model import LogisticRegression\n",
    "from sklearn.metrics import roc_auc_score, accuracy_score, f1_score, precision_score\n",
    "from xgboost.sklearn import XGBClassifier, XGBRegressor\n",
    "from sklearn.model_selection import cross_val_score, ShuffleSplit, KFold\n",
    "from sklearn.ensemble import RandomForestClassifier\n",
    "from sklearn.model_selection import train_test_split\n",
    "from sklearn.utils import shuffle\n",
    "import warnings\n",
    "import sys\n",
    "import time\n",
    "from statsmodels.tsa.stattools import adfuller\n",
    "from utils import *"
   ]
  },
  {
   "cell_type": "code",
   "execution_count": 2,
   "metadata": {},
   "outputs": [
    {
     "output_type": "error",
     "ename": "NameError",
     "evalue": "name 'pd' is not defined",
     "traceback": [
      "\u001b[0;31m---------------------------------------------------------------------------\u001b[0m",
      "\u001b[0;31mNameError\u001b[0m                                 Traceback (most recent call last)",
      "Input \u001b[0;32mIn [2]\u001b[0m, in \u001b[0;36m<cell line: 1>\u001b[0;34m()\u001b[0m\n\u001b[0;32m----> 1\u001b[0m kalman_df \u001b[38;5;241m=\u001b[39m \u001b[43mpd\u001b[49m\u001b[38;5;241m.\u001b[39mread_csv(\u001b[38;5;124m'\u001b[39m\u001b[38;5;124m./imputed_df_sleep_fatigue/kalman_impute_df_userid_1032.csv\u001b[39m\u001b[38;5;124m'\u001b[39m)\n\u001b[1;32m      2\u001b[0m kalman_df\n",
      "\u001b[0;31mNameError\u001b[0m: name 'pd' is not defined"
     ]
    }
   ],
   "source": [
    "\n",
    "kalman_df = pd.read_csv('./imputed_df_sleep_fatigue/kalman_impute_df_userid_1032.csv')\n",
    "kalman_df"
   ]
  },
  {
   "cell_type": "code",
   "execution_count": 6,
   "metadata": {},
   "outputs": [],
   "source": [
    "mean_df = pd.read_csv('./imputed_df_sleep_fatigue/mean_impute_df_userid_1032.csv')"
   ]
  },
  {
   "cell_type": "code",
   "execution_count": 7,
   "metadata": {},
   "outputs": [
    {
     "output_type": "stream",
     "name": "stdout",
     "text": "ADF Statistic: -0.5661920377856506\nn_lags: 0.8784397304792488\np-value: 0.8784397304792488\nCritial Values:\n   1%, -3.454988209954765\nCritial Values:\n   5%, -2.8723857312734613\nCritial Values:\n   10%, -2.572549407997327\n"
    }
   ],
   "source": [
    "def stationary_test(series):\n",
    "    result = adfuller(series, autolag='AIC')\n",
    "    print(f'ADF Statistic: {result[0]}')\n",
    "    print(f'n_lags: {result[1]}')\n",
    "    print(f'p-value: {result[1]}')\n",
    "    for key, value in result[4].items():\n",
    "        print('Critial Values:')\n",
    "        print(f'   {key}, {value}')  \n",
    "\n",
    "stationary_test(kalman_df['answer_text'])\n"
   ]
  },
  {
   "cell_type": "code",
   "execution_count": 25,
   "metadata": {},
   "outputs": [
    {
     "output_type": "stream",
     "name": "stdout",
     "text": "ADF Statistic: -1.8575439563705518\nn_lags: 0.35228960159955947\np-value: 0.35228960159955947\nCritial Values:\n   1%, -3.4548039258751206\nCritial Values:\n   5%, -2.872304928618605\nCritial Values:\n   10%, -2.5725063100137175\n"
    }
   ],
   "source": [
    "stationary_test(kalman_df['hr_average'])\n"
   ]
  },
  {
   "cell_type": "code",
   "execution_count": 26,
   "metadata": {},
   "outputs": [
    {
     "output_type": "stream",
     "name": "stdout",
     "text": "ADF Statistic: -3.027035128956414\nn_lags: 0.03244563713705504\np-value: 0.03244563713705504\nCritial Values:\n   1%, -3.4548957220044336\nCritial Values:\n   5%, -2.8723451788613157\nCritial Values:\n   10%, -2.572527778361272\n"
    }
   ],
   "source": [
    "stationary_test(kalman_df['breath_average'])"
   ]
  },
  {
   "cell_type": "code",
   "execution_count": 27,
   "metadata": {},
   "outputs": [
    {
     "output_type": "stream",
     "name": "stdout",
     "text": "ADF Statistic: -1.5314649203273019\nn_lags: 0.5178926730737616\np-value: 0.5178926730737616\nCritial Values:\n   1%, -3.4554613060274972\nCritial Values:\n   5%, -2.8725931472675046\nCritial Values:\n   10%, -2.5726600403359887\n"
    }
   ],
   "source": [
    "stationary_test(kalman_df['rmssd'])\n"
   ]
  },
  {
   "cell_type": "code",
   "execution_count": 9,
   "metadata": {},
   "outputs": [
    {
     "output_type": "stream",
     "name": "stdout",
     "text": "ADF Statistic: -1.4913584583172514\nn_lags: 0.5377817724658496\np-value: 0.5377817724658496\nCritial Values:\n   1%, -3.4548957220044336\nCritial Values:\n   5%, -2.8723451788613157\nCritial Values:\n   10%, -2.572527778361272\nADF Statistic: -1.909395314682709\nn_lags: 0.3276542487032547\np-value: 0.3276542487032547\nCritial Values:\n   1%, -3.455365238788105\nCritial Values:\n   5%, -2.8725510317187024\nCritial Values:\n   10%, -2.5726375763314966\nADF Statistic: -3.1196408211122173\nn_lags: 0.025133413121681127\np-value: 0.025133413121681127\nCritial Values:\n   1%, -3.4548957220044336\nCritial Values:\n   5%, -2.8723451788613157\nCritial Values:\n   10%, -2.572527778361272\nADF Statistic: -2.5482957417772925\nn_lags: 0.10416113432665464\np-value: 0.10416113432665464\nCritial Values:\n   1%, -3.4546223782586534\nCritial Values:\n   5%, -2.8722253212300277\nCritial Values:\n   10%, -2.5724638500216264\n"
    }
   ],
   "source": [
    "stationary_test(mean_df['answer_text'])\n",
    "stationary_test(mean_df['rmssd'])\n",
    "stationary_test(mean_df['breath_average'])\n",
    "stationary_test(mean_df['hr_average'])"
   ]
  },
  {
   "cell_type": "code",
   "execution_count": 11,
   "metadata": {},
   "outputs": [],
   "source": [
    "test_df = pd.read_csv('/domino/datasets/local/Bump/mice_user_42.csv')"
   ]
  },
  {
   "cell_type": "code",
   "execution_count": null,
   "metadata": {},
   "outputs": [],
   "source": [
    "test_df"
   ]
  },
  {
   "cell_type": "code",
   "execution_count": 15,
   "metadata": {},
   "outputs": [],
   "source": [
    "import torch\n",
    "from torch.utils import data\n",
    "import matplotlib.pyplot as plt\n",
    "import argparse\n",
    "import math\n",
    "import seaborn as sns; sns.set()\n",
    "import sys\n",
    "\n",
    "import numpy as np\n",
    "import pickle\n",
    "import os\n",
    "import random\n",
    "\n",
    "from statsmodels.tsa.stattools import adfuller\n",
    "class TNCDataset(data.Dataset):\n",
    "    def __init__(self, x, mc_sample_size, window_size, augmentation, epsilon=3, state=None, adf=False):\n",
    "        super(TNCDataset, self).__init__()\n",
    "        self.time_series = x\n",
    "        self.T = x.shape[-1]\n",
    "        self.window_size = window_size\n",
    "        self.sliding_gap = int(window_size*25.2)\n",
    "        self.window_per_sample = (self.T-2*self.window_size)//self.sliding_gap\n",
    "        self.mc_sample_size = mc_sample_size\n",
    "        self.state = state\n",
    "        self.augmentation = augmentation\n",
    "        self.adf = adf\n",
    "        if not self.adf:\n",
    "            self.epsilon = epsilon\n",
    "            self.delta = 5*window_size*epsilon\n",
    "\n",
    "    def __len__(self):\n",
    "        return len(self.time_series)*self.augmentation\n",
    "\n",
    "    def __getitem__(self, ind):\n",
    "        ind = ind%len(self.time_series)\n",
    "        print(2*self.window_size)\n",
    "        print(self.T-2*self.window_size)\n",
    "        t = np.random.randint(2*self.window_size, self.T-2*self.window_size)\n",
    "        \n",
    "        x_t = self.time_series[ind][:,t-self.window_size//2:t+self.window_size//2]\n",
    "        plt.savefig('./plots/%s_seasonal.png'%ind)\n",
    "        X_close = self._find_neighours(self.time_series[ind], t)\n",
    "        X_distant = self._find_non_neighours(self.time_series[ind], t)\n",
    "\n",
    "        if self.state is None:\n",
    "            y_t = -1\n",
    "        else:\n",
    "            y_t = torch.round(torch.mean(self.state[ind][t-self.window_size//2:t+self.window_size//2]))\n",
    "        return x_t, X_close, X_distant, y_t\n",
    "\n",
    "    def _find_neighours(self, x, t):\n",
    "        T = self.time_series.shape[-1]\n",
    "        if self.adf:\n",
    "            gap = self.window_size\n",
    "            corr = []\n",
    "            for w_t in range(self.window_size,4*self.window_size, gap):\n",
    "                try:\n",
    "                    p_val = 0\n",
    "                    for f in range(x.shape[-2]):\n",
    "                        p = adfuller(np.array(x[f, max(0,t - w_t):min(x.shape[-1], t + w_t)].reshape(-1, )))[1]\n",
    "                        p_val += 0.01 if math.isnan(p) else p\n",
    "                    corr.append(p_val/x.shape[-2])\n",
    "                except:\n",
    "                    corr.append(0.6)\n",
    "            self.epsilon = len(corr) if len(np.where(np.array(corr) >= 0.01)[0])==0 else (np.where(np.array(corr) >= 0.01)[0][0] + 1)\n",
    "            self.delta = 5*self.epsilon*self.window_size\n",
    "\n",
    "        ## Random from a Gaussian\n",
    "        t_p = [int(t+np.random.randn()*self.epsilon*self.window_size) for _ in range(self.mc_sample_size)]\n",
    "        t_p = [max(self.window_size//2+1,min(t_pp,T-self.window_size//2)) for t_pp in t_p]\n",
    "        x_p = torch.stack([x[:, t_ind-self.window_size//2:t_ind+self.window_size//2] for t_ind in t_p])\n",
    "        return x_p\n",
    "\n",
    "    def _find_non_neighours(self, x, t):\n",
    "        T = self.time_series.shape[-1]\n",
    "        if t>T/2:\n",
    "            t_n = np.random.randint(self.window_size//2, max((t - self.delta + 1), self.window_size//2+1), self.mc_sample_size)\n",
    "        else:\n",
    "            t_n = np.random.randint(min((t + self.delta), (T - self.window_size-1)), (T - self.window_size//2), self.mc_sample_size)\n",
    "        x_n = torch.stack([x[:, t_ind-self.window_size//2:t_ind+self.window_size//2] for t_ind in t_n])\n",
    "\n",
    "        if len(x_n)==0:\n",
    "            rand_t = np.random.randint(0,self.window_size//5)\n",
    "            if t > T / 2:\n",
    "                x_n = x[:,rand_t:rand_t+self.window_size].unsqueeze(0)\n",
    "            else:\n",
    "                x_n = x[:, T - rand_t - self.window_size:T - rand_t].unsqueeze(0)\n",
    "        return x_n"
   ]
  },
  {
   "cell_type": "code",
   "execution_count": 3,
   "metadata": {},
   "outputs": [
    {
     "output_type": "execute_result",
     "data": {
      "text/plain": "       X        date  user_id_x  answer_text  hr_average     rmssd  \\\n0      0  2021-10-25       1032     0.524594   -0.148764  0.225188   \n1      1  2021-10-26       1032     1.039473   -0.252406  0.404343   \n2      2  2021-10-27       1032     0.524594   -0.518913  0.897018   \n3      3  2021-10-28       1032     1.039473   -0.082138  0.449131   \n4      4  2021-10-29       1032     0.524594   -0.128036  0.449131   \n..   ...         ...        ...          ...         ...       ...   \n271  271  2022-07-11       1032     1.039473   -0.011069 -0.043545   \n272  272  2022-07-12       1032     1.039473   -0.692142  0.941807   \n273  273  2022-07-13       1032     1.039473   -1.879579  1.792793   \n274  274  2022-07-14       1032     1.039473   -0.973455  0.493920   \n275  275  2022-07-15       1032     1.039473   -1.071344  0.862914   \n\n     breath_average      score  user_id_y  birth_date  \n0          4.683366  76.000000       1032  2022-05-25  \n1          3.218078  75.000000       1032  2022-05-25  \n2          2.078409  89.000000       1032  2022-05-25  \n3          2.078409  83.000000       1032  2022-05-25  \n4          1.427170  77.000000       1032  2022-05-25  \n..              ...        ...        ...         ...  \n271       -0.038118  74.000000       1032  2022-05-25  \n272       -0.200928  88.000000       1032  2022-05-25  \n273       -1.177787  89.000000       1032  2022-05-25  \n274       -0.200928  90.000000       1032  2022-05-25  \n275       -0.380822  82.167529       1032  2022-05-25  \n\n[276 rows x 10 columns]",
      "text/html": "<div>\n<style scoped>\n    .dataframe tbody tr th:only-of-type {\n        vertical-align: middle;\n    }\n\n    .dataframe tbody tr th {\n        vertical-align: top;\n    }\n\n    .dataframe thead th {\n        text-align: right;\n    }\n</style>\n<table border=\"1\" class=\"dataframe\">\n  <thead>\n    <tr style=\"text-align: right;\">\n      <th></th>\n      <th>X</th>\n      <th>date</th>\n      <th>user_id_x</th>\n      <th>answer_text</th>\n      <th>hr_average</th>\n      <th>rmssd</th>\n      <th>breath_average</th>\n      <th>score</th>\n      <th>user_id_y</th>\n      <th>birth_date</th>\n    </tr>\n  </thead>\n  <tbody>\n    <tr>\n      <th>0</th>\n      <td>0</td>\n      <td>2021-10-25</td>\n      <td>1032</td>\n      <td>0.524594</td>\n      <td>-0.148764</td>\n      <td>0.225188</td>\n      <td>4.683366</td>\n      <td>76.000000</td>\n      <td>1032</td>\n      <td>2022-05-25</td>\n    </tr>\n    <tr>\n      <th>1</th>\n      <td>1</td>\n      <td>2021-10-26</td>\n      <td>1032</td>\n      <td>1.039473</td>\n      <td>-0.252406</td>\n      <td>0.404343</td>\n      <td>3.218078</td>\n      <td>75.000000</td>\n      <td>1032</td>\n      <td>2022-05-25</td>\n    </tr>\n    <tr>\n      <th>2</th>\n      <td>2</td>\n      <td>2021-10-27</td>\n      <td>1032</td>\n      <td>0.524594</td>\n      <td>-0.518913</td>\n      <td>0.897018</td>\n      <td>2.078409</td>\n      <td>89.000000</td>\n      <td>1032</td>\n      <td>2022-05-25</td>\n    </tr>\n    <tr>\n      <th>3</th>\n      <td>3</td>\n      <td>2021-10-28</td>\n      <td>1032</td>\n      <td>1.039473</td>\n      <td>-0.082138</td>\n      <td>0.449131</td>\n      <td>2.078409</td>\n      <td>83.000000</td>\n      <td>1032</td>\n      <td>2022-05-25</td>\n    </tr>\n    <tr>\n      <th>4</th>\n      <td>4</td>\n      <td>2021-10-29</td>\n      <td>1032</td>\n      <td>0.524594</td>\n      <td>-0.128036</td>\n      <td>0.449131</td>\n      <td>1.427170</td>\n      <td>77.000000</td>\n      <td>1032</td>\n      <td>2022-05-25</td>\n    </tr>\n    <tr>\n      <th>...</th>\n      <td>...</td>\n      <td>...</td>\n      <td>...</td>\n      <td>...</td>\n      <td>...</td>\n      <td>...</td>\n      <td>...</td>\n      <td>...</td>\n      <td>...</td>\n      <td>...</td>\n    </tr>\n    <tr>\n      <th>271</th>\n      <td>271</td>\n      <td>2022-07-11</td>\n      <td>1032</td>\n      <td>1.039473</td>\n      <td>-0.011069</td>\n      <td>-0.043545</td>\n      <td>-0.038118</td>\n      <td>74.000000</td>\n      <td>1032</td>\n      <td>2022-05-25</td>\n    </tr>\n    <tr>\n      <th>272</th>\n      <td>272</td>\n      <td>2022-07-12</td>\n      <td>1032</td>\n      <td>1.039473</td>\n      <td>-0.692142</td>\n      <td>0.941807</td>\n      <td>-0.200928</td>\n      <td>88.000000</td>\n      <td>1032</td>\n      <td>2022-05-25</td>\n    </tr>\n    <tr>\n      <th>273</th>\n      <td>273</td>\n      <td>2022-07-13</td>\n      <td>1032</td>\n      <td>1.039473</td>\n      <td>-1.879579</td>\n      <td>1.792793</td>\n      <td>-1.177787</td>\n      <td>89.000000</td>\n      <td>1032</td>\n      <td>2022-05-25</td>\n    </tr>\n    <tr>\n      <th>274</th>\n      <td>274</td>\n      <td>2022-07-14</td>\n      <td>1032</td>\n      <td>1.039473</td>\n      <td>-0.973455</td>\n      <td>0.493920</td>\n      <td>-0.200928</td>\n      <td>90.000000</td>\n      <td>1032</td>\n      <td>2022-05-25</td>\n    </tr>\n    <tr>\n      <th>275</th>\n      <td>275</td>\n      <td>2022-07-15</td>\n      <td>1032</td>\n      <td>1.039473</td>\n      <td>-1.071344</td>\n      <td>0.862914</td>\n      <td>-0.380822</td>\n      <td>82.167529</td>\n      <td>1032</td>\n      <td>2022-05-25</td>\n    </tr>\n  </tbody>\n</table>\n<p>276 rows × 10 columns</p>\n</div>"
     },
     "metadata": {},
     "execution_count": 3
    }
   ],
   "source": [
    "import pandas as pd\n",
    "kalman_df = pd.read_csv('./imputed_df_sleep_fatigue/kalman_impute_df_userid_1032.csv')\n",
    "kalman_df\n"
   ]
  },
  {
   "cell_type": "code",
   "execution_count": 24,
   "metadata": {},
   "outputs": [],
   "source": [
    "ds = kalman_df[['hr_average', 'rmssd']]\n",
    "ds = ds.to_numpy()\n",
    "ds = ds.T"
   ]
  },
  {
   "cell_type": "code",
   "execution_count": 23,
   "metadata": {},
   "outputs": [
    {
     "output_type": "stream",
     "name": "stdout",
     "text": "14\n262\n"
    },
    {
     "output_type": "error",
     "ename": "IndexError",
     "evalue": "invalid index to scalar variable.",
     "traceback": [
      "\u001b[0;31m---------------------------------------------------------------------------\u001b[0m",
      "\u001b[0;31mIndexError\u001b[0m                                Traceback (most recent call last)",
      "Input \u001b[0;32mIn [23]\u001b[0m, in \u001b[0;36m<cell line: 2>\u001b[0;34m()\u001b[0m\n\u001b[1;32m      1\u001b[0m mydataset \u001b[38;5;241m=\u001b[39m TNCDataset(ds, mc_sample_size\u001b[38;5;241m=\u001b[39m\u001b[38;5;241m20\u001b[39m, window_size\u001b[38;5;241m=\u001b[39m\u001b[38;5;241m7\u001b[39m, augmentation\u001b[38;5;241m=\u001b[39m\u001b[38;5;241m1\u001b[39m, adf\u001b[38;5;241m=\u001b[39m\u001b[38;5;28;01mTrue\u001b[39;00m)\n\u001b[0;32m----> 2\u001b[0m \u001b[43mmydataset\u001b[49m\u001b[43m[\u001b[49m\u001b[38;5;241;43m0\u001b[39;49m\u001b[43m]\u001b[49m\n",
      "Input \u001b[0;32mIn [15]\u001b[0m, in \u001b[0;36mTNCDataset.__getitem__\u001b[0;34m(self, ind)\u001b[0m\n\u001b[1;32m     37\u001b[0m \u001b[38;5;28mprint\u001b[39m(\u001b[38;5;28mself\u001b[39m\u001b[38;5;241m.\u001b[39mT\u001b[38;5;241m-\u001b[39m\u001b[38;5;241m2\u001b[39m\u001b[38;5;241m*\u001b[39m\u001b[38;5;28mself\u001b[39m\u001b[38;5;241m.\u001b[39mwindow_size)\n\u001b[1;32m     38\u001b[0m t \u001b[38;5;241m=\u001b[39m np\u001b[38;5;241m.\u001b[39mrandom\u001b[38;5;241m.\u001b[39mrandint(\u001b[38;5;241m2\u001b[39m\u001b[38;5;241m*\u001b[39m\u001b[38;5;28mself\u001b[39m\u001b[38;5;241m.\u001b[39mwindow_size, \u001b[38;5;28mself\u001b[39m\u001b[38;5;241m.\u001b[39mT\u001b[38;5;241m-\u001b[39m\u001b[38;5;241m2\u001b[39m\u001b[38;5;241m*\u001b[39m\u001b[38;5;28mself\u001b[39m\u001b[38;5;241m.\u001b[39mwindow_size)\n\u001b[0;32m---> 40\u001b[0m x_t \u001b[38;5;241m=\u001b[39m \u001b[38;5;28;43mself\u001b[39;49m\u001b[38;5;241;43m.\u001b[39;49m\u001b[43mtime_series\u001b[49m\u001b[43m[\u001b[49m\u001b[43mind\u001b[49m\u001b[43m]\u001b[49m\u001b[43m[\u001b[49m\u001b[43m:\u001b[49m\u001b[43m,\u001b[49m\u001b[43mt\u001b[49m\u001b[38;5;241;43m-\u001b[39;49m\u001b[38;5;28;43mself\u001b[39;49m\u001b[38;5;241;43m.\u001b[39;49m\u001b[43mwindow_size\u001b[49m\u001b[38;5;241;43m/\u001b[39;49m\u001b[38;5;241;43m/\u001b[39;49m\u001b[38;5;241;43m2\u001b[39;49m\u001b[43m:\u001b[49m\u001b[43mt\u001b[49m\u001b[38;5;241;43m+\u001b[39;49m\u001b[38;5;28;43mself\u001b[39;49m\u001b[38;5;241;43m.\u001b[39;49m\u001b[43mwindow_size\u001b[49m\u001b[38;5;241;43m/\u001b[39;49m\u001b[38;5;241;43m/\u001b[39;49m\u001b[38;5;241;43m2\u001b[39;49m\u001b[43m]\u001b[49m\n\u001b[1;32m     41\u001b[0m plt\u001b[38;5;241m.\u001b[39msavefig(\u001b[38;5;124m'\u001b[39m\u001b[38;5;124m./plots/\u001b[39m\u001b[38;5;132;01m%s\u001b[39;00m\u001b[38;5;124m_seasonal.png\u001b[39m\u001b[38;5;124m'\u001b[39m\u001b[38;5;241m%\u001b[39mind)\n\u001b[1;32m     42\u001b[0m X_close \u001b[38;5;241m=\u001b[39m \u001b[38;5;28mself\u001b[39m\u001b[38;5;241m.\u001b[39m_find_neighours(\u001b[38;5;28mself\u001b[39m\u001b[38;5;241m.\u001b[39mtime_series[ind], t)\n",
      "\u001b[0;31mIndexError\u001b[0m: invalid index to scalar variable."
     ]
    }
   ],
   "source": [
    "mydataset = TNCDataset(ds, mc_sample_size=20, window_size=7, augmentation=1, adf=True)\n",
    "mydataset[0]"
   ]
  },
  {
   "cell_type": "code",
   "execution_count": null,
   "metadata": {},
   "outputs": [],
   "source": []
  }
 ],
 "metadata": {
  "language_info": {
   "codemirror_mode": {
    "name": "ipython",
    "version": 3
   },
   "file_extension": ".py",
   "mimetype": "text/x-python",
   "name": "python",
   "nbconvert_exporter": "python",
   "pygments_lexer": "ipython3",
   "version": "3.10.4-final"
  },
  "orig_nbformat": 2,
  "kernelspec": {
   "name": "python310464bitmyvenvcondadf86d19417cc42a08367094cc1b6d113",
   "display_name": "Python 3.10.4 64-bit ('myvenv': conda)"
  }
 },
 "nbformat": 4,
 "nbformat_minor": 2
}