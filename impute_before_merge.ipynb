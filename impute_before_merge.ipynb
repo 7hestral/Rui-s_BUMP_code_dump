{
 "cells": [
  {
   "cell_type": "code",
   "execution_count": null,
   "metadata": {},
   "outputs": [],
   "source": [
    "from src.utils import data_load\n",
    "import pandas as pd\n",
    "from src.s3_utils import pandas_from_csv_s3\n",
    "import numpy as np"
   ]
  },
  {
   "cell_type": "code",
   "execution_count": null,
   "metadata": {},
   "outputs": [],
   "source": [
    "data = data_load(data_keys={'bodyport', 'oura_activity', 'oura_sleep'})\n"
   ]
  },
  {
   "cell_type": "code",
   "execution_count": null,
   "metadata": {},
   "outputs": [],
   "source": [
    "data['bodyport']['subsource'].unique()\n",
    "# subsource is only `weight`"
   ]
  },
  {
   "cell_type": "code",
   "execution_count": null,
   "metadata": {},
   "outputs": [],
   "source": [
    "data_bodyport = data['bodyport']\n",
    "users = data_bodyport['user_id'].unique().tolist()\n",
    "most_data_user = -1\n",
    "most_data = -1\n",
    "for u in users:\n",
    "    num_data = len(data_bodyport[data_bodyport['user_id'] == u])\n",
    "    if num_data > most_data:\n",
    "        most_data = num_data\n",
    "        most_data_user = u\n",
    "most_data_user\n",
    "# userid 74 has the most data"
   ]
  },
  {
   "cell_type": "code",
   "execution_count": null,
   "metadata": {},
   "outputs": [],
   "source": [
    "selected_data_bodyport = data_bodyport[data_bodyport['user_id'] == 74][['date', 'impedance_ratio', 'peripheral_fluid', 'impedance_mag_1_ohms', 'impedance_phase_1_degs', 'weight_kg']].groupby(\"date\", as_index = False).mean()\n"
   ]
  },
  {
   "cell_type": "code",
   "execution_count": null,
   "metadata": {},
   "outputs": [],
   "source": [
    "data_oura_activity = data['oura_activity']\n",
    "data_oura_activity[data_oura_activity['user_id'] == 74]\n",
    "data_oura_sleep = data['oura_sleep']"
   ]
  },
  {
   "cell_type": "code",
   "execution_count": null,
   "metadata": {},
   "outputs": [],
   "source": [
    "selected_data_oura_activity = data_oura_activity[data_oura_activity['user_id'] == 74][[\n",
    " 'cal_active',\n",
    " 'cal_total',\n",
    " 'daily_movement',\n",
    " 'high',\n",
    " 'inactive',\n",
    "#  'inactivity_alerts',\n",
    " 'low',\n",
    " 'medium',\n",
    " 'met_min_high',\n",
    " 'met_min_inactive',\n",
    " 'met_min_low',\n",
    " 'met_min_medium',\n",
    " 'non_wear',\n",
    " 'rest',\n",
    "#  'rest_mode_state',\n",
    "#  'score',\n",
    "#  'score_meet_daily_targets',\n",
    "#  'score_move_every_hour',\n",
    "#  'score_recovery_time',\n",
    "#  'score_stay_active',\n",
    "#  'score_training_frequency',\n",
    "#  'score_training_volume',\n",
    " 'steps',\n",
    " 'date']]"
   ]
  },
  {
   "cell_type": "code",
   "execution_count": null,
   "metadata": {},
   "outputs": [],
   "source": [
    "def get_min_date(df):\n",
    "    return np.min(df['date'])\n",
    "def get_max_date(df):\n",
    "    return np.max(df['date'])"
   ]
  },
  {
   "cell_type": "code",
   "execution_count": null,
   "metadata": {},
   "outputs": [],
   "source": [
    "\n",
    "# # union\n",
    "# overall_min_date = np.min([get_min_date(selected_data_bodyport), get_min_date(selected_data_oura_activity)])\n",
    "# overall_max_date = np.max([get_max_date(selected_data_bodyport), get_max_date(selected_data_oura_activity)])\n",
    "\n",
    "# intercept\n",
    "overall_min_date = np.max([get_min_date(selected_data_bodyport), get_min_date(selected_data_oura_activity)])\n",
    "overall_max_date = np.min([get_max_date(selected_data_bodyport), get_max_date(selected_data_oura_activity)])\n",
    "\n",
    "date_range = pd.date_range(overall_min_date, overall_max_date, freq='d')\n",
    "date_df = pd.DataFrame()\n",
    "date_df['date'] = date_range\n",
    "selected_data_bodyport['date'] = selected_data_bodyport['date'].astype('datetime64')\n",
    "selected_data_oura_activity['date'] = selected_data_oura_activity['date'].astype('datetime64')\n",
    "selected_data_bodyport = pd.merge(date_df, selected_data_bodyport, how='left')\n",
    "selected_data_oura_activity = pd.merge(date_df, selected_data_oura_activity, how='left')\n",
    "\n",
    "unimputed_df = pd.DataFrame()\n",
    "unimputed_df['date'] = date_range\n",
    "unimputed_df = pd.merge(unimputed_df, selected_data_bodyport, how='left')\n",
    "unimputed_df = pd.merge(unimputed_df, selected_data_oura_activity, how='left')"
   ]
  },
  {
   "cell_type": "code",
   "execution_count": null,
   "metadata": {},
   "outputs": [],
   "source": [
    "# fill missing days with randomly selected days from previous 14 days window\n",
    "np.random.seed(90)\n",
    "activity_mask = selected_data_oura_activity.drop('date', axis=1).isna().all(1)\n",
    "bodyport_mask = selected_data_bodyport.drop('date', axis=1).isna().all(1)\n",
    "def random_fill_missing_day(df, mask, window=30):\n",
    "    if 'date' in df.columns.to_list(): \n",
    "        df = df.drop('date', axis=1)\n",
    "    for i in range(len(mask)):\n",
    "        if mask[i]:\n",
    "            if i < window: # do random filling\n",
    "                available_indice = np.where(mask == False)[0]\n",
    "                random_observation = df.iloc[np.random.choice(available_indice)]\n",
    "            else:\n",
    "                random_index = np.random.randint(low=1, high=window)\n",
    "\n",
    "                random_observation = df.iloc[i-random_index]\n",
    "                # print(':',i-random_index)\n",
    "                # print(i)\n",
    "                # print(random_index)\n",
    "\n",
    "            df.iloc[i] = random_observation\n",
    "\n",
    "    return df\n",
    "random_filled_oura_activity = random_fill_missing_day(selected_data_oura_activity.drop('date', axis=1), activity_mask)\n",
    "#np.sum(out.isna().all(1))\n",
    "random_filled_bodyport = random_fill_missing_day(selected_data_bodyport.drop('date', axis=1), bodyport_mask)\n",
    "random_filled_oura_activity['date'] = date_range\n",
    "random_filled_bodyport['date'] = date_range\n",
    "\n",
    "overall_df = pd.merge(random_filled_oura_activity, random_filled_bodyport, how='left')\n",
    "overall_df.loc[overall_df['impedance_ratio'] > 10,'impedance_ratio'] = np.nan"
   ]
  },
  {
   "cell_type": "code",
   "execution_count": null,
   "metadata": {},
   "outputs": [],
   "source": [
    "import seaborn as sns\n",
    "import matplotlib.pyplot as plt\n",
    "\n",
    "sns.set_theme(style='darkgrid')\n",
    "sns.set(rc={'figure.figsize':(11.7,8.27)})\n",
    "# sns.scatterplot(x=overall_df[\"date\"], y=overall_df[\"non_wear\"], hue=unimputed_df['non_wear'].isna())\n",
    "overall_df['mask'] = unimputed_df['impedance_ratio'].isna()\n",
    "graph = sns.scatterplot(data=overall_df, x=\"date\", y=\"impedance_ratio\", hue=\"mask\")\n",
    "\n",
    "df_birth = data_load(data_keys={'birth'})['birth']\n",
    "df_birth[df_birth.user_id == 74].birth_date.values[0]\n",
    "graph.axvline(pd.to_datetime(df_birth[df_birth.user_id == 74].birth_date.values[0]))"
   ]
  },
  {
   "cell_type": "code",
   "execution_count": null,
   "metadata": {},
   "outputs": [],
   "source": [
    "np.sum(overall_df.isna())"
   ]
  },
  {
   "cell_type": "code",
   "execution_count": null,
   "metadata": {},
   "outputs": [],
   "source": [
    "overall_df.describe()"
   ]
  },
  {
   "cell_type": "code",
   "execution_count": null,
   "metadata": {},
   "outputs": [],
   "source": [
    "# hyperimpute requires python 3.7\n",
    "from hyperimpute.plugins.imputers import Imputers\n",
    "import numpy as np\n",
    "imputers = Imputers()\n",
    "\n",
    "imputers.list()\n",
    "method = 'hyperimpute'\n",
    "plugin = Imputers().get(method)\n",
    "X = overall_df.drop('date', axis=1).drop('mask', axis=1)\n",
    "out = plugin.fit_transform(X.copy())\n",
    "\n",
    "print(method, out)"
   ]
  },
  {
   "cell_type": "code",
   "execution_count": null,
   "metadata": {},
   "outputs": [],
   "source": [
    "hyperimputed_df_without_date = out\n",
    "hyperimputed_df_without_date.to_csv('/mnt/results/user_72_activity_bodyport_hyperimpute.csv', index=False, header=False)"
   ]
  },
  {
   "cell_type": "code",
   "execution_count": null,
   "metadata": {},
   "outputs": [],
   "source": [
    "hyperimputed_df_without_date['date'] = date_range"
   ]
  },
  {
   "cell_type": "code",
   "execution_count": null,
   "metadata": {},
   "outputs": [],
   "source": [
    "g2 = sns.scatterplot(x=hyperimputed_df_without_date[\"date\"], y=hyperimputed_df_without_date[\"impedance_ratio\"], hue=overall_df['impedance_ratio'].isna())\n",
    "g2.axvline(pd.to_datetime(df_birth[df_birth.user_id == 74].birth_date.values[0]))"
   ]
  },
  {
   "cell_type": "code",
   "execution_count": null,
   "metadata": {},
   "outputs": [],
   "source": [
    "overall_df_without_date = overall_df.drop('date', axis=1)\n",
    "overall_df_without_date.to_csv('/mnt/results/user_72_activity_bodyport_rand_filled.csv', index=False, header=False)"
   ]
  }
 ],
 "metadata": {
  "language_info": {
   "name": "python",
   "pygments_lexer": "ipython3"
  }
 },
 "nbformat": 4,
 "nbformat_minor": 2
}
